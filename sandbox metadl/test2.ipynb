{
 "cells": [
  {
   "cell_type": "code",
   "execution_count": 1,
   "source": [
    "import matplotlib.pyplot as plt\n",
    "import numpy as np"
   ],
   "outputs": [],
   "metadata": {}
  },
  {
   "cell_type": "code",
   "execution_count": 2,
   "source": [
    "import copy\n",
    "from sklearn.decomposition import PCA"
   ],
   "outputs": [],
   "metadata": {}
  },
  {
   "cell_type": "code",
   "execution_count": 3,
   "source": [
    "import networkx as nx"
   ],
   "outputs": [],
   "metadata": {}
  },
  {
   "cell_type": "code",
   "execution_count": 4,
   "source": [
    "episode = np.zeros([1,5,28,28,2])\n",
    "episode[0][0][:,:,0] = np.loadtxt(\"episode_0.csv\")\n",
    "episode[0][0][:,:,1] = np.loadtxt(\"episode_0.csv\")\n",
    "\n",
    "episode[0][1][:,:,0] = np.loadtxt(\"episode_1.csv\")\n",
    "episode[0][1][:,:,1] = np.loadtxt(\"episode_1.csv\")\n",
    "\n",
    "episode[0][2][:,:,0] = np.loadtxt(\"episode_2.csv\")\n",
    "episode[0][2][:,:,1] = np.loadtxt(\"episode_2.csv\")\n",
    "\n",
    "episode[0][3][:,:,0] = np.loadtxt(\"episode_3.csv\")\n",
    "episode[0][3][:,:,1] = np.loadtxt(\"episode_3.csv\")\n",
    "\n",
    "episode[0][4][:,:,0] = np.loadtxt(\"episode_4.csv\")\n",
    "episode[0][4][:,:,1] = np.loadtxt(\"episode_4.csv\")\n"
   ],
   "outputs": [],
   "metadata": {}
  },
  {
   "cell_type": "code",
   "execution_count": 1666,
   "source": [
    "class sentive_sequence_nrn(object):\n",
    "    \"\"\"neurone Sequence du modèle de réseau de neurones dynamiques Sentive AI\n",
    "\n",
    "    Args:\n",
    "        object (int): numéro donné à l'identifiant du neurone\n",
    "    \"\"\"\n",
    "    def __init__(self, number):\n",
    "        self.number = number\n",
    "        self.neuron = {\n",
    "            \"_id\":number,\n",
    "            \"schema_version\":1,\n",
    "            \"type\": \"sentive_vision_packed_ratio\",\n",
    "            \"layer_id\":0,\n",
    "            \"ratio_conn\":0, # rapport entre le nombre de connexion de ce neurone et le nb de connexions de ses plus proches voisins\n",
    "            \"DbConnectivity\":{\n",
    "                \"pre_synaptique\":[],\n",
    "                \"post_synaptique\":[],\n",
    "                \"weights\":{}\n",
    "            },\n",
    "            \"meta\":{\n",
    "                \"path\" : [],\n",
    "                \"tips\" : [],\n",
    "                \"nodes\" : [],\n",
    "                \"total_length\" : 0,\n",
    "            }\n",
    "        }\n"
   ],
   "outputs": [],
   "metadata": {}
  },
  {
   "cell_type": "code",
   "execution_count": null,
   "source": [
    "class sentive_segment_nrn(object):\n",
    "    \"\"\"neurone SEGMENT du modèle de réseau de neurones dynamiques Sentive AI\n",
    "\n",
    "    Args:\n",
    "        object (int): numéro donné à l'identifiant du neurone\n",
    "    \"\"\"\n",
    "    def __init__(self, number):\n",
    "        self.number = number\n",
    "        self.neuron = {\n",
    "            \"_id\":number,\n",
    "            \"schema_version\":1,\n",
    "            \"type\": \"sentive_vision_packed_ratio\",\n",
    "            \"layer_id\":0,\n",
    "            \"ratio_conn\":0, # rapport entre le nombre de connexion de ce neurone et le nb de connexions de ses plus proches voisins\n",
    "            \"DbConnectivity\":{\n",
    "                \"pre_synaptique\":[],\n",
    "                \"post_synaptique\":[],\n",
    "                \"weights\":{}\n",
    "            },\n",
    "            \"meta\":{\n",
    "                \"path\" : [],\n",
    "                \"tips\" : [],\n",
    "                \"nodes\" : [],\n",
    "                \"total_length\" : 0,\n",
    "            }\n",
    "        }\n"
   ],
   "outputs": [],
   "metadata": {}
  },
  {
   "cell_type": "code",
   "execution_count": 1925,
   "source": [
    "class sentive_vision_neuron(object):\n",
    "    \"\"\"\n",
    "        prototype de données des objets neurones vision segment arcs\n",
    "        Cette classe ne contient aucune fonction mais ne sert qu'à conserver les données\n",
    "        Les fonctions sont dans une autre classe.\n",
    "    \"\"\"\n",
    "    def __init__(self, number):\n",
    "        self.number = number\n",
    "        self.neuron = {\n",
    "            \"_id\":number,\n",
    "            \"schema_version\":2,\n",
    "            \"type\": \"sentive_vision_arcs\",\n",
    "            \"layer_id\":0,\n",
    "            \"ratio_conn\":0,\n",
    "            \"DbConnectivity\":{\n",
    "                \"pre_synaptique\":[],\n",
    "                \"post_synaptique\":[],\n",
    "                \"weights\":{}\n",
    "            },\n",
    "            \"meta\":{\n",
    "                \"center\":{\n",
    "                    \"x\":0,\n",
    "                    \"y\":0\n",
    "                },\n",
    "                \"real_center\":{\n",
    "                    \"x\":0.0,\n",
    "                    \"y\":0.0\n",
    "                },\n",
    "                \"matrix_width\":1,\n",
    "                \"local_tip_1\":{\n",
    "                    \"x\":0,\n",
    "                    \"y\":0\n",
    "                },\n",
    "                \"vector_1\":{\n",
    "                    \"x\":0,\n",
    "                    \"y\":0\n",
    "                },\n",
    "                \"local_tip_2\":{\n",
    "                    \"x\":0,\n",
    "                    \"y\":0\n",
    "                },\n",
    "                \"vector_2\":{\n",
    "                    \"x\":0,\n",
    "                    \"y\":0\n",
    "                },\n",
    "                \"angle\":-999,\n",
    "                \"derive_angle\":0\n",
    "            }\n",
    "        }\n",
    "\n",
    "    \n",
    "class sentive_neuron_helper():\n",
    "    def __init__(self):\n",
    "        \n",
    "        self.init_matrix = []\n",
    "        self.init_matrix.append( np.array([[1, 0, -1],[1, 0, -1],[1, 0, -1]]))\n",
    "        self.init_matrix.append( np.array([[1, 1, 1],[0, 0, 0],[-1, -1, -1]]))\n",
    "        self.init_matrix.append( np.array([[1, 1, 0],[1, 0, -1],[0, -1, -1]]))\n",
    "        self.init_matrix.append( np.array([[0, -1, -1],[1, 0, -1],[1, 1, 0]]))\n",
    "\n",
    "\n",
    "        self.dir_matrix =  np.array([[1, 1, 1],[1, 0, 1],[1, 1, 1]])\n",
    "\n",
    "\n",
    "        self.ok_conf = []\n",
    "        self.ok_conf.append( np.array([[1, 0, -1],[0, 1, 0],[0, 0, 0]]))\n",
    "        self.ok_conf.append( np.array([[1, 0, 0],[0, 1, -1],[0, 0, 0]]))\n",
    "        self.ok_conf.append( np.array([[1, 0, 0],[0, 1, 0],[0, 0, -1]]))\n",
    "        \n",
    "        self.ok_conf.append( np.array([[0, 0, -1],[1, 1, 0],[0, 0, 0]]))\n",
    "        self.ok_conf.append( np.array([[0, 0, 0],[1, 1, -1],[0, 0, 0]]))\n",
    "        self.ok_conf.append( np.array([[0, 0, 0],[1, 1, 0],[0, 0, -1]]))\n",
    "        \n",
    "        self.ok_conf.append( np.array([[0, 0, -1],[0, 1, 0],[1, 0, 0]]))\n",
    "        self.ok_conf.append( np.array([[0, 0, 0],[0, 1, -1],[1, 0, 0]]))\n",
    "        self.ok_conf.append( np.array([[0, 0, 0],[0, 1, 0],[1, 0, -1]]))\n",
    "        \n",
    "        self.ok_conf.append( np.array([[0, 0, 1],[0, 1, 0],[0, 0, -1]]))\n",
    "        self.ok_conf.append( np.array([[0, 1, 0],[0, 1, 0],[0, 0, -1]]))\n",
    "        \n",
    "        self.ok_conf.append( np.array([[1, 0, 0],[0, 1, 0],[0, -1, 0]]))\n",
    "        self.ok_conf.append( np.array([[0, 1, 0],[0, 1, 0],[0, -1, 0]]))\n",
    "        \n",
    "        self.ok_conf.append( np.array([[1, 0, 0],[0, 1, 0],[-1, 0, 0]]))\n",
    "        self.ok_conf.append( np.array([[0, 1, 0],[0, 1, 0],[-1, 0, 0]]))\n",
    "        \n",
    "        self.lst_nrns = []\n",
    "        self.id_nrn = 0 # id max des neurones\n",
    "        self.nb_nrns = 0 # nb de neurones dans le tableau (sans avoir à utiliser la fonction len)\n",
    "        \n",
    "        # https://networkx.org/documentation/stable/tutorial.html\n",
    "        self.netGraph = nx.Graph()\n",
    "\n",
    "        self.layer_nb = 0\n",
    "        self.layer_graph = []\n",
    "\n",
    "        self.nb_2_1st_layers = 0\n",
    "\n",
    "\n",
    "    def new_layer(self):\n",
    "        self.layer_nb +=1\n",
    "        self.layer_graph.append(nx.DiGraph())\n",
    "\n",
    "    \n",
    "    def add_edge(self, nrn1_id, nrn2_id):\n",
    "        self.netGraph.add_edge(nrn1_id, nrn2_id)\n",
    "        if self.layer_nb>0:\n",
    "            self.layer_graph[self.layer_nb-1].add_edge(nrn1_id, nrn2_id)\n",
    "\n",
    "\n",
    "    def increment_weight(self, nrn, nrn_post_synaptic_id):\n",
    "        try:\n",
    "            nrn[\"DbConnectivity\"][\"weights\"][nrn_post_synaptic_id] += 1\n",
    "        except KeyError:\n",
    "            nrn[\"DbConnectivity\"][\"weights\"][nrn_post_synaptic_id] = 1\n",
    "\n",
    "        \n",
    "    def add_new_nrn(self, nrn_type=''):\n",
    "        \"\"\"Ajoute un nouveau neurone au pool (remplace la base de données MongoDB de Sentive AI en mode non cloud)\n",
    "\n",
    "        Returns:\n",
    "            [int]: [identifiant du nouveau neurone créé]\n",
    "        \"\"\"\n",
    "        self.id_nrn += 1\n",
    "        if nrn_type=='':\n",
    "            self.lst_nrns.append(sentive_vision_neuron(self.id_nrn))\n",
    "        else:\n",
    "            self.lst_nrns.append(sentive_sequence_nrn(self.id_nrn))\n",
    "        \n",
    "        self.netGraph.add_node(self.id_nrn)\n",
    "\n",
    "        if self.layer_nb>0:\n",
    "            self.layer_graph[self.layer_nb-1].add_node(self.id_nrn)\n",
    "\n",
    "        self.nb_nrns = len(self.lst_nrns)\n",
    "        self.lst_nrns[self.nb_nrns-1].neuron[\"layer_id\"] = self.layer_nb\n",
    "\n",
    "        return self.nb_nrns - 1\n",
    "        \n",
    "        \n",
    "    def FctIterMean(self, Nb_activations, NewAct, avgValue):\n",
    "        \"\"\"Calcule la Moyenne itérative\n",
    "\n",
    "        Args:\n",
    "            Nb_activations ([int]): [nb de valeur intégrée dans la moyenne précédente]\n",
    "            NewAct ([float]): [Nouvelle valeur à intégrer à la moyenne]\n",
    "            avgValue ([float]): [valeur moyenne précédemment calculée]\n",
    "\n",
    "        Returns:\n",
    "            [float]: [nouvelle moyenne]\n",
    "        \"\"\"\n",
    "        Nb_activations = int(Nb_activations)\n",
    "        NewAct = float(NewAct)\n",
    "        avgValue = float(avgValue)\n",
    "        return ((Nb_activations - 1) / Nb_activations\n",
    "                * avgValue + NewAct / Nb_activations)\n",
    "    \n",
    "    \n",
    "    def get_x_matrix(self, size):\n",
    "        size = int(size)\n",
    "        if size>=2:\n",
    "            output = np.array([np.arange(size),np.arange(size)])\n",
    "        else:\n",
    "            return np.array(np.arange(size))\n",
    "        for i in range(2,size):\n",
    "            output = np.append(output,[np.arange(size)],axis=0)\n",
    "        return output\n",
    "\n",
    "    \n",
    "    def get_y_matrix(self, size):\n",
    "        size = int(size)\n",
    "        if size>=2:\n",
    "            output = np.array([np.ones(size)*0,np.ones(size)*1])\n",
    "        else:\n",
    "            return np.array(np.arange(size))\n",
    "        for i in range(2,size):\n",
    "            output = np.append(output,[np.ones(size)*i],axis=0)\n",
    "        return output\n",
    "    \n",
    "    \n",
    "    def get_matrix_center(self, size):\n",
    "        \"\"\"Retourne les coordonnées du centre de la matrice de taille \"size\"\n",
    "\n",
    "        Args:\n",
    "            size ([int]): [de prédérence une matrice carré de taille impaire]\n",
    "\n",
    "        Returns:\n",
    "            [int]: [coordonnées x et y du centre de la matrice carré impaire]\n",
    "        \"\"\"\n",
    "        return np.floor(size/2)\n",
    "    \n",
    "    \n",
    "    def get_receptive_field(self, local_neuron, current_vision):\n",
    "        \"\"\"\n",
    "            \n",
    "        \"\"\"\n",
    "        min_val_y = int(local_neuron[\"meta\"][\"center\"][\"y\"] - np.floor(\n",
    "                                                local_neuron[\"meta\"][\"matrix_width\"]/2))\n",
    "        max_val_y = int(local_neuron[\"meta\"][\"center\"][\"y\"] + np.ceil(\n",
    "                                                local_neuron[\"meta\"][\"matrix_width\"]/2))\n",
    "        min_val_x = int(local_neuron[\"meta\"][\"center\"][\"x\"] - np.floor(\n",
    "                                                local_neuron[\"meta\"][\"matrix_width\"]/2))\n",
    "        max_val_x = int(local_neuron[\"meta\"][\"center\"][\"x\"] + np.ceil(\n",
    "                                                local_neuron[\"meta\"][\"matrix_width\"]/2))\n",
    "        return current_vision[min_val_y:max_val_y, min_val_x:max_val_x, 0]\n",
    "    \n",
    "\n",
    "    def get_all_center_fields(self, list_neurons, current_vision):\n",
    "        \"\"\"\n",
    "            Retourne l'image avec les centres des neurones surlignés\n",
    "            Pour l'ensemble des neurones\n",
    "        \"\"\"\n",
    "        nb = 0\n",
    "        for sent_neuron in list_neurons:\n",
    "            neuron = sent_neuron.neuron[\"meta\"]\n",
    "            current_vision[neuron[\"center\"][\"y\"],neuron[\"center\"][\"x\"]] = 5 #* current_vision[neuron[\"center\"][\"y\"],neuron[\"center\"][\"x\"]]\n",
    "            nb += 1\n",
    "        print(nb,\"neurons\")\n",
    "        return current_vision\n",
    "    \n",
    "    \n",
    "    def get_all_center_fields_width(self, list_neurons, current_vision, lint_width=5):\n",
    "        \"\"\"\n",
    "            Retourne l'image avec les centres des neurones surlignés\n",
    "            Il faut spécifier la couche des neurones sélectionnés\n",
    "        \"\"\"\n",
    "        nb = 0\n",
    "        for sent_neuron in list_neurons:\n",
    "            neuron = sent_neuron.neuron[\"meta\"]\n",
    "            if neuron[\"matrix_width\"] == lint_width:\n",
    "                current_vision[neuron[\"center\"][\"y\"],neuron[\"center\"][\"x\"]] = 5 #* current_vision[neuron[\"center\"][\"y\"],neuron[\"center\"][\"x\"]]\n",
    "                nb += 1\n",
    "        print(nb,\"neurons\")\n",
    "        return current_vision\n",
    "\n",
    "    \n",
    "    def get_neuron_receptive_field(self, nrn_id, current_vision, neurons_pool=-1, verbose=False):\n",
    "        \"\"\"Retourne le champs récepteur du neurone sur la matrice current_vision.\n",
    "\n",
    "        Args:\n",
    "            current_vision ([type]): [description]\n",
    "            nrn_id ([type]): [description]\n",
    "            neurons_pool (int, optional): [description]. Defaults to -1.\n",
    "            verbose (bool, optional): [description]. Defaults to False.\n",
    "\n",
    "        Returns:\n",
    "            [matrice]: [matrice contenant la position du champs récepteur du neurone nrn_id]\n",
    "        \"\"\"\n",
    "\n",
    "        if neurons_pool==-1:\n",
    "            neurons_pool = self.lst_nrns\n",
    "            \n",
    "        # récupère le neurone visé\n",
    "        crnt_nrn = self.get_neuron_from_id(nrn_id, neurons_pool)\n",
    "        # récupère la liste des \n",
    "        try:\n",
    "            lst_nrn = crnt_nrn[\"meta\"][\"field_list\"]\n",
    "        except KeyError:\n",
    "            lst_nrn = crnt_nrn[\"DbConnectivity\"][\"pre_synaptique\"]\n",
    "        \n",
    "        # récupère le neurone pour chaque id de la liste\n",
    "        nb = 0\n",
    "        for sensor_id in lst_nrn:\n",
    "            neuron = self.get_neuron_from_id(sensor_id, neurons_pool)\n",
    "            current_vision[neuron[\"meta\"][\"center\"][\"y\"],neuron[\"meta\"][\"center\"][\"x\"]] = 5\n",
    "            nb +=1\n",
    "        if verbose:\n",
    "            print(nb, \"pixels\")\n",
    "            print(crnt_nrn)\n",
    "        return current_vision\n",
    "    \n",
    "    \n",
    "    def update_coord(self, previous):\n",
    "        \"\"\"\n",
    "            lorsqu'on augmente la taille de la matrice de +2\n",
    "            Toutes les coordonnées relatives à la taille précédente doivent être modifiées grace \n",
    "            à cette fonction.\n",
    "        \"\"\"\n",
    "        previous[\"x\"] += 1\n",
    "        previous[\"y\"] += 1\n",
    "        return previous\n",
    "    \n",
    "    \n",
    "    def rotate_vector(self, vector, angle_rotation):\n",
    "        \"\"\"Retourne les coordonnées du vector après rotation\n",
    "        TODO: cette fonction n'est semble t'il jamais appelée\n",
    "\n",
    "        Args:\n",
    "            vector ([struct]): [structure contenant les coordonnées (x,y) d'un vecteur]\n",
    "            angle_rotation ([float]): [exprimé en radian]\n",
    "\n",
    "        Returns:\n",
    "            [type]: [description]\n",
    "        \"\"\"\n",
    "        output_vector = {\n",
    "            \"x\":0,\n",
    "            \"y\":0\n",
    "        }\n",
    "        output_vector[\"x\"] = np.around(vector[\"x\"] * np.cos(angle_rotation) - vector[\"y\"] * np.sin(angle_rotation))\n",
    "        output_vector[\"y\"] = np.around(vector[\"x\"] * np.sin(angle_rotation) + vector[\"y\"] * np.cos(angle_rotation))\n",
    "        return output_vector\n",
    "    \n",
    "    \n",
    "    def anti_rotate_vector(self, vector, angle_rotation):\n",
    "        output_vector = {\n",
    "            \"x\":0,\n",
    "            \"y\":0\n",
    "        }\n",
    "        output_vector[\"x\"] = np.around(vector[\"x\"] * np.cos(angle_rotation) + vector[\"y\"] * np.sin(angle_rotation))\n",
    "        output_vector[\"y\"] = np.around(vector[\"y\"] * np.cos(angle_rotation) - vector[\"x\"] * np.sin(angle_rotation))\n",
    "        return output_vector\n",
    "    \n",
    "    \n",
    "    def get_pos_from_id(self, neuron_idx2, neurons_pool=-1):\n",
    "        \"\"\"\n",
    "            retourne la position dans la tableau à partir du neuron_id\n",
    "        \"\"\"\n",
    "        if neurons_pool==-1:\n",
    "            neurons_pool = self.lst_nrns\n",
    "        for neuron_idx in range(len(neurons_pool)):\n",
    "            if neurons_pool[neuron_idx].neuron[\"_id\"]==neuron_idx2:\n",
    "                break\n",
    "        return neuron_idx\n",
    "    \n",
    "    \n",
    "    def get_neuron_from_id(self, neuron_idx2, neurons_pool=-1):\n",
    "        \"\"\"\n",
    "            retourne le neurone à partir de son neuron_id \"_id\"\n",
    "        \"\"\"\n",
    "        if neurons_pool==-1:\n",
    "            neurons_pool = self.lst_nrns\n",
    "        for neuron_idx in range(len(neurons_pool)):\n",
    "            if neurons_pool[neuron_idx].neuron[\"_id\"]==neuron_idx2:\n",
    "                return neurons_pool[neuron_idx].neuron\n",
    "        return ''\n",
    "    \n",
    "    \n",
    "    def get_avg_center(self, list_neuron_ids, neurons_pool=-1):\n",
    "        \"\"\"\n",
    "            retourne la moyenne des centres à partir des neurones_id passés en paramètres\n",
    "        \"\"\"\n",
    "        if neurons_pool==-1:\n",
    "            neurons_pool = self.lst_nrns\n",
    "            \n",
    "        list_x = []\n",
    "        list_y = []\n",
    "\n",
    "        output={\n",
    "            \"center\":{\n",
    "                \"x\":0,\n",
    "                \"y\":0\n",
    "            },\n",
    "            \"real_center\":{\n",
    "                \"x\":0,\n",
    "                \"y\":0\n",
    "            }\n",
    "        }\n",
    "\n",
    "        for int_id in list_neuron_ids:\n",
    "            current_neuron = self.get_neuron_from_id(int_id, neurons_pool)\n",
    "            list_x.append(current_neuron[\"meta\"][\"center\"][\"x\"])\n",
    "            list_y.append(current_neuron[\"meta\"][\"center\"][\"y\"])\n",
    "\n",
    "        output[\"real_center\"][\"y\"]=np.mean(list_y)\n",
    "        output[\"real_center\"][\"x\"]=np.mean(list_x)\n",
    "\n",
    "        output[\"center\"][\"x\"]= int(np.round(output[\"real_center\"][\"x\"]))\n",
    "        output[\"center\"][\"y\"] = int(np.round(output[\"real_center\"][\"y\"]))\n",
    "        return output\n",
    "\n",
    "    \n",
    "    def calc_angle(self, vector1, vector2):\n",
    "        # calcul de l'angle de rotation entre les deux vecteurs passés en paramètres\n",
    "        np_c_1 = np.array([vector1[\"x\"], vector1[\"y\"]])\n",
    "        np_c_2 = np.array([vector2[\"x\"], vector2[\"y\"]])\n",
    "        np_c_3 = np.array([-vector1[\"y\"], vector1[\"x\"]])\n",
    "        signe = 1\n",
    "        test = np.sum(np.multiply(np_c_3,np_c_2))\n",
    "        if test < 0 :\n",
    "            signe = -1\n",
    "        return signe * np.arccos(np.sum(np.multiply(np_c_1,np_c_2))/(np.sqrt(np.sum(np.power(np_c_1,2)))*np.sqrt(np.sum(np.power(np_c_2,2)))))\n",
    "    \n",
    "    \n",
    "    def calc_dist(self, point1, point2):\n",
    "        \"\"\"Calcule la distance entre deux points\n",
    "\n",
    "        Args:\n",
    "            point1 ([struct]): [description]\n",
    "            point2 ([struct]): [description]\n",
    "\n",
    "        Returns:\n",
    "            [float]: [distance exprimé dans la même unités que les coordonnées des points passés en paramètres]\n",
    "        \"\"\"\n",
    "        X_D = pow(point1[\"x\"] - point2[\"x\"],2)\n",
    "        Y_D = pow(point1[\"y\"] - point2[\"y\"],2)\n",
    "        return pow(X_D+Y_D,0.5)\n",
    "\n",
    "\n",
    "    def calc_total_distance(self, nrn_list, neurons_pool=-1):\n",
    "        output_total = 0\n",
    "        if neurons_pool==-1:\n",
    "            neurons_pool = self.lst_nrns\n",
    "        nrn = self.get_neuron_from_id(nrn_list[0], neurons_pool)\n",
    "        point1 = nrn[\"meta\"][\"center\"]\n",
    "        for nrn_pos in range(1, len(nrn_list)):\n",
    "            nrn_id = nrn_list[nrn_pos]\n",
    "            nrn = self.get_neuron_from_id(nrn_id, neurons_pool)\n",
    "            point2 = nrn[\"meta\"][\"center\"]\n",
    "            sub_dist = self.calc_dist(point1, point2)\n",
    "            output_total += sub_dist\n",
    "            point1 = point2\n",
    "        return output_total\n",
    "\n",
    "\n",
    "    def get_gbl_orientO(self, nrn):\n",
    "        hand_1 = nrn[\"meta\"][\"local_tip_1\"]\n",
    "        hand_2 = nrn[\"meta\"][\"local_tip_2\"]\n",
    "        v_outpt = {\"x\":0,\"y\":0}\n",
    "        \n",
    "        if hand_1[\"x\"]< hand_2[\"x\"]:\n",
    "            v_outpt[\"x\"] = hand_2[\"x\"] - hand_1[\"x\"]\n",
    "            v_outpt[\"y\"] = hand_2[\"y\"] - hand_1[\"y\"]\n",
    "        elif hand_1[\"x\"] > hand_2[\"x\"]:\n",
    "            v_outpt[\"x\"] = hand_1[\"x\"] - hand_2[\"x\"]\n",
    "            v_outpt[\"y\"] = hand_1[\"y\"] - hand_2[\"y\"]\n",
    "        elif hand_1[\"y\"]< hand_2[\"y\"]:\n",
    "            v_outpt[\"x\"] = hand_2[\"x\"] - hand_1[\"x\"]\n",
    "            v_outpt[\"y\"] = hand_2[\"y\"] - hand_1[\"y\"]\n",
    "        elif hand_1[\"y\"] > hand_2[\"y\"]:\n",
    "            v_outpt[\"x\"] = hand_1[\"x\"] - hand_2[\"x\"]\n",
    "            v_outpt[\"y\"] = hand_1[\"y\"] - hand_2[\"y\"]\n",
    "        return v_outpt\n",
    "\n",
    "    \n",
    "    def get_global_orientation(self, nrn_id, neurons_pool=-1):\n",
    "        \"\"\"Retourne le vecteur allant directement d'une extrémité à l'autre\n",
    "        du champs récepteur du neurone\n",
    "        Globalement orienté de gauche à droite et sinon de bas en haut.\n",
    "\n",
    "        Args:\n",
    "            nrn_id (int): identifiant du neurone\n",
    "            neurons_pool (list, optional): base de données des neurones. Defaults to -1.\n",
    "\n",
    "        Returns:\n",
    "            struct: vecteyr donnant l'orientation générale\n",
    "        \"\"\"\n",
    "        if neurons_pool==-1:\n",
    "            neurons_pool = self.lst_nrns\n",
    "\n",
    "        nrn = self.get_neuron_from_id(nrn_id, neurons_pool)\n",
    "\n",
    "        return self.get_gbl_orientO(nrn)\n",
    "        \n",
    "    \n",
    "    \n",
    "    def raw_rotate_vector(self, vector, angle_rotation):\n",
    "        \"\"\"\n",
    "        Retourne un angle après rotation\n",
    "        Ne fait pas d'arrondi contrairement à l'autre fonction rotate_vector\n",
    "        \"\"\"\n",
    "        output_vector = {\n",
    "            \"x\":0,\n",
    "            \"y\":0\n",
    "        }\n",
    "        output_vector[\"x\"] = vector[\"x\"] * np.cos(angle_rotation) - vector[\"y\"] * np.sin(angle_rotation)\n",
    "        output_vector[\"y\"] = vector[\"x\"] * np.sin(angle_rotation) + vector[\"y\"] * np.cos(angle_rotation)\n",
    "        return output_vector\n",
    "    \n",
    "    \n",
    "    def nrn_drwr(self, mtrx, vector, angle, length, start):\n",
    "        \"\"\"\n",
    "        Dessine un segment de courbe\n",
    "        ============================\n",
    "        En plus de la matrice dans laquelle il va dessiner, il ne prend que 4 paramètres.\n",
    "        Le vecteur de départ, angle de rotation, la longueur (ou le nombre d'itérations).\n",
    "        Et le point de départ.\n",
    "\n",
    "        \"\"\"\n",
    "        mtrx[start[\"y\"]][start[\"x\"]] = 1\n",
    "        new_pos = {\"x\": start[\"x\"], \"y\": start[\"y\"]}\n",
    "        tmp_pos = {\"x\": start[\"x\"], \"y\": start[\"y\"]}\n",
    "        tmp_pos[\"x\"] = new_pos[\"x\"]+vector[\"x\"]\n",
    "        new_pos[\"x\"] = int(round(tmp_pos[\"x\"]))\n",
    "        tmp_pos[\"y\"] = new_pos[\"y\"]+vector[\"y\"]\n",
    "        new_pos[\"y\"] = int(round(tmp_pos[\"y\"]))\n",
    "        mtrx[new_pos[\"y\"]][new_pos[\"x\"]] = 1\n",
    "        angle = angle / 2\n",
    "\n",
    "        for i in range(length-1):\n",
    "            # rotate vector\n",
    "            vector = self.raw_rotate_vector(vector, angle)\n",
    "            tmp_pos[\"x\"] = tmp_pos[\"x\"]+vector[\"x\"]\n",
    "            new_pos[\"x\"] = int(round(tmp_pos[\"x\"]))\n",
    "            tmp_pos[\"y\"] = tmp_pos[\"y\"]+vector[\"y\"]\n",
    "            new_pos[\"y\"] = int(round(tmp_pos[\"y\"]))\n",
    "            mtrx[new_pos[\"y\"]][new_pos[\"x\"]] = 1\n",
    "\n",
    "        return mtrx\n",
    "\n",
    "\n",
    "    def get_list_presyn(self, lst_nrn, neurons_pool=-1):\n",
    "        \"\"\"retourne la liste des neurones pre_synaptique à partir d'une liste d'Identifiant et \n",
    "\n",
    "        Args:\n",
    "            lst_nrn ([list de integer]): [id des neurones]\n",
    "            neurons_pool ([list de sentive_vision_neurons]): [base de données des neurones dans laquelle chercher]\n",
    "\n",
    "        Returns:\n",
    "            [list d'integer]: [les id des neurones présynaptique pour tous les neurones passés en entrée]\n",
    "        \"\"\"\n",
    "        if neurons_pool==-1:\n",
    "            neurons_pool = self.lst_nrns\n",
    "        lst_output = []\n",
    "        for nrn_id in lst_nrn:\n",
    "            lst_output.extend(self.get_neuron_from_id(nrn_id, neurons_pool)[\"DbConnectivity\"][\"pre_synaptique\"])\n",
    "        # lst_output = list(set(lst_output.sort()))\n",
    "        return lst_output\n",
    "    \n",
    "\n",
    "    def intersect_presyn_field_list(self, nrn_id_1, nrn_id_2, neurons_pool=-1):\n",
    "        if neurons_pool==-1:\n",
    "            neurons_pool = self.lst_nrns\n",
    "        lst_nrn_1 = self.get_neuron_from_id(nrn_id_1, neurons_pool)[\"meta\"][\"field_list\"]\n",
    "        # print(\"lst_nrn_1\",lst_nrn_1)\n",
    "        list1 = self.get_list_presyn(lst_nrn_1, neurons_pool)\n",
    "        lst_nrn_2 = self.get_neuron_from_id(nrn_id_2, neurons_pool)[\"meta\"][\"field_list\"]\n",
    "        list2 = self.get_list_presyn(lst_nrn_2, neurons_pool)\n",
    "        return list(set(list1).intersection(list2))\n",
    "\n",
    "\n",
    "    def calc_tips(self, neuron_id, neurons_pool=-1):\n",
    "        \"\"\"A partir de real_center calcule les distances avec chaque point de field list\n",
    "        sélectionne les 2 neurones les plus éloignés du centre.\n",
    "        Ce sont a priori les extrémités du segment.\n",
    "\n",
    "        Args:\n",
    "            neuron ([sentive_vision_neuron]): [description]\n",
    "\n",
    "        Returns:\n",
    "            [sentive_vision_neuron]: [modifié avec les bonnes informations des tips]\n",
    "        \"\"\"\n",
    "        output = {\n",
    "            \"local_tip_1\":{\n",
    "                \"x\":0,\n",
    "                \"y\":0\n",
    "            },\n",
    "            \"vector_1\":{\n",
    "                \"x\":0,\n",
    "                \"y\":0\n",
    "            },\n",
    "            \"local_tip_2\":{\n",
    "                \"x\":0,\n",
    "                \"y\":0\n",
    "            },\n",
    "            \"vector_2\":{\n",
    "                \"x\":0,\n",
    "                \"y\":0\n",
    "            },\n",
    "            \"length_c\":0\n",
    "        }\n",
    "        if neurons_pool==-1:\n",
    "            neurons_pool = self.lst_nrns\n",
    "        \n",
    "        neuron = self.get_neuron_from_id(neuron_id, neurons_pool)\n",
    "        max_distance = 0.0\n",
    "        tip_nrn_id = 0\n",
    "        for nrn_id in neuron[\"meta\"][\"field_list\"]:\n",
    "            crnt_nrn = self.get_neuron_from_id(nrn_id, neurons_pool)\n",
    "            # calcule la distance entre ce neurone et le centre\n",
    "            crnt_dist = self.calc_dist(neuron[\"meta\"][\"real_center\"],crnt_nrn[\"meta\"][\"center\"])\n",
    "            if crnt_dist>max_distance:\n",
    "                max_distance = crnt_dist\n",
    "                tip_nrn_id = nrn_id\n",
    "        # calcule les données output\n",
    "        crnt_nrn = self.get_neuron_from_id(tip_nrn_id, neurons_pool)\n",
    "        output[\"local_tip_1\"] = crnt_nrn[\"meta\"][\"center\"]\n",
    "\n",
    "        # vérifie si la distance avec le tip1 est plus éloigné\n",
    "        lcl_tip1 = {\n",
    "            \"x\":0,\n",
    "            \"y\":0\n",
    "        }\n",
    "        lcl_tip1[\"x\"] = output[\"local_tip_1\"][\"x\"] + crnt_nrn[\"meta\"][\"vector_1\"][\"x\"]\n",
    "        lcl_tip1[\"y\"] = output[\"local_tip_1\"][\"y\"] + crnt_nrn[\"meta\"][\"vector_1\"][\"y\"]\n",
    "        crnt_dist = self.calc_dist(neuron[\"meta\"][\"real_center\"],lcl_tip1)\n",
    "        # si c'est le cas, utilise cette nouvelle distance\n",
    "        if crnt_dist>max_distance:\n",
    "            max_distance = crnt_dist\n",
    "            output[\"local_tip_1\"] = lcl_tip1\n",
    "            output[\"vector_1\"][\"y\"] = ( crnt_nrn[\"meta\"][\"vector_2\"][\"y\"] - crnt_nrn[\"meta\"][\"vector_1\"][\"y\"] ) / 2\n",
    "            output[\"vector_1\"][\"x\"] = ( crnt_nrn[\"meta\"][\"vector_2\"][\"x\"] - crnt_nrn[\"meta\"][\"vector_1\"][\"x\"] ) / 2\n",
    "        else:\n",
    "            lcl_tip1[\"x\"] = output[\"local_tip_1\"][\"x\"] + crnt_nrn[\"meta\"][\"vector_2\"][\"x\"]\n",
    "            lcl_tip1[\"y\"] = output[\"local_tip_1\"][\"y\"] + crnt_nrn[\"meta\"][\"vector_2\"][\"y\"]\n",
    "            crnt_dist = self.calc_dist(neuron[\"meta\"][\"real_center\"],lcl_tip1)\n",
    "            # si c'est le cas, utilise cette nouvelle distance\n",
    "            if crnt_dist>max_distance:\n",
    "                max_distance = crnt_dist\n",
    "                output[\"local_tip_1\"] = lcl_tip1\n",
    "                output[\"vector_1\"][\"y\"] = -( crnt_nrn[\"meta\"][\"vector_2\"][\"y\"] - crnt_nrn[\"meta\"][\"vector_1\"][\"y\"] ) / 2\n",
    "                output[\"vector_1\"][\"x\"] = -( crnt_nrn[\"meta\"][\"vector_2\"][\"x\"] - crnt_nrn[\"meta\"][\"vector_1\"][\"x\"] ) / 2\n",
    "            \n",
    "        for nrn_id in neuron[\"meta\"][\"field_list\"]:\n",
    "            crnt_nrn = self.get_neuron_from_id(nrn_id, neurons_pool)\n",
    "            crnt_dist = self.calc_dist(output[\"local_tip_1\"],crnt_nrn[\"meta\"][\"center\"])\n",
    "            if crnt_dist>max_distance:\n",
    "                max_distance = crnt_dist\n",
    "                tip_nrn_id = nrn_id\n",
    "        # calcule les données output\n",
    "        crnt_nrn = self.get_neuron_from_id(tip_nrn_id, neurons_pool)\n",
    "        output[\"local_tip_2\"] = crnt_nrn[\"meta\"][\"center\"]\n",
    "        output[\"vector_2\"][\"y\"] = ( crnt_nrn[\"meta\"][\"vector_2\"][\"y\"] - crnt_nrn[\"meta\"][\"vector_1\"][\"y\"] ) / 2\n",
    "        output[\"vector_2\"][\"x\"] = ( crnt_nrn[\"meta\"][\"vector_2\"][\"x\"] - crnt_nrn[\"meta\"][\"vector_1\"][\"x\"] ) / 2\n",
    "\n",
    "        # vérifie si la distance avec le tip1 est plus éloigné\n",
    "        lcl_tip2 = {\n",
    "            \"x\":0,\n",
    "            \"y\":0\n",
    "        }\n",
    "        lcl_tip2[\"x\"] = output[\"local_tip_2\"][\"x\"] + crnt_nrn[\"meta\"][\"vector_1\"][\"x\"]\n",
    "        lcl_tip2[\"y\"] = output[\"local_tip_2\"][\"y\"] + crnt_nrn[\"meta\"][\"vector_1\"][\"y\"]\n",
    "        crnt_dist = self.calc_dist(output[\"local_tip_1\"],lcl_tip2)\n",
    "        # si c'est le cas, utilise cette nouvelle distance\n",
    "        if crnt_dist>max_distance:\n",
    "            max_distance = crnt_dist\n",
    "            output[\"local_tip_2\"] = lcl_tip2\n",
    "            output[\"vector_2\"][\"y\"] = ( crnt_nrn[\"meta\"][\"vector_2\"][\"y\"] - crnt_nrn[\"meta\"][\"vector_1\"][\"y\"] ) / 2\n",
    "            output[\"vector_2\"][\"x\"] = ( crnt_nrn[\"meta\"][\"vector_2\"][\"x\"] - crnt_nrn[\"meta\"][\"vector_1\"][\"x\"] ) / 2\n",
    "        else:\n",
    "            lcl_tip2[\"x\"] = output[\"local_tip_2\"][\"x\"] + crnt_nrn[\"meta\"][\"vector_2\"][\"x\"]\n",
    "            lcl_tip2[\"y\"] = output[\"local_tip_2\"][\"y\"] + crnt_nrn[\"meta\"][\"vector_2\"][\"y\"]\n",
    "            crnt_dist = self.calc_dist(output[\"local_tip_1\"],lcl_tip2)\n",
    "            # si c'est le cas, utilise cette nouvelle distance\n",
    "            if crnt_dist>=max_distance:\n",
    "                max_distance = crnt_dist\n",
    "                output[\"local_tip_2\"] = lcl_tip2\n",
    "                output[\"vector_2\"][\"y\"] = -( crnt_nrn[\"meta\"][\"vector_2\"][\"y\"] - crnt_nrn[\"meta\"][\"vector_1\"][\"y\"] ) / 2\n",
    "                output[\"vector_2\"][\"x\"] = -( crnt_nrn[\"meta\"][\"vector_2\"][\"x\"] - crnt_nrn[\"meta\"][\"vector_1\"][\"x\"] ) / 2\n",
    "        output[\"length_c\"] = np.round((self.calc_dist(output[\"local_tip_1\"],neuron[\"meta\"][\"real_center\"])+self.calc_dist(output[\"local_tip_2\"],neuron[\"meta\"][\"real_center\"])))\n",
    "        return output\n",
    "\n",
    "    \n",
    "    def calc_vector_length(self,vector):\n",
    "        X_D = pow(vector[\"x\"] ,2)\n",
    "        Y_D = pow(vector[\"y\"], 2)\n",
    "        return pow(X_D+Y_D,0.5)\n",
    "\n",
    "\n",
    "    def get_vector_scalar(self,vector_1, vector_2):\n",
    "        l1 = self.calc_vector_length(vector_1)\n",
    "        l2 = self.calc_vector_length(vector_2)\n",
    "        return l1 * l2 * np.cos(self.calc_angle(vector_1,vector_2))\n",
    "\n",
    "\n",
    "    def remove_nrn_pos(self, position, neurons_pool=-1):\n",
    "        lbl_General_Pool = False\n",
    "        if neurons_pool==-1:\n",
    "            lbl_General_Pool = True\n",
    "            neurons_pool = self.lst_nrns\n",
    "        nrn_id = neurons_pool[position].neuron[\"_id\"]\n",
    "        layer_id = neurons_pool[position].neuron[\"layer_id\"]\n",
    "\n",
    "        neurons_pool.pop(position)\n",
    "        if lbl_General_Pool:\n",
    "            self.nb_nrns = len(self.lst_nrns)\n",
    "            self.netGraph.remove_node(nrn_id)\n",
    "            self.layer_graph[layer_id-1].remove_node(nrn_id)\n",
    "        return self.nb_nrns - 1\n",
    "\n",
    "\n",
    "    def remove_nrn_by_id(self, nrn_id, neurons_pool=-1):\n",
    "        lbl_General_Pool = False\n",
    "        if neurons_pool==-1:\n",
    "            lbl_General_Pool = True\n",
    "            neurons_pool = self.lst_nrns\n",
    "        for nrn_pos in range(len(neurons_pool)):\n",
    "            if neurons_pool[nrn_pos].neuron[\"_id\"]==nrn_id:\n",
    "                if nrn_id==128:\n",
    "                    print(nrn_id,len(neurons_pool))\n",
    "                if lbl_General_Pool:\n",
    "                    return self.remove_nrn_pos(nrn_pos, -1)\n",
    "                return self.remove_nrn_pos(nrn_pos, neurons_pool)\n",
    "        return False\n",
    "\n",
    "    "
   ],
   "outputs": [],
   "metadata": {}
  },
  {
   "cell_type": "code",
   "execution_count": 1932,
   "source": [
    "class sentive_network():\n",
    "\n",
    "    def __init__(self, episode, epis_id=0):\n",
    "\n",
    "        self.episd_id = epis_id\n",
    "\n",
    "        self.episode = episode\n",
    "        plt.matshow(episode[0][epis_id][:,:,0])\n",
    "        \n",
    "        ###########################################\n",
    "        # meta parameters\n",
    "        self.SEUIL = 0.5\n",
    "\n",
    "        self.IMG_SIZE = 28\n",
    "        self.angle_tolerance_deg = 17\n",
    "        self.ANGL_TOL = np.pi * self.angle_tolerance_deg / 180\n",
    "        self.angle_tolerance_deg = 17\n",
    "        self.ANGL_TOL2 = np.pi * self.angle_tolerance_deg / 180\n",
    "\n",
    "        # si plus petit que EPSILON, considère que c'est égal\n",
    "        self.ANGL_EPSILON = np.pi * 1 / 180\n",
    "        \n",
    "        # POURCENTAGE : MERGE_LIM = 75%\n",
    "        self.MERGE_LIM = 90\n",
    "        self.limite_merge = 1 - self.MERGE_LIM/100\n",
    "\n",
    "        # self.MAX_ANGL = 0.75\n",
    "\n",
    "        # POURCENTAGE DE PIXELS UNIQUE MINIMUM \n",
    "        self.MIN_PIXEL = 10\n",
    "\n",
    "        self.MIN_PATH = 10\n",
    "\n",
    "        # end metaparameters\n",
    "        ###########################################\n",
    "\n",
    "        # nb est le premier identifiant pour créer les neurones\n",
    "        self.nb = 0\n",
    "        # liste contenant tous les neurones : pool_vision\n",
    "        # self.pool_vision = []\n",
    "        self.nrnl_map = np.zeros([self.IMG_SIZE,self.IMG_SIZE])\n",
    "        self.np_coord = []\n",
    "\n",
    "        # fonctions utilitaires\n",
    "        # neuron_tools \n",
    "        self.nrn_tls = sentive_neuron_helper()\n",
    "\n",
    "        self.glbl_prm = {\n",
    "            \"cg\":{\"x\":0,\"y\":0},\n",
    "            \"u_axis\":{\"x\":0,\"y\":0},\n",
    "            \"v_axis\":{\"x\":0,\"y\":0}\n",
    "            }\n",
    "        \n",
    "        self.nb_ltrl_conn = []\n",
    "\n",
    "\n",
    "    def layer_1(self):\n",
    "        ##################################################\n",
    "        ######## NEURONES DE LA COUCHE 1 (t_1) #########\n",
    "        ##################################################\n",
    "        self.nrn_tls.new_layer()\n",
    "        # Crée un neurone par pixel au début:\n",
    "        pxl_coord = []\n",
    "        for y in range(1,self.IMG_SIZE-1):\n",
    "            for x in range(1,self.IMG_SIZE-1):\n",
    "                if self.episode[0][self.episd_id][y][x][0]>self.SEUIL:\n",
    "                    nb  = self.nrn_tls.add_new_nrn()\n",
    "                    \n",
    "                    self.nrn_tls.lst_nrns[nb].neuron[\"meta\"][\"center\"][\"x\"] = x\n",
    "                    self.nrn_tls.lst_nrns[nb].neuron[\"meta\"][\"center\"][\"y\"] = y\n",
    "                    self.nrn_tls.lst_nrns[nb].neuron[\"meta\"][\"matrix_width\"] = 1\n",
    "                    \n",
    "                    self.nrnl_map[y][x] = nb\n",
    "\n",
    "                    pxl_coord.append([x,y])\n",
    "        print(\"nombre de neurones taille 1:\",self.nrn_tls.nb_nrns)\n",
    "        # print(\"*\"*40,\"\\n\")\n",
    "\n",
    "        pca = PCA(n_components=2)\n",
    "        pca.fit(pxl_coord)\n",
    "        # on obtient les résultats ici:\n",
    "        print(pca.components_)\n",
    "        self.glbl_prm[\"u_axis\"][\"x\"]=pca.components_[0][0]\n",
    "        self.glbl_prm[\"u_axis\"][\"y\"]=pca.components_[0][1]\n",
    "        self.glbl_prm[\"v_axis\"][\"x\"]=pca.components_[1][0]\n",
    "        self.glbl_prm[\"v_axis\"][\"y\"]=pca.components_[1][1]\n",
    "\n",
    "        self.np_coord = np.array(pxl_coord)\n",
    "        self.glbl_prm[\"cg\"][\"x\"] = np.mean(self.np_coord[:,0])\n",
    "        self.glbl_prm[\"cg\"][\"y\"] = np.mean(self.np_coord[:,1])\n",
    "\n",
    "\n",
    "    \n",
    "    def layer_2(self):\n",
    "        ##################################################\n",
    "        ########## NEURONES DE LA COUCHE 2 (t_3) #########\n",
    "        ##################################################\n",
    "        # Les neurones de cette couche ont des champs récepteurs \n",
    "        # qui sont des matrices de *3x3*\n",
    "        # avec des mata paramètres les décrivants.\n",
    "        self.nrn_tls.new_layer()\n",
    "        \n",
    "        lst_nrn2_pos = []\n",
    "\n",
    "        for neuron_idx in range(self.nrn_tls.nb_nrns):\n",
    "            # position du centre du neurone\n",
    "            x = self.nrn_tls.lst_nrns[neuron_idx].neuron[\"meta\"][\"center\"][\"x\"]\n",
    "            y = self.nrn_tls.lst_nrns[neuron_idx].neuron[\"meta\"][\"center\"][\"y\"]\n",
    "            sub_matrix = episode[0][self.episd_id][y-1:y+2, x-1:x+2, 0]\n",
    "            sub_matrix2 = self.nrnl_map[y-1:y+2, x-1:x+2]\n",
    "            \n",
    "            int_nb_conf = 0\n",
    "            sum_angl = 0\n",
    "            vector_1 = {\"x\":0,\"y\":0}\n",
    "            vector_2 = {\"x\":0,\"y\":0}\n",
    "            local_tip_1 = {\"x\":0,\"y\":0}\n",
    "            local_tip_2 = {\"x\":0,\"y\":0}\n",
    "            main_vector = {\"x\":0,\"y\":0}\n",
    "            list_presyn = []\n",
    "            for ok_idx in range(len(self.nrn_tls.ok_conf)):\n",
    "                # s'il n'y a pas de pixels en dehors de l'axe de symétrie, y a rien à calculer.\n",
    "                trois_mtrx = np.multiply(sub_matrix>self.SEUIL, self.nrn_tls.ok_conf[ok_idx])\n",
    "                # trois_mtrx = np.multiply(sub_matrix2, self.nrn_tls.ok_conf[ok_idx])\n",
    "                if np.sum(np.abs(trois_mtrx))==3:\n",
    "                    \n",
    "                    ###########################\n",
    "                    # Détermine les extrémités\n",
    "                    # retire le pixel central\n",
    "                    trois_mtrx = np.multiply(sub_matrix2, self.nrn_tls.ok_conf[ok_idx])\n",
    "                    \n",
    "                    list_presyn.extend(np.absolute(trois_mtrx).ravel())\n",
    "\n",
    "                    trois_mtrx = np.multiply(sub_matrix, self.nrn_tls.ok_conf[ok_idx])\n",
    "                    sub_result = np.multiply(trois_mtrx, self.nrn_tls.dir_matrix)\n",
    "                    \n",
    "                    #######\n",
    "                    # d'un côté de l'axe (valeurs positives)\n",
    "                    tmp_coord = np.trim_zeros(np.multiply(sub_result>0,self.nrn_tls.get_y_matrix(3)).ravel())\n",
    "                    if len(tmp_coord)>0:\n",
    "                        local_tip_1[\"y\"] = np.mean(tmp_coord)\n",
    "                    tmp_coord = np.trim_zeros(np.multiply(sub_result>0,self.nrn_tls.get_x_matrix(3)).ravel())\n",
    "                    if len(tmp_coord)>0:\n",
    "                        local_tip_1[\"x\"] = np.mean(tmp_coord)\n",
    "                    ##\n",
    "                    # calcul des vecteurs directeurs\n",
    "                    vector_1[\"y\"] = self.nrn_tls.get_matrix_center(3) - local_tip_1[\"y\"]\n",
    "                    vector_1[\"x\"] = self.nrn_tls.get_matrix_center(3) - local_tip_1[\"x\"]\n",
    "                    \n",
    "                    #######\n",
    "                    # les pixels de l'autre côté de l'axe les valeurs sont négatives\n",
    "                    tmp_coord = np.trim_zeros(np.multiply(sub_result<0,self.nrn_tls.get_y_matrix(3)).ravel())\n",
    "                    if len(tmp_coord)>0: \n",
    "                        local_tip_2[\"y\"] = np.mean(tmp_coord)\n",
    "                    tmp_coord = np.trim_zeros(np.multiply(sub_result<0,self.nrn_tls.get_x_matrix(3)).ravel())\n",
    "                    if len(tmp_coord)>0:\n",
    "                        local_tip_2[\"x\"] = np.mean(tmp_coord)\n",
    "                    ##\n",
    "                    # calcul des vecteurs directeurs \n",
    "                    vector_2[\"y\"] = local_tip_2[\"y\"] - self.nrn_tls.get_matrix_center(3)\n",
    "                    vector_2[\"x\"] = local_tip_2[\"x\"] - self.nrn_tls.get_matrix_center(3)\n",
    "                    \n",
    "                    #######\n",
    "                    tmp_angl = self.nrn_tls.calc_angle(vector_1, vector_2)\n",
    "\n",
    "                    if not np.isnan(tmp_angl):\n",
    "                        main_vector[\"x\"] += vector_2[\"x\"] + vector_1[\"x\"]\n",
    "                        main_vector[\"y\"] += vector_2[\"y\"] + vector_1[\"y\"]\n",
    "                        sum_angl += tmp_angl\n",
    "                        int_nb_conf += 1\n",
    "\n",
    "                    #######\n",
    "            #####################################\n",
    "            \n",
    "            if int_nb_conf>0:\n",
    "                # crée un nouveau neurone de taille 3\n",
    "                nb  = self.nrn_tls.add_new_nrn()\n",
    "                lst_nrn2_pos.append(nb)\n",
    "                self.nrn_tls.lst_nrns[nb].neuron[\"meta\"][\"center\"][\"x\"] = x\n",
    "                self.nrn_tls.lst_nrns[nb].neuron[\"meta\"][\"center\"][\"y\"] = y\n",
    "                self.nrn_tls.lst_nrns[nb].neuron[\"meta\"][\"matrix_width\"] = 3\n",
    "                self.nrn_tls.lst_nrns[nb].neuron[\"DbConnectivity\"][\"pre_synaptique\"].extend(set(np.array(list_presyn).astype(int)))\n",
    "\n",
    "                for i in range(len(self.nrn_tls.lst_nrns[nb].neuron[\"DbConnectivity\"][\"pre_synaptique\"])-1,-1,-1):\n",
    "                    if self.nrn_tls.lst_nrns[nb].neuron[\"DbConnectivity\"][\"pre_synaptique\"][i]==0:\n",
    "                        self.nrn_tls.lst_nrns[nb].neuron[\"DbConnectivity\"][\"pre_synaptique\"].pop(i)\n",
    "                    else:\n",
    "                        self.nrn_tls.netGraph.add_edge(self.nrn_tls.lst_nrns[nb].neuron[\"_id\"],self.nrn_tls.lst_nrns[nb].neuron[\"DbConnectivity\"][\"pre_synaptique\"][i])\n",
    "                        # self.nrn_tls.add_edge()\n",
    "                        nrn_pxl = self.nrn_tls.get_neuron_from_id(self.nrn_tls.lst_nrns[nb].neuron[\"DbConnectivity\"][\"pre_synaptique\"][i])\n",
    "                        nrn_pxl[\"DbConnectivity\"][\"post_synaptique\"].append(self.nrn_tls.lst_nrns[nb].neuron[\"_id\"])\n",
    "                if int_nb_conf>0: \n",
    "                    self.nrn_tls.lst_nrns[nb].neuron[\"meta\"][\"angle\"] = sum_angl/int_nb_conf\n",
    "                    self.nrn_tls.lst_nrns[nb].neuron[\"meta\"][\"vector_1\"][\"x\"] =  main_vector[\"x\"]/int_nb_conf\n",
    "                    self.nrn_tls.lst_nrns[nb].neuron[\"meta\"][\"vector_1\"][\"y\"] =  main_vector[\"y\"]/int_nb_conf\n",
    "\n",
    "        # détermine les connexions latérales des neurones de la couche 2\n",
    "        \n",
    "        for nrn2_pos in lst_nrn2_pos:\n",
    "            str_next_nrns = {}\n",
    "            # print(\"\\nneurone ID:\", self.nrn_tls.lst_nrns[nrn2_pos].neuron[\"_id\"])\n",
    "            for nrn1_id in self.nrn_tls.lst_nrns[nrn2_pos].neuron[\"DbConnectivity\"][\"pre_synaptique\"]:\n",
    "                nrn2_not_id = self.nrn_tls.lst_nrns[nrn2_pos].neuron[\"_id\"]\n",
    "                nrn1 = self.nrn_tls.get_neuron_from_id(nrn1_id)\n",
    "                for nrn2_id in nrn1[\"DbConnectivity\"][\"post_synaptique\"]:\n",
    "                    if nrn2_id != nrn2_not_id:\n",
    "                        self.nrn_tls.increment_weight(self.nrn_tls.lst_nrns[nrn2_pos].neuron, nrn2_id)\n",
    "                        try:\n",
    "                            str_next_nrns[nrn2_id] += 1\n",
    "                        except KeyError:\n",
    "                            str_next_nrns[nrn2_id] = 1\n",
    "            # slct_max = max(str_next_nrns.values())\n",
    "            next_keys = list(str_next_nrns.keys())\n",
    "            # next_vals = list(str_next_nrns.values())\n",
    "            lst_next_nrns = []\n",
    "            for pos in range(len(next_keys)):\n",
    "                # if slct_max == next_vals[pos]:\n",
    "                    tmp_id = next_keys[pos]\n",
    "                    lst_next_nrns.append(tmp_id)\n",
    "                    self.nrn_tls.lst_nrns[nrn2_pos].neuron[\"DbConnectivity\"][\"post_synaptique\"].append(tmp_id)\n",
    "                    # self.nrn_tls.netGraph.add_edge(nrn2_not_id,tmp_id)\n",
    "                    \n",
    "                    self.nrn_tls.add_edge(nrn2_not_id,tmp_id)\n",
    "        \n",
    "        self.nrn_tls.nb_2_1st_layers = len(self.nrn_tls.lst_nrns)\n",
    "        print(\"\\nnombre de neurones couche 1 & 2, tailles 1 & 3:\",self.nrn_tls.nb_2_1st_layers)\n",
    "        # print(\"*\"*40)\n",
    "\n",
    "\n",
    "\n",
    "    def add_similar_nrn(self, nrn3, lst_nrn_ltrl, cp_lst_nrns, nrn_stop_id):\n",
    "        for nrn2_id in lst_nrn_ltrl:\n",
    "            if (nrn2_id == nrn_stop_id).any():\n",
    "                nrn3[\"meta\"][\"nodes\"].append(nrn2_id)\n",
    "                return\n",
    "            nrn2 = self.nrn_tls.get_neuron_from_id(nrn2_id, cp_lst_nrns)\n",
    "            if nrn2 !='':\n",
    "                nrn3[\"DbConnectivity\"][\"pre_synaptique\"].append(nrn2_id)\n",
    "                # print(\"nrn2_id\",nrn2_id)\n",
    "                self.nrn_tls.netGraph.add_edge(nrn3[\"_id\"], nrn2_id)\n",
    "                \n",
    "                # récupère la liste des neurones latéraux pour les inspecter\n",
    "                lst_nrn_ltrl = nrn2[\"DbConnectivity\"][\"post_synaptique\"]\n",
    "                self.nrn_tls.remove_nrn_by_id(nrn2_id, cp_lst_nrns)\n",
    "                self.add_similar_nrn(nrn3, lst_nrn_ltrl, cp_lst_nrns, nrn_stop_id)\n",
    "\n",
    "    \n",
    "    def update_threshold(self, cp_lst_nrns):\n",
    "        # *** Recherche à nouveau les TIPS et NœUDS dans les neurones restants\n",
    "        nrn_ratio_conn = []\n",
    "        nb_ltrl_conn = []\n",
    "        for pos in range(len(cp_lst_nrns)):\n",
    "            new_ratio = cp_lst_nrns[pos].neuron[\"ratio_conn\"]\n",
    "            nrn_ratio_conn.append(new_ratio)\n",
    "            nb_ltrl_conn.append(len(cp_lst_nrns[pos].neuron[\"DbConnectivity\"][\"post_synaptique\"]))\n",
    "        \n",
    "        # seuils nombre absolu de connexion\n",
    "        lthrshld_tip = min(nb_ltrl_conn) # seuil pour détecter le extrémités\n",
    "        lthrshld_nod = max(nb_ltrl_conn) # seuil pour détecter le extrémités\n",
    "        # seuil nombre relatif de connexions\n",
    "        r_thrshld_tip = min(nrn_ratio_conn)\n",
    "        return lthrshld_tip, lthrshld_nod, r_thrshld_tip\n",
    "\n",
    "\n",
    "    def find_tips(self, cp_lst_nrns, lthrshld_tip, lthrshld_nod, G, r_thrshld_tip=-1):\n",
    "        l_tmp_tips = [] # id des neurones situés à une extrémité\n",
    "        l_tmp_node = [] # id des neurones au carrefour\n",
    "        for pos in range(len(cp_lst_nrns)):\n",
    "            nrn = cp_lst_nrns[pos].neuron\n",
    "            # Sélection des neurones TIPS\n",
    "            if len(nrn[\"DbConnectivity\"][\"post_synaptique\"])<=lthrshld_tip:\n",
    "                l_tmp_tips.append(nrn[\"_id\"])\n",
    "            if nrn[\"ratio_conn\"]<=r_thrshld_tip:\n",
    "                l_tmp_tips.append(nrn[\"_id\"])\n",
    "            # Sélection des neurones NODES\n",
    "            if len(nrn[\"DbConnectivity\"][\"post_synaptique\"])>=lthrshld_nod:\n",
    "                l_tmp_node.append(nrn[\"_id\"])\n",
    "        \n",
    "        l_tmp_tips = list(set(l_tmp_tips))\n",
    "        longuest = []\n",
    "        for t in l_tmp_tips:\n",
    "            tmp_path_length = []\n",
    "            for n in l_tmp_node:\n",
    "                tmp_path_length.append(int(nx.shortest_path_length(G,t,n)))\n",
    "            longuest.append(min(tmp_path_length))\n",
    "        # réarrange les extrémités en fonction de la longueur des chemins les plus courts\n",
    "        l_tmp_tips = np.array(l_tmp_tips)\n",
    "        l_tmp_tips = l_tmp_tips[np.flip(np.argpartition(np.array(longuest),len(longuest)-1))]\n",
    "        return l_tmp_tips, np.array(l_tmp_node)\n",
    "\n",
    "\n",
    "    def new_sequence_neuron(self, cp_lst_nrns, l_tmp_tips, nrn_stop_id):\n",
    "        # Crée un neurone séquence par l_tmp_tips\n",
    "        for nrn2_id in l_tmp_tips:\n",
    "            nb = self.nrn_tls.add_new_nrn(\"sentive_sequence_nrn\")\n",
    "            nrn3 = self.nrn_tls.lst_nrns[nb].neuron\n",
    "            nrn3[\"DbConnectivity\"][\"pre_synaptique\"].append(nrn2_id)\n",
    "            nrn3[\"meta\"][\"tips\"].append(nrn2_id)\n",
    "            nrn2 = self.nrn_tls.get_neuron_from_id(nrn2_id, cp_lst_nrns)\n",
    "            try:\n",
    "                lst_nrn_ltrl = nrn2[\"DbConnectivity\"][\"post_synaptique\"]\n",
    "            except:\n",
    "                print(\"*********\",nrn2_id,\"not found\")\n",
    "            self.nrn_tls.remove_nrn_by_id(nrn2_id, cp_lst_nrns)\n",
    "            self.add_similar_nrn(nrn3, lst_nrn_ltrl, cp_lst_nrns, nrn_stop_id)\n",
    "        # ################\n",
    "        # supprime les neurones sequences mal-nés.\n",
    "        nrn_to_pop = []\n",
    "        for nrn3_pos in range(len(self.nrn_tls.lst_nrns)-1,self.nrn_tls.nb_2_1st_layers, -1):\n",
    "            nrn3 = self.nrn_tls.lst_nrns[nrn3_pos].neuron\n",
    "            if nrn3[\"layer_id\"]==3:\n",
    "                if len(nrn3[\"DbConnectivity\"][\"pre_synaptique\"])<2:\n",
    "                    lbl_found = False\n",
    "                    for nrn2_id in nrn3[\"DbConnectivity\"][\"pre_synaptique\"]:\n",
    "                        nrn2 = self.nrn_tls.get_neuron_from_id(nrn2_id)\n",
    "                        try:\n",
    "                            if (np.array(nrn2[\"DbConnectivity\"][\"post_synaptique\"])==np.array(nrn3[\"meta\"][\"nodes\"])).any():\n",
    "                                lbl_found = True\n",
    "                                continue\n",
    "                        except:\n",
    "                            if (np.array(nrn2[\"DbConnectivity\"][\"post_synaptique\"])==np.array(nrn3[\"meta\"][\"nodes\"])):\n",
    "                                lbl_found = True\n",
    "                                continue\n",
    "                    if not lbl_found:\n",
    "                        nrn_to_pop.append(nrn3[\"_id\"])\n",
    "                        self.nrn_tls.remove_nrn_pos(nrn3_pos)\n",
    "\n",
    "\n",
    "    def mobilise_nrn_path(self, nrn3):\n",
    "        # pour chaque élement du path, il faut sélectionner le neurone et compiler les neurones post_synaptique\n",
    "        path_nrn_lnk = []\n",
    "        for nrn2_id in nrn3[\"meta\"][\"path\"]:\n",
    "            nrn2 = self.nrn_tls.get_neuron_from_id(nrn2_id)\n",
    "            if nrn2 == '':\n",
    "                print(\"Neuron not found\",nrn2_id)\n",
    "            else:\n",
    "                path_nrn_lnk.extend(nrn2[\"DbConnectivity\"][\"post_synaptique\"])\n",
    "        path_nrn_lnk = set(path_nrn_lnk)\n",
    "        set_nrn_seq = set(nrn3[\"DbConnectivity\"][\"pre_synaptique\"])\n",
    "        # print(\"neurone SEQUENCE #\",nrn3[\"_id\"],\"-> nb total nrn mobilisés\", len(set_nrn_seq),\"sequence longueur:\",len(nrn3[\"meta\"][\"path\"]))\n",
    "        dif_seq = set_nrn_seq.difference(path_nrn_lnk)\n",
    "        reste_percent = 100*len(dif_seq)/len(set_nrn_seq)\n",
    "        # print(\"après shortest path\", len(dif_seq),\"soit\",reste_percent,\"% restant\")\n",
    "\n",
    "        common_nrn = {}\n",
    "        if reste_percent>self.MIN_PATH:\n",
    "            # recherche le dernier neurone en contact avec la branche alternative\n",
    "            lst_nrn_ltrl = []\n",
    "            for nrn2_id in dif_seq:\n",
    "                nrn2 = self.nrn_tls.get_neuron_from_id(nrn2_id)\n",
    "                lst_nrn_ltrl.extend(nrn2[\"DbConnectivity\"][\"post_synaptique\"])\n",
    "            lst_nrn_ltrl = set(lst_nrn_ltrl)\n",
    "            common_nrn = set(path_nrn_lnk).intersection(lst_nrn_ltrl)\n",
    "            # print(\"common_nrn\",common_nrn)\n",
    "\n",
    "            lst_nrn_ltrl = []\n",
    "            for nrn2_id in common_nrn:\n",
    "                nrn2 = self.nrn_tls.get_neuron_from_id(nrn2_id)\n",
    "                if nrn2=='':\n",
    "                    print(\"Neuron not found\",nrn2_id)\n",
    "                else:\n",
    "                    lst_nrn_ltrl.extend(nrn2[\"DbConnectivity\"][\"post_synaptique\"])\n",
    "            lst_nrn_ltrl = set(lst_nrn_ltrl)\n",
    "            common_nrn = set(nrn3[\"meta\"][\"path\"]).intersection(lst_nrn_ltrl)\n",
    "            # print(\"common_nrn2\",common_nrn)\n",
    "\n",
    "        return reste_percent, common_nrn\n",
    "\n",
    "\n",
    "    def get_best_node(self, common_nrn):\n",
    "        flt_best_ratio = 0\n",
    "        int_best_nb = 0\n",
    "        output_nrn_id = -1\n",
    "        for nrn2_id in common_nrn:\n",
    "            nrn2 = self.nrn_tls.get_neuron_from_id(nrn2_id)\n",
    "            if len(nrn2[\"DbConnectivity\"][\"post_synaptique\"]) == int_best_nb:\n",
    "                if nrn2[\"ratio_conn\"]>flt_best_ratio:\n",
    "                    flt_best_ratio = nrn2[\"ratio_conn\"]\n",
    "                    output_nrn_id = nrn2_id \n",
    "            elif len(nrn2[\"DbConnectivity\"][\"post_synaptique\"]) > int_best_nb:\n",
    "                int_best_nb = len(nrn2[\"DbConnectivity\"][\"post_synaptique\"])\n",
    "                flt_best_ratio = nrn2[\"ratio_conn\"]\n",
    "                output_nrn_id = nrn2_id \n",
    "        return output_nrn_id\n",
    "\n",
    " \n",
    "\n",
    "    def layer_3(self):\n",
    "        \"\"\" Détermine * les neurones séquences *\n",
    "        \"\"\"\n",
    "        # création d'une nouvelle couche \n",
    "        self.nrn_tls.new_layer()\n",
    "        \n",
    "        # lien vers la 2eme couche:\n",
    "        G = self.nrn_tls.layer_graph[1]\n",
    "\n",
    "        cp_lst_nrns = [] # copie de la liste des neurones de la 2eme couche\n",
    "        # calcul des ratios pour chaque neurone\n",
    "        nrn_ratio_conn = []\n",
    "        nb_ltrl_conn = []\n",
    "        for nrn_pos in self.nrn_tls.lst_nrns:\n",
    "            nrn = nrn_pos.neuron\n",
    "            if nrn[\"layer_id\"]==2:\n",
    "                cp_lst_nrns.append(copy.deepcopy(nrn_pos))\n",
    "                nb_ltrl_conn.append(len(nrn[\"DbConnectivity\"][\"post_synaptique\"]))\n",
    "                tmp_num_conn = []                \n",
    "                for nrn_lat in nrn[\"DbConnectivity\"][\"post_synaptique\"]:\n",
    "                    tmp_num_conn.append(len(self.nrn_tls.lst_nrns[nrn_lat-1].neuron[\"DbConnectivity\"][\"post_synaptique\"]))\n",
    "                new_ratio = len(nrn[\"DbConnectivity\"][\"post_synaptique\"])/np.mean(tmp_num_conn)\n",
    "                nrn[\"ratio_conn\"] = new_ratio\n",
    "                nrn_ratio_conn.append(new_ratio)\n",
    "\n",
    "        # save_cp_lst_nrns = copy.deepcopy(cp_lst_nrns)\n",
    "        \n",
    "        # seuil nombre relatif de connexions\n",
    "        r_thrshld_tip = min(nrn_ratio_conn)\n",
    "        lthrshld_tip = min(nb_ltrl_conn) # seuil pour détecter le extrémités\n",
    "        lthrshld_nod = max(nb_ltrl_conn) # seuil pour détecter le extrémités\n",
    "\n",
    "        # print(\"taille neurones à séquencer :\", len(cp_lst_nrns))\n",
    "\n",
    "        l_tmp_tips, nrn_stop_id = self.find_tips(cp_lst_nrns, lthrshld_tip, lthrshld_nod, G)\n",
    "        # print(\"neurons TIPS:\",l_tmp_tips,\"et neurons NODE:\",nrn_stop_id)\n",
    "        initial_tips = copy.deepcopy(l_tmp_tips)\n",
    "\n",
    "        self.new_sequence_neuron(cp_lst_nrns, l_tmp_tips, nrn_stop_id)\n",
    "        # ****************************************************************\n",
    "        # print(\"neurones restants à séquencer\", len(cp_lst_nrns))\n",
    "        \n",
    "        lthrshld_tip, lthrshld_nod, r_thrshld_tip = self.update_threshold(cp_lst_nrns)\n",
    "\n",
    "        l_tmp_tips, nrn_stop_id = self.find_tips(cp_lst_nrns, lthrshld_tip, lthrshld_nod, G, r_thrshld_tip)\n",
    "        # print(\"neurons TIPS:\", l_tmp_tips,\"et neurons NODE:\", nrn_stop_id)\n",
    "\n",
    "        self.new_sequence_neuron(cp_lst_nrns, l_tmp_tips, nrn_stop_id)\n",
    "         # ****************************************************************\n",
    "        # print(\"neurones restants à séquencer\", len(cp_lst_nrns))\n",
    "\n",
    "        for nrn3_pos in range(len(self.nrn_tls.lst_nrns)):\n",
    "            try:\n",
    "                nrn3 = self.nrn_tls.lst_nrns[nrn3_pos].neuron\n",
    "            except IndexError:\n",
    "                continue\n",
    "            if nrn3[\"layer_id\"]==3:\n",
    "                nrn3_tips_lst = nrn3[\"meta\"][\"tips\"]\n",
    "                nrn3_nodes_lst = np.array(list(set(nrn3[\"meta\"][\"nodes\"])))\n",
    "                tmp_path_length = []\n",
    "                for n in nrn3_nodes_lst:\n",
    "                    tmp_path_length.append(int(nx.shortest_path_length(G,nrn3_tips_lst[0],n)))\n",
    "                nrn3_nodes_lst = nrn3_nodes_lst[np.argpartition(np.array(tmp_path_length),len(tmp_path_length)-1)]\n",
    "                clst_node = nrn3_nodes_lst[0]\n",
    "\n",
    "                nrn3[\"meta\"][\"path\"] = nx.shortest_path(G,nrn3_tips_lst[0],clst_node)\n",
    "                reste_percent, common_nrn = self.mobilise_nrn_path(nrn3)\n",
    "                pos_test = 0\n",
    "\n",
    "                common_nrn = self.get_best_node(common_nrn)\n",
    "                dest_lst = np.array([common_nrn])\n",
    "\n",
    "                while reste_percent>self.MIN_PATH:\n",
    "                    # Je tiens le coupable c'est common_nrn\n",
    "                    \n",
    "                    # supprime le nœud dans la liste générale et la liste locale\n",
    "                    # print(\"remove nrn\",common_nrn,self.nrn_tls.remove_nrn_by_id(common_nrn))\n",
    "                    # cp_lst_nrns = copy.deepcopy(save_cp_lst_nrns)\n",
    "                    self.nrn_tls.remove_nrn_by_id(common_nrn, cp_lst_nrns)\n",
    "                    # tu prends comme nouvelle destination le prochain nœud de la liste... nrn3_nodes_lst\n",
    "                    \n",
    "                    dest_lst = np.append(dest_lst, nrn3[\"meta\"][\"tips\"], 0)\n",
    "                    # si le neurone coupable de ce raccourci est en fait le node il faut choisir une autre destination\n",
    "                    if list(set(nrn3[\"meta\"][\"nodes\"])) == [common_nrn]:\n",
    "                        # On choisit la nouvelle destination dans la liste des nodes suivants:\n",
    "                        if len(nrn3_nodes_lst)>1:\n",
    "                            nrn3_nodes_lst.pop(0)\n",
    "                            clst_node = nrn3_nodes_lst[0]\n",
    "                            nrn3[\"meta\"][\"nodes\"] = [clst_node]\n",
    "                            nrn3[\"meta\"][\"path\"] = nx.shortest_path(G,nrn3_tips_lst[0],clst_node)\n",
    "                            reste_percent, common_nrn  = self.mobilise_nrn_path(nrn3)\n",
    "                        else:\n",
    "                            # sinon, sélectionne un nouveau tip dans initial_tips\n",
    "                            while pos_test<= len(initial_tips) -1:\n",
    "                                new_dest = initial_tips[pos_test]\n",
    "                                # Il ne faut pas que cette destination ait déjà été testée\n",
    "                                if (dest_lst == new_dest).any():\n",
    "                                    pos_test += 1\n",
    "                                else:\n",
    "                                    # print(\"test4\")\n",
    "                                    np.append(dest_lst,new_dest)\n",
    "                                    nrn3[\"meta\"][\"nodes\"] = [new_dest]\n",
    "                                    nrn3[\"meta\"][\"path\"] = nx.shortest_path(G,nrn3_tips_lst[0],new_dest)\n",
    "                                    reste_percent, common_nrn = self.mobilise_nrn_path(nrn3)\n",
    "                                    # print(\"reste_percent, common_nrn\",reste_percent, common_nrn)\n",
    "                                    common_nrn = self.get_best_node(common_nrn)\n",
    "                                    # print(\"common_nrn selectionné\",common_nrn)\n",
    "                                    break\n",
    "                    else:\n",
    "                        nrn3[\"meta\"][\"path\"] = nx.shortest_path(G,nrn3_tips_lst[0],nrn3[\"meta\"][\"nodes\"][0])\n",
    "                        # print(\"new PATH\",nrn3[\"meta\"][\"path\"])\n",
    "                        reste_percent, common_nrn = self.mobilise_nrn_path(nrn3)\n",
    "                        # print(\"reste_percent, common_nrn\", reste_percent, common_nrn)\n",
    "                        if common_nrn != {}:\n",
    "                            common_nrn = self.get_best_node(common_nrn)\n",
    "                            # print(\"common_nrn\", common_nrn)\n",
    "                        else:\n",
    "                            print(\"** fin (-: **\")\n",
    "                            break\n",
    "                # Calcul de la longueur de chaque segment\n",
    "                nrn3[\"meta\"][\"total_length\"] = self.nrn_tls.calc_total_distance(nrn3[\"meta\"][\"path\"])\n",
    "                \n",
    "\n",
    "        print(\"\\nnombre de neurones couches 1, 2 et 3 :\",len(self.nrn_tls.lst_nrns))\n",
    "        print(\"*\"*40)\n",
    "\n",
    "\n",
    "    def layer_4(self):\n",
    "        \"\"\"Les neurones Segments \n",
    "        \"\"\"\n",
    "        contain_segment = []\n",
    "        self.save_segments = contain_segment\n",
    "\n",
    "        # création d'une nouvelle couche \n",
    "        self.nrn_tls.new_layer()\n",
    "        # pour chaque neurone de la couche 3 recherche les segments possibles\n",
    "        for nrn3_pos in range(len(self.nrn_tls.lst_nrns)):\n",
    "            try:\n",
    "                nrn3 = self.nrn_tls.lst_nrns[nrn3_pos].neuron\n",
    "            except IndexError:\n",
    "                continue\n",
    "            if nrn3[\"layer_id\"]==3:\n",
    "                # récupère le path \n",
    "                contain_segment.append({\n",
    "                    \"path\" : nrn3[\"meta\"][\"path\"],\n",
    "                    \"vecteurs\" : [],\n",
    "                    \"angles\" : [],\n",
    "                    \"l_angles\" : [], # angles lissés\n",
    "                    \"joints\" : [] # position entre 2 segments\n",
    "                    })\n",
    "                tmp_pos = len(contain_segment)-1\n",
    "                if len(contain_segment[tmp_pos][\"path\"])>1:\n",
    "                    nrn2_id = contain_segment[tmp_pos][\"path\"][0]\n",
    "                    nrn2 = self.nrn_tls.get_neuron_from_id(nrn2_id)\n",
    "                    point1 = nrn2[\"meta\"][\"center\"]\n",
    "                    for nrn2_pos in range(1, len(contain_segment[tmp_pos][\"path\"])):\n",
    "                        nrn2_id = contain_segment[tmp_pos][\"path\"][nrn2_pos]\n",
    "                        nrn2 = self.nrn_tls.get_neuron_from_id(nrn2_id)\n",
    "                        point2 = nrn2[\"meta\"][\"center\"]\n",
    "                        vecteur = {\n",
    "                            \"x\":point2[\"x\"]-point1[\"x\"],\n",
    "                            \"y\":point2[\"y\"]-point1[\"y\"]\n",
    "                        }\n",
    "                        contain_segment[tmp_pos][\"vecteurs\"].append(vecteur)\n",
    "                        point1 = point2\n",
    "                    \n",
    "                    # calcul des angles\n",
    "                    if len(contain_segment[tmp_pos][\"vecteurs\"])>1:\n",
    "                        vector_1 = contain_segment[tmp_pos][\"vecteurs\"][0]\n",
    "                        for v_pos in range(1, len(contain_segment[tmp_pos][\"vecteurs\"])):\n",
    "                            vector_2 = contain_segment[tmp_pos][\"vecteurs\"][v_pos]\n",
    "                            contain_segment[tmp_pos][\"angles\"].append(self.nrn_tls.calc_angle(vector_1, vector_2))\n",
    "                            vector_1 = vector_2\n",
    "\n",
    "                    # Calcul des angles lissés l_angles\n",
    "                    window_half_length = 2\n",
    "                    np_angles = contain_segment[tmp_pos][\"angles\"]\n",
    "                    # print(\"np_angles taille:\",np.shape(np_angles))\n",
    "                    len_angles = len(contain_segment[tmp_pos][\"angles\"])\n",
    "                    for angle_pos in range(len_angles):\n",
    "                        start_pos = angle_pos - window_half_length\n",
    "                        if start_pos < 0:\n",
    "                            start_pos = 0\n",
    "                        end_pos = angle_pos + window_half_length + 1\n",
    "                        if end_pos>=len_angles:\n",
    "                            end_pos = len_angles-1\n",
    "                        # print(\"start\",start_pos,\"end\",end_pos)\n",
    "                        contain_segment[tmp_pos][\"l_angles\"].append(np.mean(np_angles[start_pos:end_pos]))\n",
    "\n",
    "                    contain_segment[tmp_pos][\"joints\"] = np.zeros(np.shape(contain_segment[tmp_pos][\"angles\"]))\n",
    "                    last_pos=1\n",
    "                    lst_joints = []\n",
    "                    if len(contain_segment[tmp_pos][\"l_angles\"])>0:\n",
    "                        previous = contain_segment[tmp_pos][\"l_angles\"][0]\n",
    "                        for angle_pos in range(1, len_angles):\n",
    "                            if contain_segment[tmp_pos][\"l_angles\"][angle_pos]!=0:\n",
    "                                first = previous/contain_segment[tmp_pos][\"l_angles\"][angle_pos]\n",
    "                                previous = contain_segment[tmp_pos][\"l_angles\"][angle_pos]\n",
    "                                if first <0:\n",
    "                                    print(\"On vient de changer de signe là, on est à la position\", angle_pos, contain_segment[tmp_pos][\"l_angles\"][angle_pos-1])\n",
    "                                    if contain_segment[tmp_pos][\"l_angles\"][angle_pos-1]<0:\n",
    "                                        # recherche dans les négatifs\n",
    "                                        good_pos = np.argmin(contain_segment[tmp_pos][\"angles\"][last_pos:angle_pos])\n",
    "                                        print(\"entre les positions\",last_pos,\"et\", angle_pos, contain_segment[tmp_pos][\"angles\"][last_pos:angle_pos+1],\"trouvé:\",good_pos)\n",
    "                                    else:\n",
    "                                        good_pos = np.argmax(contain_segment[tmp_pos][\"angles\"][last_pos:angle_pos])\n",
    "                                    contain_segment[tmp_pos][\"joints\"][good_pos+last_pos]=1\n",
    "                                    lst_joints.append(good_pos+last_pos)\n",
    "                                    last_pos = angle_pos\n",
    "                    # Il faut maintenant créer les neurones segments 1+nb de 1 dans l_angles\n",
    "                    nb_nrn_segments = 1 + np.sum(contain_segment[tmp_pos][\"l_angles\"])\n",
    "                    nrn2 = self.nrn_tls.get_neuron_from_id(nrn3[\"meta\"][\"path\"][0])\n",
    "                    l_tip_1 = nrn2[\"meta\"][\"center\"]\n",
    "                    l_vctr_1 = contain_segment[tmp_pos][\"vecteurs\"][0]\n",
    "                    angle = \n",
    "                    for i in range(nb_nrn_segments):\n",
    "                        nb = self.nrn_tls.add_new_nrn()\n",
    "\n",
    "\n",
    "\n",
    "        self.save_segments = contain_segment\n",
    "\n",
    "\n",
    "                \n",
    "        print(\"\\nnombre de neurones couches 1, 2, 3 et 4:\",len(self.nrn_tls.lst_nrns))\n",
    "        print(\"*\"*40)\n",
    "\n",
    "\n",
    "\n",
    "    def run_layers(self):\n",
    "        self.layer_1() # pixels\n",
    "        self.layer_2() # triplets\n",
    "        self.layer_3() # séquences\n",
    "        self.layer_4() # segments\n",
    "        # self.layer_5() # caractères\n",
    "\n",
    "\n",
    "    def reset_episode(self, int_id=0):\n",
    "        self.episode[0][int_id][:,:,0]=self.episode[0][int_id][:,:,1]\n",
    "\n",
    "\n",
    "    def show_neuron_receptive_field(self, nrn_id, int_id=0, verbose=False):\n",
    "\n",
    "        rcptv_fields = self.nrn_tls.get_neuron_receptive_field(nrn_id, self.episode[0][int_id][:,:,0], self.nrn_tls.lst_nrns, verbose)\n",
    "        \n",
    "        plt.matshow(rcptv_fields)\n",
    "        self.reset_episode(int_id)\n",
    "\n",
    "\n",
    "    def show_receptive_field(self, neuron_idx,int_id=0):\n",
    "        # Visualiser le champs récepteur du neurone\n",
    "        current_neuron = self.lst_nrns[neuron_idx].neuron\n",
    "        sub_matrix = self.nrn_tls.get_receptive_field(current_neuron, self.episode[0][int_id])\n",
    "        print(current_neuron)\n",
    "        plt.matshow(sub_matrix)\n",
    "\n",
    "    \n",
    "    def show_all_fields(self, int_id=0, lint_width=-1):\n",
    "        if lint_width ==-1:\n",
    "            all_fields = self.get_all_center_fields(self.lst_nrns, self.episode[0][int_id][:,:,0])\n",
    "        else:\n",
    "            all_fields = self.get_all_center_fields_width(self.lst_nrns, self.episode[0][int_id][:,:,0],lint_width)\n",
    "        # print(all_fields)\n",
    "        plt.matshow(all_fields)\n",
    "        self.reset_episode(int_id)\n",
    "\n",
    "\n",
    "    def show_receptive_field_id(self, neuron_idx2,int_id=-1):\n",
    "        # Visualiser le champs récepteur du neurone\n",
    "        for neuron_idx in range(self.nrn_tls.nb_nrns):\n",
    "            if self.nrn_tls.lst_nrns[neuron_idx].neuron[\"_id\"]==neuron_idx2:\n",
    "                break\n",
    "        if int_id==-1: \n",
    "            int_id = self.episd_id\n",
    "        current_neuron = self.nrn_tls.lst_nrns[neuron_idx].neuron\n",
    "        sub_matrix = self.nrn_tls.get_receptive_field(current_neuron, self.episode[0][int_id])\n",
    "        print(current_neuron)\n",
    "        plt.matshow(sub_matrix)\n",
    "\n",
    "\n",
    "    def show_neurons_by_layer_id(self, layer_id):\n",
    "        for item in self.nrn_tls.lst_nrns:\n",
    "            if item.neuron[\"layer_id\"]==layer_id:\n",
    "                print(item.neuron[\"_id\"],\":\",item.neuron[\"DbConnectivity\"][\"pre_synaptique\"], item.neuron)\n",
    "\n",
    "    \n",
    "    def show_sequence_by_id(self, nrn_id):\n",
    "        nrn = self.nrn_tls.get_neuron_from_id(nrn_id)\n",
    "        x_values =[]\n",
    "        y_values = []\n",
    "        for nrn2_id in nrn[\"meta\"][\"path\"]:\n",
    "            nrn2 = self.nrn_tls.get_neuron_from_id(nrn2_id)\n",
    "            x_values.append(nrn2[\"meta\"][\"center\"][\"x\"])\n",
    "            y_values.append(nrn2[\"meta\"][\"center\"][\"y\"])\n",
    "        plt.plot(x_values, y_values, \"k+-\")\n"
   ],
   "outputs": [],
   "metadata": {}
  },
  {
   "cell_type": "code",
   "execution_count": 1802,
   "source": [
    "class sentive_brain():\n",
    "    def __init__(self, episode):\n",
    "        self.episode = episode\n",
    "        self.net0 = sentive_network(episode,0)\n",
    "        self.net0.run_layers()\n",
    "        \n",
    "        self.net1 = sentive_network(episode,1)\n",
    "        self.net1.run_layers()\n",
    "\n",
    "        self.net2 = sentive_network(episode,2)\n",
    "        self.net2.run_layers()\n",
    "\n",
    "        self.net3 = sentive_network(episode,3)\n",
    "        self.net3.run_layers()\n",
    "\n",
    "        self.net4 = sentive_network(episode,4)\n",
    "        self.net4.run_layers()\n"
   ],
   "outputs": [],
   "metadata": {}
  },
  {
   "cell_type": "code",
   "execution_count": 1933,
   "source": [
    "nnet1 = sentive_network(episode,4)\n",
    "nnet1.run_layers()\n"
   ],
   "outputs": [
    {
     "output_type": "stream",
     "name": "stdout",
     "text": [
      "nombre de neurones taille 1: 73\n",
      "[[-0.96579245 -0.2593163 ]\n",
      " [-0.2593163   0.96579245]]\n",
      "\n",
      "nombre de neurones couche 1 & 2, tailles 1 & 3: 136\n",
      "taille neurones à séquencer : 63\n",
      "neurons TIPS: [129  95 100] et neurons NODE: [ 78  88  89  96  97 109 115]\n",
      "128 25\n",
      "********* 100 not found\n",
      "neurones restants à séquencer 17\n",
      "neurons TIPS: [ 82 117  80 111  81  79 110 116  97  87  88  89  90  78 109  96 115] et neurons NODE: [ 78  88  89  96  97 109 115]\n",
      "********* 80 not found\n",
      "********* 81 not found\n",
      "********* 79 not found\n",
      "********* 90 not found\n",
      "neurones restants à séquencer 0\n",
      "neurone SEQUENCE # 137 -> nb total nrn mobilisés 41 sequence longueur: 15\n",
      "après shortest path 1 soit 2.4390243902439024 % restant\n",
      "neurone SEQUENCE # 138 -> nb total nrn mobilisés 5 sequence longueur: 3\n",
      "après shortest path 0 soit 0.0 % restant\n",
      "neurone SEQUENCE # 140 -> nb total nrn mobilisés 5 sequence longueur: 3\n",
      "après shortest path 0 soit 0.0 % restant\n",
      "neurone SEQUENCE # 141 -> nb total nrn mobilisés 1 sequence longueur: 2\n",
      "après shortest path 0 soit 0.0 % restant\n",
      "neurone SEQUENCE # 143 -> nb total nrn mobilisés 1 sequence longueur: 2\n",
      "après shortest path 0 soit 0.0 % restant\n",
      "neurone SEQUENCE # 146 -> nb total nrn mobilisés 1 sequence longueur: 2\n",
      "après shortest path 0 soit 0.0 % restant\n",
      "neurone SEQUENCE # 147 -> nb total nrn mobilisés 1 sequence longueur: 2\n",
      "après shortest path 0 soit 0.0 % restant\n",
      "neurone SEQUENCE # 148 -> nb total nrn mobilisés 1 sequence longueur: 2\n",
      "après shortest path 0 soit 0.0 % restant\n",
      "neurone SEQUENCE # 149 -> nb total nrn mobilisés 1 sequence longueur: 2\n",
      "après shortest path 0 soit 0.0 % restant\n",
      "neurone SEQUENCE # 150 -> nb total nrn mobilisés 1 sequence longueur: 2\n",
      "après shortest path 0 soit 0.0 % restant\n",
      "neurone SEQUENCE # 151 -> nb total nrn mobilisés 1 sequence longueur: 2\n",
      "après shortest path 0 soit 0.0 % restant\n",
      "neurone SEQUENCE # 152 -> nb total nrn mobilisés 1 sequence longueur: 2\n",
      "après shortest path 0 soit 0.0 % restant\n",
      "neurone SEQUENCE # 153 -> nb total nrn mobilisés 1 sequence longueur: 2\n",
      "après shortest path 0 soit 0.0 % restant\n",
      "neurone SEQUENCE # 154 -> nb total nrn mobilisés 1 sequence longueur: 2\n",
      "après shortest path 0 soit 0.0 % restant\n",
      "neurone SEQUENCE # 155 -> nb total nrn mobilisés 1 sequence longueur: 2\n",
      "après shortest path 0 soit 0.0 % restant\n",
      "neurone SEQUENCE # 156 -> nb total nrn mobilisés 1 sequence longueur: 2\n",
      "après shortest path 0 soit 0.0 % restant\n",
      "\n",
      "nombre de neurones couches 1, 2 et 3 : 152\n",
      "****************************************\n",
      "On vient de changer de signe là, on est à la position 7 -0.15707962846480478\n",
      "entre les positions 1 et 7 [0.0, -0.7853981633974484, -0.7853981633974484, -1.5707963267948966, 0.0, 0.0, 0.7853981633974484] trouvé: 3\n",
      "\n",
      "nombre de neurones couches 1, 2, 3 et 4: 152\n",
      "****************************************\n"
     ]
    },
    {
     "output_type": "stream",
     "name": "stderr",
     "text": [
      "<ipython-input-1925-c5eaadd15b99>:381: RuntimeWarning: invalid value encountered in double_scalars\n",
      "  return signe * np.arccos(np.sum(np.multiply(np_c_1,np_c_2))/(np.sqrt(np.sum(np.power(np_c_1,2)))*np.sqrt(np.sum(np.power(np_c_2,2)))))\n",
      "<ipython-input-1932-ec6e002735d6>:316: DeprecationWarning: elementwise comparison failed; this will raise an error in the future.\n",
      "  if (np.array(nrn2[\"DbConnectivity\"][\"post_synaptique\"])==np.array(nrn3[\"meta\"][\"nodes\"])).any():\n",
      "<ipython-input-1932-ec6e002735d6>:320: DeprecationWarning: elementwise comparison failed; this will raise an error in the future.\n",
      "  if (np.array(nrn2[\"DbConnectivity\"][\"post_synaptique\"])==np.array(nrn3[\"meta\"][\"nodes\"])):\n",
      "/Users/oliviermanette/opt/anaconda3/lib/python3.8/site-packages/numpy/core/fromnumeric.py:3419: RuntimeWarning: Mean of empty slice.\n",
      "  return _methods._mean(a, axis=axis, dtype=dtype,\n",
      "/Users/oliviermanette/opt/anaconda3/lib/python3.8/site-packages/numpy/core/_methods.py:188: RuntimeWarning: invalid value encountered in double_scalars\n",
      "  ret = ret.dtype.type(ret / rcount)\n"
     ]
    },
    {
     "output_type": "display_data",
     "data": {
      "image/png": "[encoded data removed]",
      "text/plain": [
       "<Figure size 288x288 with 1 Axes>"
      ]
     },
     "metadata": {
      "needs_background": "light"
     }
    }
   ],
   "metadata": {}
  },
  {
   "cell_type": "code",
   "execution_count": 1849,
   "source": [
    "nnet1.nrn_tls.get_neuron_from_id(137)#127#173#137"
   ],
   "outputs": [
    {
     "output_type": "execute_result",
     "data": {
      "text/plain": [
       "{'_id': 137,\n",
       " 'schema_version': 1,\n",
       " 'type': 'sentive_vision_packed_ratio',\n",
       " 'layer_id': 3,\n",
       " 'ratio_conn': 0,\n",
       " 'DbConnectivity': {'pre_synaptique': [129,\n",
       "   122,\n",
       "   125,\n",
       "   119,\n",
       "   106,\n",
       "   99,\n",
       "   103,\n",
       "   93,\n",
       "   74,\n",
       "   75,\n",
       "   83,\n",
       "   84,\n",
       "   85,\n",
       "   92,\n",
       "   91,\n",
       "   98,\n",
       "   102,\n",
       "   105,\n",
       "   112,\n",
       "   118,\n",
       "   121,\n",
       "   124,\n",
       "   127,\n",
       "   131,\n",
       "   132,\n",
       "   135,\n",
       "   133,\n",
       "   126,\n",
       "   120,\n",
       "   107,\n",
       "   101,\n",
       "   104,\n",
       "   108,\n",
       "   114,\n",
       "   123,\n",
       "   130,\n",
       "   134,\n",
       "   136,\n",
       "   128,\n",
       "   94,\n",
       "   113],\n",
       "  'post_synaptique': [],\n",
       "  'weights': {}},\n",
       " 'meta': {'path': [129,\n",
       "   122,\n",
       "   113,\n",
       "   103,\n",
       "   93,\n",
       "   92,\n",
       "   102,\n",
       "   112,\n",
       "   121,\n",
       "   127,\n",
       "   135,\n",
       "   133,\n",
       "   126,\n",
       "   120,\n",
       "   109],\n",
       "  'tips': [129],\n",
       "  'nodes': [88, 109, 109, 109, 109, 109],\n",
       "  'total_length': 32.02191243148413}}"
      ]
     },
     "metadata": {},
     "execution_count": 1849
    }
   ],
   "metadata": {}
  },
  {
   "cell_type": "code",
   "execution_count": 1850,
   "source": [
    "nnet1.show_sequence_by_id(137)#136#173#127#137"
   ],
   "outputs": [
    {
     "output_type": "display_data",
     "data": {
      "image/png": "[encoded data removed]",
      "text/plain": [
       "<Figure size 432x288 with 1 Axes>"
      ]
     },
     "metadata": {
      "needs_background": "light"
     }
    }
   ],
   "metadata": {}
  },
  {
   "cell_type": "code",
   "execution_count": 1934,
   "source": [
    "int_id = 0\n",
    "kernel_size = 5\n",
    "kernel = np.ones(kernel_size) / kernel_size\n",
    "\n",
    "fig, ax = plt.subplots()\n",
    "ax.plot(nnet1.save_segments[int_id][\"angles\"],\"kx-\")\n",
    "# ax.plot(np.diff(nnet1.save_segments[int_id][\"angles\"]),\"g*--\")\n",
    "# ax.plot(np.convolve(nnet1.save_segments[int_id][\"angles\"], kernel),\"r*--\")\n",
    "ax.plot(nnet1.save_segments[int_id][\"l_angles\"],\"r*--\")\n",
    "ax.plot(np.abs(nnet1.save_segments[int_id][\"joints\"]),\"g+--\")\n",
    "print(\"ecart-type\",np.std(nnet1.save_segments[int_id][\"angles\"]))\n",
    "print(\"moyenne\",np.mean(nnet1.save_segments[int_id][\"angles\"]))\n",
    "ax.grid(True, which='both')\n",
    "\n",
    "ax.axhline(y=0, color='k')\n",
    "ax.axvline(x=0, color='k')\n",
    "\n",
    "# len()\n"
   ],
   "outputs": [
    {
     "output_type": "stream",
     "name": "stdout",
     "text": [
      "ecart-type 0.7507297435721553\n",
      "moyenne 3.2420652764866883e-09\n"
     ]
    },
    {
     "output_type": "execute_result",
     "data": {
      "text/plain": [
       "<matplotlib.lines.Line2D at 0x7fe05bbedd30>"
      ]
     },
     "metadata": {},
     "execution_count": 1934
    },
    {
     "output_type": "display_data",
     "data": {
      "image/png": "[encoded data removed]",
      "text/plain": [
       "<Figure size 432x288 with 1 Axes>"
      ]
     },
     "metadata": {
      "needs_background": "light"
     }
    }
   ],
   "metadata": {}
  },
  {
   "cell_type": "code",
   "execution_count": 1911,
   "source": [
    "nnet1.save_segments[int_id][\"l_angles\"]"
   ],
   "outputs": [
    {
     "output_type": "execute_result",
     "data": {
      "text/plain": [
       "[0.30909842004948695,\n",
       " 0.7853981739341604,\n",
       " 0.7210480609474896,\n",
       " 0.4428594955470059,\n",
       " 0.22142974777350294,\n",
       " 0.0,\n",
       " -0.5355890089177974,\n",
       " -0.5355890089177974,\n",
       " -0.3785093762383077,\n",
       " -0.09272952180016115,\n",
       " 0.22142974355881817,\n",
       " 0.4068887871591406,\n",
       " 0.44285948711763634,\n",
       " 0.47123889803846913,\n",
       " 0.4068887871591406,\n",
       " 0.3141592653589794,\n",
       " 0.3141592653589794,\n",
       " 0.24980915447965094,\n",
       " 0.47123889803846897,\n",
       " 0.5355890089177974,\n",
       " 0.5355890131324823,\n",
       " 0.5355890131324823,\n",
       " 0.6283185349326436,\n",
       " 0.563968424053315,\n",
       " 0.6245228914674833,\n",
       " 0.8326971815988363,\n",
       " 1.0172219678978514]"
      ]
     },
     "metadata": {},
     "execution_count": 1911
    }
   ],
   "metadata": {}
  },
  {
   "cell_type": "code",
   "execution_count": 1648,
   "source": [
    "nnet1.show_receptive_field_id(72)"
   ],
   "outputs": [
    {
     "output_type": "stream",
     "name": "stdout",
     "text": [
      "{'_id': 72, 'schema_version': 2, 'type': 'sentive_vision_arcs', 'layer_id': 2, 'ratio_conn': 0.6756756756756757, 'DbConnectivity': {'pre_synaptique': [9, 6, 14], 'post_synaptique': [76, 77, 73, 80, 81], 'weights': {76: 1, 77: 2, 73: 2, 80: 1, 81: 1}}, 'meta': {'mode': 'croissance', 'center': {'x': 8, 'y': 8}, 'real_center': {'x': 0.0, 'y': 0.0}, 'matrix_width': 3, 'local_tip_1': {'x': 0, 'y': 0}, 'vector_1': {'x': 0.0, 'y': 2.0}, 'local_tip_2': {'x': 0, 'y': 0}, 'vector_2': {'x': 0, 'y': 0}, 'axes_symétrie': [], 'angle': -1.5707963267948966, 'std_angle': -1, 'length_c': 0}}\n"
     ]
    },
    {
     "output_type": "display_data",
     "data": {
      "image/png": "[encoded data removed]",
      "text/plain": [
       "<Figure size 288x288 with 1 Axes>"
      ]
     },
     "metadata": {
      "needs_background": "light"
     }
    }
   ],
   "metadata": {}
  },
  {
   "cell_type": "code",
   "execution_count": 1647,
   "source": [
    "nnet1.show_receptive_field_id(72)"
   ],
   "outputs": [
    {
     "output_type": "stream",
     "name": "stdout",
     "text": [
      "{'_id': 72, 'schema_version': 2, 'type': 'sentive_vision_arcs', 'layer_id': 2, 'ratio_conn': 0.6756756756756757, 'DbConnectivity': {'pre_synaptique': [9, 6, 14], 'post_synaptique': [76, 77, 73, 80, 81], 'weights': {76: 1, 77: 2, 73: 2, 80: 1, 81: 1}}, 'meta': {'mode': 'croissance', 'center': {'x': 8, 'y': 8}, 'real_center': {'x': 0.0, 'y': 0.0}, 'matrix_width': 3, 'local_tip_1': {'x': 0, 'y': 0}, 'vector_1': {'x': 0.0, 'y': 2.0}, 'local_tip_2': {'x': 0, 'y': 0}, 'vector_2': {'x': 0, 'y': 0}, 'axes_symétrie': [], 'angle': -1.5707963267948966, 'std_angle': -1, 'length_c': 0}}\n"
     ]
    },
    {
     "output_type": "display_data",
     "data": {
      "image/png": "[encoded data removed]",
      "text/plain": [
       "<Figure size 288x288 with 1 Axes>"
      ]
     },
     "metadata": {
      "needs_background": "light"
     }
    }
   ],
   "metadata": {}
  },
  {
   "cell_type": "code",
   "execution_count": 1734,
   "source": [
    "nnet1.show_receptive_field_id(155)"
   ],
   "outputs": [
    {
     "output_type": "stream",
     "name": "stdout",
     "text": [
      "{'_id': 155, 'schema_version': 2, 'type': 'sentive_vision_arcs', 'layer_id': 2, 'ratio_conn': 0.8333333333333334, 'DbConnectivity': {'pre_synaptique': [68, 69, 70], 'post_synaptique': [153, 154, 160, 156, 157], 'weights': {153: 1, 154: 2, 160: 1, 156: 2, 157: 1}}, 'meta': {'center': {'x': 14, 'y': 18}, 'real_center': {'x': 0.0, 'y': 0.0}, 'matrix_width': 3, 'local_tip_1': {'x': 0, 'y': 0}, 'vector_1': {'x': 2.0, 'y': 0.0}, 'local_tip_2': {'x': 0, 'y': 0}, 'vector_2': {'x': 0, 'y': 0}, 'angle': 0.0}}\n"
     ]
    },
    {
     "output_type": "display_data",
     "data": {
      "image/png": "[encoded data removed]",
      "text/plain": [
       "<Figure size 288x288 with 1 Axes>"
      ]
     },
     "metadata": {
      "needs_background": "light"
     }
    }
   ],
   "metadata": {}
  },
  {
   "cell_type": "code",
   "execution_count": 1454,
   "source": [
    "G = nnet1.nrn_tls.layer_graph[1]\n",
    "nx.shortest_path(G,166,111)"
   ],
   "outputs": [
    {
     "output_type": "execute_result",
     "data": {
      "text/plain": [
       "[166,\n",
       " 171,\n",
       " 169,\n",
       " 164,\n",
       " 161,\n",
       " 154,\n",
       " 156,\n",
       " 158,\n",
       " 148,\n",
       " 144,\n",
       " 141,\n",
       " 138,\n",
       " 128,\n",
       " 118,\n",
       " 109,\n",
       " 111]"
      ]
     },
     "metadata": {},
     "execution_count": 1454
    }
   ],
   "metadata": {}
  },
  {
   "cell_type": "code",
   "execution_count": 1778,
   "source": [
    "kernel_size = 4\n",
    "kernel = np.ones(kernel_size) / kernel_size\n",
    "int_id = 1\n",
    "plt.plot(np.convolve(np.abs(np.diff(nnet1.save_segments[int_id][\"angles\"])), kernel))\n",
    "# plt.plot(np.convolve((np.diff(nnet1.save_segments[int_id][\"angles\"])), kernel))\n",
    "# plt.plot((np.diff(nnet1.save_segments[int_id][\"angles\"])))\n",
    "plt.plot(np.abs(np.diff(np.diff(nnet1.save_segments[int_id][\"angles\"]))))\n",
    "print(np.argmax(np.convolve(np.abs(np.diff(nnet1.save_segments[int_id][\"angles\"])), kernel)))\n",
    "print(np.shape(np.convolve(np.abs(np.diff(nnet1.save_segments[int_id][\"angles\"])), kernel)))"
   ],
   "outputs": [
    {
     "output_type": "stream",
     "name": "stdout",
     "text": [
      "5\n",
      "(18,)\n"
     ]
    },
    {
     "output_type": "display_data",
     "data": {
      "image/png": "[encoded data removed]",
      "text/plain": [
       "<Figure size 432x288 with 1 Axes>"
      ]
     },
     "metadata": {
      "needs_background": "light"
     }
    }
   ],
   "metadata": {}
  },
  {
   "cell_type": "code",
   "execution_count": 1741,
   "source": [
    "work_segment[0:2]"
   ],
   "outputs": [
    {
     "output_type": "execute_result",
     "data": {
      "text/plain": [
       "array([9.27295218e-01, 2.10734243e-08])"
      ]
     },
     "metadata": {},
     "execution_count": 1741
    }
   ],
   "metadata": {}
  },
  {
   "cell_type": "code",
   "execution_count": 1767,
   "source": [
    "ma_mb = []\n",
    "int_id = 1\n",
    "kernel_size = 2\n",
    "work_segment = np.array(nnet1.save_segments[int_id][\"angles\"])\n",
    "\n",
    "for i in range(kernel_size, len(nnet1.save_segments[int_id][\"angles\"])- kernel_size):\n",
    "    # print(i)\n",
    "    mb = np.mean(work_segment[i-kernel_size:i+1])\n",
    "    ma = np.mean(work_segment[i:i+kernel_size+1])\n",
    "    ma_mb.append(ma/mb)\n",
    "plt.plot(ma_mb)\n",
    "print(len(ma_mb))\n",
    "# print(len(nnet1.save_segments[int_id][\"angles\"]))\n",
    "\n"
   ],
   "outputs": [
    {
     "output_type": "stream",
     "name": "stdout",
     "text": [
      "12\n",
      "16\n"
     ]
    },
    {
     "output_type": "display_data",
     "data": {
      "image/png": "[encoded data removed]",
      "text/plain": [
       "<Figure size 432x288 with 1 Axes>"
      ]
     },
     "metadata": {
      "needs_background": "light"
     }
    }
   ],
   "metadata": {}
  },
  {
   "cell_type": "code",
   "execution_count": 1709,
   "source": [
    "nnet1.save_segments[0]"
   ],
   "outputs": [
    {
     "output_type": "execute_result",
     "data": {
      "text/plain": [
       "{'path': [166,\n",
       "  170,\n",
       "  165,\n",
       "  162,\n",
       "  160,\n",
       "  155,\n",
       "  157,\n",
       "  150,\n",
       "  145,\n",
       "  142,\n",
       "  140,\n",
       "  137,\n",
       "  127,\n",
       "  117,\n",
       "  108,\n",
       "  100,\n",
       "  91,\n",
       "  93,\n",
       "  95,\n",
       "  97,\n",
       "  103,\n",
       "  112,\n",
       "  119,\n",
       "  124,\n",
       "  132,\n",
       "  130,\n",
       "  118,\n",
       "  109,\n",
       "  111],\n",
       " 'vecteurs': [{'x': -2, 'y': 1},\n",
       "  {'x': -2, 'y': -1},\n",
       "  {'x': -2, 'y': -1},\n",
       "  {'x': -2, 'y': -1},\n",
       "  {'x': 2, 'y': -1},\n",
       "  {'x': 2, 'y': 0},\n",
       "  {'x': 2, 'y': -1},\n",
       "  {'x': 0, 'y': -2},\n",
       "  {'x': -2, 'y': -1},\n",
       "  {'x': -2, 'y': 0},\n",
       "  {'x': -2, 'y': -1},\n",
       "  {'x': -2, 'y': -2},\n",
       "  {'x': -1, 'y': -2},\n",
       "  {'x': 0, 'y': -2},\n",
       "  {'x': 1, 'y': -2},\n",
       "  {'x': 2, 'y': -1},\n",
       "  {'x': 2, 'y': 0},\n",
       "  {'x': 2, 'y': 0},\n",
       "  {'x': 2, 'y': 0},\n",
       "  {'x': 2, 'y': 1},\n",
       "  {'x': 2, 'y': 2},\n",
       "  {'x': -2, 'y': 2},\n",
       "  {'x': -2, 'y': 1},\n",
       "  {'x': -2, 'y': 1},\n",
       "  {'x': -2, 'y': 0},\n",
       "  {'x': -2, 'y': -2},\n",
       "  {'x': 1, 'y': -2},\n",
       "  {'x': 2, 'y': 0}],\n",
       " 'angles': [0.9272952180016124,\n",
       "  2.1073424255447017e-08,\n",
       "  2.1073424255447017e-08,\n",
       "  2.214297435588181,\n",
       "  0.46364760900080615,\n",
       "  -0.46364760900080615,\n",
       "  -1.1071487177940904,\n",
       "  -1.1071487177940904,\n",
       "  -0.46364760900080615,\n",
       "  0.46364760900080615,\n",
       "  0.3217505543966423,\n",
       "  0.3217505543966423,\n",
       "  0.46364760900080615,\n",
       "  0.46364760900080615,\n",
       "  0.6435011087932847,\n",
       "  0.46364760900080615,\n",
       "  0.0,\n",
       "  0.0,\n",
       "  0.46364760900080615,\n",
       "  0.3217505543966423,\n",
       "  1.5707963267948966,\n",
       "  0.3217505543966423,\n",
       "  2.1073424255447017e-08,\n",
       "  0.46364760900080615,\n",
       "  0.7853981633974484,\n",
       "  1.2490457723982544,\n",
       "  1.1071487177940904]}"
      ]
     },
     "metadata": {},
     "execution_count": 1709
    }
   ],
   "metadata": {}
  },
  {
   "cell_type": "code",
   "execution_count": 1375,
   "source": [
    "A = {136}\n",
    "print(list(A)[0])\n",
    "A.pop()"
   ],
   "outputs": [
    {
     "output_type": "stream",
     "name": "stdout",
     "text": [
      "136\n"
     ]
    },
    {
     "output_type": "execute_result",
     "data": {
      "text/plain": [
       "136"
      ]
     },
     "metadata": {},
     "execution_count": 1375
    }
   ],
   "metadata": {}
  },
  {
   "cell_type": "code",
   "execution_count": 827,
   "source": [
    "# Affichage du nombre de connexions latérales *sortantes* par neurones\n",
    "# Sélection des minimum, les tips et les maximum, les nœuds\n",
    "nb_post_conn = []\n",
    "for nrn_pos in nnet1.nrn_tls.lst_nrns:\n",
    "    nrn = nrn_pos.neuron\n",
    "    if nrn[\"layer_id\"]==2:\n",
    "        nb_post_conn.append(len(nrn[\"DbConnectivity\"][\"post_synaptique\"]))\n",
    "        if len(nrn[\"DbConnectivity\"][\"post_synaptique\"])<=2:\n",
    "            print(\"id_min\",nrn[\"_id\"])\n",
    "        if len(nrn[\"DbConnectivity\"][\"post_synaptique\"])>=9:\n",
    "            print(\"id_max\",nrn[\"_id\"])\n",
    "print(min(nb_post_conn))\n",
    "print(max(nb_post_conn))\n",
    "print(np.mean(nb_post_conn))\n",
    "print(np.std(nb_post_conn))\n"
   ],
   "outputs": [
    {
     "output_type": "stream",
     "name": "stdout",
     "text": [
      "id_max 78\n",
      "id_max 84\n",
      "id_max 88\n",
      "id_max 89\n",
      "id_min 95\n",
      "id_max 96\n",
      "id_max 97\n",
      "id_min 100\n",
      "id_max 108\n",
      "id_max 109\n",
      "id_max 114\n",
      "id_max 115\n",
      "id_max 120\n",
      "id_min 129\n",
      "2\n",
      "10\n",
      "6.222222222222222\n",
      "2.1854093688248533\n"
     ]
    }
   ],
   "metadata": {}
  },
  {
   "cell_type": "code",
   "execution_count": 833,
   "source": [
    "print(nb_post_conn)"
   ],
   "outputs": [
    {
     "output_type": "stream",
     "name": "stdout",
     "text": [
      "[7, 6, 6, 7, 10, 8, 8, 6, 3, 6, 9, 7, 6, 6, 10, 10, 8, 5, 8, 8, 6, 2, 10, 10, 6, 6, 2, 7, 5, 5, 8, 4, 4, 7, 9, 10, 8, 5, 4, 4, 9, 10, 8, 5, 4, 4, 9, 5, 4, 4, 6, 3, 4, 6, 6, 2, 4, 7, 6, 4, 5, 6, 5]\n"
     ]
    }
   ],
   "metadata": {}
  },
  {
   "cell_type": "code",
   "execution_count": 929,
   "source": [
    "# Affichage du nombre de connexions latérales *sortantes* par neurones\n",
    "# Sélection des minimum, les tips et les maximum, les nœuds\n",
    "rt_post_conn = []\n",
    "for nrn_pos in nnet1.nrn_tls.lst_nrns:\n",
    "    nrn = nrn_pos.neuron\n",
    "    if nrn[\"layer_id\"]==2:\n",
    "        tmp_num_conn = []\n",
    "        for nrn_lat in nrn[\"DbConnectivity\"][\"post_synaptique\"]:\n",
    "            tmp_num_conn.append(len(nnet1.nrn_tls.lst_nrns[nrn_lat-1].neuron[\"DbConnectivity\"][\"post_synaptique\"]))\n",
    "        new_ratio = len(nrn[\"DbConnectivity\"][\"post_synaptique\"])/np.mean(tmp_num_conn)\n",
    "        rt_post_conn.append(new_ratio)\n",
    "        if new_ratio<=0.5:\n",
    "            print(\"id_min\",nrn[\"_id\"])\n",
    "        if new_ratio>=1.:\n",
    "            print(\"id_MAX\",nrn[\"_id\"])\n",
    "        \n",
    "\n",
    "print(\"mini ratio\",min(rt_post_conn))\n",
    "print(\"MAXI ratio\",max(rt_post_conn))\n",
    "print(np.mean(rt_post_conn))\n",
    "print(np.std(rt_post_conn))"
   ],
   "outputs": [
    {
     "output_type": "stream",
     "name": "stdout",
     "text": [
      "id_min 74\n",
      "id_MAX 78\n",
      "id_MAX 79\n",
      "id_MAX 81\n",
      "id_MAX 82\n",
      "id_min 83\n",
      "id_MAX 84\n",
      "id_MAX 85\n",
      "id_MAX 86\n",
      "id_MAX 93\n",
      "id_MAX 94\n",
      "id_MAX 99\n",
      "id_MAX 101\n",
      "id_MAX 103\n",
      "id_MAX 104\n",
      "id_MAX 105\n",
      "id_MAX 106\n",
      "id_MAX 107\n",
      "id_MAX 111\n",
      "id_MAX 112\n",
      "id_MAX 113\n",
      "id_MAX 119\n",
      "id_MAX 121\n",
      "id_MAX 123\n",
      "id_MAX 125\n",
      "id_MAX 126\n",
      "id_MAX 128\n",
      "id_MAX 131\n",
      "id_MAX 132\n"
     ]
    },
    {
     "output_type": "error",
     "ename": "KeyError",
     "evalue": "'matrix_width'",
     "traceback": [
      "\u001b[0;31m---------------------------------------------------------------------------\u001b[0m",
      "\u001b[0;31mKeyError\u001b[0m                                  Traceback (most recent call last)",
      "\u001b[0;32m<ipython-input-929-33e7458556f3>\u001b[0m in \u001b[0;36m<module>\u001b[0;34m\u001b[0m\n\u001b[1;32m      4\u001b[0m \u001b[0;32mfor\u001b[0m \u001b[0mnrn_pos\u001b[0m \u001b[0;32min\u001b[0m \u001b[0mnnet1\u001b[0m\u001b[0;34m.\u001b[0m\u001b[0mnrn_tls\u001b[0m\u001b[0;34m.\u001b[0m\u001b[0mlst_nrns\u001b[0m\u001b[0;34m:\u001b[0m\u001b[0;34m\u001b[0m\u001b[0;34m\u001b[0m\u001b[0m\n\u001b[1;32m      5\u001b[0m     \u001b[0mnrn\u001b[0m \u001b[0;34m=\u001b[0m \u001b[0mnrn_pos\u001b[0m\u001b[0;34m.\u001b[0m\u001b[0mneuron\u001b[0m\u001b[0;34m\u001b[0m\u001b[0;34m\u001b[0m\u001b[0m\n\u001b[0;32m----> 6\u001b[0;31m     \u001b[0;32mif\u001b[0m \u001b[0mnrn\u001b[0m\u001b[0;34m[\u001b[0m\u001b[0;34m\"meta\"\u001b[0m\u001b[0;34m]\u001b[0m\u001b[0;34m[\u001b[0m\u001b[0;34m\"matrix_width\"\u001b[0m\u001b[0;34m]\u001b[0m\u001b[0;34m==\u001b[0m\u001b[0;36m3\u001b[0m\u001b[0;34m:\u001b[0m\u001b[0;34m\u001b[0m\u001b[0;34m\u001b[0m\u001b[0m\n\u001b[0m\u001b[1;32m      7\u001b[0m         \u001b[0mtmp_num_conn\u001b[0m \u001b[0;34m=\u001b[0m \u001b[0;34m[\u001b[0m\u001b[0;34m]\u001b[0m\u001b[0;34m\u001b[0m\u001b[0;34m\u001b[0m\u001b[0m\n\u001b[1;32m      8\u001b[0m         \u001b[0;32mfor\u001b[0m \u001b[0mnrn_lat\u001b[0m \u001b[0;32min\u001b[0m \u001b[0mnrn\u001b[0m\u001b[0;34m[\u001b[0m\u001b[0;34m\"DbConnectivity\"\u001b[0m\u001b[0;34m]\u001b[0m\u001b[0;34m[\u001b[0m\u001b[0;34m\"post_synaptique\"\u001b[0m\u001b[0;34m]\u001b[0m\u001b[0;34m:\u001b[0m\u001b[0;34m\u001b[0m\u001b[0;34m\u001b[0m\u001b[0m\n",
      "\u001b[0;31mKeyError\u001b[0m: 'matrix_width'"
     ]
    }
   ],
   "metadata": {}
  },
  {
   "cell_type": "code",
   "execution_count": 1523,
   "source": [
    "A={1}\n",
    "if A!={}:\n",
    "    print(\"no\")\n",
    "else:\n",
    "    print(\"yes\")"
   ],
   "outputs": [
    {
     "output_type": "stream",
     "name": "stdout",
     "text": [
      "no\n"
     ]
    }
   ],
   "metadata": {}
  },
  {
   "cell_type": "code",
   "execution_count": 634,
   "source": [
    "toto = sentive_neuron_helper()\n",
    "nrn1 = nnet1.nrn_tls.get_neuron_from_id(31)\n",
    "nrn2 = nnet1.nrn_tls.get_neuron_from_id(30)\n",
    "toto.calc_angle(nrn1[\"meta\"][\"vector_1\"],nrn2[\"meta\"][\"vector_1\"])"
   ],
   "outputs": [
    {
     "output_type": "stream",
     "name": "stderr",
     "text": [
      "<ipython-input-428-cffb00016d75>:380: RuntimeWarning: invalid value encountered in true_divide\n",
      "  return signe * np.arccos(np.sum(np.multiply(np_c_1,np_c_2))/(np.sqrt(np.sum(np.power(np_c_1,2)))*np.sqrt(np.sum(np.power(np_c_2,2)))))\n"
     ]
    },
    {
     "output_type": "execute_result",
     "data": {
      "text/plain": [
       "nan"
      ]
     },
     "metadata": {},
     "execution_count": 634
    }
   ],
   "metadata": {}
  },
  {
   "cell_type": "code",
   "execution_count": 681,
   "source": [
    "G = nnet1.nrn_tls.netGraph\n",
    "pos = nx.spring_layout(nnet1.nrn_tls.netGraph, seed=4) \n",
    "# print(nx.rescale_layout_dict(pos))\n",
    "nx.draw(G, with_labels=True, pos=pos)"
   ],
   "outputs": [
    {
     "output_type": "display_data",
     "data": {
      "image/png": "[encoded data removed]",
      "text/plain": [
       "<Figure size 432x288 with 1 Axes>"
      ]
     },
     "metadata": {}
    }
   ],
   "metadata": {}
  },
  {
   "cell_type": "code",
   "execution_count": 1437,
   "source": [
    "G = nnet1.nrn_tls.layer_graph[1]\n",
    "pos = nx.spring_layout(nnet1.nrn_tls.netGraph, seed=2) \n",
    "# pos = nx.spiral_layout(G)\n",
    "# print(nx.rescale_layout_dict(pos))\n",
    "nx.draw(G, with_labels=True, pos=pos)"
   ],
   "outputs": [
    {
     "output_type": "display_data",
     "data": {
      "image/png": "[encoded data removed]",
      "text/plain": [
       "<Figure size 432x288 with 1 Axes>"
      ]
     },
     "metadata": {}
    }
   ],
   "metadata": {}
  },
  {
   "cell_type": "code",
   "execution_count": 1438,
   "source": [
    "G = nnet1.nrn_tls.layer_graph[1]\n",
    "G.remove_node(136)\n",
    "pos = nx.spring_layout(nnet1.nrn_tls.netGraph, seed=2) \n",
    "# print(nx.rescale_layout_dict(pos))\n",
    "nx.draw(G, with_labels=True, pos=pos)"
   ],
   "outputs": [
    {
     "output_type": "display_data",
     "data": {
      "image/png": "[encoded data removed]",
      "text/plain": [
       "<Figure size 432x288 with 1 Axes>"
      ]
     },
     "metadata": {}
    }
   ],
   "metadata": {}
  },
  {
   "cell_type": "code",
   "execution_count": 1439,
   "source": [
    "G = nnet1.nrn_tls.layer_graph[1]\n",
    "G.remove_node(128)\n",
    "pos = nx.spring_layout(nnet1.nrn_tls.netGraph, seed=2) \n",
    "# print(nx.rescale_layout_dict(pos))\n",
    "nx.draw(G, with_labels=True, pos=pos)"
   ],
   "outputs": [
    {
     "output_type": "display_data",
     "data": {
      "image/png": "[encoded data removed]",
      "text/plain": [
       "<Figure size 432x288 with 1 Axes>"
      ]
     },
     "metadata": {}
    }
   ],
   "metadata": {}
  },
  {
   "cell_type": "code",
   "execution_count": 1441,
   "source": [
    "nx.shortest_path(G, source=166, target=111) "
   ],
   "outputs": [
    {
     "output_type": "execute_result",
     "data": {
      "text/plain": [
       "[166,\n",
       " 171,\n",
       " 169,\n",
       " 164,\n",
       " 161,\n",
       " 154,\n",
       " 156,\n",
       " 158,\n",
       " 148,\n",
       " 144,\n",
       " 141,\n",
       " 138,\n",
       " 129,\n",
       " 118,\n",
       " 109,\n",
       " 111]"
      ]
     },
     "metadata": {},
     "execution_count": 1441
    }
   ],
   "metadata": {}
  },
  {
   "cell_type": "code",
   "execution_count": 1442,
   "source": [
    "G = nnet1.nrn_tls.layer_graph[1]\n",
    "G.remove_node(129)\n",
    "pos = nx.spring_layout(nnet1.nrn_tls.netGraph, seed=2) \n",
    "# print(nx.rescale_layout_dict(pos))\n",
    "nx.draw(G, with_labels=True, pos=pos)"
   ],
   "outputs": [
    {
     "output_type": "display_data",
     "data": {
      "image/png": "[encoded data removed]",
      "text/plain": [
       "<Figure size 432x288 with 1 Axes>"
      ]
     },
     "metadata": {}
    }
   ],
   "metadata": {}
  },
  {
   "cell_type": "code",
   "execution_count": 1443,
   "source": [
    "G = nnet1.nrn_tls.layer_graph[1]\n",
    "G.remove_node(122)\n",
    "pos = nx.spring_layout(nnet1.nrn_tls.netGraph, seed=2) \n",
    "# print(nx.rescale_layout_dict(pos))\n",
    "nx.draw(G, with_labels=True, pos=pos)"
   ],
   "outputs": [
    {
     "output_type": "display_data",
     "data": {
      "image/png": "[encoded data removed]",
      "text/plain": [
       "<Figure size 432x288 with 1 Axes>"
      ]
     },
     "metadata": {}
    }
   ],
   "metadata": {}
  },
  {
   "cell_type": "code",
   "execution_count": 1444,
   "source": [
    "nx.shortest_path(G, source=166, target=111) "
   ],
   "outputs": [
    {
     "output_type": "execute_result",
     "data": {
      "text/plain": [
       "[166,\n",
       " 170,\n",
       " 165,\n",
       " 162,\n",
       " 160,\n",
       " 155,\n",
       " 157,\n",
       " 150,\n",
       " 145,\n",
       " 142,\n",
       " 140,\n",
       " 137,\n",
       " 127,\n",
       " 117,\n",
       " 108,\n",
       " 100,\n",
       " 91,\n",
       " 93,\n",
       " 95,\n",
       " 97,\n",
       " 103,\n",
       " 112,\n",
       " 119,\n",
       " 124,\n",
       " 132,\n",
       " 130,\n",
       " 118,\n",
       " 109,\n",
       " 111]"
      ]
     },
     "metadata": {},
     "execution_count": 1444
    }
   ],
   "metadata": {}
  },
  {
   "cell_type": "code",
   "execution_count": 163,
   "source": [
    "brain = sentive_brain(episode)"
   ],
   "outputs": [
    {
     "output_type": "stream",
     "name": "stdout",
     "text": [
      "nombre de neurones taille 1: 22\n",
      "**************************************** \n",
      "\n",
      "[[ 0.06351933  0.99798061]\n",
      " [-0.99798061  0.06351933]]\n",
      "\n",
      "nombre de neurones couche 1 & 2, tailles 1 & 3: 54\n",
      "****************************************\n",
      "\n",
      "nombre Total de neurones (1, 3 & 5) 89\n",
      "****************************************\n",
      "nb_merge 9\n",
      "\n",
      "nombre Total de neurones 4 couches :(1, 3, 5 & 7) 90\n",
      "****************************************\n",
      "\n",
      "nombre Total de neurones (up to layer 5) 90\n",
      "****************************************\n",
      "nombre de neurones taille 1: 72\n",
      "**************************************** \n",
      "\n",
      "[[ 0.95359843 -0.30108145]\n",
      " [ 0.30108145  0.95359843]]\n",
      "\n",
      "nombre de neurones couche 1 & 2, tailles 1 & 3: 188\n",
      "****************************************\n",
      "\n",
      "nombre Total de neurones (1, 3 & 5) 323\n",
      "****************************************\n",
      "nb_merge 31\n",
      "supprime le neurone segment 344\n",
      "\n",
      "nombre Total de neurones 4 couches :(1, 3, 5 & 7) 330\n",
      "****************************************\n",
      "\n",
      "nombre Total de neurones (up to layer 5) 331\n",
      "****************************************\n",
      "nombre de neurones taille 1: 90\n",
      "**************************************** \n",
      "\n",
      "[[ 0.08967995  0.99597064]\n",
      " [ 0.99597064 -0.08967995]]\n",
      "\n",
      "nombre de neurones couche 1 & 2, tailles 1 & 3: 258\n",
      "****************************************\n"
     ]
    },
    {
     "output_type": "stream",
     "name": "stderr",
     "text": [
      "<ipython-input-104-0542458f88ab>:357: RuntimeWarning: invalid value encountered in true_divide\n",
      "  return signe * np.arccos(np.sum(np.multiply(np_c_1,np_c_2))/(np.sqrt(np.sum(np.power(np_c_1,2)))*np.sqrt(np.sum(np.power(np_c_2,2)))))\n"
     ]
    },
    {
     "output_type": "stream",
     "name": "stdout",
     "text": [
      "\n",
      "nombre Total de neurones (1, 3 & 5) 548\n",
      "****************************************\n",
      "nb_merge 88\n",
      "supprime le neurone segment 622\n",
      "supprime le neurone segment 620\n",
      "supprime le neurone segment 568\n",
      "\n",
      "nombre Total de neurones 4 couches :(1, 3, 5 & 7) 554\n",
      "****************************************\n",
      "550 {}\n",
      "\n",
      "nombre Total de neurones (up to layer 5) 555\n",
      "****************************************\n",
      "nombre de neurones taille 1: 65\n",
      "**************************************** \n",
      "\n",
      "[[ 0.46661446  0.88446082]\n",
      " [ 0.88446082 -0.46661446]]\n",
      "\n",
      "nombre de neurones couche 1 & 2, tailles 1 & 3: 287\n",
      "****************************************\n"
     ]
    },
    {
     "output_type": "stream",
     "name": "stderr",
     "text": [
      "<ipython-input-104-0542458f88ab>:357: RuntimeWarning: invalid value encountered in true_divide\n",
      "  return signe * np.arccos(np.sum(np.multiply(np_c_1,np_c_2))/(np.sqrt(np.sum(np.power(np_c_1,2)))*np.sqrt(np.sum(np.power(np_c_2,2)))))\n"
     ]
    },
    {
     "output_type": "stream",
     "name": "stdout",
     "text": [
      "\n",
      "nombre Total de neurones (1, 3 & 5) 959\n",
      "****************************************\n",
      "nb_merge 169\n",
      "\n",
      "nombre Total de neurones 4 couches :(1, 3, 5 & 7) 960\n",
      "****************************************\n",
      "\n",
      "nombre Total de neurones (up to layer 5) 960\n",
      "****************************************\n",
      "nombre de neurones taille 1: 73\n",
      "**************************************** \n",
      "\n",
      "[[-0.96579245 -0.2593163 ]\n",
      " [-0.2593163   0.96579245]]\n",
      "\n",
      "nombre de neurones couche 1 & 2, tailles 1 & 3: 229\n",
      "****************************************\n"
     ]
    },
    {
     "output_type": "stream",
     "name": "stderr",
     "text": [
      "<ipython-input-104-0542458f88ab>:357: RuntimeWarning: invalid value encountered in true_divide\n",
      "  return signe * np.arccos(np.sum(np.multiply(np_c_1,np_c_2))/(np.sqrt(np.sum(np.power(np_c_1,2)))*np.sqrt(np.sum(np.power(np_c_2,2)))))\n"
     ]
    },
    {
     "output_type": "stream",
     "name": "stdout",
     "text": [
      "\n",
      "nombre Total de neurones (1, 3 & 5) 523\n",
      "****************************************\n",
      "nb_merge 94\n",
      "supprime le neurone segment 619\n",
      "supprime le neurone segment 590\n",
      "\n",
      "nombre Total de neurones 4 couches :(1, 3, 5 & 7) 528\n",
      "****************************************\n",
      "\n",
      "nombre Total de neurones (up to layer 5) 529\n",
      "****************************************\n"
     ]
    }
   ],
   "metadata": {}
  },
  {
   "cell_type": "code",
   "execution_count": 388,
   "source": [
    "nnet1.nrn_tls.get_neuron_from_id(74)"
   ],
   "outputs": [
    {
     "output_type": "execute_result",
     "data": {
      "text/plain": [
       "{'_id': 74,\n",
       " 'schema_version': 2,\n",
       " 'type': 'sentive_vision_arcs',\n",
       " 'DbConnectivity': {'pre_synaptique': [1, 2], 'post_synaptique': [73]},\n",
       " 'meta': {'mode': 'croissance',\n",
       "  'center': {'x': 11, 'y': 3},\n",
       "  'real_center': {'x': 0.0, 'y': 0.0},\n",
       "  'matrix_width': 3,\n",
       "  'local_tip_1': {'x': 0, 'y': 0},\n",
       "  'vector_1': {'x': 2.0, 'y': 0.0},\n",
       "  'local_tip_2': {'x': 0, 'y': 0},\n",
       "  'vector_2': {'x': 0, 'y': 0},\n",
       "  'axes_symétrie': [],\n",
       "  'angle': 0.0,\n",
       "  'std_angle': -1,\n",
       "  'length_c': 0}}"
      ]
     },
     "metadata": {},
     "execution_count": 388
    }
   ],
   "metadata": {}
  },
  {
   "cell_type": "code",
   "execution_count": 340,
   "source": [
    "l = nx.degree_centrality(G)"
   ],
   "outputs": [],
   "metadata": {}
  },
  {
   "cell_type": "code",
   "execution_count": 233,
   "source": [
    "nnet1.show_neurons_by_layer_id(3)"
   ],
   "outputs": [
    {
     "output_type": "stream",
     "name": "stdout",
     "text": [
      "74 : [0.0, 1.0, 2.0, 11.0, 12.0] {'_id': 74, 'schema_version': 2, 'type': 'sentive_vision_arcs', 'DbConnectivity': {'pre_synaptique': [0.0, 1.0, 2.0, 11.0, 12.0], 'post_synaptique': []}, 'meta': {'mode': 'croissance', 'center': {'x': 19, 'y': 6}, 'real_center': {'x': 0.0, 'y': 0.0}, 'matrix_width': 3, 'local_tip_1': {'x': 0, 'y': 0}, 'vector_1': {'x': 0, 'y': 0}, 'local_tip_2': {'x': 0, 'y': 0}, 'vector_2': {'x': 0, 'y': 0}, 'axes_symétrie': [], 'angle': -0.7853981633974483, 'std_angle': -1, 'length_c': 0}}\n",
      "75 : [0.0, 1.0, 2.0, 13.0] {'_id': 75, 'schema_version': 2, 'type': 'sentive_vision_arcs', 'DbConnectivity': {'pre_synaptique': [0.0, 1.0, 2.0, 13.0], 'post_synaptique': []}, 'meta': {'mode': 'croissance', 'center': {'x': 20, 'y': 6}, 'real_center': {'x': 0.0, 'y': 0.0}, 'matrix_width': 3, 'local_tip_1': {'x': 0, 'y': 0}, 'vector_1': {'x': 0, 'y': 0}, 'local_tip_2': {'x': 0, 'y': 0}, 'vector_2': {'x': 0, 'y': 0}, 'axes_symétrie': [], 'angle': -2.356194490192345, 'std_angle': -1, 'length_c': 0}}\n",
      "76 : [0.0, 3.0, 4.0, 15.0, 17.0] {'_id': 76, 'schema_version': 2, 'type': 'sentive_vision_arcs', 'DbConnectivity': {'pre_synaptique': [0.0, 3.0, 4.0, 15.0, 17.0], 'post_synaptique': []}, 'meta': {'mode': 'croissance', 'center': {'x': 9, 'y': 7}, 'real_center': {'x': 0.0, 'y': 0.0}, 'matrix_width': 3, 'local_tip_1': {'x': 0, 'y': 0}, 'vector_1': {'x': 0, 'y': 0}, 'local_tip_2': {'x': 0, 'y': 0}, 'vector_2': {'x': 0, 'y': 0}, 'axes_symétrie': [], 'angle': -1.9634954084936207, 'std_angle': -1, 'length_c': 0}}\n",
      "77 : [0.0, 3.0, 4.0, 5.0, 16.0] {'_id': 77, 'schema_version': 2, 'type': 'sentive_vision_arcs', 'DbConnectivity': {'pre_synaptique': [0.0, 3.0, 4.0, 5.0, 16.0], 'post_synaptique': []}, 'meta': {'mode': 'croissance', 'center': {'x': 10, 'y': 7}, 'real_center': {'x': 0.0, 'y': 0.0}, 'matrix_width': 3, 'local_tip_1': {'x': 0, 'y': 0}, 'vector_1': {'x': 0, 'y': 0}, 'local_tip_2': {'x': 0, 'y': 0}, 'vector_2': {'x': 0, 'y': 0}, 'axes_symétrie': [], 'angle': 0.39269908169872414, 'std_angle': -1, 'length_c': 0}}\n",
      "78 : [0.0, 4.0, 5.0, 6.0, 17.0, 18.0] {'_id': 78, 'schema_version': 2, 'type': 'sentive_vision_arcs', 'DbConnectivity': {'pre_synaptique': [0.0, 4.0, 5.0, 6.0, 17.0, 18.0], 'post_synaptique': []}, 'meta': {'mode': 'croissance', 'center': {'x': 11, 'y': 7}, 'real_center': {'x': 0.0, 'y': 0.0}, 'matrix_width': 3, 'local_tip_1': {'x': 0, 'y': 0}, 'vector_1': {'x': 0, 'y': 0}, 'local_tip_2': {'x': 0, 'y': 0}, 'vector_2': {'x': 0, 'y': 0}, 'axes_symétrie': [], 'angle': -0.7853981633974483, 'std_angle': -1, 'length_c': 0}}\n",
      "79 : [0.0, 5.0, 6.0, 7.0, 19.0] {'_id': 79, 'schema_version': 2, 'type': 'sentive_vision_arcs', 'DbConnectivity': {'pre_synaptique': [0.0, 5.0, 6.0, 7.0, 19.0], 'post_synaptique': []}, 'meta': {'mode': 'croissance', 'center': {'x': 12, 'y': 7}, 'real_center': {'x': 0.0, 'y': 0.0}, 'matrix_width': 3, 'local_tip_1': {'x': 0, 'y': 0}, 'vector_1': {'x': 0, 'y': 0}, 'local_tip_2': {'x': 0, 'y': 0}, 'vector_2': {'x': 0, 'y': 0}, 'axes_symétrie': [], 'angle': 0.39269908169872414, 'std_angle': -1, 'length_c': 0}}\n",
      "80 : [0.0, 6.0, 7.0, 8.0, 18.0] {'_id': 80, 'schema_version': 2, 'type': 'sentive_vision_arcs', 'DbConnectivity': {'pre_synaptique': [0.0, 6.0, 7.0, 8.0, 18.0], 'post_synaptique': []}, 'meta': {'mode': 'croissance', 'center': {'x': 13, 'y': 7}, 'real_center': {'x': 0.0, 'y': 0.0}, 'matrix_width': 3, 'local_tip_1': {'x': 0, 'y': 0}, 'vector_1': {'x': 0, 'y': 0}, 'local_tip_2': {'x': 0, 'y': 0}, 'vector_2': {'x': 0, 'y': 0}, 'axes_symétrie': [], 'angle': 0.39269908169872414, 'std_angle': -1, 'length_c': 0}}\n",
      "81 : [0.0, 7.0, 8.0, 9.0, 19.0] {'_id': 81, 'schema_version': 2, 'type': 'sentive_vision_arcs', 'DbConnectivity': {'pre_synaptique': [0.0, 7.0, 8.0, 9.0, 19.0], 'post_synaptique': []}, 'meta': {'mode': 'croissance', 'center': {'x': 14, 'y': 7}, 'real_center': {'x': 0.0, 'y': 0.0}, 'matrix_width': 3, 'local_tip_1': {'x': 0, 'y': 0}, 'vector_1': {'x': 0, 'y': 0}, 'local_tip_2': {'x': 0, 'y': 0}, 'vector_2': {'x': 0, 'y': 0}, 'axes_symétrie': [], 'angle': 0.39269908169872414, 'std_angle': -1, 'length_c': 0}}\n",
      "82 : [0.0, 8.0, 10.0, 9.0] {'_id': 82, 'schema_version': 2, 'type': 'sentive_vision_arcs', 'DbConnectivity': {'pre_synaptique': [0.0, 8.0, 10.0, 9.0], 'post_synaptique': []}, 'meta': {'mode': 'croissance', 'center': {'x': 15, 'y': 7}, 'real_center': {'x': 0.0, 'y': 0.0}, 'matrix_width': 3, 'local_tip_1': {'x': 0, 'y': 0}, 'vector_1': {'x': 0, 'y': 0}, 'local_tip_2': {'x': 0, 'y': 0}, 'vector_2': {'x': 0, 'y': 0}, 'axes_symétrie': [], 'angle': 3.141592653589793, 'std_angle': -1, 'length_c': 0}}\n",
      "83 : [0.0, 1.0, 11.0, 20.0, 21.0] {'_id': 83, 'schema_version': 2, 'type': 'sentive_vision_arcs', 'DbConnectivity': {'pre_synaptique': [0.0, 1.0, 11.0, 20.0, 21.0], 'post_synaptique': []}, 'meta': {'mode': 'croissance', 'center': {'x': 18, 'y': 7}, 'real_center': {'x': 0.0, 'y': 0.0}, 'matrix_width': 3, 'local_tip_1': {'x': 0, 'y': 0}, 'vector_1': {'x': 0, 'y': 0}, 'local_tip_2': {'x': 0, 'y': 0}, 'vector_2': {'x': 0, 'y': 0}, 'axes_symétrie': [], 'angle': 2.356194490192345, 'std_angle': -1, 'length_c': 0}}\n",
      "84 : [0.0, 1.0, 2.0, 12.0, 13.0, 21.0, 22.0] {'_id': 84, 'schema_version': 2, 'type': 'sentive_vision_arcs', 'DbConnectivity': {'pre_synaptique': [0.0, 1.0, 2.0, 12.0, 13.0, 21.0, 22.0], 'post_synaptique': []}, 'meta': {'mode': 'croissance', 'center': {'x': 20, 'y': 7}, 'real_center': {'x': 0.0, 'y': 0.0}, 'matrix_width': 3, 'local_tip_1': {'x': 0, 'y': 0}, 'vector_1': {'x': 0, 'y': 0}, 'local_tip_2': {'x': 0, 'y': 0}, 'vector_2': {'x': 0, 'y': 0}, 'axes_symétrie': [], 'angle': -0.1121997406386962, 'std_angle': -1, 'length_c': 0}}\n",
      "85 : [0.0, 2.0, 12.0, 13.0, 22.0, 23.0] {'_id': 85, 'schema_version': 2, 'type': 'sentive_vision_arcs', 'DbConnectivity': {'pre_synaptique': [0.0, 2.0, 12.0, 13.0, 22.0, 23.0], 'post_synaptique': []}, 'meta': {'mode': 'croissance', 'center': {'x': 21, 'y': 7}, 'real_center': {'x': 0.0, 'y': 0.0}, 'matrix_width': 3, 'local_tip_1': {'x': 0, 'y': 0}, 'vector_1': {'x': 0, 'y': 0}, 'local_tip_2': {'x': 0, 'y': 0}, 'vector_2': {'x': 0, 'y': 0}, 'axes_symétrie': [], 'angle': -0.2617993948236242, 'std_angle': -1, 'length_c': 0}}\n",
      "86 : [0.0, 3.0, 14.0, 15.0, 16.0, 24.0] {'_id': 86, 'schema_version': 2, 'type': 'sentive_vision_arcs', 'DbConnectivity': {'pre_synaptique': [0.0, 3.0, 14.0, 15.0, 16.0, 24.0], 'post_synaptique': []}, 'meta': {'mode': 'croissance', 'center': {'x': 8, 'y': 8}, 'real_center': {'x': 0.0, 'y': 0.0}, 'matrix_width': 3, 'local_tip_1': {'x': 0, 'y': 0}, 'vector_1': {'x': 0, 'y': 0}, 'local_tip_2': {'x': 0, 'y': 0}, 'vector_2': {'x': 0, 'y': 0}, 'axes_symétrie': [], 'angle': 0.19634954084936207, 'std_angle': -1, 'length_c': 0}}\n",
      "87 : [0.0, 4.0, 15.0, 16.0, 17.0] {'_id': 87, 'schema_version': 2, 'type': 'sentive_vision_arcs', 'DbConnectivity': {'pre_synaptique': [0.0, 4.0, 15.0, 16.0, 17.0], 'post_synaptique': []}, 'meta': {'mode': 'croissance', 'center': {'x': 9, 'y': 8}, 'real_center': {'x': 0.0, 'y': 0.0}, 'matrix_width': 3, 'local_tip_1': {'x': 0, 'y': 0}, 'vector_1': {'x': 0, 'y': 0}, 'local_tip_2': {'x': 0, 'y': 0}, 'vector_2': {'x': 0, 'y': 0}, 'axes_symétrie': [], 'angle': 2.748893571891069, 'std_angle': -1, 'length_c': 0}}\n",
      "88 : [0.0, 3.0, 4.0, 5.0, 16.0, 17.0, 25.0] {'_id': 88, 'schema_version': 2, 'type': 'sentive_vision_arcs', 'DbConnectivity': {'pre_synaptique': [0.0, 3.0, 4.0, 5.0, 16.0, 17.0, 25.0], 'post_synaptique': []}, 'meta': {'mode': 'croissance', 'center': {'x': 10, 'y': 8}, 'real_center': {'x': 0.0, 'y': 0.0}, 'matrix_width': 3, 'local_tip_1': {'x': 0, 'y': 0}, 'vector_1': {'x': 0, 'y': 0}, 'local_tip_2': {'x': 0, 'y': 0}, 'vector_2': {'x': 0, 'y': 0}, 'axes_symétrie': [], 'angle': nan, 'std_angle': -1, 'length_c': 0}}\n",
      "89 : [0.0, 5.0, 6.0, 7.0, 18.0, 19.0, 25.0, 26.0] {'_id': 89, 'schema_version': 2, 'type': 'sentive_vision_arcs', 'DbConnectivity': {'pre_synaptique': [0.0, 5.0, 6.0, 7.0, 18.0, 19.0, 25.0, 26.0], 'post_synaptique': []}, 'meta': {'mode': 'croissance', 'center': {'x': 12, 'y': 8}, 'real_center': {'x': 0.0, 'y': 0.0}, 'matrix_width': 3, 'local_tip_1': {'x': 0, 'y': 0}, 'vector_1': {'x': 0, 'y': 0}, 'local_tip_2': {'x': 0, 'y': 0}, 'vector_2': {'x': 0, 'y': 0}, 'axes_symétrie': [], 'angle': -0.19634954084936207, 'std_angle': -1, 'length_c': 0}}\n",
      "90 : [0.0, 6.0, 7.0, 8.0, 18.0, 19.0, 26.0] {'_id': 90, 'schema_version': 2, 'type': 'sentive_vision_arcs', 'DbConnectivity': {'pre_synaptique': [0.0, 6.0, 7.0, 8.0, 18.0, 19.0, 26.0], 'post_synaptique': []}, 'meta': {'mode': 'croissance', 'center': {'x': 13, 'y': 8}, 'real_center': {'x': 0.0, 'y': 0.0}, 'matrix_width': 3, 'local_tip_1': {'x': 0, 'y': 0}, 'vector_1': {'x': 0, 'y': 0}, 'local_tip_2': {'x': 0, 'y': 0}, 'vector_2': {'x': 0, 'y': 0}, 'axes_symétrie': [], 'angle': 0.942477791862253, 'std_angle': -1, 'length_c': 0}}\n",
      "91 : [0.0, 27.0, 11.0, 20.0] {'_id': 91, 'schema_version': 2, 'type': 'sentive_vision_arcs', 'DbConnectivity': {'pre_synaptique': [0.0, 27.0, 11.0, 20.0], 'post_synaptique': []}, 'meta': {'mode': 'croissance', 'center': {'x': 18, 'y': 8}, 'real_center': {'x': 0.0, 'y': 0.0}, 'matrix_width': 3, 'local_tip_1': {'x': 0, 'y': 0}, 'vector_1': {'x': 0, 'y': 0}, 'local_tip_2': {'x': 0, 'y': 0}, 'vector_2': {'x': 0, 'y': 0}, 'axes_symétrie': [], 'angle': 2.356194490192345, 'std_angle': -1, 'length_c': 0}}\n",
      "92 : [0.0, 11.0, 12.0, 20.0, 21.0, 27.0] {'_id': 92, 'schema_version': 2, 'type': 'sentive_vision_arcs', 'DbConnectivity': {'pre_synaptique': [0.0, 11.0, 12.0, 20.0, 21.0, 27.0], 'post_synaptique': []}, 'meta': {'mode': 'croissance', 'center': {'x': 19, 'y': 8}, 'real_center': {'x': 0.0, 'y': 0.0}, 'matrix_width': 3, 'local_tip_1': {'x': 0, 'y': 0}, 'vector_1': {'x': 0, 'y': 0}, 'local_tip_2': {'x': 0, 'y': 0}, 'vector_2': {'x': 0, 'y': 0}, 'axes_symétrie': [], 'angle': 0.7853981633974483, 'std_angle': -1, 'length_c': 0}}\n",
      "93 : [0.0, 12.0, 13.0, 22.0, 23.0, 28.0] {'_id': 93, 'schema_version': 2, 'type': 'sentive_vision_arcs', 'DbConnectivity': {'pre_synaptique': [0.0, 12.0, 13.0, 22.0, 23.0, 28.0], 'post_synaptique': []}, 'meta': {'mode': 'croissance', 'center': {'x': 21, 'y': 8}, 'real_center': {'x': 0.0, 'y': 0.0}, 'matrix_width': 3, 'local_tip_1': {'x': 0, 'y': 0}, 'vector_1': {'x': 0, 'y': 0}, 'local_tip_2': {'x': 0, 'y': 0}, 'vector_2': {'x': 0, 'y': 0}, 'axes_symétrie': [], 'angle': 2.617993870967019, 'std_angle': -1, 'length_c': 0}}\n",
      "94 : [0.0, 28.0, 13.0, 23.0] {'_id': 94, 'schema_version': 2, 'type': 'sentive_vision_arcs', 'DbConnectivity': {'pre_synaptique': [0.0, 28.0, 13.0, 23.0], 'post_synaptique': []}, 'meta': {'mode': 'croissance', 'center': {'x': 22, 'y': 8}, 'real_center': {'x': 0.0, 'y': 0.0}, 'matrix_width': 3, 'local_tip_1': {'x': 0, 'y': 0}, 'vector_1': {'x': 0, 'y': 0}, 'local_tip_2': {'x': 0, 'y': 0}, 'vector_2': {'x': 0, 'y': 0}, 'axes_symétrie': [], 'angle': -2.356194490192345, 'std_angle': -1, 'length_c': 0}}\n",
      "95 : [0.0, 24.0, 29.0, 14.0] {'_id': 95, 'schema_version': 2, 'type': 'sentive_vision_arcs', 'DbConnectivity': {'pre_synaptique': [0.0, 24.0, 29.0, 14.0], 'post_synaptique': []}, 'meta': {'mode': 'croissance', 'center': {'x': 7, 'y': 9}, 'real_center': {'x': 0.0, 'y': 0.0}, 'matrix_width': 3, 'local_tip_1': {'x': 0, 'y': 0}, 'vector_1': {'x': 0, 'y': 0}, 'local_tip_2': {'x': 0, 'y': 0}, 'vector_2': {'x': 0, 'y': 0}, 'axes_symétrie': [], 'angle': 3.141592653589793, 'std_angle': -1, 'length_c': 0}}\n",
      "96 : [0.0, 17.0, 18.0, 25.0, 26.0, 30.0] {'_id': 96, 'schema_version': 2, 'type': 'sentive_vision_arcs', 'DbConnectivity': {'pre_synaptique': [0.0, 17.0, 18.0, 25.0, 26.0, 30.0], 'post_synaptique': []}, 'meta': {'mode': 'croissance', 'center': {'x': 11, 'y': 9}, 'real_center': {'x': 0.0, 'y': 0.0}, 'matrix_width': 3, 'local_tip_1': {'x': 0, 'y': 0}, 'vector_1': {'x': 0, 'y': 0}, 'local_tip_2': {'x': 0, 'y': 0}, 'vector_2': {'x': 0, 'y': 0}, 'axes_symétrie': [], 'angle': 0.5235987755982988, 'std_angle': -1, 'length_c': 0}}\n",
      "97 : [0.0, 18.0, 19.0, 25.0, 26.0, 30.0] {'_id': 97, 'schema_version': 2, 'type': 'sentive_vision_arcs', 'DbConnectivity': {'pre_synaptique': [0.0, 18.0, 19.0, 25.0, 26.0, 30.0], 'post_synaptique': []}, 'meta': {'mode': 'croissance', 'center': {'x': 12, 'y': 9}, 'real_center': {'x': 0.0, 'y': 0.0}, 'matrix_width': 3, 'local_tip_1': {'x': 0, 'y': 0}, 'vector_1': {'x': 0, 'y': 0}, 'local_tip_2': {'x': 0, 'y': 0}, 'vector_2': {'x': 0, 'y': 0}, 'axes_symétrie': [], 'angle': 1.5707963197704216, 'std_angle': -1, 'length_c': 0}}\n",
      "98 : [0.0, 20.0, 21.0, 27.0, 31.0] {'_id': 98, 'schema_version': 2, 'type': 'sentive_vision_arcs', 'DbConnectivity': {'pre_synaptique': [0.0, 20.0, 21.0, 27.0, 31.0], 'post_synaptique': []}, 'meta': {'mode': 'croissance', 'center': {'x': 19, 'y': 9}, 'real_center': {'x': 0.0, 'y': 0.0}, 'matrix_width': 3, 'local_tip_1': {'x': 0, 'y': 0}, 'vector_1': {'x': 0, 'y': 0}, 'local_tip_2': {'x': 0, 'y': 0}, 'vector_2': {'x': 0, 'y': 0}, 'axes_symétrie': [], 'angle': 0.39269908169872414, 'std_angle': -1, 'length_c': 0}}\n",
      "99 : [0.0, 32.0, 22.0, 23.0, 28.0] {'_id': 99, 'schema_version': 2, 'type': 'sentive_vision_arcs', 'DbConnectivity': {'pre_synaptique': [0.0, 32.0, 22.0, 23.0, 28.0], 'post_synaptique': []}, 'meta': {'mode': 'croissance', 'center': {'x': 22, 'y': 9}, 'real_center': {'x': 0.0, 'y': 0.0}, 'matrix_width': 3, 'local_tip_1': {'x': 0, 'y': 0}, 'vector_1': {'x': 0, 'y': 0}, 'local_tip_2': {'x': 0, 'y': 0}, 'vector_2': {'x': 0, 'y': 0}, 'axes_symétrie': [], 'angle': 2.7488935613543566, 'std_angle': -1, 'length_c': 0}}\n",
      "100 : [0.0, 24.0, 29.0, 33.0] {'_id': 100, 'schema_version': 2, 'type': 'sentive_vision_arcs', 'DbConnectivity': {'pre_synaptique': [0.0, 24.0, 29.0, 33.0], 'post_synaptique': []}, 'meta': {'mode': 'croissance', 'center': {'x': 7, 'y': 10}, 'real_center': {'x': 0.0, 'y': 0.0}, 'matrix_width': 3, 'local_tip_1': {'x': 0, 'y': 0}, 'vector_1': {'x': 0, 'y': 0}, 'local_tip_2': {'x': 0, 'y': 0}, 'vector_2': {'x': 0, 'y': 0}, 'axes_symétrie': [], 'angle': 3.141592653589793, 'std_angle': -1, 'length_c': 0}}\n",
      "101 : [0.0, 25.0, 34.0, 30.0] {'_id': 101, 'schema_version': 2, 'type': 'sentive_vision_arcs', 'DbConnectivity': {'pre_synaptique': [0.0, 25.0, 34.0, 30.0], 'post_synaptique': []}, 'meta': {'mode': 'croissance', 'center': {'x': 11, 'y': 10}, 'real_center': {'x': 0.0, 'y': 0.0}, 'matrix_width': 3, 'local_tip_1': {'x': 0, 'y': 0}, 'vector_1': {'x': 0, 'y': 0}, 'local_tip_2': {'x': 0, 'y': 0}, 'vector_2': {'x': 0, 'y': 0}, 'axes_symétrie': [], 'angle': 3.141592653589793, 'std_angle': -1, 'length_c': 0}}\n",
      "102 : [0.0, 35.0, 27.0, 31.0] {'_id': 102, 'schema_version': 2, 'type': 'sentive_vision_arcs', 'DbConnectivity': {'pre_synaptique': [0.0, 35.0, 27.0, 31.0], 'post_synaptique': []}, 'meta': {'mode': 'croissance', 'center': {'x': 19, 'y': 10}, 'real_center': {'x': 0.0, 'y': 0.0}, 'matrix_width': 3, 'local_tip_1': {'x': 0, 'y': 0}, 'vector_1': {'x': 0, 'y': 0}, 'local_tip_2': {'x': 0, 'y': 0}, 'vector_2': {'x': 0, 'y': 0}, 'axes_symétrie': [], 'angle': 3.141592653589793, 'std_angle': -1, 'length_c': 0}}\n",
      "103 : [0.0, 32.0, 28.0, 36.0] {'_id': 103, 'schema_version': 2, 'type': 'sentive_vision_arcs', 'DbConnectivity': {'pre_synaptique': [0.0, 32.0, 28.0, 36.0], 'post_synaptique': []}, 'meta': {'mode': 'croissance', 'center': {'x': 23, 'y': 10}, 'real_center': {'x': 0.0, 'y': 0.0}, 'matrix_width': 3, 'local_tip_1': {'x': 0, 'y': 0}, 'vector_1': {'x': 0, 'y': 0}, 'local_tip_2': {'x': 0, 'y': 0}, 'vector_2': {'x': 0, 'y': 0}, 'axes_symétrie': [], 'angle': -2.356194490192345, 'std_angle': -1, 'length_c': 0}}\n",
      "104 : [0.0, 34.0, 37.0, 38.0, 30.0] {'_id': 104, 'schema_version': 2, 'type': 'sentive_vision_arcs', 'DbConnectivity': {'pre_synaptique': [0.0, 34.0, 37.0, 38.0, 30.0], 'post_synaptique': []}, 'meta': {'mode': 'croissance', 'center': {'x': 11, 'y': 11}, 'real_center': {'x': 0.0, 'y': 0.0}, 'matrix_width': 3, 'local_tip_1': {'x': 0, 'y': 0}, 'vector_1': {'x': 0, 'y': 0}, 'local_tip_2': {'x': 0, 'y': 0}, 'vector_2': {'x': 0, 'y': 0}, 'axes_symétrie': [], 'angle': 2.748893571891069, 'std_angle': -1, 'length_c': 0}}\n",
      "105 : [0.0, 43.0, 35.0, 31.0] {'_id': 105, 'schema_version': 2, 'type': 'sentive_vision_arcs', 'DbConnectivity': {'pre_synaptique': [0.0, 43.0, 35.0, 31.0], 'post_synaptique': []}, 'meta': {'mode': 'croissance', 'center': {'x': 19, 'y': 11}, 'real_center': {'x': 0.0, 'y': 0.0}, 'matrix_width': 3, 'local_tip_1': {'x': 0, 'y': 0}, 'vector_1': {'x': 0, 'y': 0}, 'local_tip_2': {'x': 0, 'y': 0}, 'vector_2': {'x': 0, 'y': 0}, 'axes_symétrie': [], 'angle': 3.141592653589793, 'std_angle': -1, 'length_c': 0}}\n",
      "106 : [0.0, 32.0, 36.0, 44.0] {'_id': 106, 'schema_version': 2, 'type': 'sentive_vision_arcs', 'DbConnectivity': {'pre_synaptique': [0.0, 32.0, 36.0, 44.0], 'post_synaptique': []}, 'meta': {'mode': 'croissance', 'center': {'x': 23, 'y': 11}, 'real_center': {'x': 0.0, 'y': 0.0}, 'matrix_width': 3, 'local_tip_1': {'x': 0, 'y': 0}, 'vector_1': {'x': 0, 'y': 0}, 'local_tip_2': {'x': 0, 'y': 0}, 'vector_2': {'x': 0, 'y': 0}, 'axes_symétrie': [], 'angle': 3.141592653589793, 'std_angle': -1, 'length_c': 0}}\n",
      "107 : [0.0, 34.0, 45.0, 37.0] {'_id': 107, 'schema_version': 2, 'type': 'sentive_vision_arcs', 'DbConnectivity': {'pre_synaptique': [0.0, 34.0, 45.0, 37.0], 'post_synaptique': []}, 'meta': {'mode': 'croissance', 'center': {'x': 11, 'y': 12}, 'real_center': {'x': 0.0, 'y': 0.0}, 'matrix_width': 3, 'local_tip_1': {'x': 0, 'y': 0}, 'vector_1': {'x': 0, 'y': 0}, 'local_tip_2': {'x': 0, 'y': 0}, 'vector_2': {'x': 0, 'y': 0}, 'axes_symétrie': [], 'angle': 2.356194490192345, 'std_angle': -1, 'length_c': 0}}\n",
      "108 : [0.0, 34.0, 37.0, 38.0, 39.0, 45.0, 46.0] {'_id': 108, 'schema_version': 2, 'type': 'sentive_vision_arcs', 'DbConnectivity': {'pre_synaptique': [0.0, 34.0, 37.0, 38.0, 39.0, 45.0, 46.0], 'post_synaptique': []}, 'meta': {'mode': 'croissance', 'center': {'x': 12, 'y': 12}, 'real_center': {'x': 0.0, 'y': 0.0}, 'matrix_width': 3, 'local_tip_1': {'x': 0, 'y': 0}, 'vector_1': {'x': 0, 'y': 0}, 'local_tip_2': {'x': 0, 'y': 0}, 'vector_2': {'x': 0, 'y': 0}, 'axes_symétrie': [], 'angle': 0.942477791862253, 'std_angle': -1, 'length_c': 0}}\n",
      "109 : [0.0, 38.0, 39.0, 40.0, 45.0, 47.0] {'_id': 109, 'schema_version': 2, 'type': 'sentive_vision_arcs', 'DbConnectivity': {'pre_synaptique': [0.0, 38.0, 39.0, 40.0, 45.0, 47.0], 'post_synaptique': []}, 'meta': {'mode': 'croissance', 'center': {'x': 13, 'y': 12}, 'real_center': {'x': 0.0, 'y': 0.0}, 'matrix_width': 3, 'local_tip_1': {'x': 0, 'y': 0}, 'vector_1': {'x': 0, 'y': 0}, 'local_tip_2': {'x': 0, 'y': 0}, 'vector_2': {'x': 0, 'y': 0}, 'axes_symétrie': [], 'angle': -0.7853981633974483, 'std_angle': -1, 'length_c': 0}}\n",
      "110 : [0.0, 39.0, 40.0, 41.0, 46.0, 48.0] {'_id': 110, 'schema_version': 2, 'type': 'sentive_vision_arcs', 'DbConnectivity': {'pre_synaptique': [0.0, 39.0, 40.0, 41.0, 46.0, 48.0], 'post_synaptique': []}, 'meta': {'mode': 'croissance', 'center': {'x': 14, 'y': 12}, 'real_center': {'x': 0.0, 'y': 0.0}, 'matrix_width': 3, 'local_tip_1': {'x': 0, 'y': 0}, 'vector_1': {'x': 0, 'y': 0}, 'local_tip_2': {'x': 0, 'y': 0}, 'vector_2': {'x': 0, 'y': 0}, 'axes_symétrie': [], 'angle': -0.7853981633974483, 'std_angle': -1, 'length_c': 0}}\n",
      "111 : [0.0, 40.0, 41.0, 42.0, 47.0] {'_id': 111, 'schema_version': 2, 'type': 'sentive_vision_arcs', 'DbConnectivity': {'pre_synaptique': [0.0, 40.0, 41.0, 42.0, 47.0], 'post_synaptique': []}, 'meta': {'mode': 'croissance', 'center': {'x': 15, 'y': 12}, 'real_center': {'x': 0.0, 'y': 0.0}, 'matrix_width': 3, 'local_tip_1': {'x': 0, 'y': 0}, 'vector_1': {'x': 0, 'y': 0}, 'local_tip_2': {'x': 0, 'y': 0}, 'vector_2': {'x': 0, 'y': 0}, 'axes_symétrie': [], 'angle': 0.39269908169872414, 'std_angle': -1, 'length_c': 0}}\n",
      "112 : [0.0, 43.0, 35.0, 49.0] {'_id': 112, 'schema_version': 2, 'type': 'sentive_vision_arcs', 'DbConnectivity': {'pre_synaptique': [0.0, 43.0, 35.0, 49.0], 'post_synaptique': []}, 'meta': {'mode': 'croissance', 'center': {'x': 19, 'y': 12}, 'real_center': {'x': 0.0, 'y': 0.0}, 'matrix_width': 3, 'local_tip_1': {'x': 0, 'y': 0}, 'vector_1': {'x': 0, 'y': 0}, 'local_tip_2': {'x': 0, 'y': 0}, 'vector_2': {'x': 0, 'y': 0}, 'axes_symétrie': [], 'angle': 3.141592653589793, 'std_angle': -1, 'length_c': 0}}\n",
      "113 : [0.0, 50.0, 36.0, 44.0] {'_id': 113, 'schema_version': 2, 'type': 'sentive_vision_arcs', 'DbConnectivity': {'pre_synaptique': [0.0, 50.0, 36.0, 44.0], 'post_synaptique': []}, 'meta': {'mode': 'croissance', 'center': {'x': 23, 'y': 12}, 'real_center': {'x': 0.0, 'y': 0.0}, 'matrix_width': 3, 'local_tip_1': {'x': 0, 'y': 0}, 'vector_1': {'x': 0, 'y': 0}, 'local_tip_2': {'x': 0, 'y': 0}, 'vector_2': {'x': 0, 'y': 0}, 'axes_symétrie': [], 'angle': 3.141592653589793, 'std_angle': -1, 'length_c': 0}}\n",
      "114 : [0.0, 37.0, 38.0, 39.0, 45.0, 46.0, 51.0, 52.0] {'_id': 114, 'schema_version': 2, 'type': 'sentive_vision_arcs', 'DbConnectivity': {'pre_synaptique': [0.0, 37.0, 38.0, 39.0, 45.0, 46.0, 51.0, 52.0], 'post_synaptique': []}, 'meta': {'mode': 'croissance', 'center': {'x': 12, 'y': 13}, 'real_center': {'x': 0.0, 'y': 0.0}, 'matrix_width': 3, 'local_tip_1': {'x': 0, 'y': 0}, 'vector_1': {'x': 0, 'y': 0}, 'local_tip_2': {'x': 0, 'y': 0}, 'vector_2': {'x': 0, 'y': 0}, 'axes_symétrie': [], 'angle': -0.19634954084936207, 'std_angle': -1, 'length_c': 0}}\n",
      "115 : [0.0, 38.0, 39.0, 40.0, 45.0, 46.0, 47.0, 52.0] {'_id': 115, 'schema_version': 2, 'type': 'sentive_vision_arcs', 'DbConnectivity': {'pre_synaptique': [0.0, 38.0, 39.0, 40.0, 45.0, 46.0, 47.0, 52.0], 'post_synaptique': []}, 'meta': {'mode': 'croissance', 'center': {'x': 13, 'y': 13}, 'real_center': {'x': 0.0, 'y': 0.0}, 'matrix_width': 3, 'local_tip_1': {'x': 0, 'y': 0}, 'vector_1': {'x': 0, 'y': 0}, 'local_tip_2': {'x': 0, 'y': 0}, 'vector_2': {'x': 0, 'y': 0}, 'axes_symétrie': [], 'angle': 0.39269908169872425, 'std_angle': -1, 'length_c': 0}}\n",
      "116 : [0.0, 39.0, 41.0, 46.0, 47.0, 48.0] {'_id': 116, 'schema_version': 2, 'type': 'sentive_vision_arcs', 'DbConnectivity': {'pre_synaptique': [0.0, 39.0, 41.0, 46.0, 47.0, 48.0], 'post_synaptique': []}, 'meta': {'mode': 'croissance', 'center': {'x': 14, 'y': 13}, 'real_center': {'x': 0.0, 'y': 0.0}, 'matrix_width': 3, 'local_tip_1': {'x': 0, 'y': 0}, 'vector_1': {'x': 0, 'y': 0}, 'local_tip_2': {'x': 0, 'y': 0}, 'vector_2': {'x': 0, 'y': 0}, 'axes_symétrie': [], 'angle': 2.552544031041707, 'std_angle': -1, 'length_c': 0}}\n",
      "117 : [0.0, 40.0, 42.0, 47.0, 48.0] {'_id': 117, 'schema_version': 2, 'type': 'sentive_vision_arcs', 'DbConnectivity': {'pre_synaptique': [0.0, 40.0, 42.0, 47.0, 48.0], 'post_synaptique': []}, 'meta': {'mode': 'croissance', 'center': {'x': 15, 'y': 13}, 'real_center': {'x': 0.0, 'y': 0.0}, 'matrix_width': 3, 'local_tip_1': {'x': 0, 'y': 0}, 'vector_1': {'x': 0, 'y': 0}, 'local_tip_2': {'x': 0, 'y': 0}, 'vector_2': {'x': 0, 'y': 0}, 'axes_symétrie': [], 'angle': 1.9634954084936207, 'std_angle': -1, 'length_c': 0}}\n",
      "118 : [0.0, 43.0, 49.0, 53.0, 54.0] {'_id': 118, 'schema_version': 2, 'type': 'sentive_vision_arcs', 'DbConnectivity': {'pre_synaptique': [0.0, 43.0, 49.0, 53.0, 54.0], 'post_synaptique': []}, 'meta': {'mode': 'croissance', 'center': {'x': 19, 'y': 13}, 'real_center': {'x': 0.0, 'y': 0.0}, 'matrix_width': 3, 'local_tip_1': {'x': 0, 'y': 0}, 'vector_1': {'x': 0, 'y': 0}, 'local_tip_2': {'x': 0, 'y': 0}, 'vector_2': {'x': 0, 'y': 0}, 'axes_symétrie': [], 'angle': 3.141592653589793, 'std_angle': -1, 'length_c': 0}}\n",
      "119 : [0.0, 44.0, 50.0, 55.0, 56.0] {'_id': 119, 'schema_version': 2, 'type': 'sentive_vision_arcs', 'DbConnectivity': {'pre_synaptique': [0.0, 44.0, 50.0, 55.0, 56.0], 'post_synaptique': []}, 'meta': {'mode': 'croissance', 'center': {'x': 23, 'y': 13}, 'real_center': {'x': 0.0, 'y': 0.0}, 'matrix_width': 3, 'local_tip_1': {'x': 0, 'y': 0}, 'vector_1': {'x': 0, 'y': 0}, 'local_tip_2': {'x': 0, 'y': 0}, 'vector_2': {'x': 0, 'y': 0}, 'axes_symétrie': [], 'angle': 3.141592653589793, 'std_angle': -1, 'length_c': 0}}\n",
      "120 : [0.0, 45.0, 46.0, 51.0, 52.0, 57.0] {'_id': 120, 'schema_version': 2, 'type': 'sentive_vision_arcs', 'DbConnectivity': {'pre_synaptique': [0.0, 45.0, 46.0, 51.0, 52.0, 57.0], 'post_synaptique': []}, 'meta': {'mode': 'croissance', 'center': {'x': 12, 'y': 14}, 'real_center': {'x': 0.0, 'y': 0.0}, 'matrix_width': 3, 'local_tip_1': {'x': 0, 'y': 0}, 'vector_1': {'x': 0, 'y': 0}, 'local_tip_2': {'x': 0, 'y': 0}, 'vector_2': {'x': 0, 'y': 0}, 'axes_symétrie': [], 'angle': 1.5707963197704216, 'std_angle': -1, 'length_c': 0}}\n",
      "121 : [0.0, 49.0, 58.0, 54.0] {'_id': 121, 'schema_version': 2, 'type': 'sentive_vision_arcs', 'DbConnectivity': {'pre_synaptique': [0.0, 49.0, 58.0, 54.0], 'post_synaptique': []}, 'meta': {'mode': 'croissance', 'center': {'x': 19, 'y': 14}, 'real_center': {'x': 0.0, 'y': 0.0}, 'matrix_width': 3, 'local_tip_1': {'x': 0, 'y': 0}, 'vector_1': {'x': 0, 'y': 0}, 'local_tip_2': {'x': 0, 'y': 0}, 'vector_2': {'x': 0, 'y': 0}, 'axes_symétrie': [], 'angle': -2.356194490192345, 'std_angle': -1, 'length_c': 0}}\n",
      "122 : [0.0, 59.0, 50.0, 56.0] {'_id': 122, 'schema_version': 2, 'type': 'sentive_vision_arcs', 'DbConnectivity': {'pre_synaptique': [0.0, 59.0, 50.0, 56.0], 'post_synaptique': []}, 'meta': {'mode': 'croissance', 'center': {'x': 23, 'y': 14}, 'real_center': {'x': 0.0, 'y': 0.0}, 'matrix_width': 3, 'local_tip_1': {'x': 0, 'y': 0}, 'vector_1': {'x': 0, 'y': 0}, 'local_tip_2': {'x': 0, 'y': 0}, 'vector_2': {'x': 0, 'y': 0}, 'axes_symétrie': [], 'angle': -2.356194490192345, 'std_angle': -1, 'length_c': 0}}\n",
      "123 : [0.0, 57.0, 51.0, 60.0] {'_id': 123, 'schema_version': 2, 'type': 'sentive_vision_arcs', 'DbConnectivity': {'pre_synaptique': [0.0, 57.0, 51.0, 60.0], 'post_synaptique': []}, 'meta': {'mode': 'croissance', 'center': {'x': 11, 'y': 15}, 'real_center': {'x': 0.0, 'y': 0.0}, 'matrix_width': 3, 'local_tip_1': {'x': 0, 'y': 0}, 'vector_1': {'x': 0, 'y': 0}, 'local_tip_2': {'x': 0, 'y': 0}, 'vector_2': {'x': 0, 'y': 0}, 'axes_symétrie': [], 'angle': 3.141592653589793, 'std_angle': -1, 'length_c': 0}}\n",
      "124 : [0.0, 53.0, 54.0, 58.0, 61.0, 62.0] {'_id': 124, 'schema_version': 2, 'type': 'sentive_vision_arcs', 'DbConnectivity': {'pre_synaptique': [0.0, 53.0, 54.0, 58.0, 61.0, 62.0], 'post_synaptique': []}, 'meta': {'mode': 'croissance', 'center': {'x': 18, 'y': 15}, 'real_center': {'x': 0.0, 'y': 0.0}, 'matrix_width': 3, 'local_tip_1': {'x': 0, 'y': 0}, 'vector_1': {'x': 0, 'y': 0}, 'local_tip_2': {'x': 0, 'y': 0}, 'vector_2': {'x': 0, 'y': 0}, 'axes_symétrie': [], 'angle': 1.0471975441721229, 'std_angle': -1, 'length_c': 0}}\n",
      "125 : [0.0, 59.0, 63.0, 55.0] {'_id': 125, 'schema_version': 2, 'type': 'sentive_vision_arcs', 'DbConnectivity': {'pre_synaptique': [0.0, 59.0, 63.0, 55.0], 'post_synaptique': []}, 'meta': {'mode': 'croissance', 'center': {'x': 22, 'y': 15}, 'real_center': {'x': 0.0, 'y': 0.0}, 'matrix_width': 3, 'local_tip_1': {'x': 0, 'y': 0}, 'vector_1': {'x': 0, 'y': 0}, 'local_tip_2': {'x': 0, 'y': 0}, 'vector_2': {'x': 0, 'y': 0}, 'axes_symétrie': [], 'angle': 3.141592653589793, 'std_angle': -1, 'length_c': 0}}\n",
      "126 : [0.0, 57.0, 64.0, 60.0] {'_id': 126, 'schema_version': 2, 'type': 'sentive_vision_arcs', 'DbConnectivity': {'pre_synaptique': [0.0, 57.0, 64.0, 60.0], 'post_synaptique': []}, 'meta': {'mode': 'croissance', 'center': {'x': 11, 'y': 16}, 'real_center': {'x': 0.0, 'y': 0.0}, 'matrix_width': 3, 'local_tip_1': {'x': 0, 'y': 0}, 'vector_1': {'x': 0, 'y': 0}, 'local_tip_2': {'x': 0, 'y': 0}, 'vector_2': {'x': 0, 'y': 0}, 'axes_symétrie': [], 'angle': 2.356194490192345, 'std_angle': -1, 'length_c': 0}}\n",
      "127 : [0.0, 65.0, 58.0, 61.0, 62.0] {'_id': 127, 'schema_version': 2, 'type': 'sentive_vision_arcs', 'DbConnectivity': {'pre_synaptique': [0.0, 65.0, 58.0, 61.0, 62.0], 'post_synaptique': []}, 'meta': {'mode': 'croissance', 'center': {'x': 17, 'y': 16}, 'real_center': {'x': 0.0, 'y': 0.0}, 'matrix_width': 3, 'local_tip_1': {'x': 0, 'y': 0}, 'vector_1': {'x': 0, 'y': 0}, 'local_tip_2': {'x': 0, 'y': 0}, 'vector_2': {'x': 0, 'y': 0}, 'axes_symétrie': [], 'angle': 0.39269907116201197, 'std_angle': -1, 'length_c': 0}}\n",
      "128 : [0.0, 58.0, 66.0, 62.0] {'_id': 128, 'schema_version': 2, 'type': 'sentive_vision_arcs', 'DbConnectivity': {'pre_synaptique': [0.0, 58.0, 66.0, 62.0], 'post_synaptique': []}, 'meta': {'mode': 'croissance', 'center': {'x': 18, 'y': 16}, 'real_center': {'x': 0.0, 'y': 0.0}, 'matrix_width': 3, 'local_tip_1': {'x': 0, 'y': 0}, 'vector_1': {'x': 0, 'y': 0}, 'local_tip_2': {'x': 0, 'y': 0}, 'vector_2': {'x': 0, 'y': 0}, 'axes_symétrie': [], 'angle': -2.356194490192345, 'std_angle': -1, 'length_c': 0}}\n",
      "129 : [0.0, 67.0, 68.0, 59.0, 63.0] {'_id': 129, 'schema_version': 2, 'type': 'sentive_vision_arcs', 'DbConnectivity': {'pre_synaptique': [0.0, 67.0, 68.0, 59.0, 63.0], 'post_synaptique': []}, 'meta': {'mode': 'croissance', 'center': {'x': 22, 'y': 16}, 'real_center': {'x': 0.0, 'y': 0.0}, 'matrix_width': 3, 'local_tip_1': {'x': 0, 'y': 0}, 'vector_1': {'x': 0, 'y': 0}, 'local_tip_2': {'x': 0, 'y': 0}, 'vector_2': {'x': 0, 'y': 0}, 'axes_symétrie': [], 'angle': 3.141592653589793, 'std_angle': -1, 'length_c': 0}}\n",
      "130 : [0.0, 64.0, 60.0, 69.0] {'_id': 130, 'schema_version': 2, 'type': 'sentive_vision_arcs', 'DbConnectivity': {'pre_synaptique': [0.0, 64.0, 60.0, 69.0], 'post_synaptique': []}, 'meta': {'mode': 'croissance', 'center': {'x': 12, 'y': 17}, 'real_center': {'x': 0.0, 'y': 0.0}, 'matrix_width': 3, 'local_tip_1': {'x': 0, 'y': 0}, 'vector_1': {'x': 0, 'y': 0}, 'local_tip_2': {'x': 0, 'y': 0}, 'vector_2': {'x': 0, 'y': 0}, 'axes_symétrie': [], 'angle': 3.1415926325163688, 'std_angle': -1, 'length_c': 0}}\n",
      "131 : [0.0, 65.0, 66.0, 71.0, 61.0] {'_id': 131, 'schema_version': 2, 'type': 'sentive_vision_arcs', 'DbConnectivity': {'pre_synaptique': [0.0, 65.0, 66.0, 71.0, 61.0], 'post_synaptique': []}, 'meta': {'mode': 'croissance', 'center': {'x': 16, 'y': 17}, 'real_center': {'x': 0.0, 'y': 0.0}, 'matrix_width': 3, 'local_tip_1': {'x': 0, 'y': 0}, 'vector_1': {'x': 0, 'y': 0}, 'local_tip_2': {'x': 0, 'y': 0}, 'vector_2': {'x': 0, 'y': 0}, 'axes_symétrie': [], 'angle': 0.39269907116201197, 'std_angle': -1, 'length_c': 0}}\n",
      "132 : [0.0, 65.0, 66.0, 72.0, 61.0, 62.0] {'_id': 132, 'schema_version': 2, 'type': 'sentive_vision_arcs', 'DbConnectivity': {'pre_synaptique': [0.0, 65.0, 66.0, 72.0, 61.0, 62.0], 'post_synaptique': []}, 'meta': {'mode': 'croissance', 'center': {'x': 17, 'y': 17}, 'real_center': {'x': 0.0, 'y': 0.0}, 'matrix_width': 3, 'local_tip_1': {'x': 0, 'y': 0}, 'vector_1': {'x': 0, 'y': 0}, 'local_tip_2': {'x': 0, 'y': 0}, 'vector_2': {'x': 0, 'y': 0}, 'axes_symétrie': [], 'angle': 1.5707963197704216, 'std_angle': -1, 'length_c': 0}}\n",
      "133 : [64.0, 0.0, 69.0, 70.0] {'_id': 133, 'schema_version': 2, 'type': 'sentive_vision_arcs', 'DbConnectivity': {'pre_synaptique': [64.0, 0.0, 69.0, 70.0], 'post_synaptique': []}, 'meta': {'mode': 'croissance', 'center': {'x': 13, 'y': 18}, 'real_center': {'x': 0.0, 'y': 0.0}, 'matrix_width': 3, 'local_tip_1': {'x': 0, 'y': 0}, 'vector_1': {'x': 0, 'y': 0}, 'local_tip_2': {'x': 0, 'y': 0}, 'vector_2': {'x': 0, 'y': 0}, 'axes_symétrie': [], 'angle': 2.356194490192345, 'std_angle': -1, 'length_c': 0}}\n",
      "134 : [0.0, 69.0, 70.0, 71.0] {'_id': 134, 'schema_version': 2, 'type': 'sentive_vision_arcs', 'DbConnectivity': {'pre_synaptique': [0.0, 69.0, 70.0, 71.0], 'post_synaptique': []}, 'meta': {'mode': 'croissance', 'center': {'x': 14, 'y': 18}, 'real_center': {'x': 0.0, 'y': 0.0}, 'matrix_width': 3, 'local_tip_1': {'x': 0, 'y': 0}, 'vector_1': {'x': 0, 'y': 0}, 'local_tip_2': {'x': 0, 'y': 0}, 'vector_2': {'x': 0, 'y': 0}, 'axes_symétrie': [], 'angle': 3.141592653589793, 'std_angle': -1, 'length_c': 0}}\n",
      "135 : [0.0, 65.0, 70.0, 71.0, 72.0] {'_id': 135, 'schema_version': 2, 'type': 'sentive_vision_arcs', 'DbConnectivity': {'pre_synaptique': [0.0, 65.0, 70.0, 71.0, 72.0], 'post_synaptique': []}, 'meta': {'mode': 'croissance', 'center': {'x': 15, 'y': 18}, 'real_center': {'x': 0.0, 'y': 0.0}, 'matrix_width': 3, 'local_tip_1': {'x': 0, 'y': 0}, 'vector_1': {'x': 0, 'y': 0}, 'local_tip_2': {'x': 0, 'y': 0}, 'vector_2': {'x': 0, 'y': 0}, 'axes_symétrie': [], 'angle': 2.748893571891069, 'std_angle': -1, 'length_c': 0}}\n",
      "136 : [0.0, 66.0, 72.0, 71.0] {'_id': 136, 'schema_version': 2, 'type': 'sentive_vision_arcs', 'DbConnectivity': {'pre_synaptique': [0.0, 66.0, 72.0, 71.0], 'post_synaptique': []}, 'meta': {'mode': 'croissance', 'center': {'x': 16, 'y': 18}, 'real_center': {'x': 0.0, 'y': 0.0}, 'matrix_width': 3, 'local_tip_1': {'x': 0, 'y': 0}, 'vector_1': {'x': 0, 'y': 0}, 'local_tip_2': {'x': 0, 'y': 0}, 'vector_2': {'x': 0, 'y': 0}, 'axes_symétrie': [], 'angle': 2.356194490192345, 'std_angle': -1, 'length_c': 0}}\n"
     ]
    }
   ],
   "metadata": {}
  },
  {
   "cell_type": "code",
   "execution_count": 214,
   "source": [
    "nnet1.show_neuron_receptive_field(670,4, True) "
   ],
   "outputs": [
    {
     "output_type": "stream",
     "name": "stdout",
     "text": [
      "7 pixels\n",
      "{'_id': 670, 'schema_version': 2, 'type': 'sentive_vision_arcs', 'DbConnectivity': {'pre_synaptique': [453, 364, 400, 407, 414], 'post_synaptique': []}, 'meta': {'mode': 'croissance', 'center': {'x': 19, 'y': 10}, 'real_center': {'x': 18.9, 'y': 10.2}, 'matrix_width': 7, 'local_tip_1': {'x': 19.0, 'y': 6.0}, 'vector_1': {'x': 0.0, 'y': 1.0}, 'local_tip_2': {'x': 19.0, 'y': 14.0}, 'vector_2': {'x': -0.0, 'y': -1.0}, 'axes_symétrie': [], 'angle': 0.09272952180016122, 'std_angle': -1, 'length_c': 8.0, 'field_list': [135, 199, 175, 148, 153, 157, 94]}}\n"
     ]
    },
    {
     "output_type": "display_data",
     "data": {
      "image/png": "[encoded data removed]",
      "text/plain": [
       "<Figure size 288x288 with 1 Axes>"
      ]
     },
     "metadata": {
      "needs_background": "light"
     }
    }
   ],
   "metadata": {}
  },
  {
   "cell_type": "code",
   "execution_count": 236,
   "source": [
    "nnet1.show_neuron_receptive_field(80,0, True) "
   ],
   "outputs": [
    {
     "output_type": "error",
     "ename": "TypeError",
     "evalue": "'NoneType' object is not subscriptable",
     "traceback": [
      "\u001b[0;31m---------------------------------------------------------------------------\u001b[0m",
      "\u001b[0;31mTypeError\u001b[0m                                 Traceback (most recent call last)",
      "\u001b[0;32m<ipython-input-236-2eeba11b6c74>\u001b[0m in \u001b[0;36m<module>\u001b[0;34m\u001b[0m\n\u001b[0;32m----> 1\u001b[0;31m \u001b[0mnnet1\u001b[0m\u001b[0;34m.\u001b[0m\u001b[0mshow_neuron_receptive_field\u001b[0m\u001b[0;34m(\u001b[0m\u001b[0;36m80\u001b[0m\u001b[0;34m,\u001b[0m\u001b[0;36m0\u001b[0m\u001b[0;34m,\u001b[0m \u001b[0;32mTrue\u001b[0m\u001b[0;34m)\u001b[0m\u001b[0;34m\u001b[0m\u001b[0;34m\u001b[0m\u001b[0m\n\u001b[0m",
      "\u001b[0;32m<ipython-input-234-1538e74c8a27>\u001b[0m in \u001b[0;36mshow_neuron_receptive_field\u001b[0;34m(self, nrn_id, int_id, verbose)\u001b[0m\n\u001b[1;32m    811\u001b[0m     \u001b[0;32mdef\u001b[0m \u001b[0mshow_neuron_receptive_field\u001b[0m\u001b[0;34m(\u001b[0m\u001b[0mself\u001b[0m\u001b[0;34m,\u001b[0m \u001b[0mnrn_id\u001b[0m\u001b[0;34m,\u001b[0m \u001b[0mint_id\u001b[0m\u001b[0;34m=\u001b[0m\u001b[0;36m0\u001b[0m\u001b[0;34m,\u001b[0m \u001b[0mverbose\u001b[0m\u001b[0;34m=\u001b[0m\u001b[0;32mFalse\u001b[0m\u001b[0;34m)\u001b[0m\u001b[0;34m:\u001b[0m\u001b[0;34m\u001b[0m\u001b[0;34m\u001b[0m\u001b[0m\n\u001b[1;32m    812\u001b[0m \u001b[0;34m\u001b[0m\u001b[0m\n\u001b[0;32m--> 813\u001b[0;31m         \u001b[0mrcptv_fields\u001b[0m \u001b[0;34m=\u001b[0m \u001b[0mself\u001b[0m\u001b[0;34m.\u001b[0m\u001b[0mnrn_tls\u001b[0m\u001b[0;34m.\u001b[0m\u001b[0mget_neuron_receptive_field\u001b[0m\u001b[0;34m(\u001b[0m\u001b[0mnrn_id\u001b[0m\u001b[0;34m,\u001b[0m \u001b[0mself\u001b[0m\u001b[0;34m.\u001b[0m\u001b[0mepisode\u001b[0m\u001b[0;34m[\u001b[0m\u001b[0;36m0\u001b[0m\u001b[0;34m]\u001b[0m\u001b[0;34m[\u001b[0m\u001b[0mint_id\u001b[0m\u001b[0;34m]\u001b[0m\u001b[0;34m[\u001b[0m\u001b[0;34m:\u001b[0m\u001b[0;34m,\u001b[0m\u001b[0;34m:\u001b[0m\u001b[0;34m,\u001b[0m\u001b[0;36m0\u001b[0m\u001b[0;34m]\u001b[0m\u001b[0;34m,\u001b[0m \u001b[0mself\u001b[0m\u001b[0;34m.\u001b[0m\u001b[0mnrn_tls\u001b[0m\u001b[0;34m.\u001b[0m\u001b[0mlst_nrns\u001b[0m\u001b[0;34m,\u001b[0m \u001b[0mverbose\u001b[0m\u001b[0;34m)\u001b[0m\u001b[0;34m\u001b[0m\u001b[0;34m\u001b[0m\u001b[0m\n\u001b[0m\u001b[1;32m    814\u001b[0m \u001b[0;34m\u001b[0m\u001b[0m\n\u001b[1;32m    815\u001b[0m         \u001b[0mplt\u001b[0m\u001b[0;34m.\u001b[0m\u001b[0mmatshow\u001b[0m\u001b[0;34m(\u001b[0m\u001b[0mrcptv_fields\u001b[0m\u001b[0;34m)\u001b[0m\u001b[0;34m\u001b[0m\u001b[0;34m\u001b[0m\u001b[0m\n",
      "\u001b[0;32m<ipython-input-8-0542458f88ab>\u001b[0m in \u001b[0;36mget_neuron_receptive_field\u001b[0;34m(self, nrn_id, current_vision, neurons_pool, verbose)\u001b[0m\n\u001b[1;32m    240\u001b[0m         \u001b[0;32mfor\u001b[0m \u001b[0msensor_id\u001b[0m \u001b[0;32min\u001b[0m \u001b[0mlst_nrn\u001b[0m\u001b[0;34m:\u001b[0m\u001b[0;34m\u001b[0m\u001b[0;34m\u001b[0m\u001b[0m\n\u001b[1;32m    241\u001b[0m             \u001b[0mneuron\u001b[0m \u001b[0;34m=\u001b[0m \u001b[0mself\u001b[0m\u001b[0;34m.\u001b[0m\u001b[0mget_neuron_from_id\u001b[0m\u001b[0;34m(\u001b[0m\u001b[0msensor_id\u001b[0m\u001b[0;34m,\u001b[0m \u001b[0mneurons_pool\u001b[0m\u001b[0;34m)\u001b[0m\u001b[0;34m\u001b[0m\u001b[0;34m\u001b[0m\u001b[0m\n\u001b[0;32m--> 242\u001b[0;31m             \u001b[0mcurrent_vision\u001b[0m\u001b[0;34m[\u001b[0m\u001b[0mneuron\u001b[0m\u001b[0;34m[\u001b[0m\u001b[0;34m\"meta\"\u001b[0m\u001b[0;34m]\u001b[0m\u001b[0;34m[\u001b[0m\u001b[0;34m\"center\"\u001b[0m\u001b[0;34m]\u001b[0m\u001b[0;34m[\u001b[0m\u001b[0;34m\"y\"\u001b[0m\u001b[0;34m]\u001b[0m\u001b[0;34m,\u001b[0m\u001b[0mneuron\u001b[0m\u001b[0;34m[\u001b[0m\u001b[0;34m\"meta\"\u001b[0m\u001b[0;34m]\u001b[0m\u001b[0;34m[\u001b[0m\u001b[0;34m\"center\"\u001b[0m\u001b[0;34m]\u001b[0m\u001b[0;34m[\u001b[0m\u001b[0;34m\"x\"\u001b[0m\u001b[0;34m]\u001b[0m\u001b[0;34m]\u001b[0m \u001b[0;34m=\u001b[0m \u001b[0;36m5\u001b[0m\u001b[0;34m\u001b[0m\u001b[0;34m\u001b[0m\u001b[0m\n\u001b[0m\u001b[1;32m    243\u001b[0m             \u001b[0mnb\u001b[0m \u001b[0;34m+=\u001b[0m\u001b[0;36m1\u001b[0m\u001b[0;34m\u001b[0m\u001b[0;34m\u001b[0m\u001b[0m\n\u001b[1;32m    244\u001b[0m         \u001b[0;32mif\u001b[0m \u001b[0mverbose\u001b[0m\u001b[0;34m:\u001b[0m\u001b[0;34m\u001b[0m\u001b[0;34m\u001b[0m\u001b[0m\n",
      "\u001b[0;31mTypeError\u001b[0m: 'NoneType' object is not subscriptable"
     ]
    }
   ],
   "metadata": {}
  },
  {
   "cell_type": "code",
   "execution_count": 110,
   "source": [
    "nnet1.show_neuron_receptive_field(59,0)"
   ],
   "outputs": [
    {
     "output_type": "display_data",
     "data": {
      "image/png": "[encoded data removed]",
      "text/plain": [
       "<Figure size 288x288 with 1 Axes>"
      ]
     },
     "metadata": {
      "needs_background": "light"
     }
    }
   ],
   "metadata": {}
  },
  {
   "cell_type": "code",
   "execution_count": 262,
   "source": [
    "nnet1.nrn_tls.get_neuron_from_id(83)"
   ],
   "outputs": [
    {
     "output_type": "execute_result",
     "data": {
      "text/plain": [
       "{'_id': 83,\n",
       " 'schema_version': 2,\n",
       " 'type': 'sentive_vision_arcs',\n",
       " 'DbConnectivity': {'pre_synaptique': [7, 12, 16, 17],\n",
       "  'post_synaptique': [79]},\n",
       " 'meta': {'mode': 'croissance',\n",
       "  'center': {'x': 23, 'y': 5},\n",
       "  'real_center': {'x': 0.0, 'y': 0.0},\n",
       "  'matrix_width': 3,\n",
       "  'local_tip_1': {'x': 0, 'y': 0},\n",
       "  'vector_1': {'x': 1.5, 'y': 2.0},\n",
       "  'local_tip_2': {'x': 0, 'y': 0},\n",
       "  'vector_2': {'x': 0, 'y': 0},\n",
       "  'axes_symétrie': [],\n",
       "  'angle': 0.3926990922354363,\n",
       "  'std_angle': -1,\n",
       "  'length_c': 0}}"
      ]
     },
     "metadata": {},
     "execution_count": 262
    }
   ],
   "metadata": {}
  },
  {
   "cell_type": "code",
   "execution_count": 252,
   "source": [
    "nnet1.nrn_tls.get_neuron_from_id(25)"
   ],
   "outputs": [
    {
     "output_type": "execute_result",
     "data": {
      "text/plain": [
       "{'_id': 25,\n",
       " 'schema_version': 2,\n",
       " 'type': 'sentive_vision_arcs',\n",
       " 'DbConnectivity': {'pre_synaptique': [0.0, 2.0, 3.0, 4.0, 6.0, 8.0],\n",
       "  'post_synaptique': []},\n",
       " 'meta': {'mode': 'croissance',\n",
       "  'center': {'x': 15, 'y': 9},\n",
       "  'real_center': {'x': 0.0, 'y': 0.0},\n",
       "  'matrix_width': 3,\n",
       "  'local_tip_1': {'x': 0, 'y': 0},\n",
       "  'vector_1': {'x': 1.5, 'y': -0.75},\n",
       "  'local_tip_2': {'x': 0, 'y': 0},\n",
       "  'vector_2': {'x': 0, 'y': 0},\n",
       "  'axes_symétrie': [],\n",
       "  'angle': 1.3744467859455345,\n",
       "  'std_angle': -1,\n",
       "  'length_c': 0}}"
      ]
     },
     "metadata": {},
     "execution_count": 252
    }
   ],
   "metadata": {}
  },
  {
   "cell_type": "code",
   "execution_count": 96,
   "source": [
    "nnet1.show_receptive_field_id(60)"
   ],
   "outputs": [
    {
     "output_type": "stream",
     "name": "stdout",
     "text": [
      "{'_id': 60, 'schema_version': 2, 'type': 'sentive_vision_arcs', 'DbConnectivity': {'pre_synaptique': [26, 34, 25], 'post_synaptique': []}, 'meta': {'mode': 'croissance', 'center': {'x': 15, 'y': 9}, 'real_center': {'x': 0.0, 'y': 0.0}, 'matrix_width': 5, 'local_tip_1': {'x': 13.0, 'y': 11.0}, 'vector_1': {'x': 2.0, 'y': -2.0}, 'local_tip_2': {'x': 16.0, 'y': 7.0}, 'vector_2': {'x': 1.0, 'y': -2.0}, 'axes_symétrie': [], 'angle': -0.3217505543966423, 'std_angle': -1, 'length_c': 0}}\n"
     ]
    },
    {
     "output_type": "display_data",
     "data": {
      "image/png": "[encoded data removed]",
      "text/plain": [
       "<Figure size 288x288 with 1 Axes>"
      ]
     },
     "metadata": {
      "needs_background": "light"
     }
    }
   ],
   "metadata": {}
  },
  {
   "cell_type": "code",
   "execution_count": 27,
   "source": [
    "np_stamp = np.zeros([28,28])\n",
    "## 342\n",
    "vector = {\n",
    "    \"x\": -1,\n",
    "    \"y\": -0\n",
    "}\n",
    "angle =  -0.23182380450040305\n",
    "start = {\n",
    "    \"x\": 12,\n",
    "    \"y\": 10\n",
    "}\n",
    "iteration = 6\n",
    "toto.nrn_drwr(np_stamp,vector,angle,iteration, start)\n",
    "## 351\n",
    "vector = {\n",
    "    \"x\": 1,\n",
    "    \"y\": -1\n",
    "}\n",
    "angle =  -0.3425386762798121\n",
    "start = {\n",
    "    \"x\": 17,\n",
    "    \"y\": 18\n",
    "}\n",
    "iteration = 6\n",
    "toto.nrn_drwr(np_stamp,vector,angle,iteration, start)\n",
    "## 326\n",
    "vector = {\n",
    "    \"x\": 1,\n",
    "    \"y\": -0.5\n",
    "}\n",
    "angle =  1.1165750269694528\n",
    "start = {\n",
    "    \"x\": 19,\n",
    "    \"y\": 5\n",
    "}\n",
    "iteration = 3\n",
    "toto.nrn_drwr(np_stamp,vector,angle,iteration, start)\n",
    "## 323\n",
    "vector = {\n",
    "    \"x\": 1,\n",
    "    \"y\": -0.5\n",
    "}\n",
    "angle =  -0.0029197200688167533\n",
    "start = {\n",
    "    \"x\": 4,\n",
    "    \"y\": 8\n",
    "}\n",
    "iteration = 7\n",
    "toto.nrn_drwr(np_stamp,vector,angle,iteration, start)\n",
    "## 336\n",
    "vector = {\n",
    "    \"x\": 0,\n",
    "    \"y\": 1\n",
    "}\n",
    "angle =  0.08429956527287384\n",
    "start = {\n",
    "    \"x\": 19,\n",
    "    \"y\": 5\n",
    "}\n",
    "iteration = 7\n",
    "toto.nrn_drwr(np_stamp,vector,angle,iteration, start)\n",
    "## 352\n",
    "vector = {\n",
    "    \"x\": 0,\n",
    "    \"y\": 1\n",
    "}\n",
    "angle =  -0.29475261075542974\n",
    "start = {\n",
    "    \"x\": 6,\n",
    "    \"y\": 12\n",
    "}\n",
    "iteration = 17\n",
    "toto.nrn_drwr(np_stamp,vector,angle,iteration, start)\n",
    "## 338\n",
    "vector = {\n",
    "    \"x\": 0,\n",
    "    \"y\": -1\n",
    "}\n",
    "angle =  0.01892650072057606\n",
    "start = {\n",
    "    \"x\": 6,\n",
    "    \"y\": 16\n",
    "}\n",
    "iteration = 8\n",
    "plt.matshow(toto.nrn_drwr(np_stamp,vector,angle,iteration, start))"
   ],
   "outputs": [
    {
     "output_type": "execute_result",
     "data": {
      "text/plain": [
       "<matplotlib.image.AxesImage at 0x7efd68ec4f60>"
      ]
     },
     "metadata": {},
     "execution_count": 27
    },
    {
     "output_type": "display_data",
     "data": {
      "image/png": "[encoded data removed]",
      "text/plain": [
       "<Figure size 288x288 with 1 Axes>"
      ]
     },
     "metadata": {
      "needs_background": "light"
     }
    }
   ],
   "metadata": {}
  },
  {
   "cell_type": "code",
   "execution_count": 29,
   "source": [
    "show_receptive_field_id(321,episd_id)"
   ],
   "outputs": [
    {
     "output_type": "stream",
     "name": "stdout",
     "text": [
      "{'_id': 321, 'schema_version': 2, 'type': 'sentive_vision_arcs', 'DbConnectivity': {'pre_synaptique': [186, 185, 176], 'post_synaptique': []}, 'meta': {'mode': 'croissance', 'center': {'x': 16, 'y': 20}, 'real_center': {'x': 0.0, 'y': 0.0}, 'matrix_width': 5, 'local_tip_1': {'x': 14.0, 'y': 20.0}, 'vector_1': {'x': 2.0, 'y': 0.0}, 'local_tip_2': {'x': 18.0, 'y': 18.0}, 'vector_2': {'x': 2.0, 'y': -2.0}, 'axes_symétrie': [], 'angle': -0.7853981633974484, 'std_angle': -1, 'length_c': 0}}\n"
     ]
    },
    {
     "output_type": "display_data",
     "data": {
      "image/png": "[encoded data removed]",
      "text/plain": [
       "<Figure size 288x288 with 1 Axes>"
      ]
     },
     "metadata": {
      "needs_background": "light"
     }
    }
   ],
   "metadata": {}
  },
  {
   "cell_type": "code",
   "execution_count": 30,
   "source": [
    "A = [23, 22, 29, 29, 23, 41, 41, 29, 43, 43, 41, 44, 44, 43, 45, 45, 44, 46, 46, 45, 47, 47, 46, 48, 48, 47, 49, 49, 48, 50, 50, 49, 51, 51, 50, 52, 52, 51, 53, 43, 40, 44, 42, 39, 44, 44, 42, 45, 42, 38, 44, 40, 28, 43, 38, 30, 42, 30, 23, 38, 28, 24, 40, 24, 22, 28, 23, 22, 30]\n",
    "np.histogram(A,list(set(A)))"
   ],
   "outputs": [
    {
     "output_type": "execute_result",
     "data": {
      "text/plain": [
       "(array([3, 4, 2, 3, 3, 3, 3, 1, 3, 3, 4, 5, 7, 4, 3, 3, 3, 3, 3, 3, 3]),\n",
       " array([22, 23, 24, 28, 29, 30, 38, 39, 40, 41, 42, 43, 44, 45, 46, 47, 48,\n",
       "        49, 50, 51, 52, 53]))"
      ]
     },
     "metadata": {},
     "execution_count": 30
    }
   ],
   "metadata": {}
  },
  {
   "cell_type": "code",
   "execution_count": 383,
   "source": [
    "nnet1.show_receptive_field_id(501)"
   ],
   "outputs": [
    {
     "output_type": "stream",
     "name": "stdout",
     "text": [
      "{'_id': 501, 'schema_version': 2, 'type': 'sentive_vision_arcs', 'DbConnectivity': {'pre_synaptique': [199, 175, 206], 'post_synaptique': []}, 'meta': {'mode': 'croissance', 'center': {'x': 19, 'y': 13}, 'real_center': {'x': 0.0, 'y': 0.0}, 'matrix_width': 5, 'local_tip_1': {'x': 18.0, 'y': 15.0}, 'vector_1': {'x': 1.0, 'y': -2.0}, 'local_tip_2': {'x': 19.0, 'y': 11.0}, 'vector_2': {'x': 0.0, 'y': -2.0}, 'axes_symétrie': [], 'angle': -0.46364760900080615, 'std_angle': -1, 'length_c': 0}}\n"
     ]
    },
    {
     "output_type": "display_data",
     "data": {
      "image/png": "[encoded data removed]",
      "text/plain": [
       "<Figure size 288x288 with 1 Axes>"
      ]
     },
     "metadata": {
      "needs_background": "light"
     }
    }
   ],
   "metadata": {}
  },
  {
   "cell_type": "code",
   "execution_count": 374,
   "source": [
    "nnet1.nrn_tls.lst_nrns[500].neuron"
   ],
   "outputs": [
    {
     "output_type": "execute_result",
     "data": {
      "text/plain": [
       "{'_id': 501,\n",
       " 'schema_version': 2,\n",
       " 'type': 'sentive_vision_arcs',\n",
       " 'DbConnectivity': {'pre_synaptique': [199, 175, 206], 'post_synaptique': []},\n",
       " 'meta': {'mode': 'croissance',\n",
       "  'center': {'x': 19, 'y': 13},\n",
       "  'real_center': {'x': 0.0, 'y': 0.0},\n",
       "  'matrix_width': 5,\n",
       "  'local_tip_1': {'x': 18.0, 'y': 15.0},\n",
       "  'vector_1': {'x': 1.0, 'y': -2.0},\n",
       "  'local_tip_2': {'x': 19.0, 'y': 11.0},\n",
       "  'vector_2': {'x': 0.0, 'y': -2.0},\n",
       "  'axes_symétrie': [],\n",
       "  'angle': -0.46364760900080615,\n",
       "  'std_angle': -1,\n",
       "  'length_c': 0}}"
      ]
     },
     "metadata": {},
     "execution_count": 374
    }
   ],
   "metadata": {}
  },
  {
   "cell_type": "code",
   "execution_count": 390,
   "source": [
    "\n",
    "np_stamp = np.zeros([28,28])\n",
    "vector = {\n",
    "    \"x\": 0.5,\n",
    "    \"y\": -1\n",
    "}\n",
    "angle =  -0.46364760900080615/2\n",
    "start = {\n",
    "    \"x\": 18,\n",
    "    \"y\": 15\n",
    "}\n",
    "iteration = 4\n",
    "plt.matshow(nnet1.nrn_tls.nrn_drwr(np_stamp,vector,angle,iteration, start))"
   ],
   "outputs": [
    {
     "output_type": "execute_result",
     "data": {
      "text/plain": [
       "<matplotlib.image.AxesImage at 0x7f928684c070>"
      ]
     },
     "metadata": {},
     "execution_count": 390
    },
    {
     "output_type": "display_data",
     "data": {
      "image/png": "[encoded data removed]",
      "text/plain": [
       "<Figure size 288x288 with 1 Axes>"
      ]
     },
     "metadata": {
      "needs_background": "light"
     }
    }
   ],
   "metadata": {}
  },
  {
   "cell_type": "code",
   "execution_count": 15,
   "source": [
    "nnet1.nrn_tls.lst_nrns[50].neuron[\"meta\"][\"local_tip_1\"]"
   ],
   "outputs": [
    {
     "output_type": "execute_result",
     "data": {
      "text/plain": [
       "{'x': 1.0, 'y': 0}"
      ]
     },
     "metadata": {},
     "execution_count": 15
    }
   ],
   "metadata": {}
  },
  {
   "cell_type": "code",
   "execution_count": 58,
   "source": [
    "A=set()"
   ],
   "outputs": [],
   "metadata": {}
  },
  {
   "cell_type": "code",
   "execution_count": 63,
   "source": [
    "A.add(5)"
   ],
   "outputs": [],
   "metadata": {}
  },
  {
   "cell_type": "code",
   "execution_count": 67,
   "source": [
    "A.pop()"
   ],
   "outputs": [
    {
     "output_type": "execute_result",
     "data": {
      "text/plain": [
       "4"
      ]
     },
     "metadata": {},
     "execution_count": 67
    }
   ],
   "metadata": {}
  },
  {
   "cell_type": "code",
   "execution_count": 68,
   "source": [
    "A"
   ],
   "outputs": [
    {
     "output_type": "execute_result",
     "data": {
      "text/plain": [
       "{5}"
      ]
     },
     "metadata": {},
     "execution_count": 68
    }
   ],
   "metadata": {}
  },
  {
   "cell_type": "code",
   "execution_count": 172,
   "source": [],
   "outputs": [],
   "metadata": {}
  },
  {
   "cell_type": "code",
   "execution_count": null,
   "source": [],
   "outputs": [],
   "metadata": {}
  }
 ],
 "metadata": {
  "interpreter": {
   "hash": "fdf7e7c20b04e4f70edddddc1d1133d1a4690e33a35cf83bc0e7c8ec2e85589e"
  },
  "kernelspec": {
   "name": "python3",
   "display_name": "Python 3.8.8 64-bit ('base': conda)"
  },
  "language_info": {
   "codemirror_mode": {
    "name": "ipython",
    "version": 3
   },
   "file_extension": ".py",
   "mimetype": "text/x-python",
   "name": "python",
   "nbconvert_exporter": "python",
   "pygments_lexer": "ipython3",
   "version": "3.8.8"
  }
 },
 "nbformat": 4,
 "nbformat_minor": 2
}