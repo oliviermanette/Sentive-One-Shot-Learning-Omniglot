{
 "cells": [
  {
   "cell_type": "code",
   "execution_count": 1,
   "metadata": {},
   "outputs": [],
   "source": [
    "import numpy as np\n",
    "import matplotlib.pyplot as plt\n",
    "\n",
    "# Calculer la vitesse\n",
    "\n",
    "vitesses = [0, 5, 10, 15, 20, 30, 40, 60, 80, 120, 160, 220, 320, 440, 640, 880, 1280 ]\n",
    "pression_dynamique_40 = [0, 0.04814, 0.19256, 0.43326, 0.77025, 1.73307, 3.08102, 6.93230, 12.3241, 27.7292, 49.2964, 93.2010, 197.185, 372.804, 788.742, 1491.21, 3154.97] # N/m2\n",
    "pression_dynamique_altitude = [0.04814, 0.04158, 0.03597, 0.03117, 0.02705, 0.02351, 0.02047, 0.01784, 0.01572, 0.01386, 0.01222, 0.01077, 0.00958, 0.00852, 0.00756, 0.00670, 0.00594, 0.00525, 0.00464, 0.00409, 0.00360, 0.00316, 0.00278, 0.00244, 0.00213, 0.00186, 0.00162, 0.00141, 0.00123, 0.00107, 0.00092, 0.00080, 0.00068, 0.00056, 0.00043, 0.00031, 0.00019, 0.00007]\n",
    "\n",
    "\n"
   ]
  },
  {
   "cell_type": "code",
   "execution_count": 2,
   "metadata": {},
   "outputs": [
    {
     "name": "stdout",
     "output_type": "stream",
     "text": [
      "altitude: 60 km\n",
      "hauteur acquise: 20 km\n",
      "vitesse maxi: -489.6 m/s, -1763 km/h\n",
      "distance parcourue: 42.1 km\n"
     ]
    },
    {
     "data": {
      "text/plain": [
       "[<matplotlib.lines.Line2D at 0x7fb36e970eb0>]"
      ]
     },
     "execution_count": 2,
     "metadata": {},
     "output_type": "execute_result"
    },
    {
     "data": {
      "image/png": "[encoded data removed]",
      "text/plain": [
       "<Figure size 432x288 with 1 Axes>"
      ]
     },
     "metadata": {
      "needs_background": "light"
     },
     "output_type": "display_data"
    },
    {
     "data": {
      "image/png": "[encoded data removed]",
      "text/plain": [
       "<Figure size 432x288 with 1 Axes>"
      ]
     },
     "metadata": {
      "needs_background": "light"
     },
     "output_type": "display_data"
    }
   ],
   "source": [
    "masse = 30000 * 9.81   # Masse du véhicule\n",
    "force_moteur = 2112000 # Poussée moteur en Newton\n",
    "duree_moteur = 200 # durée de fonctionnement du moteur en secondes\n",
    "surf_eq = 1920 # m2\n",
    "vitesse = 0\n",
    "distance = 0\n",
    "altitude = 40\n",
    "pente_asc = 0.5\n",
    "acc_resist_g = 9.81 * np.sin(pente_asc)\n",
    "hauteur = 0\n",
    "delta_t = 1\n",
    "log_v = []\n",
    "log_alt = []\n",
    "for t in range(400):\n",
    "    log_v.append(vitesse)\n",
    "    pression_v = np.interp(vitesse, vitesses,pression_dynamique_40)\n",
    "    if hauteur>=len(pression_dynamique_altitude)-1:\n",
    "        if pente_asc!=0:\n",
    "            force_moteur -= masse\n",
    "        pente_asc = 0\n",
    "        acc_resist_g = 0\n",
    "    else:\n",
    "        hauteur = np.around(np.sin(pente_asc)*distance/1000,0).astype(int)\n",
    "    if t>=duree_moteur:\n",
    "        force_moteur=0\n",
    "        \n",
    "    log_alt.append(altitude+hauteur)\n",
    "    pression_v2 = pression_v*pression_dynamique_altitude[hauteur]/pression_dynamique_40[1]\n",
    "    force_resist = pression_v2 * surf_eq\n",
    "    force_result = force_moteur - force_resist\n",
    "    acc = (force_result / masse) - acc_resist_g\n",
    "    vitesse += acc*delta_t\n",
    "    distance += vitesse * delta_t\n",
    "\n",
    "print(\"altitude:\", altitude+ hauteur,\"km\")\n",
    "print(\"hauteur acquise:\", hauteur,\"km\")\n",
    "print(\"vitesse maxi:\", np.around(vitesse,1),\"m/s,\",np.around(vitesse*3.6).astype(int),\"km/h\")\n",
    "print(\"distance parcourue:\",np.around(distance/1000,1),\"km\")\n",
    "plt.plot(log_v)\n",
    "_, ax = plt.subplots()\n",
    "ax.plot(log_alt)"
   ]
  },
  {
   "cell_type": "code",
   "execution_count": 3,
   "metadata": {},
   "outputs": [
    {
     "data": {
      "text/plain": [
       "20"
      ]
     },
     "execution_count": 3,
     "metadata": {},
     "output_type": "execute_result"
    }
   ],
   "source": [
    "hauteur"
   ]
  },
  {
   "cell_type": "code",
   "execution_count": 4,
   "metadata": {},
   "outputs": [
    {
     "name": "stdout",
     "output_type": "stream",
     "text": [
      "0.0\n"
     ]
    }
   ],
   "source": [
    "pression_v = np.interp(vitesse, vitesses,pression_dynamique_40)\n",
    "force_resist = pression_v * surf_eq\n",
    "force_result = force_moteur - force_resist\n",
    "acc = force_result / masse # Loi de Newton, \n",
    "print(acc)"
   ]
  },
  {
   "cell_type": "code",
   "execution_count": 5,
   "metadata": {},
   "outputs": [
    {
     "data": {
      "text/plain": [
       "4.703164533707231"
      ]
     },
     "execution_count": 5,
     "metadata": {},
     "output_type": "execute_result"
    }
   ],
   "source": [
    "acc_resist_g"
   ]
  },
  {
   "cell_type": "code",
   "execution_count": 6,
   "metadata": {},
   "outputs": [
    {
     "data": {
      "text/plain": [
       "20.026649999999997"
      ]
     },
     "execution_count": 6,
     "metadata": {},
     "output_type": "execute_result"
    }
   ],
   "source": [
    "np.interp(100, vitesses,pression_dynamique_40)"
   ]
  },
  {
   "cell_type": "code",
   "execution_count": 7,
   "metadata": {},
   "outputs": [
    {
     "name": "stdout",
     "output_type": "stream",
     "text": [
      "--------------------------------\n",
      "force_resist_g 0.0\n"
     ]
    }
   ],
   "source": [
    "pente_asc = 0\n",
    "acc_resist_g = 9.81 * np.sin(pente_asc)\n",
    "print(\"--------------------------------\")\n",
    "print(\"force_resist_g\",acc_resist_g)"
   ]
  },
  {
   "cell_type": "code",
   "execution_count": 8,
   "metadata": {},
   "outputs": [
    {
     "data": {
      "text/plain": [
       "18.434948822922"
      ]
     },
     "execution_count": 8,
     "metadata": {},
     "output_type": "execute_result"
    }
   ],
   "source": [
    "180*np.arccos(90/np.sqrt(np.power(90,2)+np.power(30,2)))/np.pi"
   ]
  },
  {
   "cell_type": "code",
   "execution_count": 9,
   "metadata": {},
   "outputs": [
    {
     "data": {
      "text/plain": [
       "1056000.0"
      ]
     },
     "execution_count": 9,
     "metadata": {},
     "output_type": "execute_result"
    }
   ],
   "source": [
    "2112000/2"
   ]
  },
  {
   "cell_type": "code",
   "execution_count": 10,
   "metadata": {},
   "outputs": [
    {
     "data": {
      "text/plain": [
       "215290.51987767583"
      ]
     },
     "execution_count": 10,
     "metadata": {},
     "output_type": "execute_result"
    }
   ],
   "source": [
    "2112000/9.81"
   ]
  },
  {
   "cell_type": "code",
   "execution_count": 11,
   "metadata": {},
   "outputs": [
    {
     "data": {
      "text/plain": [
       "294300.0"
      ]
     },
     "execution_count": 11,
     "metadata": {},
     "output_type": "execute_result"
    }
   ],
   "source": [
    "masse"
   ]
  },
  {
   "cell_type": "code",
   "execution_count": 12,
   "metadata": {},
   "outputs": [
    {
     "data": {
      "text/plain": [
       "-294300.0"
      ]
     },
     "execution_count": 12,
     "metadata": {},
     "output_type": "execute_result"
    }
   ],
   "source": [
    "force_moteur - masse"
   ]
  },
  {
   "cell_type": "code",
   "execution_count": null,
   "metadata": {},
   "outputs": [],
   "source": []
  }
 ],
 "metadata": {
  "interpreter": {
   "hash": "63059b80fecc93b7a252d34091f3d9f07ea164704f47bcf2aeb39279bb222da7"
  },
  "kernelspec": {
   "display_name": "Python 3.8.8 64-bit ('base': conda)",
   "name": "python3"
  },
  "language_info": {
   "codemirror_mode": {
    "name": "ipython",
    "version": 3
   },
   "file_extension": ".py",
   "mimetype": "text/x-python",
   "name": "python",
   "nbconvert_exporter": "python",
   "pygments_lexer": "ipython3",
   "version": "3.8.8"
  },
  "orig_nbformat": 4
 },
 "nbformat": 4,
 "nbformat_minor": 2
}
