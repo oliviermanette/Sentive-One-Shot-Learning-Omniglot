{
 "cells": [
  {
   "cell_type": "code",
   "execution_count": 1,
   "source": [
    "import sys\n",
    "\n",
    "import numpy as np\n",
    "import matplotlib.pyplot as plt\n",
    "\n",
    "sys.path.insert(1, '../metadl/baselines/sentive_ai')\n",
    "from sentive.sentive_network import sentive_network\n",
    "\n",
    "from sentive.sentive_brain import sentive_brain"
   ],
   "outputs": [],
   "metadata": {}
  },
  {
   "cell_type": "code",
   "execution_count": 2,
   "source": [
    "episode = np.zeros([1,5,28,28,2])\n",
    "episode[0][0][:,:,0] = np.loadtxt(\"episode_0.csv\")\n",
    "episode[0][0][:,:,1] = np.loadtxt(\"episode_0.csv\")\n",
    "\n",
    "episode[0][1][:,:,0] = np.loadtxt(\"episode_1.csv\")\n",
    "episode[0][1][:,:,1] = np.loadtxt(\"episode_1.csv\")\n",
    "\n",
    "episode[0][2][:,:,0] = np.loadtxt(\"episode_2.csv\")\n",
    "episode[0][2][:,:,1] = np.loadtxt(\"episode_2.csv\")\n",
    "\n",
    "episode[0][3][:,:,0] = np.loadtxt(\"episode_3.csv\")\n",
    "episode[0][3][:,:,1] = np.loadtxt(\"episode_3.csv\")\n",
    "\n",
    "episode[0][4][:,:,0] = np.loadtxt(\"episode_4.csv\")\n",
    "episode[0][4][:,:,1] = np.loadtxt(\"episode_4.csv\")"
   ],
   "outputs": [],
   "metadata": {}
  },
  {
   "cell_type": "code",
   "execution_count": 3,
   "source": [
    "tmp_path_length = np.array([1, 2, 3, 4, 5])\n",
    "tmp_path_length[np.argpartition(tmp_path_length,len(tmp_path_length)-1)]"
   ],
   "outputs": [
    {
     "output_type": "execute_result",
     "data": {
      "text/plain": [
       "array([2, 1, 3, 4, 5])"
      ]
     },
     "metadata": {},
     "execution_count": 3
    }
   ],
   "metadata": {}
  },
  {
   "cell_type": "code",
   "execution_count": 4,
   "source": [
    "x = np.array([3, 4, 2, 1])\n",
    "[np.argmax(x),4]"
   ],
   "outputs": [
    {
     "output_type": "execute_result",
     "data": {
      "text/plain": [
       "[1, 4]"
      ]
     },
     "metadata": {},
     "execution_count": 4
    }
   ],
   "metadata": {}
  },
  {
   "cell_type": "code",
   "execution_count": 5,
   "source": [
    "# nnet1 = sentive_network(episode[0][4])\n",
    "# nnet1.run_layers()\n",
    "# nnet1.draw_selected_segment_path()\n",
    "# nnet1.show_selected_segment_pxl()\n",
    "sbrain = sentive_brain(episode,5)"
   ],
   "outputs": [
    {
     "output_type": "stream",
     "name": "stdout",
     "text": [
      "\n",
      "********* network: 0\n",
      "and here\n",
      "nombre de neurones taille 1: 22\n",
      "[[ 0.06351933  0.99798061]\n",
      " [-0.99798061  0.06351933]]\n",
      "\n",
      "nombre de neurones couche 1 & 2: 40\n",
      "\n",
      "nombre de neurones couches 1, 2 et 3 : 43\n",
      "****************************************\n",
      "\n",
      "nombre de neurones couches 1, 2, 3 et 4: 43\n",
      "****************************************\n",
      "SELECTION de taille: 2\n",
      "\n",
      "********* network: 1\n",
      "and here\n",
      "nombre de neurones taille 1: 72\n",
      "[[ 0.95359843 -0.30108145]\n",
      " [ 0.30108145  0.95359843]]\n",
      "\n",
      "nombre de neurones couche 1 & 2: 134\n",
      "128 21\n",
      "!!!! ERROR cannot find either source or destination 122 112\n",
      "\n",
      "nombre de neurones couches 1, 2 et 3 : 136\n",
      "****************************************\n",
      "entre les positions 1 et 5 [-1.1071487177940904, -0.46364760900080615, -0.46364760900080615, 0.9272952180016124, -0.46364760900080615] trouvé: 0\n",
      "\n",
      "nombre de neurones couches 1, 2, 3 et 4: 136\n",
      "****************************************\n",
      "SELECTION de taille: 3\n"
     ]
    },
    {
     "output_type": "stream",
     "name": "stderr",
     "text": [
      "../metadl/baselines/sentive_ai/sentive/sentive_neuron_helper.py:348: RuntimeWarning: invalid value encountered in double_scalars\n",
      "  return signe * np.arccos(np.sum(np.multiply(np_c_1,np_c_2))/(np.sqrt(np.sum(np.power(np_c_1,2)))*np.sqrt(np.sum(np.power(np_c_2,2)))))\n"
     ]
    },
    {
     "output_type": "stream",
     "name": "stdout",
     "text": [
      "\n",
      "********* network: 2\n",
      "and here\n",
      "nombre de neurones taille 1: 90\n",
      "[[ 0.08967995  0.99597064]\n",
      " [ 0.99597064 -0.08967995]]\n",
      "\n",
      "nombre de neurones couche 1 & 2: 172\n",
      "128 57\n",
      "128 173\n",
      "** fin (-: **\n",
      "\n",
      "nombre de neurones couches 1, 2 et 3 : 169\n",
      "****************************************\n",
      "entre les positions 6 et 10 [-1.1071487177940904, -1.1071487177940904, -0.46364760900080615, 0.46364760900080615, 0.3217505543966423] trouvé: 0\n",
      "\n",
      "nombre de neurones couches 1, 2, 3 et 4: 169\n",
      "****************************************\n",
      "SELECTION de taille: 2\n",
      "\n",
      "********* network: 3\n",
      "and here\n"
     ]
    },
    {
     "output_type": "stream",
     "name": "stderr",
     "text": [
      "../metadl/baselines/sentive_ai/sentive/sentive_neuron_helper.py:348: RuntimeWarning: invalid value encountered in double_scalars\n",
      "  return signe * np.arccos(np.sum(np.multiply(np_c_1,np_c_2))/(np.sqrt(np.sum(np.power(np_c_1,2)))*np.sqrt(np.sum(np.power(np_c_2,2)))))\n",
      "../metadl/baselines/sentive_ai/sentive/sentive_neuron_helper.py:348: RuntimeWarning: invalid value encountered in double_scalars\n",
      "  return signe * np.arccos(np.sum(np.multiply(np_c_1,np_c_2))/(np.sqrt(np.sum(np.power(np_c_1,2)))*np.sqrt(np.sum(np.power(np_c_2,2)))))\n"
     ]
    },
    {
     "output_type": "stream",
     "name": "stdout",
     "text": [
      "nombre de neurones taille 1: 65\n",
      "[[ 0.46661446  0.88446082]\n",
      " [ 0.88446082 -0.46661446]]\n",
      "\n",
      "nombre de neurones couche 1 & 2: 126\n",
      "\n",
      "nombre de neurones couches 1, 2 et 3 : 130\n",
      "****************************************\n",
      "\n",
      "nombre de neurones couches 1, 2, 3 et 4: 130\n",
      "****************************************\n",
      "SELECTION de taille: 3\n",
      "\n",
      "********* network: 4\n",
      "and here\n",
      "nombre de neurones taille 1: 73\n",
      "[[-0.96579245 -0.2593163 ]\n",
      " [-0.2593163   0.96579245]]\n",
      "\n",
      "nombre de neurones couche 1 & 2: 136\n",
      "128 45\n",
      "\n",
      "nombre de neurones couches 1, 2 et 3 : 140\n",
      "****************************************\n",
      "entre les positions 1 et 7 [0.0, -0.7853981633974484, -0.7853981633974484, -1.5707963267948966, 0.0, 0.0, 0.7853981633974484] trouvé: 3\n",
      "\n",
      "nombre de neurones couches 1, 2, 3 et 4: 140\n",
      "****************************************\n",
      "SELECTION de taille: 3\n"
     ]
    },
    {
     "output_type": "stream",
     "name": "stderr",
     "text": [
      "../metadl/baselines/sentive_ai/sentive/sentive_neuron_helper.py:348: RuntimeWarning: invalid value encountered in double_scalars\n",
      "  return signe * np.arccos(np.sum(np.multiply(np_c_1,np_c_2))/(np.sqrt(np.sum(np.power(np_c_1,2)))*np.sqrt(np.sum(np.power(np_c_2,2)))))\n"
     ]
    },
    {
     "output_type": "display_data",
     "data": {
      "image/png": "[encoded data removed]",
      "text/plain": [
       "<Figure size 288x288 with 1 Axes>"
      ]
     },
     "metadata": {
      "needs_background": "light"
     }
    },
    {
     "output_type": "display_data",
     "data": {
      "image/png": "[encoded data removed]",
      "text/plain": [
       "<Figure size 432x288 with 1 Axes>"
      ]
     },
     "metadata": {
      "needs_background": "light"
     }
    },
    {
     "output_type": "display_data",
     "data": {
      "image/png": "[encoded data removed]",
      "text/plain": [
       "<Figure size 288x288 with 1 Axes>"
      ]
     },
     "metadata": {
      "needs_background": "light"
     }
    },
    {
     "output_type": "display_data",
     "data": {
      "image/png": "[encoded data removed]",
      "text/plain": [
       "<Figure size 432x288 with 1 Axes>"
      ]
     },
     "metadata": {
      "needs_background": "light"
     }
    },
    {
     "output_type": "display_data",
     "data": {
      "image/png": "[encoded data removed]",
      "text/plain": [
       "<Figure size 288x288 with 1 Axes>"
      ]
     },
     "metadata": {
      "needs_background": "light"
     }
    },
    {
     "output_type": "display_data",
     "data": {
      "image/png": "[encoded data removed]",
      "text/plain": [
       "<Figure size 432x288 with 1 Axes>"
      ]
     },
     "metadata": {
      "needs_background": "light"
     }
    },
    {
     "output_type": "display_data",
     "data": {
      "image/png": "[encoded data removed]",
      "text/plain": [
       "<Figure size 288x288 with 1 Axes>"
      ]
     },
     "metadata": {
      "needs_background": "light"
     }
    },
    {
     "output_type": "display_data",
     "data": {
      "image/png": "[encoded data removed]",
      "text/plain": [
       "<Figure size 432x288 with 1 Axes>"
      ]
     },
     "metadata": {
      "needs_background": "light"
     }
    },
    {
     "output_type": "display_data",
     "data": {
      "image/png": "[encoded data removed]",
      "text/plain": [
       "<Figure size 288x288 with 1 Axes>"
      ]
     },
     "metadata": {
      "needs_background": "light"
     }
    },
    {
     "output_type": "display_data",
     "data": {
      "image/png": "[encoded data removed]",
      "text/plain": [
       "<Figure size 432x288 with 1 Axes>"
      ]
     },
     "metadata": {
      "needs_background": "light"
     }
    }
   ],
   "metadata": {}
  },
  {
   "cell_type": "code",
   "execution_count": 6,
   "source": [
    "nnet1.draw_binome_path_by_pos(2)"
   ],
   "outputs": [
    {
     "output_type": "error",
     "ename": "NameError",
     "evalue": "name 'nnet1' is not defined",
     "traceback": [
      "\u001b[0;31m---------------------------------------------------------------------------\u001b[0m",
      "\u001b[0;31mNameError\u001b[0m                                 Traceback (most recent call last)",
      "\u001b[0;32m<ipython-input-6-550400bf55df>\u001b[0m in \u001b[0;36m<module>\u001b[0;34m\u001b[0m\n\u001b[0;32m----> 1\u001b[0;31m \u001b[0mnnet1\u001b[0m\u001b[0;34m.\u001b[0m\u001b[0mdraw_binome_path_by_pos\u001b[0m\u001b[0;34m(\u001b[0m\u001b[0;36m2\u001b[0m\u001b[0;34m)\u001b[0m\u001b[0;34m\u001b[0m\u001b[0;34m\u001b[0m\u001b[0m\n\u001b[0m",
      "\u001b[0;31mNameError\u001b[0m: name 'nnet1' is not defined"
     ]
    }
   ],
   "metadata": {}
  },
  {
   "cell_type": "code",
   "execution_count": null,
   "source": [
    "nnet1.nrn_tls.get_neuron_from_id(112)"
   ],
   "outputs": [
    {
     "output_type": "execute_result",
     "data": {
      "text/plain": [
       "{'_id': 112,\n",
       " 'schema_version': 2,\n",
       " 'type': 'sentive_vision_arcs',\n",
       " 'layer_id': 2,\n",
       " 'ratio_conn': 0.8888888888888888,\n",
       " 'DbConnectivity': {'pre_synaptique': [35, 43, 49],\n",
       "  'post_synaptique': [105, 102, 118, 121],\n",
       "  'weights': {105: 2, 118: 2, 102: 1, 121: 1}},\n",
       " 'meta': {'center': {'x': 19, 'y': 12},\n",
       "  'real_center': {'x': 0.0, 'y': 0.0},\n",
       "  'matrix_width': 3,\n",
       "  'local_tip_1': {'x': 0, 'y': 0},\n",
       "  'vector_1': {'x': 0.0, 'y': 2.0},\n",
       "  'local_tip_2': {'x': 0, 'y': 0},\n",
       "  'vector_2': {'x': 0, 'y': 0},\n",
       "  'angle': 0.0,\n",
       "  'derive_angle': 0}}"
      ]
     },
     "metadata": {},
     "execution_count": 7
    }
   ],
   "metadata": {}
  },
  {
   "cell_type": "code",
   "execution_count": null,
   "source": [
    "nnet1.show_selected_segment_pxl(1)"
   ],
   "outputs": [
    {
     "output_type": "display_data",
     "data": {
      "image/png": "[encoded data removed]",
      "text/plain": [
       "<Figure size 432x288 with 1 Axes>"
      ]
     },
     "metadata": {
      "needs_background": "light"
     }
    }
   ],
   "metadata": {}
  },
  {
   "cell_type": "code",
   "execution_count": null,
   "source": [
    "nnet1.show_selected_segment_pxl(2)"
   ],
   "outputs": [
    {
     "output_type": "display_data",
     "data": {
      "image/png": "[encoded data removed]",
      "text/plain": [
       "<Figure size 432x288 with 1 Axes>"
      ]
     },
     "metadata": {
      "needs_background": "light"
     }
    }
   ],
   "metadata": {}
  },
  {
   "cell_type": "code",
   "execution_count": null,
   "source": [
    "_, ax = plt.subplots()\n",
    "color = [\"k\",\"y\",\"b\",\"g\"]\n",
    "for i in range(len(nnet1.nrn_segments)):\n",
    "    # print(nnet1.nrn_segments[i][\"ratio_pxls_total\"],len(nnet1.nrn_segments[i][\"path\"]))\n",
    "    nnet1.draw_segment_path_by_pos(i, ax)"
   ],
   "outputs": [
    {
     "output_type": "display_data",
     "data": {
      "image/png": "[encoded data removed]",
      "text/plain": [
       "<Figure size 432x288 with 1 Axes>"
      ]
     },
     "metadata": {
      "needs_background": "light"
     }
    }
   ],
   "metadata": {}
  },
  {
   "cell_type": "code",
   "execution_count": null,
   "source": [
    "nnet1.nrn_segments[2]"
   ],
   "outputs": [
    {
     "output_type": "execute_result",
     "data": {
      "text/plain": [
       "{'nrn3_id': 139,\n",
       " 'nrn3': {'_id': 139,\n",
       "  'schema_version': 1,\n",
       "  'type': 'sentive_vision_packed_ratio',\n",
       "  'layer_id': 3,\n",
       "  'ratio_conn': 0,\n",
       "  'DbConnectivity': {'pre_synaptique': [109, 110, 111, 115, 116, 117],\n",
       "   'post_synaptique': [],\n",
       "   'weights': {}},\n",
       "  'meta': {'path': [109, 115],\n",
       "   'tips': [117, 109, 110, 111, 115, 116],\n",
       "   'nodes': array([115,  78]),\n",
       "   'total_length': 1.0,\n",
       "   'mobilise_nrn2_ids': {104,\n",
       "    107,\n",
       "    108,\n",
       "    109,\n",
       "    110,\n",
       "    111,\n",
       "    114,\n",
       "    115,\n",
       "    116,\n",
       "    117,\n",
       "    120},\n",
       "   'mobilise_pxl_ids': {38, 39, 40, 45, 46, 47, 52}}},\n",
       " 'path': [109, 115],\n",
       " 'vecteurs': [{'x': 0, 'y': 1}],\n",
       " 'angles': [],\n",
       " 'l_angles': [],\n",
       " 'joints': array([], dtype=float64),\n",
       " 'ratio_pxls_total': 0.0958904109589041}"
      ]
     },
     "metadata": {},
     "execution_count": 11
    }
   ],
   "metadata": {}
  },
  {
   "cell_type": "code",
   "execution_count": null,
   "source": [
    "sbrain.nnet[3].draw_segment_angle_by_id(2)"
   ],
   "outputs": [
    {
     "output_type": "stream",
     "name": "stdout",
     "text": [
      "ecart-type 0.37024024484653056\n",
      "moyenne -0.26179938779914946\n"
     ]
    },
    {
     "output_type": "display_data",
     "data": {
      "image/png": "[encoded data removed]",
      "text/plain": [
       "<Figure size 432x288 with 1 Axes>"
      ]
     },
     "metadata": {
      "needs_background": "light"
     }
    }
   ],
   "metadata": {}
  },
  {
   "cell_type": "code",
   "execution_count": null,
   "source": [
    "sbrain.nnet[1].draw_segment_angle_by_id(2)"
   ],
   "outputs": [
    {
     "output_type": "stream",
     "name": "stdout",
     "text": [
      "ecart-type 0.37024024484653056\n",
      "moyenne -0.5235987755982989\n"
     ]
    },
    {
     "output_type": "display_data",
     "data": {
      "image/png": "[encoded data removed]",
      "text/plain": [
       "<Figure size 432x288 with 1 Axes>"
      ]
     },
     "metadata": {
      "needs_background": "light"
     }
    }
   ],
   "metadata": {}
  },
  {
   "cell_type": "code",
   "execution_count": null,
   "source": [
    "net_id = 0\n",
    "_, ax = plt.subplots()\n",
    "for i in range(len(sbrain.nnet[net_id].nrn_segments)):\n",
    "    print(sbrain.nnet[net_id].nrn_segments[i][\"ratio_pxls_total\"],len(sbrain.nnet[net_id].nrn_segments[i][\"path\"]))\n",
    "    sbrain.nnet[net_id].draw_segment_path_by_pos(i, ax)"
   ],
   "outputs": [
    {
     "output_type": "stream",
     "name": "stdout",
     "text": [
      "0.6363636363636364 6\n",
      "0.36363636363636365 2\n",
      "0.36363636363636365 2\n",
      "0.2727272727272727 2\n",
      "0.2727272727272727 2\n",
      "0.2727272727272727 2\n",
      "0.2727272727272727 2\n",
      "0 0\n"
     ]
    },
    {
     "output_type": "display_data",
     "data": {
      "image/png": "[encoded data removed]",
      "text/plain": [
       "<Figure size 432x288 with 1 Axes>"
      ]
     },
     "metadata": {
      "needs_background": "light"
     }
    }
   ],
   "metadata": {}
  },
  {
   "cell_type": "code",
   "execution_count": null,
   "source": [
    "net_id = 1\n",
    "_, ax = plt.subplots()\n",
    "for i in range(len(sbrain.nnet[net_id].nrn_segments)):\n",
    "    print(sbrain.nnet[net_id].nrn_segments[i][\"ratio_pxls_total\"],len(sbrain.nnet[net_id].nrn_segments[i][\"path\"]))\n",
    "    sbrain.nnet[net_id].draw_segment_path_by_pos(i, ax)"
   ],
   "outputs": [
    {
     "output_type": "stream",
     "name": "stdout",
     "text": [
      "0.2638888888888889 8\n",
      "0.5694444444444444 17\n",
      "0.16666666666666666 5\n",
      "0 4\n"
     ]
    },
    {
     "output_type": "display_data",
     "data": {
      "image/png": "[encoded data removed]",
      "text/plain": [
       "<Figure size 432x288 with 1 Axes>"
      ]
     },
     "metadata": {
      "needs_background": "light"
     }
    }
   ],
   "metadata": {}
  },
  {
   "cell_type": "code",
   "execution_count": null,
   "source": [
    "net_id = 2\n",
    "_, ax = plt.subplots()\n",
    "for i in range(len(sbrain.nnet[net_id].nrn_segments)):\n",
    "    print(sbrain.nnet[net_id].nrn_segments[i][\"ratio_pxls_total\"],len(sbrain.nnet[net_id].nrn_segments[i][\"path\"]))\n",
    "    sbrain.nnet[net_id].draw_segment_path_by_pos(i, ax)"
   ],
   "outputs": [
    {
     "output_type": "stream",
     "name": "stdout",
     "text": [
      "0.8444444444444444 29\n",
      "0 0\n"
     ]
    },
    {
     "output_type": "display_data",
     "data": {
      "image/png": "[encoded data removed]",
      "text/plain": [
       "<Figure size 432x288 with 1 Axes>"
      ]
     },
     "metadata": {
      "needs_background": "light"
     }
    }
   ],
   "metadata": {}
  },
  {
   "cell_type": "code",
   "execution_count": null,
   "source": [
    "net_id = 3\n",
    "_, ax = plt.subplots()\n",
    "color\n",
    "for i in range(len(sbrain.nnet[net_id].nrn_segments)):\n",
    "    print(sbrain.nnet[net_id].nrn_segments[i][\"ratio_pxls_total\"],len(sbrain.nnet[net_id].nrn_segments[i][\"path\"]))\n",
    "    sbrain.nnet[net_id].draw_segment_path_by_pos(i, ax)"
   ],
   "outputs": [
    {
     "output_type": "stream",
     "name": "stdout",
     "text": [
      "0.4 7\n",
      "0.3384615384615385 6\n",
      "0.2923076923076923 5\n",
      "0.15384615384615385 2\n"
     ]
    },
    {
     "output_type": "display_data",
     "data": {
      "image/png": "[encoded data removed]",
      "text/plain": [
       "<Figure size 432x288 with 1 Axes>"
      ]
     },
     "metadata": {
      "needs_background": "light"
     }
    }
   ],
   "metadata": {}
  },
  {
   "cell_type": "code",
   "execution_count": null,
   "source": [
    "net_id = 4\n",
    "_, ax = plt.subplots()\n",
    "for i in range(len(sbrain.nnet[net_id].nrn_segments)):\n",
    "    print(sbrain.nnet[net_id].nrn_segments[i][\"ratio_pxls_total\"],len(sbrain.nnet[net_id].nrn_segments[i][\"path\"]))\n",
    "    sbrain.nnet[net_id].draw_segment_path_by_pos(i, ax)"
   ],
   "outputs": [
    {
     "output_type": "stream",
     "name": "stdout",
     "text": [
      "0.5753424657534246 15\n",
      "0.3013698630136986 6\n",
      "0.0958904109589041 2\n",
      "0.2602739726027397 5\n"
     ]
    },
    {
     "output_type": "display_data",
     "data": {
      "image/png": "[encoded data removed]",
      "text/plain": [
       "<Figure size 432x288 with 1 Axes>"
      ]
     },
     "metadata": {
      "needs_background": "light"
     }
    }
   ],
   "metadata": {}
  },
  {
   "cell_type": "code",
   "execution_count": null,
   "source": [
    "nnet1.nrn_tls.get_neuron_from_id(83)"
   ],
   "outputs": [
    {
     "output_type": "execute_result",
     "data": {
      "text/plain": [
       "{'_id': 83,\n",
       " 'schema_version': 2,\n",
       " 'type': 'sentive_vision_arcs',\n",
       " 'layer_id': 2,\n",
       " 'ratio_conn': 0.5,\n",
       " 'DbConnectivity': {'pre_synaptique': [16, 17, 12, 7],\n",
       "  'post_synaptique': [78, 79],\n",
       "  'weights': {78: 1, 79: 2}},\n",
       " 'meta': {'center': {'x': 23, 'y': 5},\n",
       "  'real_center': {'x': 0.0, 'y': 0.0},\n",
       "  'matrix_width': 3,\n",
       "  'local_tip_1': {'x': 0, 'y': 0},\n",
       "  'vector_1': {'x': 1.5, 'y': 2.0},\n",
       "  'local_tip_2': {'x': 0, 'y': 0},\n",
       "  'vector_2': {'x': 0, 'y': 0},\n",
       "  'angle': 0.3926990922354363,\n",
       "  'derive_angle': 0}}"
      ]
     },
     "metadata": {},
     "execution_count": 31
    }
   ],
   "metadata": {}
  },
  {
   "cell_type": "code",
   "execution_count": null,
   "source": [],
   "outputs": [],
   "metadata": {}
  },
  {
   "cell_type": "code",
   "execution_count": null,
   "source": [
    "nnet1.nrn_segments[0]"
   ],
   "outputs": [
    {
     "output_type": "execute_result",
     "data": {
      "text/plain": [
       "{'nrn3_id': 173,\n",
       " 'nrn3': {'_id': 173,\n",
       "  'schema_version': 1,\n",
       "  'type': 'sentive_vision_packed_ratio',\n",
       "  'layer_id': 3,\n",
       "  'ratio_conn': 0,\n",
       "  'DbConnectivity': {'pre_synaptique': [130,\n",
       "    131,\n",
       "    132,\n",
       "    133,\n",
       "    134,\n",
       "    135,\n",
       "    138,\n",
       "    139,\n",
       "    140,\n",
       "    141,\n",
       "    142,\n",
       "    143,\n",
       "    144,\n",
       "    145,\n",
       "    146,\n",
       "    147,\n",
       "    148,\n",
       "    149,\n",
       "    150,\n",
       "    151,\n",
       "    152,\n",
       "    153,\n",
       "    154,\n",
       "    155,\n",
       "    156,\n",
       "    157,\n",
       "    158,\n",
       "    159,\n",
       "    160,\n",
       "    162,\n",
       "    163,\n",
       "    164,\n",
       "    165,\n",
       "    166,\n",
       "    167,\n",
       "    168,\n",
       "    169,\n",
       "    170,\n",
       "    171,\n",
       "    172,\n",
       "    91,\n",
       "    92,\n",
       "    93,\n",
       "    94,\n",
       "    95,\n",
       "    96,\n",
       "    97,\n",
       "    98,\n",
       "    99,\n",
       "    100,\n",
       "    101,\n",
       "    102,\n",
       "    103,\n",
       "    104,\n",
       "    105,\n",
       "    106,\n",
       "    107,\n",
       "    108,\n",
       "    112,\n",
       "    113,\n",
       "    115,\n",
       "    116,\n",
       "    117,\n",
       "    119,\n",
       "    120,\n",
       "    121,\n",
       "    123,\n",
       "    124,\n",
       "    125,\n",
       "    126,\n",
       "    127],\n",
       "   'post_synaptique': [],\n",
       "   'weights': {}},\n",
       "  'meta': {'path': [171,\n",
       "    169,\n",
       "    164,\n",
       "    162,\n",
       "    160,\n",
       "    155,\n",
       "    157,\n",
       "    150,\n",
       "    145,\n",
       "    142,\n",
       "    140,\n",
       "    137,\n",
       "    127,\n",
       "    117,\n",
       "    108,\n",
       "    100,\n",
       "    91,\n",
       "    93,\n",
       "    95,\n",
       "    97,\n",
       "    103,\n",
       "    112,\n",
       "    119,\n",
       "    124,\n",
       "    132,\n",
       "    130,\n",
       "    118,\n",
       "    109,\n",
       "    111],\n",
       "   'tips': [166, 170, 171],\n",
       "   'nodes': [111],\n",
       "   'total_length': 61.79680576885512,\n",
       "   'mobilise_nrn2_ids': {91,\n",
       "    92,\n",
       "    93,\n",
       "    94,\n",
       "    95,\n",
       "    96,\n",
       "    97,\n",
       "    98,\n",
       "    99,\n",
       "    100,\n",
       "    101,\n",
       "    102,\n",
       "    103,\n",
       "    104,\n",
       "    105,\n",
       "    106,\n",
       "    107,\n",
       "    108,\n",
       "    109,\n",
       "    110,\n",
       "    111,\n",
       "    112,\n",
       "    113,\n",
       "    114,\n",
       "    115,\n",
       "    116,\n",
       "    117,\n",
       "    118,\n",
       "    119,\n",
       "    120,\n",
       "    121,\n",
       "    123,\n",
       "    124,\n",
       "    125,\n",
       "    126,\n",
       "    127,\n",
       "    130,\n",
       "    131,\n",
       "    132,\n",
       "    133,\n",
       "    134,\n",
       "    135,\n",
       "    137,\n",
       "    138,\n",
       "    139,\n",
       "    140,\n",
       "    141,\n",
       "    142,\n",
       "    143,\n",
       "    144,\n",
       "    145,\n",
       "    146,\n",
       "    147,\n",
       "    148,\n",
       "    149,\n",
       "    150,\n",
       "    151,\n",
       "    152,\n",
       "    153,\n",
       "    154,\n",
       "    155,\n",
       "    156,\n",
       "    157,\n",
       "    158,\n",
       "    159,\n",
       "    160,\n",
       "    162,\n",
       "    163,\n",
       "    164,\n",
       "    165,\n",
       "    166,\n",
       "    167,\n",
       "    168,\n",
       "    169,\n",
       "    170,\n",
       "    171,\n",
       "    172},\n",
       "   'mobilise_pxl_ids': {1,\n",
       "    2,\n",
       "    3,\n",
       "    4,\n",
       "    5,\n",
       "    6,\n",
       "    7,\n",
       "    8,\n",
       "    9,\n",
       "    10,\n",
       "    12,\n",
       "    13,\n",
       "    14,\n",
       "    16,\n",
       "    17,\n",
       "    18,\n",
       "    19,\n",
       "    20,\n",
       "    21,\n",
       "    22,\n",
       "    23,\n",
       "    24,\n",
       "    25,\n",
       "    26,\n",
       "    27,\n",
       "    28,\n",
       "    29,\n",
       "    30,\n",
       "    31,\n",
       "    32,\n",
       "    33,\n",
       "    34,\n",
       "    35,\n",
       "    36,\n",
       "    37,\n",
       "    39,\n",
       "    40,\n",
       "    41,\n",
       "    42,\n",
       "    43,\n",
       "    44,\n",
       "    45,\n",
       "    47,\n",
       "    48,\n",
       "    49,\n",
       "    50,\n",
       "    51,\n",
       "    52,\n",
       "    53,\n",
       "    54,\n",
       "    56,\n",
       "    57,\n",
       "    58,\n",
       "    61,\n",
       "    63,\n",
       "    66,\n",
       "    67,\n",
       "    68,\n",
       "    69,\n",
       "    70,\n",
       "    71,\n",
       "    72,\n",
       "    73,\n",
       "    74,\n",
       "    75,\n",
       "    76,\n",
       "    79,\n",
       "    80,\n",
       "    81,\n",
       "    82,\n",
       "    83,\n",
       "    84,\n",
       "    85,\n",
       "    86,\n",
       "    87,\n",
       "    89}}},\n",
       " 'path': [171,\n",
       "  169,\n",
       "  164,\n",
       "  162,\n",
       "  160,\n",
       "  155,\n",
       "  157,\n",
       "  150,\n",
       "  145,\n",
       "  142,\n",
       "  140,\n",
       "  137,\n",
       "  127,\n",
       "  117,\n",
       "  108,\n",
       "  100,\n",
       "  91,\n",
       "  93,\n",
       "  95,\n",
       "  97,\n",
       "  103,\n",
       "  112,\n",
       "  119,\n",
       "  124,\n",
       "  132,\n",
       "  130,\n",
       "  118,\n",
       "  109,\n",
       "  111],\n",
       " 'vecteurs': [{'x': -2, 'y': 0},\n",
       "  {'x': -2, 'y': -1},\n",
       "  {'x': -1, 'y': -1},\n",
       "  {'x': -2, 'y': -1},\n",
       "  {'x': 2, 'y': -1},\n",
       "  {'x': 2, 'y': 0},\n",
       "  {'x': 2, 'y': -1},\n",
       "  {'x': 0, 'y': -2},\n",
       "  {'x': -2, 'y': -1},\n",
       "  {'x': -2, 'y': 0},\n",
       "  {'x': -2, 'y': -1},\n",
       "  {'x': -2, 'y': -2},\n",
       "  {'x': -1, 'y': -2},\n",
       "  {'x': 0, 'y': -2},\n",
       "  {'x': 1, 'y': -2},\n",
       "  {'x': 2, 'y': -1},\n",
       "  {'x': 2, 'y': 0},\n",
       "  {'x': 2, 'y': 0},\n",
       "  {'x': 2, 'y': 0},\n",
       "  {'x': 2, 'y': 1},\n",
       "  {'x': 2, 'y': 2},\n",
       "  {'x': -2, 'y': 2},\n",
       "  {'x': -2, 'y': 1},\n",
       "  {'x': -2, 'y': 1},\n",
       "  {'x': -2, 'y': 0},\n",
       "  {'x': -2, 'y': -2},\n",
       "  {'x': 1, 'y': -2},\n",
       "  {'x': 2, 'y': 0}],\n",
       " 'angles': [0.46364760900080615,\n",
       "  0.3217505543966423,\n",
       "  -0.3217505543966423,\n",
       "  2.214297435588181,\n",
       "  0.46364760900080615,\n",
       "  -0.46364760900080615,\n",
       "  -1.1071487177940904,\n",
       "  -1.1071487177940904,\n",
       "  -0.46364760900080615,\n",
       "  0.46364760900080615,\n",
       "  0.3217505543966423,\n",
       "  0.3217505543966423,\n",
       "  0.46364760900080615,\n",
       "  0.46364760900080615,\n",
       "  0.6435011087932847,\n",
       "  0.46364760900080615,\n",
       "  0.0,\n",
       "  0.0,\n",
       "  0.46364760900080615,\n",
       "  0.3217505543966423,\n",
       "  1.5707963267948966,\n",
       "  0.3217505543966423,\n",
       "  2.1073424255447017e-08,\n",
       "  0.46364760900080615,\n",
       "  0.7853981633974484,\n",
       "  1.2490457723982544,\n",
       "  1.1071487177940904],\n",
       " 'l_angles': [0.15454920300026873,\n",
       "  0.6694862611472467,\n",
       "  0.6283185307179586,\n",
       "  0.4428594871176362,\n",
       "  0.15707963267948966,\n",
       "  0.0,\n",
       "  -0.5355890089177974,\n",
       "  -0.5355890089177974,\n",
       "  -0.3785093762383077,\n",
       "  -0.09272952180016115,\n",
       "  0.22142974355881817,\n",
       "  0.4068887871591406,\n",
       "  0.44285948711763634,\n",
       "  0.47123889803846913,\n",
       "  0.4068887871591406,\n",
       "  0.3141592653589794,\n",
       "  0.3141592653589794,\n",
       "  0.24980915447965094,\n",
       "  0.47123889803846897,\n",
       "  0.5355890089177974,\n",
       "  0.5355890131324823,\n",
       "  0.5355890131324823,\n",
       "  0.6283185349326436,\n",
       "  0.563968424053315,\n",
       "  0.6245228914674833,\n",
       "  0.8326971815988363,\n",
       "  1.0172219678978514],\n",
       " 'joints': array([0., 0., 0., 1., 0., 0., 1., 0., 0., 0., 0., 0., 0., 0., 0., 0., 0.,\n",
       "        0., 0., 0., 0., 0., 0., 0., 0., 0., 0.]),\n",
       " 'ratio_pxls_total': 0.8444444444444444}"
      ]
     },
     "metadata": {},
     "execution_count": 10
    }
   ],
   "metadata": {}
  },
  {
   "cell_type": "code",
   "execution_count": null,
   "source": [
    "nnet1.nrn_binomes[0]"
   ],
   "outputs": [
    {
     "output_type": "execute_result",
     "data": {
      "text/plain": [
       "{'segments': [173, 174],\n",
       " 'path': [171,\n",
       "  169,\n",
       "  164,\n",
       "  162,\n",
       "  160,\n",
       "  155,\n",
       "  157,\n",
       "  150,\n",
       "  145,\n",
       "  142,\n",
       "  140,\n",
       "  137,\n",
       "  127,\n",
       "  117,\n",
       "  108,\n",
       "  100,\n",
       "  91,\n",
       "  93,\n",
       "  95,\n",
       "  97,\n",
       "  103,\n",
       "  112,\n",
       "  119,\n",
       "  124,\n",
       "  132,\n",
       "  130,\n",
       "  118,\n",
       "  109,\n",
       "  111],\n",
       " 'vecteurs': [{'x': -2, 'y': 0},\n",
       "  {'x': -2, 'y': -1},\n",
       "  {'x': -1, 'y': -1},\n",
       "  {'x': -2, 'y': -1},\n",
       "  {'x': 2, 'y': -1},\n",
       "  {'x': 2, 'y': 0},\n",
       "  {'x': 2, 'y': -1},\n",
       "  {'x': 0, 'y': -2},\n",
       "  {'x': -2, 'y': -1},\n",
       "  {'x': -2, 'y': 0},\n",
       "  {'x': -2, 'y': -1},\n",
       "  {'x': -2, 'y': -2},\n",
       "  {'x': -1, 'y': -2},\n",
       "  {'x': 0, 'y': -2},\n",
       "  {'x': 1, 'y': -2},\n",
       "  {'x': 2, 'y': -1},\n",
       "  {'x': 2, 'y': 0},\n",
       "  {'x': 2, 'y': 0},\n",
       "  {'x': 2, 'y': 0},\n",
       "  {'x': 2, 'y': 1},\n",
       "  {'x': 2, 'y': 2},\n",
       "  {'x': -2, 'y': 2},\n",
       "  {'x': -2, 'y': 1},\n",
       "  {'x': -2, 'y': 1},\n",
       "  {'x': -2, 'y': 0},\n",
       "  {'x': -2, 'y': -2},\n",
       "  {'x': 1, 'y': -2},\n",
       "  {'x': 2, 'y': 0}],\n",
       " 'angles': [0.46364760900080615,\n",
       "  0.3217505543966423,\n",
       "  -0.3217505543966423,\n",
       "  2.214297435588181,\n",
       "  0.46364760900080615,\n",
       "  -0.46364760900080615,\n",
       "  -1.1071487177940904,\n",
       "  -1.1071487177940904,\n",
       "  -0.46364760900080615,\n",
       "  0.46364760900080615,\n",
       "  0.3217505543966423,\n",
       "  0.3217505543966423,\n",
       "  0.46364760900080615,\n",
       "  0.46364760900080615,\n",
       "  0.6435011087932847,\n",
       "  0.46364760900080615,\n",
       "  0.0,\n",
       "  0.0,\n",
       "  0.46364760900080615,\n",
       "  0.3217505543966423,\n",
       "  1.5707963267948966,\n",
       "  0.3217505543966423,\n",
       "  2.1073424255447017e-08,\n",
       "  0.46364760900080615,\n",
       "  0.7853981633974484,\n",
       "  1.2490457723982544,\n",
       "  1.1071487177940904],\n",
       " 'delta_l': [2.0,\n",
       "  2.23606797749979,\n",
       "  1.4142135623730951,\n",
       "  2.23606797749979,\n",
       "  2.23606797749979,\n",
       "  2.0,\n",
       "  2.23606797749979,\n",
       "  2.0,\n",
       "  2.23606797749979,\n",
       "  2.0,\n",
       "  2.23606797749979,\n",
       "  2.8284271247461903,\n",
       "  2.23606797749979,\n",
       "  2.0,\n",
       "  2.23606797749979,\n",
       "  2.23606797749979,\n",
       "  2.0,\n",
       "  2.0,\n",
       "  2.0,\n",
       "  2.23606797749979,\n",
       "  2.8284271247461903,\n",
       "  2.8284271247461903,\n",
       "  2.23606797749979,\n",
       "  2.23606797749979,\n",
       "  2.0,\n",
       "  2.8284271247461903,\n",
       "  2.23606797749979,\n",
       "  2.0],\n",
       " 'l_angles': array([ 0.39269908,  0.1545492 ,  0.73809915,  0.78539816,  0.73809915,\n",
       "        -0.36904957, -0.89264835, -0.89264835, -0.36904957,  0.10725018,\n",
       "         0.36904957,  0.36904957,  0.41634859,  0.52359878,  0.52359878,\n",
       "         0.36904957,  0.1545492 ,  0.1545492 ,  0.26179939,  0.78539816,\n",
       "         0.73809915,  0.63084897,  0.26179939,  0.4163486 ,  0.83269718,\n",
       "         1.01722197,  1.24904577]),\n",
       " 'distances': array([ 2.        ,  4.23606798,  5.65028154,  7.88634952, 10.12241749,\n",
       "        12.12241749, 14.35848547, 16.35848547, 18.59455345, 20.59455345,\n",
       "        22.83062143, 25.65904855, 27.89511653, 29.89511653, 32.13118451,\n",
       "        34.36725248, 36.36725248, 38.36725248, 40.36725248, 42.60332046,\n",
       "        45.43174759, 48.26017471, 50.49624269, 52.73231067, 54.73231067,\n",
       "        57.56073779, 59.79680577, 61.79680577]),\n",
       " 'ratio_dist': array([0.05788526, 0.07721028, 0.10776583, 0.13832138, 0.16565109,\n",
       "        0.19620663, 0.22353635, 0.25409189, 0.2814216 , 0.31197715,\n",
       "        0.3506272 , 0.38118275, 0.40851246, 0.43906801, 0.46962355,\n",
       "        0.49695326, 0.52428298, 0.55161269, 0.58216823, 0.62081828,\n",
       "        0.65946833, 0.69002388, 0.72057943, 0.74790914, 0.78655919,\n",
       "        0.81711473, 0.84444444]),\n",
       " 'ratio_pxls_total': 0.8444444444444444,\n",
       " 'mini_score': 0}"
      ]
     },
     "metadata": {},
     "execution_count": 11
    }
   ],
   "metadata": {}
  },
  {
   "cell_type": "code",
   "execution_count": null,
   "source": [
    "sbrain.nnet[1].show_nrn_path_by_id(165)"
   ],
   "outputs": [
    {
     "output_type": "error",
     "ename": "TypeError",
     "evalue": "string indices must be integers",
     "traceback": [
      "\u001b[0;31m---------------------------------------------------------------------------\u001b[0m",
      "\u001b[0;31mTypeError\u001b[0m                                 Traceback (most recent call last)",
      "\u001b[0;32m<ipython-input-20-15b6af4173f9>\u001b[0m in \u001b[0;36m<module>\u001b[0;34m\u001b[0m\n\u001b[0;32m----> 1\u001b[0;31m \u001b[0msbrain\u001b[0m\u001b[0;34m.\u001b[0m\u001b[0mnnet\u001b[0m\u001b[0;34m[\u001b[0m\u001b[0;36m1\u001b[0m\u001b[0;34m]\u001b[0m\u001b[0;34m.\u001b[0m\u001b[0mshow_nrn_path_by_id\u001b[0m\u001b[0;34m(\u001b[0m\u001b[0;36m165\u001b[0m\u001b[0;34m)\u001b[0m\u001b[0;34m\u001b[0m\u001b[0;34m\u001b[0m\u001b[0m\n\u001b[0m",
      "\u001b[0;32m~/metadl/baselines/sentive_ai/sentive/sentive_network.py\u001b[0m in \u001b[0;36mshow_nrn_path_by_id\u001b[0;34m(self, nrn_id, ax)\u001b[0m\n\u001b[1;32m   1036\u001b[0m     \u001b[0;32mdef\u001b[0m \u001b[0mshow_nrn_path_by_id\u001b[0m\u001b[0;34m(\u001b[0m\u001b[0mself\u001b[0m\u001b[0;34m,\u001b[0m \u001b[0mnrn_id\u001b[0m\u001b[0;34m,\u001b[0m \u001b[0max\u001b[0m\u001b[0;34m=\u001b[0m\u001b[0;34m-\u001b[0m\u001b[0;36m1\u001b[0m\u001b[0;34m)\u001b[0m\u001b[0;34m:\u001b[0m\u001b[0;34m\u001b[0m\u001b[0;34m\u001b[0m\u001b[0m\n\u001b[1;32m   1037\u001b[0m         \u001b[0mnrn\u001b[0m \u001b[0;34m=\u001b[0m \u001b[0mself\u001b[0m\u001b[0;34m.\u001b[0m\u001b[0mnrn_tls\u001b[0m\u001b[0;34m.\u001b[0m\u001b[0mget_neuron_from_id\u001b[0m\u001b[0;34m(\u001b[0m\u001b[0mnrn_id\u001b[0m\u001b[0;34m)\u001b[0m\u001b[0;34m\u001b[0m\u001b[0;34m\u001b[0m\u001b[0m\n\u001b[0;32m-> 1038\u001b[0;31m         \u001b[0;32mreturn\u001b[0m \u001b[0mself\u001b[0m\u001b[0;34m.\u001b[0m\u001b[0mdraw_path_from_nrns_id\u001b[0m\u001b[0;34m(\u001b[0m\u001b[0mnrn\u001b[0m\u001b[0;34m[\u001b[0m\u001b[0;34m\"meta\"\u001b[0m\u001b[0;34m]\u001b[0m\u001b[0;34m[\u001b[0m\u001b[0;34m\"path\"\u001b[0m\u001b[0;34m]\u001b[0m\u001b[0;34m,\u001b[0m \u001b[0max\u001b[0m\u001b[0;34m)\u001b[0m\u001b[0;34m\u001b[0m\u001b[0;34m\u001b[0m\u001b[0m\n\u001b[0m\u001b[1;32m   1039\u001b[0m \u001b[0;34m\u001b[0m\u001b[0m\n\u001b[1;32m   1040\u001b[0m \u001b[0;34m\u001b[0m\u001b[0m\n",
      "\u001b[0;31mTypeError\u001b[0m: string indices must be integers"
     ]
    }
   ],
   "metadata": {}
  },
  {
   "cell_type": "code",
   "execution_count": null,
   "source": [
    "sbrain.nnet[1].nrn_binomes[0]"
   ],
   "outputs": [
    {
     "output_type": "execute_result",
     "data": {
      "text/plain": [
       "{'segments': [136, 135],\n",
       " 'path': [83,\n",
       "  78,\n",
       "  77,\n",
       "  85,\n",
       "  90,\n",
       "  99,\n",
       "  106,\n",
       "  113,\n",
       "  118,\n",
       "  123,\n",
       "  134,\n",
       "  132,\n",
       "  127,\n",
       "  125,\n",
       "  121,\n",
       "  116,\n",
       "  112,\n",
       "  104,\n",
       "  94,\n",
       "  89,\n",
       "  84,\n",
       "  75,\n",
       "  73,\n",
       "  74],\n",
       " 'vecteurs': [{'x': -2, 'y': -1},\n",
       "  {'x': -1, 'y': 0},\n",
       "  {'x': -1, 'y': 2},\n",
       "  {'x': 0, 'y': 2},\n",
       "  {'x': 1, 'y': 2},\n",
       "  {'x': -1, 'y': 2},\n",
       "  {'x': 0, 'y': 2},\n",
       "  {'x': 0, 'y': 2},\n",
       "  {'x': -1, 'y': 2},\n",
       "  {'x': -2, 'y': 2},\n",
       "  {'x': -2, 'y': 0},\n",
       "  {'x': -2, 'y': -1},\n",
       "  {'x': -2, 'y': 0},\n",
       "  {'x': -4, 'y': -3},\n",
       "  {'x': 0, 'y': -2},\n",
       "  {'x': 0, 'y': -2},\n",
       "  {'x': 0, 'y': -2},\n",
       "  {'x': 0, 'y': -2},\n",
       "  {'x': 1, 'y': -2},\n",
       "  {'x': 1, 'y': -2},\n",
       "  {'x': 2, 'y': -1},\n",
       "  {'x': 1, 'y': 0}],\n",
       " 'angles': [-0.46364760900080615,\n",
       "  -1.1071487177940904,\n",
       "  -0.46364760900080615,\n",
       "  -0.46364760900080615,\n",
       "  0.9272952180016124,\n",
       "  -0.46364760900080615,\n",
       "  0.0,\n",
       "  0.46364760900080615,\n",
       "  0.3217505543966423,\n",
       "  0.7853981633974484,\n",
       "  0.46364760900080615,\n",
       "  -0.46364760900080615,\n",
       "  0.6435011087932843,\n",
       "  0.9272952180016123,\n",
       "  0.0,\n",
       "  0.0,\n",
       "  0.0,\n",
       "  0.46364760900080615,\n",
       "  2.1073424255447017e-08,\n",
       "  0.6435011087932847,\n",
       "  0.46364760900080615],\n",
       " 'delta_l': [2.23606797749979,\n",
       "  1.0,\n",
       "  2.23606797749979,\n",
       "  2.0,\n",
       "  2.23606797749979,\n",
       "  2.23606797749979,\n",
       "  2.0,\n",
       "  2.0,\n",
       "  2.23606797749979,\n",
       "  2.8284271247461903,\n",
       "  2.0,\n",
       "  2.23606797749979,\n",
       "  2.0,\n",
       "  5.0,\n",
       "  2.0,\n",
       "  2.0,\n",
       "  2.0,\n",
       "  2.0,\n",
       "  2.23606797749979,\n",
       "  2.23606797749979,\n",
       "  2.23606797749979,\n",
       "  1.0],\n",
       " 'l_angles': array([-7.85398163e-01, -6.78147979e-01, -6.78147979e-01,  3.70074342e-17,\n",
       "         3.70074342e-17,  1.54549203e-01,  0.00000000e+00,  2.61799388e-01,\n",
       "         5.23598776e-01,  5.23598776e-01,  2.61799388e-01,  2.14500370e-01,\n",
       "         3.69049573e-01,  5.23598776e-01,  3.09098406e-01,  0.00000000e+00,\n",
       "         1.54549203e-01,  1.54549210e-01,  3.69049580e-01,  3.21750565e-01,\n",
       "         6.43501109e-01]),\n",
       " 'distances': array([ 2.23606798,  3.23606798,  5.47213595,  7.47213595,  9.70820393,\n",
       "        11.94427191, 13.94427191, 15.94427191, 18.18033989, 21.00876701,\n",
       "        23.00876701, 25.24483499, 27.24483499, 32.24483499, 34.24483499,\n",
       "        36.24483499, 38.24483499, 40.24483499, 42.48090297, 44.71697094,\n",
       "        46.95303892, 47.95303892]),\n",
       " 'ratio_dist': array([0.05623676, 0.0950954 , 0.12985162, 0.16871027, 0.20756891,\n",
       "        0.24232513, 0.27708136, 0.31594   , 0.36509273, 0.39984896,\n",
       "        0.4387076 , 0.47346382, 0.56035439, 0.59511062, 0.62986684,\n",
       "        0.66462307, 0.69937929, 0.73823794, 0.77709658, 0.81595522,\n",
       "        0.83333333]),\n",
       " 'ratio_pxls_total': 0.8333333333333333,\n",
       " 'mini_score': 0.0006003797640309039}"
      ]
     },
     "metadata": {},
     "execution_count": 22
    }
   ],
   "metadata": {}
  },
  {
   "cell_type": "code",
   "execution_count": null,
   "source": [
    "A = np.array([1, 2, 3, 4])\n",
    "A[::-1]"
   ],
   "outputs": [
    {
     "output_type": "execute_result",
     "data": {
      "text/plain": [
       "array([4, 3, 2, 1])"
      ]
     },
     "metadata": {},
     "execution_count": 16
    }
   ],
   "metadata": {}
  },
  {
   "cell_type": "code",
   "execution_count": null,
   "source": [
    "Y = [-0.8326971815988364,\n",
    "  -0.39269908169872425,\n",
    "  -0.49961830895930187,\n",
    "  -0.06435011087932845,\n",
    "  4.214684851089403e-09,\n",
    "  0.18545905202969218,\n",
    "  0.12870023018802662,\n",
    "  0.4996183173886716,\n",
    "  0.2214297519881879,\n",
    "  0.31415926957366425,\n",
    "  0.31415926957366425,\n",
    "  0.31415926957366425,\n",
    "  0.22142974777350305,\n",
    "  0.4068887913738255,\n",
    "  0.06435011509401338,\n",
    "  0.3141592653589794,\n",
    "  0.24980915447965094,\n",
    "  0.15707963689417453,\n",
    "  0.08043764386751663,\n",
    "  0.5235987826227737,\n",
    "  0.16087528773503326]\n",
    "X = [0.07116952, 0.11476612, 0.15836273, 0.20195933, 0.24555594,\n",
    "        0.28915254, 0.33274915, 0.37634575, 0.41994236, 0.46353896,\n",
    "        0.50253295, 0.54612956, 0.58972616, 0.63332277, 0.67231676,\n",
    "        0.71591336, 0.77105919, 0.81465579, 0.86980162, 0.92494745,\n",
    "        0.94444444]\n",
    "plt.plot(X,Y)"
   ],
   "outputs": [
    {
     "output_type": "execute_result",
     "data": {
      "text/plain": [
       "[<matplotlib.lines.Line2D at 0x7fed20dff6a0>]"
      ]
     },
     "metadata": {},
     "execution_count": 17
    },
    {
     "output_type": "display_data",
     "data": {
      "image/png": "[encoded data removed]",
      "text/plain": [
       "<Figure size 432x288 with 1 Axes>"
      ]
     },
     "metadata": {
      "needs_background": "light"
     }
    }
   ],
   "metadata": {}
  },
  {
   "cell_type": "code",
   "execution_count": null,
   "source": [
    "1 - sbrain.nnet[1].nrn_tls.diff_sequence(sbrain.nnet[4].nrn_binomes[0],sbrain.nnet[1].nrn_binomes[0])"
   ],
   "outputs": [
    {
     "output_type": "execute_result",
     "data": {
      "text/plain": [
       "0.8581652459680289"
      ]
     },
     "metadata": {},
     "execution_count": 18
    }
   ],
   "metadata": {}
  },
  {
   "cell_type": "code",
   "execution_count": 8,
   "source": [
    "test = np.zeros([5, 28,28,2])\n",
    "test[0][:,:,0] = np.loadtxt(\"test_0.csv\")\n",
    "test[0][:,:,1] = np.loadtxt(\"test_0.csv\")\n",
    "\n",
    "test[1][:,:,0] = np.loadtxt(\"test_1.csv\")\n",
    "test[1][:,:,1] = np.loadtxt(\"test_1.csv\")\n",
    "\n",
    "test[2][:,:,0] = np.loadtxt(\"test_2.csv\")\n",
    "test[2][:,:,1] = np.loadtxt(\"test_2.csv\")\n",
    "\n",
    "test[3][:,:,0] = np.loadtxt(\"test_3.csv\")\n",
    "test[3][:,:,1] = np.loadtxt(\"test_3.csv\")\n",
    "\n",
    "test[4][:,:,0] = np.loadtxt(\"test_4.csv\")\n",
    "test[4][:,:,1] = np.loadtxt(\"test_4.csv\")"
   ],
   "outputs": [],
   "metadata": {}
  },
  {
   "cell_type": "code",
   "execution_count": null,
   "source": [
    "plt.matshow(test[0][:,:,0])"
   ],
   "outputs": [
    {
     "output_type": "execute_result",
     "data": {
      "text/plain": [
       "<matplotlib.image.AxesImage at 0x7fed20864730>"
      ]
     },
     "metadata": {},
     "execution_count": 21
    },
    {
     "output_type": "display_data",
     "data": {
      "image/png": "[encoded data removed]",
      "text/plain": [
       "<Figure size 288x288 with 1 Axes>"
      ]
     },
     "metadata": {
      "needs_background": "light"
     }
    }
   ],
   "metadata": {}
  },
  {
   "cell_type": "code",
   "execution_count": 9,
   "source": [
    "sbrain.predict(test[0])"
   ],
   "outputs": [
    {
     "output_type": "stream",
     "name": "stdout",
     "text": [
      "and here\n",
      "nombre de neurones taille 1: 31\n",
      "[[ 0.09382549  0.99558866]\n",
      " [-0.99558866  0.09382549]]\n",
      "\n",
      "nombre de neurones couche 1 & 2: 58\n",
      "\n",
      "nombre de neurones couches 1, 2 et 3 : 60\n",
      "****************************************\n",
      "\n",
      "nombre de neurones couches 1, 2, 3 et 4: 60\n",
      "****************************************\n",
      "SELECTION de taille: 2\n"
     ]
    },
    {
     "output_type": "stream",
     "name": "stderr",
     "text": [
      "/Users/oliviermanette/opt/anaconda3/lib/python3.8/site-packages/numpy/core/fromnumeric.py:3419: RuntimeWarning: Mean of empty slice.\n",
      "  return _methods._mean(a, axis=axis, dtype=dtype,\n",
      "/Users/oliviermanette/opt/anaconda3/lib/python3.8/site-packages/numpy/core/_methods.py:188: RuntimeWarning: invalid value encountered in double_scalars\n",
      "  ret = ret.dtype.type(ret / rcount)\n"
     ]
    },
    {
     "output_type": "execute_result",
     "data": {
      "text/plain": [
       "[100000000000.0,\n",
       " 100000000000.0,\n",
       " 100000000000.0,\n",
       " 100000000000.0,\n",
       " 100000000000.0]"
      ]
     },
     "metadata": {},
     "execution_count": 9
    },
    {
     "output_type": "display_data",
     "data": {
      "image/png": "[encoded data removed]",
      "text/plain": [
       "<Figure size 288x288 with 1 Axes>"
      ]
     },
     "metadata": {
      "needs_background": "light"
     }
    },
    {
     "output_type": "display_data",
     "data": {
      "image/png": "[encoded data removed]",
      "text/plain": [
       "<Figure size 432x288 with 1 Axes>"
      ]
     },
     "metadata": {
      "needs_background": "light"
     }
    }
   ],
   "metadata": {}
  },
  {
   "cell_type": "code",
   "execution_count": null,
   "source": [
    "sbrain.test_net.draw_segment_path_by_pos(0)"
   ],
   "outputs": [
    {
     "output_type": "display_data",
     "data": {
      "image/png": "[encoded data removed]",
      "text/plain": [
       "<Figure size 432x288 with 1 Axes>"
      ]
     },
     "metadata": {
      "needs_background": "light"
     }
    }
   ],
   "metadata": {}
  },
  {
   "cell_type": "code",
   "execution_count": null,
   "source": [
    "sbrain.nnet[0].draw_segment_path_by_pos(0)"
   ],
   "outputs": [
    {
     "output_type": "display_data",
     "data": {
      "image/png": "[encoded data removed]",
      "text/plain": [
       "<Figure size 432x288 with 1 Axes>"
      ]
     },
     "metadata": {
      "needs_background": "light"
     }
    }
   ],
   "metadata": {}
  },
  {
   "cell_type": "code",
   "execution_count": null,
   "source": [
    "sbrain.nnet[0].nrn_binomes[0]"
   ],
   "outputs": [
    {
     "output_type": "execute_result",
     "data": {
      "text/plain": [
       "{'segments': [41, 43],\n",
       " 'path': [40, 38, 36, 34, 32, 30, 25, 27],\n",
       " 'vecteurs': [{'x': 0, 'y': -2},\n",
       "  {'x': 0, 'y': -2},\n",
       "  {'x': 0, 'y': -2},\n",
       "  {'x': 0, 'y': -2},\n",
       "  {'x': 0, 'y': -2},\n",
       "  {'x': -1, 'y': -2},\n",
       "  {'x': -1, 'y': 1}],\n",
       " 'angles': [0.0, 0.0, 0.0, 0.0, -0.46364760900080615, -1.8925468811915387],\n",
       " 'delta_l': [2.0, 2.0, 2.0, 2.0, 2.0, 2.23606797749979, 1.4142135623730951],\n",
       " 'l_angles': array([ 0.        ,  0.        ,  0.        , -0.1545492 , -0.2318238 ,\n",
       "        -0.46364761]),\n",
       " 'distances': array([ 2.        ,  4.        ,  6.        ,  8.        , 10.        ,\n",
       "        12.23606798, 13.65028154]),\n",
       " 'ratio_dist': array([0.29303425, 0.43955137, 0.5860685 , 0.73258562, 0.89639675,\n",
       "        1.        ]),\n",
       " 'ratio_pxls_total': 1.0,\n",
       " 'mini_score': 0.0067158235111692095}"
      ]
     },
     "metadata": {},
     "execution_count": 25
    }
   ],
   "metadata": {}
  },
  {
   "cell_type": "code",
   "execution_count": null,
   "source": [
    "sbrain.test_net.nrn_binomes[0]\n"
   ],
   "outputs": [
    {
     "output_type": "execute_result",
     "data": {
      "text/plain": [
       "{'segments': [59, 60],\n",
       " 'path': [58, 56, 54, 52, 50, 48, 46, 40, 34, 34, 39, 45],\n",
       " 'vecteurs': [{'x': 0, 'y': -2},\n",
       "  {'x': 0, 'y': -2},\n",
       "  {'x': 0, 'y': -2},\n",
       "  {'x': 0, 'y': -2},\n",
       "  {'x': 0, 'y': -2},\n",
       "  {'x': 0, 'y': -2},\n",
       "  {'x': 0, 'y': -2},\n",
       "  {'x': -1, 'y': -2},\n",
       "  {'x': -1, 'y': 2},\n",
       "  {'x': -2, 'y': 2}],\n",
       " 'angles': [0.0,\n",
       "  0.0,\n",
       "  0.0,\n",
       "  0.0,\n",
       "  0.0,\n",
       "  0.0,\n",
       "  -0.46364760900080615,\n",
       "  -2.214297435588181,\n",
       "  0.3217505543966423],\n",
       " 'delta_l': [2.0,\n",
       "  2.0,\n",
       "  2.0,\n",
       "  2.0,\n",
       "  2.0,\n",
       "  2.0,\n",
       "  2.0,\n",
       "  2.23606797749979,\n",
       "  2.23606797749979,\n",
       "  2.8284271247461903],\n",
       " 'l_angles': array([ 0.        ,  0.        ,  0.        ,  0.        ,  0.        ,\n",
       "        -0.1545492 , -0.89264835, -1.33897252, -2.21429744]),\n",
       " 'distances': array([ 2.        ,  4.        ,  6.        ,  8.        , 10.        ,\n",
       "        12.        , 14.        , 16.23606798, 18.47213595, 21.30056308]),\n",
       " 'ratio_dist': array([0.19384616, 0.29076923, 0.38769231, 0.48461539, 0.58153847,\n",
       "        0.67846154, 0.78682484, 0.89518813, 1.03225806]),\n",
       " 'ratio_pxls_total': 1.032258064516129,\n",
       " 'mini_score': 0}"
      ]
     },
     "metadata": {},
     "execution_count": 26
    }
   ],
   "metadata": {}
  },
  {
   "cell_type": "code",
   "execution_count": null,
   "source": [
    "np.min([sbrain.test_net.nrn_binomes[0][\"ratio_dist\"],sbrain.nnet[0].nrn_binomes[0][\"ratio_dist\"]])\n"
   ],
   "outputs": [
    {
     "output_type": "stream",
     "name": "stderr",
     "text": [
      "/Users/oliviermanette/opt/anaconda3/lib/python3.8/site-packages/numpy/core/fromnumeric.py:87: VisibleDeprecationWarning: Creating an ndarray from ragged nested sequences (which is a list-or-tuple of lists-or-tuples-or ndarrays with different lengths or shapes) is deprecated. If you meant to do this, you must specify 'dtype=object' when creating the ndarray.\n",
      "  return ufunc.reduce(obj, axis, dtype, out, **passkwargs)\n"
     ]
    },
    {
     "output_type": "error",
     "ename": "ValueError",
     "evalue": "operands could not be broadcast together with shapes (9,) (6,) ",
     "traceback": [
      "\u001b[0;31m---------------------------------------------------------------------------\u001b[0m",
      "\u001b[0;31mValueError\u001b[0m                                Traceback (most recent call last)",
      "\u001b[0;32m<ipython-input-27-e0bfb0027ece>\u001b[0m in \u001b[0;36m<module>\u001b[0;34m\u001b[0m\n\u001b[0;32m----> 1\u001b[0;31m \u001b[0mnp\u001b[0m\u001b[0;34m.\u001b[0m\u001b[0mmin\u001b[0m\u001b[0;34m(\u001b[0m\u001b[0;34m[\u001b[0m\u001b[0msbrain\u001b[0m\u001b[0;34m.\u001b[0m\u001b[0mtest_net\u001b[0m\u001b[0;34m.\u001b[0m\u001b[0mnrn_binomes\u001b[0m\u001b[0;34m[\u001b[0m\u001b[0;36m0\u001b[0m\u001b[0;34m]\u001b[0m\u001b[0;34m[\u001b[0m\u001b[0;34m\"ratio_dist\"\u001b[0m\u001b[0;34m]\u001b[0m\u001b[0;34m,\u001b[0m\u001b[0msbrain\u001b[0m\u001b[0;34m.\u001b[0m\u001b[0mnnet\u001b[0m\u001b[0;34m[\u001b[0m\u001b[0;36m0\u001b[0m\u001b[0;34m]\u001b[0m\u001b[0;34m.\u001b[0m\u001b[0mnrn_binomes\u001b[0m\u001b[0;34m[\u001b[0m\u001b[0;36m0\u001b[0m\u001b[0;34m]\u001b[0m\u001b[0;34m[\u001b[0m\u001b[0;34m\"ratio_dist\"\u001b[0m\u001b[0;34m]\u001b[0m\u001b[0;34m]\u001b[0m\u001b[0;34m)\u001b[0m\u001b[0;34m\u001b[0m\u001b[0;34m\u001b[0m\u001b[0m\n\u001b[0m",
      "\u001b[0;32m<__array_function__ internals>\u001b[0m in \u001b[0;36mamin\u001b[0;34m(*args, **kwargs)\u001b[0m\n",
      "\u001b[0;32m~/opt/anaconda3/lib/python3.8/site-packages/numpy/core/fromnumeric.py\u001b[0m in \u001b[0;36mamin\u001b[0;34m(a, axis, out, keepdims, initial, where)\u001b[0m\n\u001b[1;32m   2856\u001b[0m     \u001b[0;36m6\u001b[0m\u001b[0;34m\u001b[0m\u001b[0;34m\u001b[0m\u001b[0m\n\u001b[1;32m   2857\u001b[0m     \"\"\"\n\u001b[0;32m-> 2858\u001b[0;31m     return _wrapreduction(a, np.minimum, 'min', axis, None, out,\n\u001b[0m\u001b[1;32m   2859\u001b[0m                           keepdims=keepdims, initial=initial, where=where)\n\u001b[1;32m   2860\u001b[0m \u001b[0;34m\u001b[0m\u001b[0m\n",
      "\u001b[0;32m~/opt/anaconda3/lib/python3.8/site-packages/numpy/core/fromnumeric.py\u001b[0m in \u001b[0;36m_wrapreduction\u001b[0;34m(obj, ufunc, method, axis, dtype, out, **kwargs)\u001b[0m\n\u001b[1;32m     85\u001b[0m                 \u001b[0;32mreturn\u001b[0m \u001b[0mreduction\u001b[0m\u001b[0;34m(\u001b[0m\u001b[0maxis\u001b[0m\u001b[0;34m=\u001b[0m\u001b[0maxis\u001b[0m\u001b[0;34m,\u001b[0m \u001b[0mout\u001b[0m\u001b[0;34m=\u001b[0m\u001b[0mout\u001b[0m\u001b[0;34m,\u001b[0m \u001b[0;34m**\u001b[0m\u001b[0mpasskwargs\u001b[0m\u001b[0;34m)\u001b[0m\u001b[0;34m\u001b[0m\u001b[0;34m\u001b[0m\u001b[0m\n\u001b[1;32m     86\u001b[0m \u001b[0;34m\u001b[0m\u001b[0m\n\u001b[0;32m---> 87\u001b[0;31m     \u001b[0;32mreturn\u001b[0m \u001b[0mufunc\u001b[0m\u001b[0;34m.\u001b[0m\u001b[0mreduce\u001b[0m\u001b[0;34m(\u001b[0m\u001b[0mobj\u001b[0m\u001b[0;34m,\u001b[0m \u001b[0maxis\u001b[0m\u001b[0;34m,\u001b[0m \u001b[0mdtype\u001b[0m\u001b[0;34m,\u001b[0m \u001b[0mout\u001b[0m\u001b[0;34m,\u001b[0m \u001b[0;34m**\u001b[0m\u001b[0mpasskwargs\u001b[0m\u001b[0;34m)\u001b[0m\u001b[0;34m\u001b[0m\u001b[0;34m\u001b[0m\u001b[0m\n\u001b[0m\u001b[1;32m     88\u001b[0m \u001b[0;34m\u001b[0m\u001b[0m\n\u001b[1;32m     89\u001b[0m \u001b[0;34m\u001b[0m\u001b[0m\n",
      "\u001b[0;31mValueError\u001b[0m: operands could not be broadcast together with shapes (9,) (6,) "
     ]
    }
   ],
   "metadata": {}
  },
  {
   "cell_type": "code",
   "execution_count": null,
   "source": [
    "A={}\n",
    "A{'toto'}=2"
   ],
   "outputs": [
    {
     "output_type": "error",
     "ename": "SyntaxError",
     "evalue": "invalid syntax (<ipython-input-19-a14a444e3b21>, line 2)",
     "traceback": [
      "\u001b[0;36m  File \u001b[0;32m\"<ipython-input-19-a14a444e3b21>\"\u001b[0;36m, line \u001b[0;32m2\u001b[0m\n\u001b[0;31m    A{'toto'}=2\u001b[0m\n\u001b[0m     ^\u001b[0m\n\u001b[0;31mSyntaxError\u001b[0m\u001b[0;31m:\u001b[0m invalid syntax\n"
     ]
    }
   ],
   "metadata": {}
  },
  {
   "cell_type": "code",
   "execution_count": null,
   "source": [],
   "outputs": [],
   "metadata": {}
  }
 ],
 "metadata": {
  "orig_nbformat": 4,
  "language_info": {
   "name": "python",
   "version": "3.8.8",
   "mimetype": "text/x-python",
   "codemirror_mode": {
    "name": "ipython",
    "version": 3
   },
   "pygments_lexer": "ipython3",
   "nbconvert_exporter": "python",
   "file_extension": ".py"
  },
  "kernelspec": {
   "name": "python3",
   "display_name": "Python 3.8.8 64-bit ('base': conda)"
  },
  "interpreter": {
   "hash": "fdf7e7c20b04e4f70edddddc1d1133d1a4690e33a35cf83bc0e7c8ec2e85589e"
  }
 },
 "nbformat": 4,
 "nbformat_minor": 2
}