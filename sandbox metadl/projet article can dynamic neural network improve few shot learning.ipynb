{
 "cells": [
  {
   "cell_type": "code",
   "execution_count": 1,
   "id": "e6875097",
   "metadata": {},
   "outputs": [],
   "source": [
    "import sys\n",
    "\n",
    "import numpy as np\n",
    "import pandas as pd\n",
    "import matplotlib.pyplot as plt\n",
    "\n",
    "sys.path.insert(1, '../metadl/baselines/sentive_ai')\n",
    "from sentive.sentive_vision_network import sentive_vision_network\n",
    "\n",
    "from sentive.sentive_brain import sentive_brain\n",
    "\n",
    "root_ep = 'episode_'\n",
    "suf_eptest = '_1.csv'\n",
    "root_test= 'test_'\n",
    "\n",
    "episode = np.zeros([1,5,28,28,2])\n",
    "test = np.zeros([5, 28,28,2])\n",
    "for i in range(5):\n",
    "    episode[0][i][:,:,0] = np.loadtxt(root_ep+str(i)+suf_eptest)\n",
    "    episode[0][i][:,:,1] = np.loadtxt(root_ep+str(i)+suf_eptest)\n",
    "\n",
    "    test[i][:,:,0] = np.loadtxt(root_test+str(i)+suf_eptest)\n",
    "    test[i][:,:,1] = np.loadtxt(root_test+str(i)+suf_eptest)\n"
   ]
  },
  {
   "cell_type": "code",
   "execution_count": 2,
   "id": "195188c4",
   "metadata": {},
   "outputs": [
    {
     "name": "stdout",
     "output_type": "stream",
     "text": [
      "nombre de neurones taille 1: 47\n",
      "sub_pxl_map\n",
      "nb neurones couche 2 : 46\n",
      "nombre de neurones couche 1 & 2: 94\n"
     ]
    },
    {
     "name": "stderr",
     "output_type": "stream",
     "text": [
      "/Users/oliviermanette/opt/anaconda3/lib/python3.9/site-packages/sklearn/decomposition/_pca.py:525: RuntimeWarning: invalid value encountered in true_divide\n",
      "  explained_variance_ = (S**2) / (n_samples - 1)\n",
      "/Users/oliviermanette/opt/anaconda3/lib/python3.9/site-packages/sklearn/decomposition/_pca.py:525: RuntimeWarning: invalid value encountered in true_divide\n",
      "  explained_variance_ = (S**2) / (n_samples - 1)\n",
      "/Users/oliviermanette/opt/anaconda3/lib/python3.9/site-packages/sklearn/decomposition/_pca.py:525: RuntimeWarning: invalid value encountered in true_divide\n",
      "  explained_variance_ = (S**2) / (n_samples - 1)\n",
      "/Users/oliviermanette/opt/anaconda3/lib/python3.9/site-packages/sklearn/decomposition/_pca.py:525: RuntimeWarning: invalid value encountered in true_divide\n",
      "  explained_variance_ = (S**2) / (n_samples - 1)\n",
      "/Users/oliviermanette/opt/anaconda3/lib/python3.9/site-packages/sklearn/decomposition/_pca.py:525: RuntimeWarning: invalid value encountered in true_divide\n",
      "  explained_variance_ = (S**2) / (n_samples - 1)\n",
      "/Users/oliviermanette/opt/anaconda3/lib/python3.9/site-packages/sklearn/decomposition/_pca.py:525: RuntimeWarning: invalid value encountered in true_divide\n",
      "  explained_variance_ = (S**2) / (n_samples - 1)\n",
      "/Users/oliviermanette/opt/anaconda3/lib/python3.9/site-packages/sklearn/decomposition/_pca.py:525: RuntimeWarning: invalid value encountered in true_divide\n",
      "  explained_variance_ = (S**2) / (n_samples - 1)\n",
      "/Users/oliviermanette/opt/anaconda3/lib/python3.9/site-packages/sklearn/decomposition/_pca.py:525: RuntimeWarning: invalid value encountered in true_divide\n",
      "  explained_variance_ = (S**2) / (n_samples - 1)\n",
      "/Users/oliviermanette/opt/anaconda3/lib/python3.9/site-packages/sklearn/decomposition/_pca.py:525: RuntimeWarning: invalid value encountered in true_divide\n",
      "  explained_variance_ = (S**2) / (n_samples - 1)\n",
      "/Users/oliviermanette/opt/anaconda3/lib/python3.9/site-packages/sklearn/decomposition/_pca.py:525: RuntimeWarning: invalid value encountered in true_divide\n",
      "  explained_variance_ = (S**2) / (n_samples - 1)\n",
      "/Users/oliviermanette/opt/anaconda3/lib/python3.9/site-packages/sklearn/decomposition/_pca.py:525: RuntimeWarning: invalid value encountered in true_divide\n",
      "  explained_variance_ = (S**2) / (n_samples - 1)\n",
      "/Users/oliviermanette/opt/anaconda3/lib/python3.9/site-packages/sklearn/decomposition/_pca.py:525: RuntimeWarning: invalid value encountered in true_divide\n",
      "  explained_variance_ = (S**2) / (n_samples - 1)\n",
      "/Users/oliviermanette/opt/anaconda3/lib/python3.9/site-packages/sklearn/decomposition/_pca.py:525: RuntimeWarning: invalid value encountered in true_divide\n",
      "  explained_variance_ = (S**2) / (n_samples - 1)\n",
      "/Users/oliviermanette/opt/anaconda3/lib/python3.9/site-packages/sklearn/decomposition/_pca.py:525: RuntimeWarning: invalid value encountered in true_divide\n",
      "  explained_variance_ = (S**2) / (n_samples - 1)\n",
      "/Users/oliviermanette/opt/anaconda3/lib/python3.9/site-packages/sklearn/decomposition/_pca.py:525: RuntimeWarning: invalid value encountered in true_divide\n",
      "  explained_variance_ = (S**2) / (n_samples - 1)\n",
      "/Users/oliviermanette/opt/anaconda3/lib/python3.9/site-packages/sklearn/decomposition/_pca.py:525: RuntimeWarning: invalid value encountered in true_divide\n",
      "  explained_variance_ = (S**2) / (n_samples - 1)\n",
      "/Users/oliviermanette/opt/anaconda3/lib/python3.9/site-packages/sklearn/decomposition/_pca.py:525: RuntimeWarning: invalid value encountered in true_divide\n",
      "  explained_variance_ = (S**2) / (n_samples - 1)\n",
      "/Users/oliviermanette/opt/anaconda3/lib/python3.9/site-packages/sklearn/decomposition/_pca.py:525: RuntimeWarning: invalid value encountered in true_divide\n",
      "  explained_variance_ = (S**2) / (n_samples - 1)\n",
      "/Users/oliviermanette/opt/anaconda3/lib/python3.9/site-packages/sklearn/decomposition/_pca.py:525: RuntimeWarning: invalid value encountered in true_divide\n",
      "  explained_variance_ = (S**2) / (n_samples - 1)\n",
      "/Users/oliviermanette/opt/anaconda3/lib/python3.9/site-packages/sklearn/decomposition/_pca.py:525: RuntimeWarning: invalid value encountered in true_divide\n",
      "  explained_variance_ = (S**2) / (n_samples - 1)\n",
      "/Users/oliviermanette/opt/anaconda3/lib/python3.9/site-packages/sklearn/decomposition/_pca.py:525: RuntimeWarning: invalid value encountered in true_divide\n",
      "  explained_variance_ = (S**2) / (n_samples - 1)\n",
      "/Users/oliviermanette/opt/anaconda3/lib/python3.9/site-packages/sklearn/decomposition/_pca.py:525: RuntimeWarning: invalid value encountered in true_divide\n",
      "  explained_variance_ = (S**2) / (n_samples - 1)\n",
      "/Users/oliviermanette/opt/anaconda3/lib/python3.9/site-packages/sklearn/decomposition/_pca.py:525: RuntimeWarning: invalid value encountered in true_divide\n",
      "  explained_variance_ = (S**2) / (n_samples - 1)\n",
      "/Users/oliviermanette/opt/anaconda3/lib/python3.9/site-packages/sklearn/decomposition/_pca.py:525: RuntimeWarning: invalid value encountered in true_divide\n",
      "  explained_variance_ = (S**2) / (n_samples - 1)\n",
      "/Users/oliviermanette/opt/anaconda3/lib/python3.9/site-packages/sklearn/decomposition/_pca.py:525: RuntimeWarning: invalid value encountered in true_divide\n",
      "  explained_variance_ = (S**2) / (n_samples - 1)\n",
      "/Users/oliviermanette/opt/anaconda3/lib/python3.9/site-packages/sklearn/decomposition/_pca.py:525: RuntimeWarning: invalid value encountered in true_divide\n",
      "  explained_variance_ = (S**2) / (n_samples - 1)\n",
      "/Users/oliviermanette/opt/anaconda3/lib/python3.9/site-packages/sklearn/decomposition/_pca.py:525: RuntimeWarning: invalid value encountered in true_divide\n",
      "  explained_variance_ = (S**2) / (n_samples - 1)\n",
      "/Users/oliviermanette/opt/anaconda3/lib/python3.9/site-packages/sklearn/decomposition/_pca.py:525: RuntimeWarning: invalid value encountered in true_divide\n",
      "  explained_variance_ = (S**2) / (n_samples - 1)\n",
      "/Users/oliviermanette/opt/anaconda3/lib/python3.9/site-packages/sklearn/decomposition/_pca.py:525: RuntimeWarning: invalid value encountered in true_divide\n",
      "  explained_variance_ = (S**2) / (n_samples - 1)\n",
      "/Users/oliviermanette/opt/anaconda3/lib/python3.9/site-packages/sklearn/decomposition/_pca.py:525: RuntimeWarning: invalid value encountered in true_divide\n",
      "  explained_variance_ = (S**2) / (n_samples - 1)\n",
      "/Users/oliviermanette/opt/anaconda3/lib/python3.9/site-packages/sklearn/decomposition/_pca.py:525: RuntimeWarning: invalid value encountered in true_divide\n",
      "  explained_variance_ = (S**2) / (n_samples - 1)\n",
      "/Users/oliviermanette/opt/anaconda3/lib/python3.9/site-packages/sklearn/decomposition/_pca.py:525: RuntimeWarning: invalid value encountered in true_divide\n",
      "  explained_variance_ = (S**2) / (n_samples - 1)\n",
      "/Users/oliviermanette/opt/anaconda3/lib/python3.9/site-packages/sklearn/decomposition/_pca.py:525: RuntimeWarning: invalid value encountered in true_divide\n",
      "  explained_variance_ = (S**2) / (n_samples - 1)\n",
      "/Users/oliviermanette/opt/anaconda3/lib/python3.9/site-packages/sklearn/decomposition/_pca.py:525: RuntimeWarning: invalid value encountered in true_divide\n",
      "  explained_variance_ = (S**2) / (n_samples - 1)\n",
      "/Users/oliviermanette/opt/anaconda3/lib/python3.9/site-packages/sklearn/decomposition/_pca.py:525: RuntimeWarning: invalid value encountered in true_divide\n",
      "  explained_variance_ = (S**2) / (n_samples - 1)\n",
      "/Users/oliviermanette/opt/anaconda3/lib/python3.9/site-packages/sklearn/decomposition/_pca.py:525: RuntimeWarning: invalid value encountered in true_divide\n",
      "  explained_variance_ = (S**2) / (n_samples - 1)\n",
      "/Users/oliviermanette/opt/anaconda3/lib/python3.9/site-packages/sklearn/decomposition/_pca.py:525: RuntimeWarning: invalid value encountered in true_divide\n",
      "  explained_variance_ = (S**2) / (n_samples - 1)\n",
      "/Users/oliviermanette/opt/anaconda3/lib/python3.9/site-packages/sklearn/decomposition/_pca.py:525: RuntimeWarning: invalid value encountered in true_divide\n",
      "  explained_variance_ = (S**2) / (n_samples - 1)\n",
      "/Users/oliviermanette/opt/anaconda3/lib/python3.9/site-packages/sklearn/decomposition/_pca.py:525: RuntimeWarning: invalid value encountered in true_divide\n",
      "  explained_variance_ = (S**2) / (n_samples - 1)\n",
      "/Users/oliviermanette/opt/anaconda3/lib/python3.9/site-packages/sklearn/decomposition/_pca.py:525: RuntimeWarning: invalid value encountered in true_divide\n",
      "  explained_variance_ = (S**2) / (n_samples - 1)\n",
      "/Users/oliviermanette/opt/anaconda3/lib/python3.9/site-packages/sklearn/decomposition/_pca.py:525: RuntimeWarning: invalid value encountered in true_divide\n",
      "  explained_variance_ = (S**2) / (n_samples - 1)\n",
      "/Users/oliviermanette/opt/anaconda3/lib/python3.9/site-packages/sklearn/decomposition/_pca.py:525: RuntimeWarning: invalid value encountered in true_divide\n",
      "  explained_variance_ = (S**2) / (n_samples - 1)\n",
      "/Users/oliviermanette/opt/anaconda3/lib/python3.9/site-packages/sklearn/decomposition/_pca.py:525: RuntimeWarning: invalid value encountered in true_divide\n",
      "  explained_variance_ = (S**2) / (n_samples - 1)\n",
      "/Users/oliviermanette/opt/anaconda3/lib/python3.9/site-packages/sklearn/decomposition/_pca.py:525: RuntimeWarning: invalid value encountered in true_divide\n",
      "  explained_variance_ = (S**2) / (n_samples - 1)\n",
      "/Users/oliviermanette/opt/anaconda3/lib/python3.9/site-packages/sklearn/decomposition/_pca.py:525: RuntimeWarning: invalid value encountered in true_divide\n",
      "  explained_variance_ = (S**2) / (n_samples - 1)\n",
      "/Users/oliviermanette/opt/anaconda3/lib/python3.9/site-packages/sklearn/decomposition/_pca.py:525: RuntimeWarning: invalid value encountered in true_divide\n",
      "  explained_variance_ = (S**2) / (n_samples - 1)\n",
      "/Users/oliviermanette/opt/anaconda3/lib/python3.9/site-packages/sklearn/decomposition/_pca.py:525: RuntimeWarning: invalid value encountered in true_divide\n",
      "  explained_variance_ = (S**2) / (n_samples - 1)\n"
     ]
    },
    {
     "data": {
      "image/png": "[encoded data removed]",
      "text/plain": [
       "<Figure size 288x288 with 1 Axes>"
      ]
     },
     "metadata": {
      "needs_background": "light"
     },
     "output_type": "display_data"
    },
    {
     "data": {
      "image/png": "[encoded data removed]",
      "text/plain": [
       "<Figure size 288x288 with 1 Axes>"
      ]
     },
     "metadata": {
      "needs_background": "light"
     },
     "output_type": "display_data"
    },
    {
     "data": {
      "image/png": "[encoded data removed]",
      "text/plain": [
       "<Figure size 288x288 with 1 Axes>"
      ]
     },
     "metadata": {
      "needs_background": "light"
     },
     "output_type": "display_data"
    },
    {
     "data": {
      "image/png": "[encoded data removed]",
      "text/plain": [
       "<Figure size 288x288 with 1 Axes>"
      ]
     },
     "metadata": {
      "needs_background": "light"
     },
     "output_type": "display_data"
    },
    {
     "data": {
      "image/png": "[encoded data removed]",
      "text/plain": [
       "<Figure size 288x288 with 1 Axes>"
      ]
     },
     "metadata": {
      "needs_background": "light"
     },
     "output_type": "display_data"
    }
   ],
   "source": [
    "sbrain = sentive_brain(episode,5)"
   ]
  },
  {
   "cell_type": "code",
   "execution_count": 3,
   "id": "30543f46",
   "metadata": {},
   "outputs": [
    {
     "data": {
      "text/plain": [
       "{'_id': 14,\n",
       " 'schema_version': 2,\n",
       " 'type': 'sentive_vision_arcs',\n",
       " 'layer_id': 1,\n",
       " 'ratio_conn': 0,\n",
       " 'DbConnectivity': {'pre_synaptique': [],\n",
       "  'post_synaptique': [55, 60, 61, 62],\n",
       "  'lateral_connexion': [],\n",
       "  'weights': {}},\n",
       " 'meta': {'center': {'x': 11, 'y': 12}, 'matrix_width': 1}}"
      ]
     },
     "execution_count": 3,
     "metadata": {},
     "output_type": "execute_result"
    }
   ],
   "source": [
    "sbrain.nnet[0].nrn_tls.get_neuron_from_id(14)"
   ]
  },
  {
   "cell_type": "code",
   "execution_count": 4,
   "id": "93008e70",
   "metadata": {},
   "outputs": [
    {
     "data": {
      "text/plain": [
       "{'_id': 61,\n",
       " 'schema_version': 2,\n",
       " 'type': 'sentive_vision_arcs',\n",
       " 'layer_id': 2,\n",
       " 'ratio_conn': 0,\n",
       " 'DbConnectivity': {'pre_synaptique': [8.0, 13.0, 14.0, 15.0],\n",
       "  'post_synaptique': [],\n",
       "  'lateral_connexion': [55, 60, 61, 62],\n",
       "  'weights': {62: 1, 61: 1, 60: 1, 55: 1}},\n",
       " 'meta': {'center': {'x': 11, 'y': 12},\n",
       "  'matrix_width': 3,\n",
       "  'sub_pxl_map': array([[ 0.,  0.,  8.],\n",
       "         [13., 14., 15.],\n",
       "         [ 0.,  0.,  0.]]),\n",
       "  'pxl_coord': [[12, 12], [11, 12], [10, 12], [12, 11]],\n",
       "  'glbl_prm': {'cg': {'x': 11.25, 'y': 11.75},\n",
       "   'u_axis': {'x': -0.9486832980505138, 'y': 0.316227766016838}}}}"
      ]
     },
     "execution_count": 4,
     "metadata": {},
     "output_type": "execute_result"
    }
   ],
   "source": [
    "sbrain.nnet[0].nrn_tls.get_neuron_from_id(61)"
   ]
  },
  {
   "cell_type": "code",
   "execution_count": 17,
   "id": "55675e62",
   "metadata": {},
   "outputs": [
    {
     "data": {
      "text/plain": [
       "{'_id': 94,\n",
       " 'schema_version': 2,\n",
       " 'type': 'sentive_vision_arcs',\n",
       " 'layer_id': 2,\n",
       " 'ratio_conn': 0,\n",
       " 'DbConnectivity': {'pre_synaptique': [41.0, 42.0, 46.0, 47.0],\n",
       "  'post_synaptique': [],\n",
       "  'lateral_connexion': [88, 89, 93, 94],\n",
       "  'weights': {94: 1, 93: 1, 89: 1, 88: 1}},\n",
       " 'meta': {'center': {'x': 13, 'y': 21},\n",
       "  'matrix_width': 3,\n",
       "  'sub_pxl_map': array([[ 0., 41., 42.],\n",
       "         [46., 47.,  0.],\n",
       "         [ 0.,  0.,  0.]]),\n",
       "  'pxl_coord': [[13, 21], [12, 21], [14, 20], [13, 20]],\n",
       "  'glbl_prm': {'cg': {'x': 13.0, 'y': 20.5},\n",
       "   'u_axis': {'x': 0.8506508083520399, 'y': -0.5257311121191336}}}}"
      ]
     },
     "execution_count": 17,
     "metadata": {},
     "output_type": "execute_result"
    }
   ],
   "source": [
    "sbrain.nnet[0].nrn_tls.get_neuron_from_id(94)"
   ]
  },
  {
   "cell_type": "code",
   "execution_count": 6,
   "id": "17a43465",
   "metadata": {},
   "outputs": [
    {
     "data": {
      "text/plain": [
       "7.0"
      ]
     },
     "execution_count": 6,
     "metadata": {},
     "output_type": "execute_result"
    }
   ],
   "source": [
    "sbrain.nnet[0].nrn_pxl_map[10][13]"
   ]
  },
  {
   "cell_type": "code",
   "execution_count": 15,
   "id": "50823f4a",
   "metadata": {},
   "outputs": [
    {
     "data": {
      "image/png": "[encoded data removed]",
      "text/plain": [
       "<Figure size 288x288 with 1 Axes>"
      ]
     },
     "metadata": {
      "needs_background": "light"
     },
     "output_type": "display_data"
    }
   ],
   "source": [
    "sbrain.nnet[0].show_receptive_field_id(92)"
   ]
  },
  {
   "cell_type": "code",
   "execution_count": 8,
   "id": "77c99953",
   "metadata": {},
   "outputs": [
    {
     "data": {
      "text/plain": [
       "-2.940265326813857"
      ]
     },
     "execution_count": 8,
     "metadata": {},
     "output_type": "execute_result"
    }
   ],
   "source": [
    "nrn_1 = sbrain.nnet[0].nrn_tls.get_neuron_from_id(90)\n",
    "vector_1 = nrn_1[\"meta\"][\"glbl_prm\"][\"u_axis\"]\n",
    "nrn_2 = sbrain.nnet[0].nrn_tls.get_neuron_from_id(87)\n",
    "vector_2 = nrn_2[\"meta\"][\"glbl_prm\"][\"u_axis\"]\n",
    "sbrain.nnet[0].nrn_tls.calc_angle(vector_1, vector_2)"
   ]
  },
  {
   "cell_type": "code",
   "execution_count": 9,
   "id": "138a2083",
   "metadata": {},
   "outputs": [
    {
     "data": {
      "text/plain": [
       "3.002442824087238"
      ]
     },
     "execution_count": 9,
     "metadata": {},
     "output_type": "execute_result"
    }
   ],
   "source": [
    "nrn_1 = sbrain.nnet[0].nrn_tls.get_neuron_from_id(87)\n",
    "vector_1 = nrn_1[\"meta\"][\"glbl_prm\"][\"u_axis\"]\n",
    "nrn_2 = sbrain.nnet[0].nrn_tls.get_neuron_from_id(86)\n",
    "vector_2 = nrn_2[\"meta\"][\"glbl_prm\"][\"u_axis\"]\n",
    "sbrain.nnet[0].nrn_tls.calc_angle(vector_1, vector_2)"
   ]
  },
  {
   "cell_type": "code",
   "execution_count": 10,
   "id": "2c5d390e",
   "metadata": {},
   "outputs": [
    {
     "data": {
      "image/png": "[encoded data removed]",
      "text/plain": [
       "<Figure size 288x288 with 1 Axes>"
      ]
     },
     "metadata": {
      "needs_background": "light"
     },
     "output_type": "display_data"
    }
   ],
   "source": [
    "sbrain.nnet[0].show_receptive_field_id(87)"
   ]
  },
  {
   "cell_type": "code",
   "execution_count": 11,
   "id": "311da25e",
   "metadata": {},
   "outputs": [
    {
     "data": {
      "image/png": "[encoded data removed]",
      "text/plain": [
       "<Figure size 288x288 with 1 Axes>"
      ]
     },
     "metadata": {
      "needs_background": "light"
     },
     "output_type": "display_data"
    }
   ],
   "source": [
    "sbrain.nnet[0].show_receptive_field_id(81)"
   ]
  },
  {
   "cell_type": "code",
   "execution_count": 12,
   "id": "ab125e51",
   "metadata": {},
   "outputs": [
    {
     "data": {
      "image/png": "[encoded data removed]",
      "text/plain": [
       "<Figure size 288x288 with 1 Axes>"
      ]
     },
     "metadata": {
      "needs_background": "light"
     },
     "output_type": "display_data"
    }
   ],
   "source": [
    "sbrain.nnet[0].show_receptive_field_id(92)"
   ]
  },
  {
   "cell_type": "code",
   "execution_count": 13,
   "id": "ec5694b7",
   "metadata": {},
   "outputs": [
    {
     "data": {
      "text/plain": [
       "2.909768849089391"
      ]
     },
     "execution_count": 13,
     "metadata": {},
     "output_type": "execute_result"
    }
   ],
   "source": [
    "nrn_1 = sbrain.nnet[0].nrn_tls.get_neuron_from_id(77)\n",
    "vector_1 = nrn_1[\"meta\"][\"glbl_prm\"][\"u_axis\"]\n",
    "nrn_2 = sbrain.nnet[0].nrn_tls.get_neuron_from_id(81)\n",
    "vector_2 = nrn_2[\"meta\"][\"glbl_prm\"][\"u_axis\"]\n",
    "sbrain.nnet[0].nrn_tls.calc_angle(vector_1, vector_2)"
   ]
  },
  {
   "cell_type": "code",
   "execution_count": null,
   "id": "804018c5",
   "metadata": {},
   "outputs": [],
   "source": []
  }
 ],
 "metadata": {
  "kernelspec": {
   "display_name": "Python 3 (ipykernel)",
   "language": "python",
   "name": "python3"
  },
  "language_info": {
   "codemirror_mode": {
    "name": "ipython",
    "version": 3
   },
   "file_extension": ".py",
   "mimetype": "text/x-python",
   "name": "python",
   "nbconvert_exporter": "python",
   "pygments_lexer": "ipython3",
   "version": "3.9.12"
  }
 },
 "nbformat": 4,
 "nbformat_minor": 5
}
