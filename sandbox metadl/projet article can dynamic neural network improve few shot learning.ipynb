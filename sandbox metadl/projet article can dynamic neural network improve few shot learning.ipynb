{
 "cells": [
  {
   "cell_type": "code",
   "execution_count": 1,
   "id": "213d9a22",
   "metadata": {},
   "outputs": [],
   "source": [
    "import sys\n",
    "\n",
    "import numpy as np\n",
    "import pandas as pd\n",
    "import matplotlib.pyplot as plt\n",
    "\n",
    "sys.path.insert(1, '../metadl/baselines/sentive_ai')\n",
    "from sentive.sentive_vision_network import sentive_vision_network\n",
    "\n",
    "from sentive.sentive_brain import sentive_brain\n",
    "\n",
    "root_ep = 'episode_'\n",
    "suf_eptest = '_1.csv'\n",
    "root_test= 'test_'\n",
    "\n",
    "episode = np.zeros([1,5,28,28,2])\n",
    "test = np.zeros([5, 28,28,2])\n",
    "for i in range(5):\n",
    "    episode[0][i][:,:,0] = np.loadtxt(root_ep+str(i)+suf_eptest)\n",
    "    episode[0][i][:,:,1] = np.loadtxt(root_ep+str(i)+suf_eptest)\n",
    "\n",
    "    test[i][:,:,0] = np.loadtxt(root_test+str(i)+suf_eptest)\n",
    "    test[i][:,:,1] = np.loadtxt(root_test+str(i)+suf_eptest)\n"
   ]
  },
  {
   "cell_type": "code",
   "execution_count": 2,
   "id": "c561182d",
   "metadata": {},
   "outputs": [
    {
     "name": "stdout",
     "output_type": "stream",
     "text": [
      "nombre de neurones taille 1: 47\n",
      "[[-0.08651809 -0.99625028]\n",
      " [-0.99625028  0.08651809]]\n",
      "{'cg': {'x': 10.53191489361702, 'y': 15.319148936170214}, 'u_axis': {'x': -0.08651809458587904, 'y': -0.9962502794525224}, 'v_axis': {'x': -0.9962502794525224, 'y': 0.08651809458587904}}\n",
      "nb neurones couche 2 : 46\n",
      "nombre de neurones couche 1 & 2: 94\n",
      "taille neurones à séquencer : 47\n",
      "taille neurones à séquencer : 8\n",
      "taille neurones à séquencer : 0\n",
      "found possible connexion on nrn id 76 : {72, 73, 80, 76}\n",
      "Recherche des nœuds suivants [72] [76]\n",
      "Commence la découpe de segmented_path [48, 50, 51, 53, 54, 55, 61, 60, 59, 58, 64, 65, 66, 69, 74, 77, 82, 87, 90, 91, 92, 93, 94, 89, 85, 80, 76, 73]\n",
      "ratio_pxls_total nrn _ID 97 ,  0.8723404255319149\n",
      "Fin de la découpe de segmented_path [72, 73]\n",
      "ratio_pxls_total nrn _ID 98 ,  0.1276595744680851\n",
      "nombre de neurones couches 1, 2 et 3 : 97\n",
      "****************************************\n"
     ]
    },
    {
     "data": {
      "image/png": "[encoded data removed]",
      "text/plain": [
       "<Figure size 288x288 with 1 Axes>"
      ]
     },
     "metadata": {
      "needs_background": "light"
     },
     "output_type": "display_data"
    },
    {
     "data": {
      "image/png": "[encoded data removed]",
      "text/plain": [
       "<Figure size 288x288 with 1 Axes>"
      ]
     },
     "metadata": {
      "needs_background": "light"
     },
     "output_type": "display_data"
    },
    {
     "data": {
      "image/png": "[encoded data removed]",
      "text/plain": [
       "<Figure size 288x288 with 1 Axes>"
      ]
     },
     "metadata": {
      "needs_background": "light"
     },
     "output_type": "display_data"
    },
    {
     "data": {
      "image/png": "[encoded data removed]",
      "text/plain": [
       "<Figure size 288x288 with 1 Axes>"
      ]
     },
     "metadata": {
      "needs_background": "light"
     },
     "output_type": "display_data"
    },
    {
     "data": {
      "image/png": "[encoded data removed]",
      "text/plain": [
       "<Figure size 288x288 with 1 Axes>"
      ]
     },
     "metadata": {
      "needs_background": "light"
     },
     "output_type": "display_data"
    }
   ],
   "source": [
    "sbrain = sentive_brain(episode,5)"
   ]
  },
  {
   "cell_type": "code",
   "execution_count": 3,
   "id": "201a5211",
   "metadata": {},
   "outputs": [
    {
     "data": {
      "text/plain": [
       "{'_id': 49,\n",
       " 'schema_version': 2,\n",
       " 'type': 'sentive_vision_arcs',\n",
       " 'layer_id': 2,\n",
       " 'ratio_conn': 0.8999999999999999,\n",
       " 'DbConnectivity': {'pre_synaptique': [1.0, 2.0],\n",
       "  'post_synaptique': [],\n",
       "  'lateral_connexion': [49, 48, 50],\n",
       "  'weights': {50: 1, 48: 1, 49: 1}},\n",
       " 'meta': {'center': {'x': 9, 'y': 8}, 'matrix_width': 3}}"
      ]
     },
     "execution_count": 3,
     "metadata": {},
     "output_type": "execute_result"
    }
   ],
   "source": [
    "sbrain.nnet[0].nrn_tls.get_neuron_from_id(49)"
   ]
  },
  {
   "cell_type": "code",
   "execution_count": 4,
   "id": "6ef1c51a",
   "metadata": {},
   "outputs": [
    {
     "data": {
      "text/plain": [
       "{'_id': 72,\n",
       " 'schema_version': 2,\n",
       " 'type': 'sentive_vision_arcs',\n",
       " 'layer_id': 2,\n",
       " 'ratio_conn': 1.2,\n",
       " 'DbConnectivity': {'pre_synaptique': [19.0, 20.0, 23.0, 24.0, 25.0, 28.0],\n",
       "  'post_synaptique': [],\n",
       "  'lateral_connexion': [67, 68, 71, 72, 73, 76],\n",
       "  'weights': {76: 1, 73: 1, 72: 1, 71: 1, 68: 1, 67: 1}},\n",
       " 'meta': {'center': {'x': 14, 'y': 16}, 'matrix_width': 3}}"
      ]
     },
     "execution_count": 4,
     "metadata": {},
     "output_type": "execute_result"
    }
   ],
   "source": [
    "sbrain.nnet[0].nrn_tls.get_neuron_from_id(72)"
   ]
  },
  {
   "cell_type": "code",
   "execution_count": 8,
   "id": "2895071a",
   "metadata": {},
   "outputs": [
    {
     "data": {
      "text/plain": [
       "{'_id': 97,\n",
       " 'schema_version': 1,\n",
       " 'type': 'sentive_vision_packed_ratio',\n",
       " 'layer_id': 3,\n",
       " 'ratio_conn': 0,\n",
       " 'DbConnectivity': {'pre_synaptique': [48,\n",
       "   49,\n",
       "   50,\n",
       "   51,\n",
       "   52,\n",
       "   53,\n",
       "   54,\n",
       "   55,\n",
       "   56,\n",
       "   57,\n",
       "   58,\n",
       "   59,\n",
       "   60,\n",
       "   61,\n",
       "   62,\n",
       "   63,\n",
       "   64,\n",
       "   65,\n",
       "   66,\n",
       "   67,\n",
       "   68,\n",
       "   69,\n",
       "   71,\n",
       "   72,\n",
       "   73,\n",
       "   74,\n",
       "   76,\n",
       "   77,\n",
       "   80,\n",
       "   81,\n",
       "   82,\n",
       "   85,\n",
       "   86,\n",
       "   87,\n",
       "   88,\n",
       "   89,\n",
       "   90,\n",
       "   91,\n",
       "   92,\n",
       "   93,\n",
       "   94],\n",
       "  'post_synaptique': [],\n",
       "  'weights': {}},\n",
       " 'meta': {'path': [48,\n",
       "   50,\n",
       "   51,\n",
       "   53,\n",
       "   54,\n",
       "   55,\n",
       "   61,\n",
       "   60,\n",
       "   59,\n",
       "   58,\n",
       "   64,\n",
       "   65,\n",
       "   66,\n",
       "   69,\n",
       "   74,\n",
       "   77,\n",
       "   82,\n",
       "   87,\n",
       "   90,\n",
       "   91,\n",
       "   92,\n",
       "   93,\n",
       "   94,\n",
       "   89,\n",
       "   85,\n",
       "   80,\n",
       "   76,\n",
       "   72],\n",
       "  'vecteurs': [{'x': 1, 'y': 1},\n",
       "   {'x': 1, 'y': 0},\n",
       "   {'x': 1, 'y': 1},\n",
       "   {'x': 1, 'y': 1},\n",
       "   {'x': -1, 'y': 1},\n",
       "   {'x': -1, 'y': 1},\n",
       "   {'x': -1, 'y': 0},\n",
       "   {'x': -1, 'y': 0},\n",
       "   {'x': -1, 'y': 0},\n",
       "   {'x': -1, 'y': 1},\n",
       "   {'x': -1, 'y': 1},\n",
       "   {'x': 0, 'y': 1},\n",
       "   {'x': 0, 'y': 1},\n",
       "   {'x': 0, 'y': 1},\n",
       "   {'x': 0, 'y': 1},\n",
       "   {'x': 1, 'y': 1},\n",
       "   {'x': 1, 'y': 1},\n",
       "   {'x': 1, 'y': 1},\n",
       "   {'x': 1, 'y': 0},\n",
       "   {'x': 1, 'y': 0},\n",
       "   {'x': 1, 'y': 0},\n",
       "   {'x': 1, 'y': 0},\n",
       "   {'x': 1, 'y': -1},\n",
       "   {'x': 1, 'y': -1},\n",
       "   {'x': 0, 'y': -1},\n",
       "   {'x': 0, 'y': -1},\n",
       "   {'x': -1, 'y': -1}],\n",
       "  'angles': [-0.7853981633974484,\n",
       "   0.7853981633974484,\n",
       "   2.1073424255447017e-08,\n",
       "   1.5707963267948966,\n",
       "   2.1073424255447017e-08,\n",
       "   0.7853981633974484,\n",
       "   0.0,\n",
       "   0.0,\n",
       "   -0.7853981633974484,\n",
       "   2.1073424255447017e-08,\n",
       "   -0.7853981633974484,\n",
       "   0.0,\n",
       "   0.0,\n",
       "   0.0,\n",
       "   -0.7853981633974484,\n",
       "   2.1073424255447017e-08,\n",
       "   2.1073424255447017e-08,\n",
       "   -0.7853981633974484,\n",
       "   0.0,\n",
       "   0.0,\n",
       "   0.0,\n",
       "   -0.7853981633974484,\n",
       "   2.1073424255447017e-08,\n",
       "   -0.7853981633974484,\n",
       "   0.0,\n",
       "   -0.7853981633974484],\n",
       "  'distances': [1.4142135623730951,\n",
       "   1.0,\n",
       "   1.4142135623730951,\n",
       "   1.4142135623730951,\n",
       "   1.4142135623730951,\n",
       "   1.4142135623730951,\n",
       "   1.0,\n",
       "   1.0,\n",
       "   1.0,\n",
       "   1.4142135623730951,\n",
       "   1.4142135623730951,\n",
       "   1.0,\n",
       "   1.0,\n",
       "   1.0,\n",
       "   1.0,\n",
       "   1.4142135623730951,\n",
       "   1.4142135623730951,\n",
       "   1.4142135623730951,\n",
       "   1.0,\n",
       "   1.0,\n",
       "   1.0,\n",
       "   1.0,\n",
       "   1.4142135623730951,\n",
       "   1.4142135623730951,\n",
       "   1.0,\n",
       "   1.0,\n",
       "   1.4142135623730951],\n",
       "  'ratio_pxls_total': 0.8723404255319149}}"
      ]
     },
     "execution_count": 8,
     "metadata": {},
     "output_type": "execute_result"
    }
   ],
   "source": [
    "sbrain.nnet[0].nrn_tls.get_neuron_from_id(97)"
   ]
  },
  {
   "cell_type": "code",
   "execution_count": 6,
   "id": "169f5892",
   "metadata": {},
   "outputs": [
    {
     "data": {
      "image/png": "[encoded data removed]",
      "text/plain": [
       "<Figure size 288x288 with 1 Axes>"
      ]
     },
     "metadata": {
      "needs_background": "light"
     },
     "output_type": "display_data"
    }
   ],
   "source": [
    "sbrain.nnet[0].show_receptive_field_id(98)"
   ]
  },
  {
   "cell_type": "code",
   "execution_count": 7,
   "id": "df7e4693",
   "metadata": {},
   "outputs": [
    {
     "data": {
      "image/png": "[encoded data removed]",
      "text/plain": [
       "<Figure size 288x288 with 1 Axes>"
      ]
     },
     "metadata": {
      "needs_background": "light"
     },
     "output_type": "display_data"
    }
   ],
   "source": [
    "sbrain.nnet[0].show_receptive_field_id(97)"
   ]
  },
  {
   "cell_type": "code",
   "execution_count": 9,
   "id": "c0163b4d",
   "metadata": {},
   "outputs": [
    {
     "data": {
      "image/png": "[encoded data removed]",
      "text/plain": [
       "<Figure size 432x288 with 1 Axes>"
      ]
     },
     "metadata": {
      "needs_background": "light"
     },
     "output_type": "display_data"
    }
   ],
   "source": [
    "sbrain.nnet[0].show_nrn_path_by_id(97)"
   ]
  },
  {
   "cell_type": "code",
   "execution_count": null,
   "id": "969590c6",
   "metadata": {},
   "outputs": [],
   "source": []
  }
 ],
 "metadata": {
  "kernelspec": {
   "display_name": "Python 3 (ipykernel)",
   "language": "python",
   "name": "python3"
  },
  "language_info": {
   "codemirror_mode": {
    "name": "ipython",
    "version": 3
   },
   "file_extension": ".py",
   "mimetype": "text/x-python",
   "name": "python",
   "nbconvert_exporter": "python",
   "pygments_lexer": "ipython3",
   "version": "3.9.12"
  }
 },
 "nbformat": 4,
 "nbformat_minor": 5
}
