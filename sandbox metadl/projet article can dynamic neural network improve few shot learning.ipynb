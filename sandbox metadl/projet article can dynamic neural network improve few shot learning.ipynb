{
 "cells": [
  {
   "cell_type": "code",
   "execution_count": 1,
   "id": "e6875097",
   "metadata": {},
   "outputs": [],
   "source": [
    "import sys\n",
    "\n",
    "import numpy as np\n",
    "import pandas as pd\n",
    "import matplotlib.pyplot as plt\n",
    "\n",
    "sys.path.insert(1, '../metadl/baselines/sentive_ai')\n",
    "from sentive.sentive_vision_network import sentive_vision_network\n",
    "\n",
    "from sentive.sentive_brain import sentive_brain\n",
    "\n",
    "root_ep = 'episode_'\n",
    "suf_eptest = '_1.csv'\n",
    "root_test= 'test_'\n",
    "\n",
    "episode = np.zeros([1,5,28,28,2])\n",
    "test = np.zeros([5, 28,28,2])\n",
    "for i in range(5):\n",
    "    episode[0][i][:,:,0] = np.loadtxt(root_ep+str(i)+suf_eptest)\n",
    "    episode[0][i][:,:,1] = np.loadtxt(root_ep+str(i)+suf_eptest)\n",
    "\n",
    "    test[i][:,:,0] = np.loadtxt(root_test+str(i)+suf_eptest)\n",
    "    test[i][:,:,1] = np.loadtxt(root_test+str(i)+suf_eptest)\n"
   ]
  },
  {
   "cell_type": "code",
   "execution_count": 2,
   "id": "195188c4",
   "metadata": {},
   "outputs": [
    {
     "name": "stdout",
     "output_type": "stream",
     "text": [
      "nombre de neurones taille 1: 47\n",
      "sub_pxl_map\n",
      "nb neurones couche 2 : 46\n",
      "nombre de neurones couche 1 & 2: 94\n",
      "nombre de neurones taille 1: 74\n",
      "nb neurones couche 2 : 73\n",
      "nombre de neurones couche 1 & 2: 148\n",
      "nombre de neurones taille 1:"
     ]
    },
    {
     "name": "stderr",
     "output_type": "stream",
     "text": [
      "/Users/oliviermanette/opt/anaconda3/lib/python3.9/site-packages/sklearn/decomposition/_pca.py:525: RuntimeWarning: invalid value encountered in true_divide\n",
      "  explained_variance_ = (S**2) / (n_samples - 1)\n",
      "/Users/oliviermanette/opt/anaconda3/lib/python3.9/site-packages/sklearn/decomposition/_pca.py:525: RuntimeWarning: invalid value encountered in true_divide\n",
      "  explained_variance_ = (S**2) / (n_samples - 1)\n",
      "/Users/oliviermanette/opt/anaconda3/lib/python3.9/site-packages/sklearn/decomposition/_pca.py:525: RuntimeWarning: invalid value encountered in true_divide\n",
      "  explained_variance_ = (S**2) / (n_samples - 1)\n",
      "/Users/oliviermanette/opt/anaconda3/lib/python3.9/site-packages/sklearn/decomposition/_pca.py:525: RuntimeWarning: invalid value encountered in true_divide\n",
      "  explained_variance_ = (S**2) / (n_samples - 1)\n",
      "/Users/oliviermanette/opt/anaconda3/lib/python3.9/site-packages/sklearn/decomposition/_pca.py:525: RuntimeWarning: invalid value encountered in true_divide\n",
      "  explained_variance_ = (S**2) / (n_samples - 1)\n",
      "/Users/oliviermanette/opt/anaconda3/lib/python3.9/site-packages/sklearn/decomposition/_pca.py:525: RuntimeWarning: invalid value encountered in true_divide\n",
      "  explained_variance_ = (S**2) / (n_samples - 1)\n",
      "/Users/oliviermanette/opt/anaconda3/lib/python3.9/site-packages/sklearn/decomposition/_pca.py:525: RuntimeWarning: invalid value encountered in true_divide\n",
      "  explained_variance_ = (S**2) / (n_samples - 1)\n",
      "/Users/oliviermanette/opt/anaconda3/lib/python3.9/site-packages/sklearn/decomposition/_pca.py:525: RuntimeWarning: invalid value encountered in true_divide\n",
      "  explained_variance_ = (S**2) / (n_samples - 1)\n",
      "/Users/oliviermanette/opt/anaconda3/lib/python3.9/site-packages/sklearn/decomposition/_pca.py:525: RuntimeWarning: invalid value encountered in true_divide\n",
      "  explained_variance_ = (S**2) / (n_samples - 1)\n",
      "/Users/oliviermanette/opt/anaconda3/lib/python3.9/site-packages/sklearn/decomposition/_pca.py:525: RuntimeWarning: invalid value encountered in true_divide\n",
      "  explained_variance_ = (S**2) / (n_samples - 1)\n",
      "/Users/oliviermanette/opt/anaconda3/lib/python3.9/site-packages/sklearn/decomposition/_pca.py:525: RuntimeWarning: invalid value encountered in true_divide\n",
      "  explained_variance_ = (S**2) / (n_samples - 1)\n",
      "/Users/oliviermanette/opt/anaconda3/lib/python3.9/site-packages/sklearn/decomposition/_pca.py:525: RuntimeWarning: invalid value encountered in true_divide\n",
      "  explained_variance_ = (S**2) / (n_samples - 1)\n",
      "/Users/oliviermanette/opt/anaconda3/lib/python3.9/site-packages/sklearn/decomposition/_pca.py:525: RuntimeWarning: invalid value encountered in true_divide\n",
      "  explained_variance_ = (S**2) / (n_samples - 1)\n",
      "/Users/oliviermanette/opt/anaconda3/lib/python3.9/site-packages/sklearn/decomposition/_pca.py:525: RuntimeWarning: invalid value encountered in true_divide\n",
      "  explained_variance_ = (S**2) / (n_samples - 1)\n",
      "/Users/oliviermanette/opt/anaconda3/lib/python3.9/site-packages/sklearn/decomposition/_pca.py:525: RuntimeWarning: invalid value encountered in true_divide\n",
      "  explained_variance_ = (S**2) / (n_samples - 1)\n",
      "/Users/oliviermanette/opt/anaconda3/lib/python3.9/site-packages/sklearn/decomposition/_pca.py:525: RuntimeWarning: invalid value encountered in true_divide\n",
      "  explained_variance_ = (S**2) / (n_samples - 1)\n",
      "/Users/oliviermanette/opt/anaconda3/lib/python3.9/site-packages/sklearn/decomposition/_pca.py:525: RuntimeWarning: invalid value encountered in true_divide\n",
      "  explained_variance_ = (S**2) / (n_samples - 1)\n",
      "/Users/oliviermanette/opt/anaconda3/lib/python3.9/site-packages/sklearn/decomposition/_pca.py:525: RuntimeWarning: invalid value encountered in true_divide\n",
      "  explained_variance_ = (S**2) / (n_samples - 1)\n",
      "/Users/oliviermanette/opt/anaconda3/lib/python3.9/site-packages/sklearn/decomposition/_pca.py:525: RuntimeWarning: invalid value encountered in true_divide\n",
      "  explained_variance_ = (S**2) / (n_samples - 1)\n",
      "/Users/oliviermanette/opt/anaconda3/lib/python3.9/site-packages/sklearn/decomposition/_pca.py:525: RuntimeWarning: invalid value encountered in true_divide\n",
      "  explained_variance_ = (S**2) / (n_samples - 1)\n",
      "/Users/oliviermanette/opt/anaconda3/lib/python3.9/site-packages/sklearn/decomposition/_pca.py:525: RuntimeWarning: invalid value encountered in true_divide\n",
      "  explained_variance_ = (S**2) / (n_samples - 1)\n",
      "/Users/oliviermanette/opt/anaconda3/lib/python3.9/site-packages/sklearn/decomposition/_pca.py:525: RuntimeWarning: invalid value encountered in true_divide\n",
      "  explained_variance_ = (S**2) / (n_samples - 1)\n",
      "/Users/oliviermanette/opt/anaconda3/lib/python3.9/site-packages/sklearn/decomposition/_pca.py:525: RuntimeWarning: invalid value encountered in true_divide\n",
      "  explained_variance_ = (S**2) / (n_samples - 1)\n",
      "/Users/oliviermanette/opt/anaconda3/lib/python3.9/site-packages/sklearn/decomposition/_pca.py:525: RuntimeWarning: invalid value encountered in true_divide\n",
      "  explained_variance_ = (S**2) / (n_samples - 1)\n",
      "/Users/oliviermanette/opt/anaconda3/lib/python3.9/site-packages/sklearn/decomposition/_pca.py:525: RuntimeWarning: invalid value encountered in true_divide\n",
      "  explained_variance_ = (S**2) / (n_samples - 1)\n",
      "/Users/oliviermanette/opt/anaconda3/lib/python3.9/site-packages/sklearn/decomposition/_pca.py:525: RuntimeWarning: invalid value encountered in true_divide\n",
      "  explained_variance_ = (S**2) / (n_samples - 1)\n",
      "/Users/oliviermanette/opt/anaconda3/lib/python3.9/site-packages/sklearn/decomposition/_pca.py:525: RuntimeWarning: invalid value encountered in true_divide\n",
      "  explained_variance_ = (S**2) / (n_samples - 1)\n",
      "/Users/oliviermanette/opt/anaconda3/lib/python3.9/site-packages/sklearn/decomposition/_pca.py:525: RuntimeWarning: invalid value encountered in true_divide\n",
      "  explained_variance_ = (S**2) / (n_samples - 1)\n",
      "/Users/oliviermanette/opt/anaconda3/lib/python3.9/site-packages/sklearn/decomposition/_pca.py:525: RuntimeWarning: invalid value encountered in true_divide\n",
      "  explained_variance_ = (S**2) / (n_samples - 1)\n",
      "/Users/oliviermanette/opt/anaconda3/lib/python3.9/site-packages/sklearn/decomposition/_pca.py:525: RuntimeWarning: invalid value encountered in true_divide\n",
      "  explained_variance_ = (S**2) / (n_samples - 1)\n",
      "/Users/oliviermanette/opt/anaconda3/lib/python3.9/site-packages/sklearn/decomposition/_pca.py:525: RuntimeWarning: invalid value encountered in true_divide\n",
      "  explained_variance_ = (S**2) / (n_samples - 1)\n",
      "/Users/oliviermanette/opt/anaconda3/lib/python3.9/site-packages/sklearn/decomposition/_pca.py:525: RuntimeWarning: invalid value encountered in true_divide\n",
      "  explained_variance_ = (S**2) / (n_samples - 1)\n",
      "/Users/oliviermanette/opt/anaconda3/lib/python3.9/site-packages/sklearn/decomposition/_pca.py:525: RuntimeWarning: invalid value encountered in true_divide\n",
      "  explained_variance_ = (S**2) / (n_samples - 1)\n",
      "/Users/oliviermanette/opt/anaconda3/lib/python3.9/site-packages/sklearn/decomposition/_pca.py:525: RuntimeWarning: invalid value encountered in true_divide\n",
      "  explained_variance_ = (S**2) / (n_samples - 1)\n",
      "/Users/oliviermanette/opt/anaconda3/lib/python3.9/site-packages/sklearn/decomposition/_pca.py:525: RuntimeWarning: invalid value encountered in true_divide\n",
      "  explained_variance_ = (S**2) / (n_samples - 1)\n",
      "/Users/oliviermanette/opt/anaconda3/lib/python3.9/site-packages/sklearn/decomposition/_pca.py:525: RuntimeWarning: invalid value encountered in true_divide\n",
      "  explained_variance_ = (S**2) / (n_samples - 1)\n",
      "/Users/oliviermanette/opt/anaconda3/lib/python3.9/site-packages/sklearn/decomposition/_pca.py:525: RuntimeWarning: invalid value encountered in true_divide\n",
      "  explained_variance_ = (S**2) / (n_samples - 1)\n",
      "/Users/oliviermanette/opt/anaconda3/lib/python3.9/site-packages/sklearn/decomposition/_pca.py:525: RuntimeWarning: invalid value encountered in true_divide\n",
      "  explained_variance_ = (S**2) / (n_samples - 1)\n",
      "/Users/oliviermanette/opt/anaconda3/lib/python3.9/site-packages/sklearn/decomposition/_pca.py:525: RuntimeWarning: invalid value encountered in true_divide\n",
      "  explained_variance_ = (S**2) / (n_samples - 1)\n",
      "/Users/oliviermanette/opt/anaconda3/lib/python3.9/site-packages/sklearn/decomposition/_pca.py:525: RuntimeWarning: invalid value encountered in true_divide\n",
      "  explained_variance_ = (S**2) / (n_samples - 1)\n",
      "/Users/oliviermanette/opt/anaconda3/lib/python3.9/site-packages/sklearn/decomposition/_pca.py:525: RuntimeWarning: invalid value encountered in true_divide\n",
      "  explained_variance_ = (S**2) / (n_samples - 1)\n",
      "/Users/oliviermanette/opt/anaconda3/lib/python3.9/site-packages/sklearn/decomposition/_pca.py:525: RuntimeWarning: invalid value encountered in true_divide\n",
      "  explained_variance_ = (S**2) / (n_samples - 1)\n",
      "/Users/oliviermanette/opt/anaconda3/lib/python3.9/site-packages/sklearn/decomposition/_pca.py:525: RuntimeWarning: invalid value encountered in true_divide\n",
      "  explained_variance_ = (S**2) / (n_samples - 1)\n",
      "/Users/oliviermanette/opt/anaconda3/lib/python3.9/site-packages/sklearn/decomposition/_pca.py:525: RuntimeWarning: invalid value encountered in true_divide\n",
      "  explained_variance_ = (S**2) / (n_samples - 1)\n",
      "/Users/oliviermanette/opt/anaconda3/lib/python3.9/site-packages/sklearn/decomposition/_pca.py:525: RuntimeWarning: invalid value encountered in true_divide\n",
      "  explained_variance_ = (S**2) / (n_samples - 1)\n",
      "/Users/oliviermanette/opt/anaconda3/lib/python3.9/site-packages/sklearn/decomposition/_pca.py:525: RuntimeWarning: invalid value encountered in true_divide\n",
      "  explained_variance_ = (S**2) / (n_samples - 1)\n",
      "/Users/oliviermanette/opt/anaconda3/lib/python3.9/site-packages/sklearn/decomposition/_pca.py:525: RuntimeWarning: invalid value encountered in true_divide\n",
      "  explained_variance_ = (S**2) / (n_samples - 1)\n",
      "/Users/oliviermanette/Documents/Sentive One Shot Learning Omniglot/sandbox metadl/../metadl/baselines/sentive_ai/sentive/sentive_neuron_helper.py:386: RuntimeWarning: invalid value encountered in arccos\n",
      "  angle =  signe * np.arccos(np.sum(np.multiply(np_c_1,np_c_2))/(np.sqrt(np.sum(np.power(np_c_1,2)))*np.sqrt(np.sum(np.power(np_c_2,2)))))\n",
      "/Users/oliviermanette/opt/anaconda3/lib/python3.9/site-packages/sklearn/decomposition/_pca.py:525: RuntimeWarning: invalid value encountered in true_divide\n",
      "  explained_variance_ = (S**2) / (n_samples - 1)\n",
      "/Users/oliviermanette/opt/anaconda3/lib/python3.9/site-packages/sklearn/decomposition/_pca.py:525: RuntimeWarning: invalid value encountered in true_divide\n",
      "  explained_variance_ = (S**2) / (n_samples - 1)\n",
      "/Users/oliviermanette/opt/anaconda3/lib/python3.9/site-packages/sklearn/decomposition/_pca.py:525: RuntimeWarning: invalid value encountered in true_divide\n",
      "  explained_variance_ = (S**2) / (n_samples - 1)\n",
      "/Users/oliviermanette/opt/anaconda3/lib/python3.9/site-packages/sklearn/decomposition/_pca.py:525: RuntimeWarning: invalid value encountered in true_divide\n",
      "  explained_variance_ = (S**2) / (n_samples - 1)\n",
      "/Users/oliviermanette/opt/anaconda3/lib/python3.9/site-packages/sklearn/decomposition/_pca.py:525: RuntimeWarning: invalid value encountered in true_divide\n",
      "  explained_variance_ = (S**2) / (n_samples - 1)\n",
      "/Users/oliviermanette/opt/anaconda3/lib/python3.9/site-packages/sklearn/decomposition/_pca.py:525: RuntimeWarning: invalid value encountered in true_divide\n",
      "  explained_variance_ = (S**2) / (n_samples - 1)\n",
      "/Users/oliviermanette/opt/anaconda3/lib/python3.9/site-packages/sklearn/decomposition/_pca.py:525: RuntimeWarning: invalid value encountered in true_divide\n",
      "  explained_variance_ = (S**2) / (n_samples - 1)\n",
      "/Users/oliviermanette/opt/anaconda3/lib/python3.9/site-packages/sklearn/decomposition/_pca.py:525: RuntimeWarning: invalid value encountered in true_divide\n",
      "  explained_variance_ = (S**2) / (n_samples - 1)\n",
      "/Users/oliviermanette/opt/anaconda3/lib/python3.9/site-packages/sklearn/decomposition/_pca.py:525: RuntimeWarning: invalid value encountered in true_divide\n",
      "  explained_variance_ = (S**2) / (n_samples - 1)\n",
      "/Users/oliviermanette/opt/anaconda3/lib/python3.9/site-packages/sklearn/decomposition/_pca.py:525: RuntimeWarning: invalid value encountered in true_divide\n",
      "  explained_variance_ = (S**2) / (n_samples - 1)\n",
      "/Users/oliviermanette/opt/anaconda3/lib/python3.9/site-packages/sklearn/decomposition/_pca.py:525: RuntimeWarning: invalid value encountered in true_divide\n",
      "  explained_variance_ = (S**2) / (n_samples - 1)\n",
      "/Users/oliviermanette/opt/anaconda3/lib/python3.9/site-packages/sklearn/decomposition/_pca.py:525: RuntimeWarning: invalid value encountered in true_divide\n",
      "  explained_variance_ = (S**2) / (n_samples - 1)\n",
      "/Users/oliviermanette/opt/anaconda3/lib/python3.9/site-packages/sklearn/decomposition/_pca.py:525: RuntimeWarning: invalid value encountered in true_divide\n",
      "  explained_variance_ = (S**2) / (n_samples - 1)\n",
      "/Users/oliviermanette/opt/anaconda3/lib/python3.9/site-packages/sklearn/decomposition/_pca.py:525: RuntimeWarning: invalid value encountered in true_divide\n",
      "  explained_variance_ = (S**2) / (n_samples - 1)\n",
      "/Users/oliviermanette/opt/anaconda3/lib/python3.9/site-packages/sklearn/decomposition/_pca.py:525: RuntimeWarning: invalid value encountered in true_divide\n",
      "  explained_variance_ = (S**2) / (n_samples - 1)\n",
      "/Users/oliviermanette/opt/anaconda3/lib/python3.9/site-packages/sklearn/decomposition/_pca.py:525: RuntimeWarning: invalid value encountered in true_divide\n",
      "  explained_variance_ = (S**2) / (n_samples - 1)\n",
      "/Users/oliviermanette/opt/anaconda3/lib/python3.9/site-packages/sklearn/decomposition/_pca.py:525: RuntimeWarning: invalid value encountered in true_divide\n",
      "  explained_variance_ = (S**2) / (n_samples - 1)\n",
      "/Users/oliviermanette/opt/anaconda3/lib/python3.9/site-packages/sklearn/decomposition/_pca.py:525: RuntimeWarning: invalid value encountered in true_divide\n",
      "  explained_variance_ = (S**2) / (n_samples - 1)\n",
      "/Users/oliviermanette/opt/anaconda3/lib/python3.9/site-packages/sklearn/decomposition/_pca.py:525: RuntimeWarning: invalid value encountered in true_divide\n",
      "  explained_variance_ = (S**2) / (n_samples - 1)\n",
      "/Users/oliviermanette/opt/anaconda3/lib/python3.9/site-packages/sklearn/decomposition/_pca.py:525: RuntimeWarning: invalid value encountered in true_divide\n",
      "  explained_variance_ = (S**2) / (n_samples - 1)\n",
      "/Users/oliviermanette/opt/anaconda3/lib/python3.9/site-packages/sklearn/decomposition/_pca.py:525: RuntimeWarning: invalid value encountered in true_divide\n",
      "  explained_variance_ = (S**2) / (n_samples - 1)\n",
      "/Users/oliviermanette/opt/anaconda3/lib/python3.9/site-packages/sklearn/decomposition/_pca.py:525: RuntimeWarning: invalid value encountered in true_divide\n",
      "  explained_variance_ = (S**2) / (n_samples - 1)\n",
      "/Users/oliviermanette/opt/anaconda3/lib/python3.9/site-packages/sklearn/decomposition/_pca.py:525: RuntimeWarning: invalid value encountered in true_divide\n",
      "  explained_variance_ = (S**2) / (n_samples - 1)\n",
      "/Users/oliviermanette/opt/anaconda3/lib/python3.9/site-packages/sklearn/decomposition/_pca.py:525: RuntimeWarning: invalid value encountered in true_divide\n",
      "  explained_variance_ = (S**2) / (n_samples - 1)\n",
      "/Users/oliviermanette/opt/anaconda3/lib/python3.9/site-packages/sklearn/decomposition/_pca.py:525: RuntimeWarning: invalid value encountered in true_divide\n",
      "  explained_variance_ = (S**2) / (n_samples - 1)\n",
      "/Users/oliviermanette/opt/anaconda3/lib/python3.9/site-packages/sklearn/decomposition/_pca.py:525: RuntimeWarning: invalid value encountered in true_divide\n",
      "  explained_variance_ = (S**2) / (n_samples - 1)\n",
      "/Users/oliviermanette/opt/anaconda3/lib/python3.9/site-packages/sklearn/decomposition/_pca.py:525: RuntimeWarning: invalid value encountered in true_divide\n",
      "  explained_variance_ = (S**2) / (n_samples - 1)\n",
      "/Users/oliviermanette/opt/anaconda3/lib/python3.9/site-packages/sklearn/decomposition/_pca.py:525: RuntimeWarning: invalid value encountered in true_divide\n",
      "  explained_variance_ = (S**2) / (n_samples - 1)\n",
      "/Users/oliviermanette/opt/anaconda3/lib/python3.9/site-packages/sklearn/decomposition/_pca.py:525: RuntimeWarning: invalid value encountered in true_divide\n",
      "  explained_variance_ = (S**2) / (n_samples - 1)\n",
      "/Users/oliviermanette/opt/anaconda3/lib/python3.9/site-packages/sklearn/decomposition/_pca.py:525: RuntimeWarning: invalid value encountered in true_divide\n",
      "  explained_variance_ = (S**2) / (n_samples - 1)\n",
      "/Users/oliviermanette/opt/anaconda3/lib/python3.9/site-packages/sklearn/decomposition/_pca.py:525: RuntimeWarning: invalid value encountered in true_divide\n",
      "  explained_variance_ = (S**2) / (n_samples - 1)\n",
      "/Users/oliviermanette/opt/anaconda3/lib/python3.9/site-packages/sklearn/decomposition/_pca.py:525: RuntimeWarning: invalid value encountered in true_divide\n",
      "  explained_variance_ = (S**2) / (n_samples - 1)\n",
      "/Users/oliviermanette/opt/anaconda3/lib/python3.9/site-packages/sklearn/decomposition/_pca.py:525: RuntimeWarning: invalid value encountered in true_divide\n",
      "  explained_variance_ = (S**2) / (n_samples - 1)\n",
      "/Users/oliviermanette/opt/anaconda3/lib/python3.9/site-packages/sklearn/decomposition/_pca.py:525: RuntimeWarning: invalid value encountered in true_divide\n",
      "  explained_variance_ = (S**2) / (n_samples - 1)\n",
      "/Users/oliviermanette/opt/anaconda3/lib/python3.9/site-packages/sklearn/decomposition/_pca.py:525: RuntimeWarning: invalid value encountered in true_divide\n",
      "  explained_variance_ = (S**2) / (n_samples - 1)\n",
      "/Users/oliviermanette/opt/anaconda3/lib/python3.9/site-packages/sklearn/decomposition/_pca.py:525: RuntimeWarning: invalid value encountered in true_divide\n",
      "  explained_variance_ = (S**2) / (n_samples - 1)\n",
      "/Users/oliviermanette/opt/anaconda3/lib/python3.9/site-packages/sklearn/decomposition/_pca.py:525: RuntimeWarning: invalid value encountered in true_divide\n",
      "  explained_variance_ = (S**2) / (n_samples - 1)\n",
      "/Users/oliviermanette/opt/anaconda3/lib/python3.9/site-packages/sklearn/decomposition/_pca.py:525: RuntimeWarning: invalid value encountered in true_divide\n",
      "  explained_variance_ = (S**2) / (n_samples - 1)\n",
      "/Users/oliviermanette/opt/anaconda3/lib/python3.9/site-packages/sklearn/decomposition/_pca.py:525: RuntimeWarning: invalid value encountered in true_divide\n",
      "  explained_variance_ = (S**2) / (n_samples - 1)\n",
      "/Users/oliviermanette/opt/anaconda3/lib/python3.9/site-packages/sklearn/decomposition/_pca.py:525: RuntimeWarning: invalid value encountered in true_divide\n",
      "  explained_variance_ = (S**2) / (n_samples - 1)\n",
      "/Users/oliviermanette/opt/anaconda3/lib/python3.9/site-packages/sklearn/decomposition/_pca.py:525: RuntimeWarning: invalid value encountered in true_divide\n",
      "  explained_variance_ = (S**2) / (n_samples - 1)\n",
      "/Users/oliviermanette/opt/anaconda3/lib/python3.9/site-packages/sklearn/decomposition/_pca.py:525: RuntimeWarning: invalid value encountered in true_divide\n",
      "  explained_variance_ = (S**2) / (n_samples - 1)\n",
      "/Users/oliviermanette/opt/anaconda3/lib/python3.9/site-packages/sklearn/decomposition/_pca.py:525: RuntimeWarning: invalid value encountered in true_divide\n",
      "  explained_variance_ = (S**2) / (n_samples - 1)\n",
      "/Users/oliviermanette/opt/anaconda3/lib/python3.9/site-packages/sklearn/decomposition/_pca.py:525: RuntimeWarning: invalid value encountered in true_divide\n",
      "  explained_variance_ = (S**2) / (n_samples - 1)\n",
      "/Users/oliviermanette/opt/anaconda3/lib/python3.9/site-packages/sklearn/decomposition/_pca.py:525: RuntimeWarning: invalid value encountered in true_divide\n",
      "  explained_variance_ = (S**2) / (n_samples - 1)\n",
      "/Users/oliviermanette/opt/anaconda3/lib/python3.9/site-packages/sklearn/decomposition/_pca.py:525: RuntimeWarning: invalid value encountered in true_divide\n",
      "  explained_variance_ = (S**2) / (n_samples - 1)\n",
      "/Users/oliviermanette/opt/anaconda3/lib/python3.9/site-packages/sklearn/decomposition/_pca.py:525: RuntimeWarning: invalid value encountered in true_divide\n",
      "  explained_variance_ = (S**2) / (n_samples - 1)\n",
      "/Users/oliviermanette/opt/anaconda3/lib/python3.9/site-packages/sklearn/decomposition/_pca.py:525: RuntimeWarning: invalid value encountered in true_divide\n",
      "  explained_variance_ = (S**2) / (n_samples - 1)\n",
      "/Users/oliviermanette/opt/anaconda3/lib/python3.9/site-packages/sklearn/decomposition/_pca.py:525: RuntimeWarning: invalid value encountered in true_divide\n",
      "  explained_variance_ = (S**2) / (n_samples - 1)\n",
      "/Users/oliviermanette/opt/anaconda3/lib/python3.9/site-packages/sklearn/decomposition/_pca.py:525: RuntimeWarning: invalid value encountered in true_divide\n",
      "  explained_variance_ = (S**2) / (n_samples - 1)\n",
      "/Users/oliviermanette/opt/anaconda3/lib/python3.9/site-packages/sklearn/decomposition/_pca.py:525: RuntimeWarning: invalid value encountered in true_divide\n",
      "  explained_variance_ = (S**2) / (n_samples - 1)\n",
      "/Users/oliviermanette/opt/anaconda3/lib/python3.9/site-packages/sklearn/decomposition/_pca.py:525: RuntimeWarning: invalid value encountered in true_divide\n",
      "  explained_variance_ = (S**2) / (n_samples - 1)\n",
      "/Users/oliviermanette/opt/anaconda3/lib/python3.9/site-packages/sklearn/decomposition/_pca.py:525: RuntimeWarning: invalid value encountered in true_divide\n",
      "  explained_variance_ = (S**2) / (n_samples - 1)\n",
      "/Users/oliviermanette/opt/anaconda3/lib/python3.9/site-packages/sklearn/decomposition/_pca.py:525: RuntimeWarning: invalid value encountered in true_divide\n",
      "  explained_variance_ = (S**2) / (n_samples - 1)\n",
      "/Users/oliviermanette/opt/anaconda3/lib/python3.9/site-packages/sklearn/decomposition/_pca.py:525: RuntimeWarning: invalid value encountered in true_divide\n",
      "  explained_variance_ = (S**2) / (n_samples - 1)\n",
      "/Users/oliviermanette/opt/anaconda3/lib/python3.9/site-packages/sklearn/decomposition/_pca.py:525: RuntimeWarning: invalid value encountered in true_divide\n",
      "  explained_variance_ = (S**2) / (n_samples - 1)\n",
      "/Users/oliviermanette/opt/anaconda3/lib/python3.9/site-packages/sklearn/decomposition/_pca.py:525: RuntimeWarning: invalid value encountered in true_divide\n",
      "  explained_variance_ = (S**2) / (n_samples - 1)\n",
      "/Users/oliviermanette/opt/anaconda3/lib/python3.9/site-packages/sklearn/decomposition/_pca.py:525: RuntimeWarning: invalid value encountered in true_divide\n",
      "  explained_variance_ = (S**2) / (n_samples - 1)\n",
      "/Users/oliviermanette/opt/anaconda3/lib/python3.9/site-packages/sklearn/decomposition/_pca.py:525: RuntimeWarning: invalid value encountered in true_divide\n",
      "  explained_variance_ = (S**2) / (n_samples - 1)\n",
      "/Users/oliviermanette/opt/anaconda3/lib/python3.9/site-packages/sklearn/decomposition/_pca.py:525: RuntimeWarning: invalid value encountered in true_divide\n",
      "  explained_variance_ = (S**2) / (n_samples - 1)\n",
      "/Users/oliviermanette/opt/anaconda3/lib/python3.9/site-packages/sklearn/decomposition/_pca.py:525: RuntimeWarning: invalid value encountered in true_divide\n",
      "  explained_variance_ = (S**2) / (n_samples - 1)\n",
      "/Users/oliviermanette/opt/anaconda3/lib/python3.9/site-packages/sklearn/decomposition/_pca.py:525: RuntimeWarning: invalid value encountered in true_divide\n",
      "  explained_variance_ = (S**2) / (n_samples - 1)\n",
      "/Users/oliviermanette/opt/anaconda3/lib/python3.9/site-packages/sklearn/decomposition/_pca.py:525: RuntimeWarning: invalid value encountered in true_divide\n",
      "  explained_variance_ = (S**2) / (n_samples - 1)\n",
      "/Users/oliviermanette/opt/anaconda3/lib/python3.9/site-packages/sklearn/decomposition/_pca.py:525: RuntimeWarning: invalid value encountered in true_divide\n",
      "  explained_variance_ = (S**2) / (n_samples - 1)\n",
      "/Users/oliviermanette/opt/anaconda3/lib/python3.9/site-packages/sklearn/decomposition/_pca.py:525: RuntimeWarning: invalid value encountered in true_divide\n",
      "  explained_variance_ = (S**2) / (n_samples - 1)\n",
      "/Users/oliviermanette/opt/anaconda3/lib/python3.9/site-packages/sklearn/decomposition/_pca.py:525: RuntimeWarning: invalid value encountered in true_divide\n",
      "  explained_variance_ = (S**2) / (n_samples - 1)\n",
      "/Users/oliviermanette/opt/anaconda3/lib/python3.9/site-packages/sklearn/decomposition/_pca.py:525: RuntimeWarning: invalid value encountered in true_divide\n",
      "  explained_variance_ = (S**2) / (n_samples - 1)\n",
      "/Users/oliviermanette/opt/anaconda3/lib/python3.9/site-packages/sklearn/decomposition/_pca.py:525: RuntimeWarning: invalid value encountered in true_divide\n",
      "  explained_variance_ = (S**2) / (n_samples - 1)\n",
      "/Users/oliviermanette/opt/anaconda3/lib/python3.9/site-packages/sklearn/decomposition/_pca.py:525: RuntimeWarning: invalid value encountered in true_divide\n",
      "  explained_variance_ = (S**2) / (n_samples - 1)\n",
      "/Users/oliviermanette/opt/anaconda3/lib/python3.9/site-packages/sklearn/decomposition/_pca.py:525: RuntimeWarning: invalid value encountered in true_divide\n",
      "  explained_variance_ = (S**2) / (n_samples - 1)\n",
      "/Users/oliviermanette/opt/anaconda3/lib/python3.9/site-packages/sklearn/decomposition/_pca.py:525: RuntimeWarning: invalid value encountered in true_divide\n",
      "  explained_variance_ = (S**2) / (n_samples - 1)\n",
      "/Users/oliviermanette/opt/anaconda3/lib/python3.9/site-packages/sklearn/decomposition/_pca.py:525: RuntimeWarning: invalid value encountered in true_divide\n",
      "  explained_variance_ = (S**2) / (n_samples - 1)\n",
      "/Users/oliviermanette/opt/anaconda3/lib/python3.9/site-packages/sklearn/decomposition/_pca.py:525: RuntimeWarning: invalid value encountered in true_divide\n",
      "  explained_variance_ = (S**2) / (n_samples - 1)\n",
      "/Users/oliviermanette/opt/anaconda3/lib/python3.9/site-packages/sklearn/decomposition/_pca.py:525: RuntimeWarning: invalid value encountered in true_divide\n",
      "  explained_variance_ = (S**2) / (n_samples - 1)\n",
      "/Users/oliviermanette/Documents/Sentive One Shot Learning Omniglot/sandbox metadl/../metadl/baselines/sentive_ai/sentive/sentive_neuron_helper.py:386: RuntimeWarning: invalid value encountered in arccos\n",
      "  angle =  signe * np.arccos(np.sum(np.multiply(np_c_1,np_c_2))/(np.sqrt(np.sum(np.power(np_c_1,2)))*np.sqrt(np.sum(np.power(np_c_2,2)))))\n",
      "/Users/oliviermanette/opt/anaconda3/lib/python3.9/site-packages/sklearn/decomposition/_pca.py:525: RuntimeWarning: invalid value encountered in true_divide\n",
      "  explained_variance_ = (S**2) / (n_samples - 1)\n",
      "/Users/oliviermanette/opt/anaconda3/lib/python3.9/site-packages/sklearn/decomposition/_pca.py:525: RuntimeWarning: invalid value encountered in true_divide\n",
      "  explained_variance_ = (S**2) / (n_samples - 1)\n",
      "/Users/oliviermanette/opt/anaconda3/lib/python3.9/site-packages/sklearn/decomposition/_pca.py:525: RuntimeWarning: invalid value encountered in true_divide\n",
      "  explained_variance_ = (S**2) / (n_samples - 1)\n",
      "/Users/oliviermanette/opt/anaconda3/lib/python3.9/site-packages/sklearn/decomposition/_pca.py:525: RuntimeWarning: invalid value encountered in true_divide\n",
      "  explained_variance_ = (S**2) / (n_samples - 1)\n",
      "/Users/oliviermanette/opt/anaconda3/lib/python3.9/site-packages/sklearn/decomposition/_pca.py:525: RuntimeWarning: invalid value encountered in true_divide\n",
      "  explained_variance_ = (S**2) / (n_samples - 1)\n",
      "/Users/oliviermanette/opt/anaconda3/lib/python3.9/site-packages/sklearn/decomposition/_pca.py:525: RuntimeWarning: invalid value encountered in true_divide\n",
      "  explained_variance_ = (S**2) / (n_samples - 1)\n",
      "/Users/oliviermanette/opt/anaconda3/lib/python3.9/site-packages/sklearn/decomposition/_pca.py:525: RuntimeWarning: invalid value encountered in true_divide\n",
      "  explained_variance_ = (S**2) / (n_samples - 1)\n",
      "/Users/oliviermanette/opt/anaconda3/lib/python3.9/site-packages/sklearn/decomposition/_pca.py:525: RuntimeWarning: invalid value encountered in true_divide\n",
      "  explained_variance_ = (S**2) / (n_samples - 1)\n",
      "/Users/oliviermanette/opt/anaconda3/lib/python3.9/site-packages/sklearn/decomposition/_pca.py:525: RuntimeWarning: invalid value encountered in true_divide\n",
      "  explained_variance_ = (S**2) / (n_samples - 1)\n",
      "/Users/oliviermanette/opt/anaconda3/lib/python3.9/site-packages/sklearn/decomposition/_pca.py:525: RuntimeWarning: invalid value encountered in true_divide\n",
      "  explained_variance_ = (S**2) / (n_samples - 1)\n",
      "/Users/oliviermanette/opt/anaconda3/lib/python3.9/site-packages/sklearn/decomposition/_pca.py:525: RuntimeWarning: invalid value encountered in true_divide\n",
      "  explained_variance_ = (S**2) / (n_samples - 1)\n",
      "/Users/oliviermanette/opt/anaconda3/lib/python3.9/site-packages/sklearn/decomposition/_pca.py:525: RuntimeWarning: invalid value encountered in true_divide\n",
      "  explained_variance_ = (S**2) / (n_samples - 1)\n"
     ]
    },
    {
     "name": "stdout",
     "output_type": "stream",
     "text": [
      " 61\n",
      "nb neurones couche 2 : 60\n",
      "nombre de neurones couche 1 & 2: 122\n",
      "nombre de neurones taille 1: 65\n"
     ]
    },
    {
     "name": "stderr",
     "output_type": "stream",
     "text": [
      "/Users/oliviermanette/opt/anaconda3/lib/python3.9/site-packages/sklearn/decomposition/_pca.py:525: RuntimeWarning: invalid value encountered in true_divide\n",
      "  explained_variance_ = (S**2) / (n_samples - 1)\n",
      "/Users/oliviermanette/opt/anaconda3/lib/python3.9/site-packages/sklearn/decomposition/_pca.py:525: RuntimeWarning: invalid value encountered in true_divide\n",
      "  explained_variance_ = (S**2) / (n_samples - 1)\n",
      "/Users/oliviermanette/opt/anaconda3/lib/python3.9/site-packages/sklearn/decomposition/_pca.py:525: RuntimeWarning: invalid value encountered in true_divide\n",
      "  explained_variance_ = (S**2) / (n_samples - 1)\n",
      "/Users/oliviermanette/opt/anaconda3/lib/python3.9/site-packages/sklearn/decomposition/_pca.py:525: RuntimeWarning: invalid value encountered in true_divide\n",
      "  explained_variance_ = (S**2) / (n_samples - 1)\n",
      "/Users/oliviermanette/opt/anaconda3/lib/python3.9/site-packages/sklearn/decomposition/_pca.py:525: RuntimeWarning: invalid value encountered in true_divide\n",
      "  explained_variance_ = (S**2) / (n_samples - 1)\n",
      "/Users/oliviermanette/opt/anaconda3/lib/python3.9/site-packages/sklearn/decomposition/_pca.py:525: RuntimeWarning: invalid value encountered in true_divide\n",
      "  explained_variance_ = (S**2) / (n_samples - 1)\n",
      "/Users/oliviermanette/opt/anaconda3/lib/python3.9/site-packages/sklearn/decomposition/_pca.py:525: RuntimeWarning: invalid value encountered in true_divide\n",
      "  explained_variance_ = (S**2) / (n_samples - 1)\n",
      "/Users/oliviermanette/opt/anaconda3/lib/python3.9/site-packages/sklearn/decomposition/_pca.py:525: RuntimeWarning: invalid value encountered in true_divide\n",
      "  explained_variance_ = (S**2) / (n_samples - 1)\n",
      "/Users/oliviermanette/opt/anaconda3/lib/python3.9/site-packages/sklearn/decomposition/_pca.py:525: RuntimeWarning: invalid value encountered in true_divide\n",
      "  explained_variance_ = (S**2) / (n_samples - 1)\n",
      "/Users/oliviermanette/opt/anaconda3/lib/python3.9/site-packages/sklearn/decomposition/_pca.py:525: RuntimeWarning: invalid value encountered in true_divide\n",
      "  explained_variance_ = (S**2) / (n_samples - 1)\n",
      "/Users/oliviermanette/opt/anaconda3/lib/python3.9/site-packages/sklearn/decomposition/_pca.py:525: RuntimeWarning: invalid value encountered in true_divide\n",
      "  explained_variance_ = (S**2) / (n_samples - 1)\n",
      "/Users/oliviermanette/opt/anaconda3/lib/python3.9/site-packages/sklearn/decomposition/_pca.py:525: RuntimeWarning: invalid value encountered in true_divide\n",
      "  explained_variance_ = (S**2) / (n_samples - 1)\n",
      "/Users/oliviermanette/opt/anaconda3/lib/python3.9/site-packages/sklearn/decomposition/_pca.py:525: RuntimeWarning: invalid value encountered in true_divide\n",
      "  explained_variance_ = (S**2) / (n_samples - 1)\n",
      "/Users/oliviermanette/opt/anaconda3/lib/python3.9/site-packages/sklearn/decomposition/_pca.py:525: RuntimeWarning: invalid value encountered in true_divide\n",
      "  explained_variance_ = (S**2) / (n_samples - 1)\n",
      "/Users/oliviermanette/opt/anaconda3/lib/python3.9/site-packages/sklearn/decomposition/_pca.py:525: RuntimeWarning: invalid value encountered in true_divide\n",
      "  explained_variance_ = (S**2) / (n_samples - 1)\n",
      "/Users/oliviermanette/opt/anaconda3/lib/python3.9/site-packages/sklearn/decomposition/_pca.py:525: RuntimeWarning: invalid value encountered in true_divide\n",
      "  explained_variance_ = (S**2) / (n_samples - 1)\n",
      "/Users/oliviermanette/opt/anaconda3/lib/python3.9/site-packages/sklearn/decomposition/_pca.py:525: RuntimeWarning: invalid value encountered in true_divide\n",
      "  explained_variance_ = (S**2) / (n_samples - 1)\n",
      "/Users/oliviermanette/opt/anaconda3/lib/python3.9/site-packages/sklearn/decomposition/_pca.py:525: RuntimeWarning: invalid value encountered in true_divide\n",
      "  explained_variance_ = (S**2) / (n_samples - 1)\n",
      "/Users/oliviermanette/opt/anaconda3/lib/python3.9/site-packages/sklearn/decomposition/_pca.py:525: RuntimeWarning: invalid value encountered in true_divide\n",
      "  explained_variance_ = (S**2) / (n_samples - 1)\n",
      "/Users/oliviermanette/opt/anaconda3/lib/python3.9/site-packages/sklearn/decomposition/_pca.py:525: RuntimeWarning: invalid value encountered in true_divide\n",
      "  explained_variance_ = (S**2) / (n_samples - 1)\n",
      "/Users/oliviermanette/opt/anaconda3/lib/python3.9/site-packages/sklearn/decomposition/_pca.py:525: RuntimeWarning: invalid value encountered in true_divide\n",
      "  explained_variance_ = (S**2) / (n_samples - 1)\n",
      "/Users/oliviermanette/opt/anaconda3/lib/python3.9/site-packages/sklearn/decomposition/_pca.py:525: RuntimeWarning: invalid value encountered in true_divide\n",
      "  explained_variance_ = (S**2) / (n_samples - 1)\n",
      "/Users/oliviermanette/opt/anaconda3/lib/python3.9/site-packages/sklearn/decomposition/_pca.py:525: RuntimeWarning: invalid value encountered in true_divide\n",
      "  explained_variance_ = (S**2) / (n_samples - 1)\n",
      "/Users/oliviermanette/opt/anaconda3/lib/python3.9/site-packages/sklearn/decomposition/_pca.py:525: RuntimeWarning: invalid value encountered in true_divide\n",
      "  explained_variance_ = (S**2) / (n_samples - 1)\n",
      "/Users/oliviermanette/opt/anaconda3/lib/python3.9/site-packages/sklearn/decomposition/_pca.py:525: RuntimeWarning: invalid value encountered in true_divide\n",
      "  explained_variance_ = (S**2) / (n_samples - 1)\n",
      "/Users/oliviermanette/opt/anaconda3/lib/python3.9/site-packages/sklearn/decomposition/_pca.py:525: RuntimeWarning: invalid value encountered in true_divide\n",
      "  explained_variance_ = (S**2) / (n_samples - 1)\n",
      "/Users/oliviermanette/opt/anaconda3/lib/python3.9/site-packages/sklearn/decomposition/_pca.py:525: RuntimeWarning: invalid value encountered in true_divide\n",
      "  explained_variance_ = (S**2) / (n_samples - 1)\n",
      "/Users/oliviermanette/opt/anaconda3/lib/python3.9/site-packages/sklearn/decomposition/_pca.py:525: RuntimeWarning: invalid value encountered in true_divide\n",
      "  explained_variance_ = (S**2) / (n_samples - 1)\n",
      "/Users/oliviermanette/opt/anaconda3/lib/python3.9/site-packages/sklearn/decomposition/_pca.py:525: RuntimeWarning: invalid value encountered in true_divide\n",
      "  explained_variance_ = (S**2) / (n_samples - 1)\n",
      "/Users/oliviermanette/opt/anaconda3/lib/python3.9/site-packages/sklearn/decomposition/_pca.py:525: RuntimeWarning: invalid value encountered in true_divide\n",
      "  explained_variance_ = (S**2) / (n_samples - 1)\n",
      "/Users/oliviermanette/opt/anaconda3/lib/python3.9/site-packages/sklearn/decomposition/_pca.py:525: RuntimeWarning: invalid value encountered in true_divide\n",
      "  explained_variance_ = (S**2) / (n_samples - 1)\n",
      "/Users/oliviermanette/opt/anaconda3/lib/python3.9/site-packages/sklearn/decomposition/_pca.py:525: RuntimeWarning: invalid value encountered in true_divide\n",
      "  explained_variance_ = (S**2) / (n_samples - 1)\n",
      "/Users/oliviermanette/opt/anaconda3/lib/python3.9/site-packages/sklearn/decomposition/_pca.py:525: RuntimeWarning: invalid value encountered in true_divide\n",
      "  explained_variance_ = (S**2) / (n_samples - 1)\n",
      "/Users/oliviermanette/opt/anaconda3/lib/python3.9/site-packages/sklearn/decomposition/_pca.py:525: RuntimeWarning: invalid value encountered in true_divide\n",
      "  explained_variance_ = (S**2) / (n_samples - 1)\n",
      "/Users/oliviermanette/opt/anaconda3/lib/python3.9/site-packages/sklearn/decomposition/_pca.py:525: RuntimeWarning: invalid value encountered in true_divide\n",
      "  explained_variance_ = (S**2) / (n_samples - 1)\n",
      "/Users/oliviermanette/opt/anaconda3/lib/python3.9/site-packages/sklearn/decomposition/_pca.py:525: RuntimeWarning: invalid value encountered in true_divide\n",
      "  explained_variance_ = (S**2) / (n_samples - 1)\n",
      "/Users/oliviermanette/opt/anaconda3/lib/python3.9/site-packages/sklearn/decomposition/_pca.py:525: RuntimeWarning: invalid value encountered in true_divide\n",
      "  explained_variance_ = (S**2) / (n_samples - 1)\n",
      "/Users/oliviermanette/opt/anaconda3/lib/python3.9/site-packages/sklearn/decomposition/_pca.py:525: RuntimeWarning: invalid value encountered in true_divide\n",
      "  explained_variance_ = (S**2) / (n_samples - 1)\n",
      "/Users/oliviermanette/opt/anaconda3/lib/python3.9/site-packages/sklearn/decomposition/_pca.py:525: RuntimeWarning: invalid value encountered in true_divide\n",
      "  explained_variance_ = (S**2) / (n_samples - 1)\n",
      "/Users/oliviermanette/opt/anaconda3/lib/python3.9/site-packages/sklearn/decomposition/_pca.py:525: RuntimeWarning: invalid value encountered in true_divide\n",
      "  explained_variance_ = (S**2) / (n_samples - 1)\n",
      "/Users/oliviermanette/opt/anaconda3/lib/python3.9/site-packages/sklearn/decomposition/_pca.py:525: RuntimeWarning: invalid value encountered in true_divide\n",
      "  explained_variance_ = (S**2) / (n_samples - 1)\n",
      "/Users/oliviermanette/opt/anaconda3/lib/python3.9/site-packages/sklearn/decomposition/_pca.py:525: RuntimeWarning: invalid value encountered in true_divide\n",
      "  explained_variance_ = (S**2) / (n_samples - 1)\n",
      "/Users/oliviermanette/opt/anaconda3/lib/python3.9/site-packages/sklearn/decomposition/_pca.py:525: RuntimeWarning: invalid value encountered in true_divide\n",
      "  explained_variance_ = (S**2) / (n_samples - 1)\n",
      "/Users/oliviermanette/opt/anaconda3/lib/python3.9/site-packages/sklearn/decomposition/_pca.py:525: RuntimeWarning: invalid value encountered in true_divide\n",
      "  explained_variance_ = (S**2) / (n_samples - 1)\n",
      "/Users/oliviermanette/opt/anaconda3/lib/python3.9/site-packages/sklearn/decomposition/_pca.py:525: RuntimeWarning: invalid value encountered in true_divide\n",
      "  explained_variance_ = (S**2) / (n_samples - 1)\n",
      "/Users/oliviermanette/opt/anaconda3/lib/python3.9/site-packages/sklearn/decomposition/_pca.py:525: RuntimeWarning: invalid value encountered in true_divide\n",
      "  explained_variance_ = (S**2) / (n_samples - 1)\n",
      "/Users/oliviermanette/opt/anaconda3/lib/python3.9/site-packages/sklearn/decomposition/_pca.py:525: RuntimeWarning: invalid value encountered in true_divide\n",
      "  explained_variance_ = (S**2) / (n_samples - 1)\n",
      "/Users/oliviermanette/opt/anaconda3/lib/python3.9/site-packages/sklearn/decomposition/_pca.py:525: RuntimeWarning: invalid value encountered in true_divide\n",
      "  explained_variance_ = (S**2) / (n_samples - 1)\n",
      "/Users/oliviermanette/opt/anaconda3/lib/python3.9/site-packages/sklearn/decomposition/_pca.py:525: RuntimeWarning: invalid value encountered in true_divide\n",
      "  explained_variance_ = (S**2) / (n_samples - 1)\n",
      "/Users/oliviermanette/Documents/Sentive One Shot Learning Omniglot/sandbox metadl/../metadl/baselines/sentive_ai/sentive/sentive_neuron_helper.py:386: RuntimeWarning: invalid value encountered in arccos\n",
      "  angle =  signe * np.arccos(np.sum(np.multiply(np_c_1,np_c_2))/(np.sqrt(np.sum(np.power(np_c_1,2)))*np.sqrt(np.sum(np.power(np_c_2,2)))))\n",
      "/Users/oliviermanette/opt/anaconda3/lib/python3.9/site-packages/sklearn/decomposition/_pca.py:525: RuntimeWarning: invalid value encountered in true_divide\n",
      "  explained_variance_ = (S**2) / (n_samples - 1)\n",
      "/Users/oliviermanette/opt/anaconda3/lib/python3.9/site-packages/sklearn/decomposition/_pca.py:525: RuntimeWarning: invalid value encountered in true_divide\n",
      "  explained_variance_ = (S**2) / (n_samples - 1)\n",
      "/Users/oliviermanette/opt/anaconda3/lib/python3.9/site-packages/sklearn/decomposition/_pca.py:525: RuntimeWarning: invalid value encountered in true_divide\n",
      "  explained_variance_ = (S**2) / (n_samples - 1)\n",
      "/Users/oliviermanette/opt/anaconda3/lib/python3.9/site-packages/sklearn/decomposition/_pca.py:525: RuntimeWarning: invalid value encountered in true_divide\n",
      "  explained_variance_ = (S**2) / (n_samples - 1)\n",
      "/Users/oliviermanette/opt/anaconda3/lib/python3.9/site-packages/sklearn/decomposition/_pca.py:525: RuntimeWarning: invalid value encountered in true_divide\n",
      "  explained_variance_ = (S**2) / (n_samples - 1)\n",
      "/Users/oliviermanette/opt/anaconda3/lib/python3.9/site-packages/sklearn/decomposition/_pca.py:525: RuntimeWarning: invalid value encountered in true_divide\n",
      "  explained_variance_ = (S**2) / (n_samples - 1)\n",
      "/Users/oliviermanette/opt/anaconda3/lib/python3.9/site-packages/sklearn/decomposition/_pca.py:525: RuntimeWarning: invalid value encountered in true_divide\n",
      "  explained_variance_ = (S**2) / (n_samples - 1)\n",
      "/Users/oliviermanette/opt/anaconda3/lib/python3.9/site-packages/sklearn/decomposition/_pca.py:525: RuntimeWarning: invalid value encountered in true_divide\n",
      "  explained_variance_ = (S**2) / (n_samples - 1)\n",
      "/Users/oliviermanette/opt/anaconda3/lib/python3.9/site-packages/sklearn/decomposition/_pca.py:525: RuntimeWarning: invalid value encountered in true_divide\n",
      "  explained_variance_ = (S**2) / (n_samples - 1)\n",
      "/Users/oliviermanette/opt/anaconda3/lib/python3.9/site-packages/sklearn/decomposition/_pca.py:525: RuntimeWarning: invalid value encountered in true_divide\n",
      "  explained_variance_ = (S**2) / (n_samples - 1)\n",
      "/Users/oliviermanette/opt/anaconda3/lib/python3.9/site-packages/sklearn/decomposition/_pca.py:525: RuntimeWarning: invalid value encountered in true_divide\n",
      "  explained_variance_ = (S**2) / (n_samples - 1)\n",
      "/Users/oliviermanette/opt/anaconda3/lib/python3.9/site-packages/sklearn/decomposition/_pca.py:525: RuntimeWarning: invalid value encountered in true_divide\n",
      "  explained_variance_ = (S**2) / (n_samples - 1)\n",
      "/Users/oliviermanette/opt/anaconda3/lib/python3.9/site-packages/sklearn/decomposition/_pca.py:525: RuntimeWarning: invalid value encountered in true_divide\n",
      "  explained_variance_ = (S**2) / (n_samples - 1)\n",
      "/Users/oliviermanette/opt/anaconda3/lib/python3.9/site-packages/sklearn/decomposition/_pca.py:525: RuntimeWarning: invalid value encountered in true_divide\n",
      "  explained_variance_ = (S**2) / (n_samples - 1)\n",
      "/Users/oliviermanette/opt/anaconda3/lib/python3.9/site-packages/sklearn/decomposition/_pca.py:525: RuntimeWarning: invalid value encountered in true_divide\n",
      "  explained_variance_ = (S**2) / (n_samples - 1)\n",
      "/Users/oliviermanette/opt/anaconda3/lib/python3.9/site-packages/sklearn/decomposition/_pca.py:525: RuntimeWarning: invalid value encountered in true_divide\n",
      "  explained_variance_ = (S**2) / (n_samples - 1)\n",
      "/Users/oliviermanette/opt/anaconda3/lib/python3.9/site-packages/sklearn/decomposition/_pca.py:525: RuntimeWarning: invalid value encountered in true_divide\n",
      "  explained_variance_ = (S**2) / (n_samples - 1)\n",
      "/Users/oliviermanette/opt/anaconda3/lib/python3.9/site-packages/sklearn/decomposition/_pca.py:525: RuntimeWarning: invalid value encountered in true_divide\n",
      "  explained_variance_ = (S**2) / (n_samples - 1)\n",
      "/Users/oliviermanette/opt/anaconda3/lib/python3.9/site-packages/sklearn/decomposition/_pca.py:525: RuntimeWarning: invalid value encountered in true_divide\n",
      "  explained_variance_ = (S**2) / (n_samples - 1)\n",
      "/Users/oliviermanette/opt/anaconda3/lib/python3.9/site-packages/sklearn/decomposition/_pca.py:525: RuntimeWarning: invalid value encountered in true_divide\n",
      "  explained_variance_ = (S**2) / (n_samples - 1)\n",
      "/Users/oliviermanette/opt/anaconda3/lib/python3.9/site-packages/sklearn/decomposition/_pca.py:525: RuntimeWarning: invalid value encountered in true_divide\n",
      "  explained_variance_ = (S**2) / (n_samples - 1)\n",
      "/Users/oliviermanette/opt/anaconda3/lib/python3.9/site-packages/sklearn/decomposition/_pca.py:525: RuntimeWarning: invalid value encountered in true_divide\n",
      "  explained_variance_ = (S**2) / (n_samples - 1)\n",
      "/Users/oliviermanette/opt/anaconda3/lib/python3.9/site-packages/sklearn/decomposition/_pca.py:525: RuntimeWarning: invalid value encountered in true_divide\n",
      "  explained_variance_ = (S**2) / (n_samples - 1)\n",
      "/Users/oliviermanette/opt/anaconda3/lib/python3.9/site-packages/sklearn/decomposition/_pca.py:525: RuntimeWarning: invalid value encountered in true_divide\n",
      "  explained_variance_ = (S**2) / (n_samples - 1)\n",
      "/Users/oliviermanette/opt/anaconda3/lib/python3.9/site-packages/sklearn/decomposition/_pca.py:525: RuntimeWarning: invalid value encountered in true_divide\n",
      "  explained_variance_ = (S**2) / (n_samples - 1)\n",
      "/Users/oliviermanette/opt/anaconda3/lib/python3.9/site-packages/sklearn/decomposition/_pca.py:525: RuntimeWarning: invalid value encountered in true_divide\n",
      "  explained_variance_ = (S**2) / (n_samples - 1)\n",
      "/Users/oliviermanette/opt/anaconda3/lib/python3.9/site-packages/sklearn/decomposition/_pca.py:525: RuntimeWarning: invalid value encountered in true_divide\n",
      "  explained_variance_ = (S**2) / (n_samples - 1)\n",
      "/Users/oliviermanette/opt/anaconda3/lib/python3.9/site-packages/sklearn/decomposition/_pca.py:525: RuntimeWarning: invalid value encountered in true_divide\n",
      "  explained_variance_ = (S**2) / (n_samples - 1)\n",
      "/Users/oliviermanette/opt/anaconda3/lib/python3.9/site-packages/sklearn/decomposition/_pca.py:525: RuntimeWarning: invalid value encountered in true_divide\n",
      "  explained_variance_ = (S**2) / (n_samples - 1)\n",
      "/Users/oliviermanette/opt/anaconda3/lib/python3.9/site-packages/sklearn/decomposition/_pca.py:525: RuntimeWarning: invalid value encountered in true_divide\n",
      "  explained_variance_ = (S**2) / (n_samples - 1)\n",
      "/Users/oliviermanette/opt/anaconda3/lib/python3.9/site-packages/sklearn/decomposition/_pca.py:525: RuntimeWarning: invalid value encountered in true_divide\n",
      "  explained_variance_ = (S**2) / (n_samples - 1)\n",
      "/Users/oliviermanette/opt/anaconda3/lib/python3.9/site-packages/sklearn/decomposition/_pca.py:525: RuntimeWarning: invalid value encountered in true_divide\n",
      "  explained_variance_ = (S**2) / (n_samples - 1)\n",
      "/Users/oliviermanette/opt/anaconda3/lib/python3.9/site-packages/sklearn/decomposition/_pca.py:525: RuntimeWarning: invalid value encountered in true_divide\n",
      "  explained_variance_ = (S**2) / (n_samples - 1)\n",
      "/Users/oliviermanette/opt/anaconda3/lib/python3.9/site-packages/sklearn/decomposition/_pca.py:525: RuntimeWarning: invalid value encountered in true_divide\n",
      "  explained_variance_ = (S**2) / (n_samples - 1)\n",
      "/Users/oliviermanette/opt/anaconda3/lib/python3.9/site-packages/sklearn/decomposition/_pca.py:525: RuntimeWarning: invalid value encountered in true_divide\n",
      "  explained_variance_ = (S**2) / (n_samples - 1)\n",
      "/Users/oliviermanette/opt/anaconda3/lib/python3.9/site-packages/sklearn/decomposition/_pca.py:525: RuntimeWarning: invalid value encountered in true_divide\n",
      "  explained_variance_ = (S**2) / (n_samples - 1)\n",
      "/Users/oliviermanette/opt/anaconda3/lib/python3.9/site-packages/sklearn/decomposition/_pca.py:525: RuntimeWarning: invalid value encountered in true_divide\n",
      "  explained_variance_ = (S**2) / (n_samples - 1)\n",
      "/Users/oliviermanette/opt/anaconda3/lib/python3.9/site-packages/sklearn/decomposition/_pca.py:525: RuntimeWarning: invalid value encountered in true_divide\n",
      "  explained_variance_ = (S**2) / (n_samples - 1)\n",
      "/Users/oliviermanette/opt/anaconda3/lib/python3.9/site-packages/sklearn/decomposition/_pca.py:525: RuntimeWarning: invalid value encountered in true_divide\n",
      "  explained_variance_ = (S**2) / (n_samples - 1)\n",
      "/Users/oliviermanette/opt/anaconda3/lib/python3.9/site-packages/sklearn/decomposition/_pca.py:525: RuntimeWarning: invalid value encountered in true_divide\n",
      "  explained_variance_ = (S**2) / (n_samples - 1)\n",
      "/Users/oliviermanette/opt/anaconda3/lib/python3.9/site-packages/sklearn/decomposition/_pca.py:525: RuntimeWarning: invalid value encountered in true_divide\n",
      "  explained_variance_ = (S**2) / (n_samples - 1)\n",
      "/Users/oliviermanette/opt/anaconda3/lib/python3.9/site-packages/sklearn/decomposition/_pca.py:525: RuntimeWarning: invalid value encountered in true_divide\n",
      "  explained_variance_ = (S**2) / (n_samples - 1)\n",
      "/Users/oliviermanette/opt/anaconda3/lib/python3.9/site-packages/sklearn/decomposition/_pca.py:525: RuntimeWarning: invalid value encountered in true_divide\n",
      "  explained_variance_ = (S**2) / (n_samples - 1)\n",
      "/Users/oliviermanette/opt/anaconda3/lib/python3.9/site-packages/sklearn/decomposition/_pca.py:525: RuntimeWarning: invalid value encountered in true_divide\n",
      "  explained_variance_ = (S**2) / (n_samples - 1)\n",
      "/Users/oliviermanette/opt/anaconda3/lib/python3.9/site-packages/sklearn/decomposition/_pca.py:525: RuntimeWarning: invalid value encountered in true_divide\n",
      "  explained_variance_ = (S**2) / (n_samples - 1)\n",
      "/Users/oliviermanette/opt/anaconda3/lib/python3.9/site-packages/sklearn/decomposition/_pca.py:525: RuntimeWarning: invalid value encountered in true_divide\n",
      "  explained_variance_ = (S**2) / (n_samples - 1)\n",
      "/Users/oliviermanette/opt/anaconda3/lib/python3.9/site-packages/sklearn/decomposition/_pca.py:525: RuntimeWarning: invalid value encountered in true_divide\n",
      "  explained_variance_ = (S**2) / (n_samples - 1)\n",
      "/Users/oliviermanette/opt/anaconda3/lib/python3.9/site-packages/sklearn/decomposition/_pca.py:525: RuntimeWarning: invalid value encountered in true_divide\n",
      "  explained_variance_ = (S**2) / (n_samples - 1)\n",
      "/Users/oliviermanette/opt/anaconda3/lib/python3.9/site-packages/sklearn/decomposition/_pca.py:525: RuntimeWarning: invalid value encountered in true_divide\n",
      "  explained_variance_ = (S**2) / (n_samples - 1)\n",
      "/Users/oliviermanette/opt/anaconda3/lib/python3.9/site-packages/sklearn/decomposition/_pca.py:525: RuntimeWarning: invalid value encountered in true_divide\n",
      "  explained_variance_ = (S**2) / (n_samples - 1)\n",
      "/Users/oliviermanette/opt/anaconda3/lib/python3.9/site-packages/sklearn/decomposition/_pca.py:525: RuntimeWarning: invalid value encountered in true_divide\n",
      "  explained_variance_ = (S**2) / (n_samples - 1)\n",
      "/Users/oliviermanette/opt/anaconda3/lib/python3.9/site-packages/sklearn/decomposition/_pca.py:525: RuntimeWarning: invalid value encountered in true_divide\n",
      "  explained_variance_ = (S**2) / (n_samples - 1)\n",
      "/Users/oliviermanette/opt/anaconda3/lib/python3.9/site-packages/sklearn/decomposition/_pca.py:525: RuntimeWarning: invalid value encountered in true_divide\n",
      "  explained_variance_ = (S**2) / (n_samples - 1)\n",
      "/Users/oliviermanette/opt/anaconda3/lib/python3.9/site-packages/sklearn/decomposition/_pca.py:525: RuntimeWarning: invalid value encountered in true_divide\n",
      "  explained_variance_ = (S**2) / (n_samples - 1)\n",
      "/Users/oliviermanette/opt/anaconda3/lib/python3.9/site-packages/sklearn/decomposition/_pca.py:525: RuntimeWarning: invalid value encountered in true_divide\n",
      "  explained_variance_ = (S**2) / (n_samples - 1)\n",
      "/Users/oliviermanette/opt/anaconda3/lib/python3.9/site-packages/sklearn/decomposition/_pca.py:525: RuntimeWarning: invalid value encountered in true_divide\n",
      "  explained_variance_ = (S**2) / (n_samples - 1)\n",
      "/Users/oliviermanette/opt/anaconda3/lib/python3.9/site-packages/sklearn/decomposition/_pca.py:525: RuntimeWarning: invalid value encountered in true_divide\n",
      "  explained_variance_ = (S**2) / (n_samples - 1)\n",
      "/Users/oliviermanette/opt/anaconda3/lib/python3.9/site-packages/sklearn/decomposition/_pca.py:525: RuntimeWarning: invalid value encountered in true_divide\n",
      "  explained_variance_ = (S**2) / (n_samples - 1)\n",
      "/Users/oliviermanette/opt/anaconda3/lib/python3.9/site-packages/sklearn/decomposition/_pca.py:525: RuntimeWarning: invalid value encountered in true_divide\n",
      "  explained_variance_ = (S**2) / (n_samples - 1)\n",
      "/Users/oliviermanette/opt/anaconda3/lib/python3.9/site-packages/sklearn/decomposition/_pca.py:525: RuntimeWarning: invalid value encountered in true_divide\n",
      "  explained_variance_ = (S**2) / (n_samples - 1)\n",
      "/Users/oliviermanette/opt/anaconda3/lib/python3.9/site-packages/sklearn/decomposition/_pca.py:525: RuntimeWarning: invalid value encountered in true_divide\n",
      "  explained_variance_ = (S**2) / (n_samples - 1)\n",
      "/Users/oliviermanette/opt/anaconda3/lib/python3.9/site-packages/sklearn/decomposition/_pca.py:525: RuntimeWarning: invalid value encountered in true_divide\n",
      "  explained_variance_ = (S**2) / (n_samples - 1)\n",
      "/Users/oliviermanette/opt/anaconda3/lib/python3.9/site-packages/sklearn/decomposition/_pca.py:525: RuntimeWarning: invalid value encountered in true_divide\n",
      "  explained_variance_ = (S**2) / (n_samples - 1)\n",
      "/Users/oliviermanette/opt/anaconda3/lib/python3.9/site-packages/sklearn/decomposition/_pca.py:525: RuntimeWarning: invalid value encountered in true_divide\n",
      "  explained_variance_ = (S**2) / (n_samples - 1)\n",
      "/Users/oliviermanette/opt/anaconda3/lib/python3.9/site-packages/sklearn/decomposition/_pca.py:525: RuntimeWarning: invalid value encountered in true_divide\n",
      "  explained_variance_ = (S**2) / (n_samples - 1)\n",
      "/Users/oliviermanette/Documents/Sentive One Shot Learning Omniglot/sandbox metadl/../metadl/baselines/sentive_ai/sentive/sentive_neuron_helper.py:386: RuntimeWarning: invalid value encountered in arccos\n",
      "  angle =  signe * np.arccos(np.sum(np.multiply(np_c_1,np_c_2))/(np.sqrt(np.sum(np.power(np_c_1,2)))*np.sqrt(np.sum(np.power(np_c_2,2)))))\n"
     ]
    },
    {
     "name": "stdout",
     "output_type": "stream",
     "text": [
      "nb neurones couche 2 : 64\n",
      "nombre de neurones couche 1 & 2: 130\n",
      "nombre de neurones taille 1: 30\n",
      "nb neurones couche 2 : 29\n",
      "nombre de neurones couche 1 & 2: 60\n"
     ]
    },
    {
     "name": "stderr",
     "output_type": "stream",
     "text": [
      "/Users/oliviermanette/opt/anaconda3/lib/python3.9/site-packages/sklearn/decomposition/_pca.py:525: RuntimeWarning: invalid value encountered in true_divide\n",
      "  explained_variance_ = (S**2) / (n_samples - 1)\n",
      "/Users/oliviermanette/opt/anaconda3/lib/python3.9/site-packages/sklearn/decomposition/_pca.py:525: RuntimeWarning: invalid value encountered in true_divide\n",
      "  explained_variance_ = (S**2) / (n_samples - 1)\n",
      "/Users/oliviermanette/opt/anaconda3/lib/python3.9/site-packages/sklearn/decomposition/_pca.py:525: RuntimeWarning: invalid value encountered in true_divide\n",
      "  explained_variance_ = (S**2) / (n_samples - 1)\n",
      "/Users/oliviermanette/opt/anaconda3/lib/python3.9/site-packages/sklearn/decomposition/_pca.py:525: RuntimeWarning: invalid value encountered in true_divide\n",
      "  explained_variance_ = (S**2) / (n_samples - 1)\n",
      "/Users/oliviermanette/opt/anaconda3/lib/python3.9/site-packages/sklearn/decomposition/_pca.py:525: RuntimeWarning: invalid value encountered in true_divide\n",
      "  explained_variance_ = (S**2) / (n_samples - 1)\n",
      "/Users/oliviermanette/opt/anaconda3/lib/python3.9/site-packages/sklearn/decomposition/_pca.py:525: RuntimeWarning: invalid value encountered in true_divide\n",
      "  explained_variance_ = (S**2) / (n_samples - 1)\n",
      "/Users/oliviermanette/opt/anaconda3/lib/python3.9/site-packages/sklearn/decomposition/_pca.py:525: RuntimeWarning: invalid value encountered in true_divide\n",
      "  explained_variance_ = (S**2) / (n_samples - 1)\n",
      "/Users/oliviermanette/opt/anaconda3/lib/python3.9/site-packages/sklearn/decomposition/_pca.py:525: RuntimeWarning: invalid value encountered in true_divide\n",
      "  explained_variance_ = (S**2) / (n_samples - 1)\n",
      "/Users/oliviermanette/opt/anaconda3/lib/python3.9/site-packages/sklearn/decomposition/_pca.py:525: RuntimeWarning: invalid value encountered in true_divide\n",
      "  explained_variance_ = (S**2) / (n_samples - 1)\n",
      "/Users/oliviermanette/opt/anaconda3/lib/python3.9/site-packages/sklearn/decomposition/_pca.py:525: RuntimeWarning: invalid value encountered in true_divide\n",
      "  explained_variance_ = (S**2) / (n_samples - 1)\n",
      "/Users/oliviermanette/opt/anaconda3/lib/python3.9/site-packages/sklearn/decomposition/_pca.py:525: RuntimeWarning: invalid value encountered in true_divide\n",
      "  explained_variance_ = (S**2) / (n_samples - 1)\n",
      "/Users/oliviermanette/opt/anaconda3/lib/python3.9/site-packages/sklearn/decomposition/_pca.py:525: RuntimeWarning: invalid value encountered in true_divide\n",
      "  explained_variance_ = (S**2) / (n_samples - 1)\n",
      "/Users/oliviermanette/opt/anaconda3/lib/python3.9/site-packages/sklearn/decomposition/_pca.py:525: RuntimeWarning: invalid value encountered in true_divide\n",
      "  explained_variance_ = (S**2) / (n_samples - 1)\n",
      "/Users/oliviermanette/opt/anaconda3/lib/python3.9/site-packages/sklearn/decomposition/_pca.py:525: RuntimeWarning: invalid value encountered in true_divide\n",
      "  explained_variance_ = (S**2) / (n_samples - 1)\n",
      "/Users/oliviermanette/opt/anaconda3/lib/python3.9/site-packages/sklearn/decomposition/_pca.py:525: RuntimeWarning: invalid value encountered in true_divide\n",
      "  explained_variance_ = (S**2) / (n_samples - 1)\n",
      "/Users/oliviermanette/opt/anaconda3/lib/python3.9/site-packages/sklearn/decomposition/_pca.py:525: RuntimeWarning: invalid value encountered in true_divide\n",
      "  explained_variance_ = (S**2) / (n_samples - 1)\n",
      "/Users/oliviermanette/opt/anaconda3/lib/python3.9/site-packages/sklearn/decomposition/_pca.py:525: RuntimeWarning: invalid value encountered in true_divide\n",
      "  explained_variance_ = (S**2) / (n_samples - 1)\n",
      "/Users/oliviermanette/opt/anaconda3/lib/python3.9/site-packages/sklearn/decomposition/_pca.py:525: RuntimeWarning: invalid value encountered in true_divide\n",
      "  explained_variance_ = (S**2) / (n_samples - 1)\n",
      "/Users/oliviermanette/opt/anaconda3/lib/python3.9/site-packages/sklearn/decomposition/_pca.py:525: RuntimeWarning: invalid value encountered in true_divide\n",
      "  explained_variance_ = (S**2) / (n_samples - 1)\n",
      "/Users/oliviermanette/opt/anaconda3/lib/python3.9/site-packages/sklearn/decomposition/_pca.py:525: RuntimeWarning: invalid value encountered in true_divide\n",
      "  explained_variance_ = (S**2) / (n_samples - 1)\n",
      "/Users/oliviermanette/opt/anaconda3/lib/python3.9/site-packages/sklearn/decomposition/_pca.py:525: RuntimeWarning: invalid value encountered in true_divide\n",
      "  explained_variance_ = (S**2) / (n_samples - 1)\n",
      "/Users/oliviermanette/opt/anaconda3/lib/python3.9/site-packages/sklearn/decomposition/_pca.py:525: RuntimeWarning: invalid value encountered in true_divide\n",
      "  explained_variance_ = (S**2) / (n_samples - 1)\n",
      "/Users/oliviermanette/opt/anaconda3/lib/python3.9/site-packages/sklearn/decomposition/_pca.py:525: RuntimeWarning: invalid value encountered in true_divide\n",
      "  explained_variance_ = (S**2) / (n_samples - 1)\n",
      "/Users/oliviermanette/opt/anaconda3/lib/python3.9/site-packages/sklearn/decomposition/_pca.py:525: RuntimeWarning: invalid value encountered in true_divide\n",
      "  explained_variance_ = (S**2) / (n_samples - 1)\n",
      "/Users/oliviermanette/opt/anaconda3/lib/python3.9/site-packages/sklearn/decomposition/_pca.py:525: RuntimeWarning: invalid value encountered in true_divide\n",
      "  explained_variance_ = (S**2) / (n_samples - 1)\n",
      "/Users/oliviermanette/opt/anaconda3/lib/python3.9/site-packages/sklearn/decomposition/_pca.py:525: RuntimeWarning: invalid value encountered in true_divide\n",
      "  explained_variance_ = (S**2) / (n_samples - 1)\n",
      "/Users/oliviermanette/opt/anaconda3/lib/python3.9/site-packages/sklearn/decomposition/_pca.py:525: RuntimeWarning: invalid value encountered in true_divide\n",
      "  explained_variance_ = (S**2) / (n_samples - 1)\n",
      "/Users/oliviermanette/opt/anaconda3/lib/python3.9/site-packages/sklearn/decomposition/_pca.py:525: RuntimeWarning: invalid value encountered in true_divide\n",
      "  explained_variance_ = (S**2) / (n_samples - 1)\n",
      "/Users/oliviermanette/opt/anaconda3/lib/python3.9/site-packages/sklearn/decomposition/_pca.py:525: RuntimeWarning: invalid value encountered in true_divide\n",
      "  explained_variance_ = (S**2) / (n_samples - 1)\n",
      "/Users/oliviermanette/opt/anaconda3/lib/python3.9/site-packages/sklearn/decomposition/_pca.py:525: RuntimeWarning: invalid value encountered in true_divide\n",
      "  explained_variance_ = (S**2) / (n_samples - 1)\n",
      "/Users/oliviermanette/Documents/Sentive One Shot Learning Omniglot/sandbox metadl/../metadl/baselines/sentive_ai/sentive/sentive_neuron_helper.py:386: RuntimeWarning: invalid value encountered in arccos\n",
      "  angle =  signe * np.arccos(np.sum(np.multiply(np_c_1,np_c_2))/(np.sqrt(np.sum(np.power(np_c_1,2)))*np.sqrt(np.sum(np.power(np_c_2,2)))))\n"
     ]
    },
    {
     "data": {
      "image/png": "[encoded data removed]",
      "text/plain": [
       "<Figure size 288x288 with 1 Axes>"
      ]
     },
     "metadata": {
      "needs_background": "light"
     },
     "output_type": "display_data"
    },
    {
     "data": {
      "image/png": "[encoded data removed]",
      "text/plain": [
       "<Figure size 288x288 with 1 Axes>"
      ]
     },
     "metadata": {
      "needs_background": "light"
     },
     "output_type": "display_data"
    },
    {
     "data": {
      "image/png": "[encoded data removed]",
      "text/plain": [
       "<Figure size 288x288 with 1 Axes>"
      ]
     },
     "metadata": {
      "needs_background": "light"
     },
     "output_type": "display_data"
    },
    {
     "data": {
      "image/png": "[encoded data removed]",
      "text/plain": [
       "<Figure size 288x288 with 1 Axes>"
      ]
     },
     "metadata": {
      "needs_background": "light"
     },
     "output_type": "display_data"
    },
    {
     "data": {
      "image/png": "[encoded data removed]",
      "text/plain": [
       "<Figure size 288x288 with 1 Axes>"
      ]
     },
     "metadata": {
      "needs_background": "light"
     },
     "output_type": "display_data"
    }
   ],
   "source": [
    "sbrain = sentive_brain(episode,5)"
   ]
  },
  {
   "cell_type": "code",
   "execution_count": 3,
   "id": "30543f46",
   "metadata": {},
   "outputs": [
    {
     "data": {
      "text/plain": [
       "{'_id': 48,\n",
       " 'schema_version': 2,\n",
       " 'type': 'sentive_vision_arcs',\n",
       " 'layer_id': 2,\n",
       " 'ratio_conn': 0,\n",
       " 'DbConnectivity': {'pre_synaptique': [1.0, 2.0, 3.0],\n",
       "  'post_synaptique': [],\n",
       "  'lateral_connexion': [49, 48, 50],\n",
       "  'weights': {50: 1, 48: 1, 49: 1},\n",
       "  'angles': {50: 2.677945044588987, 49: 0.0}},\n",
       " 'meta': {'center': {'x': 9, 'y': 7},\n",
       "  'matrix_width': 3,\n",
       "  'sub_pxl_map': array([[0., 0., 0.],\n",
       "         [0., 1., 0.],\n",
       "         [0., 2., 3.]]),\n",
       "  'pxl_coord': [[10, 8], [9, 8], [9, 7]],\n",
       "  'glbl_prm': {'cg': {'x': 9.333333333333334, 'y': 7.666666666666667},\n",
       "   'u_axis': {'x': -0.7071067811865474, 'y': -0.7071067811865477}}}}"
      ]
     },
     "execution_count": 3,
     "metadata": {},
     "output_type": "execute_result"
    }
   ],
   "source": [
    "sbrain.nnet[0].nrn_tls.get_neuron_from_id(48)"
   ]
  },
  {
   "cell_type": "code",
   "execution_count": 4,
   "id": "55675e62",
   "metadata": {},
   "outputs": [
    {
     "data": {
      "text/plain": [
       "{'_id': 57,\n",
       " 'schema_version': 2,\n",
       " 'type': 'sentive_vision_arcs',\n",
       " 'layer_id': 1,\n",
       " 'ratio_conn': 0,\n",
       " 'DbConnectivity': {'pre_synaptique': [],\n",
       "  'post_synaptique': [130, 131, 132],\n",
       "  'lateral_connexion': [],\n",
       "  'weights': {}},\n",
       " 'meta': {'center': {'x': 11, 'y': 11}, 'matrix_width': 1}}"
      ]
     },
     "execution_count": 4,
     "metadata": {},
     "output_type": "execute_result"
    }
   ],
   "source": [
    "sbrain.nnet[1].nrn_tls.get_neuron_from_id(57)"
   ]
  },
  {
   "cell_type": "code",
   "execution_count": 5,
   "id": "17a43465",
   "metadata": {},
   "outputs": [],
   "source": [
    "nrnx = sbrain.nnet[0].nrn_tls.get_neuron_from_id(74)"
   ]
  },
  {
   "cell_type": "code",
   "execution_count": 28,
   "id": "50823f4a",
   "metadata": {},
   "outputs": [
    {
     "data": {
      "image/png": "[encoded data removed]",
      "text/plain": [
       "<Figure size 288x288 with 1 Axes>"
      ]
     },
     "metadata": {
      "needs_background": "light"
     },
     "output_type": "display_data"
    }
   ],
   "source": [
    "sbrain.nnet[0].show_receptive_field_id(67)"
   ]
  },
  {
   "cell_type": "code",
   "execution_count": 7,
   "id": "77c99953",
   "metadata": {},
   "outputs": [
    {
     "data": {
      "text/plain": [
       "0.0"
      ]
     },
     "execution_count": 7,
     "metadata": {},
     "output_type": "execute_result"
    }
   ],
   "source": [
    "nrn_1 = sbrain.nnet[0].nrn_tls.get_neuron_from_id(66)\n",
    "vector_1 = nrn_1[\"meta\"][\"glbl_prm\"][\"u_axis\"]\n",
    "nrn_2 = sbrain.nnet[0].nrn_tls.get_neuron_from_id(69)\n",
    "vector_2 = nrn_2[\"meta\"][\"glbl_prm\"][\"u_axis\"]\n",
    "sbrain.nnet[0].nrn_tls.calc_angle(vector_1, vector_2)"
   ]
  },
  {
   "cell_type": "code",
   "execution_count": 8,
   "id": "138a2083",
   "metadata": {},
   "outputs": [
    {
     "data": {
      "text/plain": [
       "0.0"
      ]
     },
     "execution_count": 8,
     "metadata": {},
     "output_type": "execute_result"
    }
   ],
   "source": [
    "nrn_1 = sbrain.nnet[0].nrn_tls.get_neuron_from_id(60)\n",
    "vector_1 = nrn_1[\"meta\"][\"glbl_prm\"][\"u_axis\"]\n",
    "nrn_2 = sbrain.nnet[0].nrn_tls.get_neuron_from_id(59)\n",
    "vector_2 = nrn_2[\"meta\"][\"glbl_prm\"][\"u_axis\"]\n",
    "sbrain.nnet[0].nrn_tls.calc_angle(vector_1, vector_2)"
   ]
  },
  {
   "cell_type": "code",
   "execution_count": 9,
   "id": "2c5d390e",
   "metadata": {},
   "outputs": [
    {
     "data": {
      "image/png": "[encoded data removed]",
      "text/plain": [
       "<Figure size 288x288 with 1 Axes>"
      ]
     },
     "metadata": {
      "needs_background": "light"
     },
     "output_type": "display_data"
    }
   ],
   "source": [
    "sbrain.nnet[0].show_receptive_field_id(71)"
   ]
  },
  {
   "cell_type": "code",
   "execution_count": 10,
   "id": "59fcd421",
   "metadata": {},
   "outputs": [
    {
     "data": {
      "image/png": "[encoded data removed]",
      "text/plain": [
       "<Figure size 288x288 with 1 Axes>"
      ]
     },
     "metadata": {
      "needs_background": "light"
     },
     "output_type": "display_data"
    }
   ],
   "source": [
    "sbrain.nnet[0].show_receptive_field_id(75)"
   ]
  },
  {
   "cell_type": "code",
   "execution_count": 11,
   "id": "9ee89ec9",
   "metadata": {},
   "outputs": [
    {
     "data": {
      "image/png": "[encoded data removed]",
      "text/plain": [
       "<Figure size 288x288 with 1 Axes>"
      ]
     },
     "metadata": {
      "needs_background": "light"
     },
     "output_type": "display_data"
    }
   ],
   "source": [
    "sbrain.nnet[0].show_receptive_field_id(70)"
   ]
  },
  {
   "cell_type": "code",
   "execution_count": 12,
   "id": "b8cfba4a",
   "metadata": {},
   "outputs": [
    {
     "data": {
      "text/plain": [
       "3.141592653589793"
      ]
     },
     "execution_count": 12,
     "metadata": {},
     "output_type": "execute_result"
    }
   ],
   "source": [
    "nrn_1 = sbrain.nnet[0].nrn_tls.get_neuron_from_id(75)\n",
    "vector_1 = nrn_1[\"meta\"][\"glbl_prm\"][\"u_axis\"]\n",
    "nrn_2 = sbrain.nnet[0].nrn_tls.get_neuron_from_id(70)\n",
    "vector_2 = nrn_2[\"meta\"][\"glbl_prm\"][\"u_axis\"]\n",
    "sbrain.nnet[0].nrn_tls.calc_angle(vector_1, vector_2)"
   ]
  },
  {
   "cell_type": "code",
   "execution_count": 13,
   "id": "1785f8bf",
   "metadata": {},
   "outputs": [],
   "source": [
    "np_c_1 = np.array([-0.52573111, 0.85065081])\n",
    "np_c_2 = np.array([-0.52573111, 0.85065081])"
   ]
  },
  {
   "cell_type": "code",
   "execution_count": 14,
   "id": "fda816f0",
   "metadata": {},
   "outputs": [
    {
     "data": {
      "text/plain": [
       "0.0"
      ]
     },
     "execution_count": 14,
     "metadata": {},
     "output_type": "execute_result"
    }
   ],
   "source": [
    "np.arccos(np.sum(np.multiply(np_c_1,np_c_2))/(np.sqrt(np.sum(np.power(np_c_1,2)))*np.sqrt(np.sum(np.power(np_c_2,2)))))"
   ]
  },
  {
   "cell_type": "code",
   "execution_count": 15,
   "id": "1e72e587",
   "metadata": {},
   "outputs": [
    {
     "name": "stdout",
     "output_type": "stream",
     "text": [
      "47\n"
     ]
    },
    {
     "data": {
      "image/png": "[encoded data removed]",
      "text/plain": [
       "<Figure size 432x288 with 1 Axes>"
      ]
     },
     "metadata": {
      "needs_background": "light"
     },
     "output_type": "display_data"
    }
   ],
   "source": [
    "X = []\n",
    "Y = []\n",
    "u_x = []\n",
    "u_y = []\n",
    "nb = 0\n",
    "for nrn in sbrain.nnet[0].nrn_tls.lst_nrns:\n",
    "    if nrn.neuron[\"layer_id\"] == 2:\n",
    "        nrn2 = nrn.neuron\n",
    "        nb += 1\n",
    "        X.append(nrn2[\"meta\"][\"glbl_prm\"][\"cg\"][\"x\"])\n",
    "        Y.append(nrn2[\"meta\"][\"glbl_prm\"][\"cg\"][\"y\"])\n",
    "        u_x.append(nrn2[\"meta\"][\"glbl_prm\"][\"u_axis\"][\"x\"])\n",
    "        u_y.append(nrn2[\"meta\"][\"glbl_prm\"][\"u_axis\"][\"y\"])\n",
    "q = plt.quiver(X,Y,u_x,u_y)\n",
    "for nrn in sbrain.nnet[0].nrn_tls.lst_nrns:\n",
    "    if nrn.neuron[\"layer_id\"] == 2:\n",
    "        nrn2 = nrn.neuron\n",
    "        x = nrn2[\"meta\"][\"glbl_prm\"][\"cg\"][\"x\"]\n",
    "        y = nrn2[\"meta\"][\"glbl_prm\"][\"cg\"][\"y\"]\n",
    "        plt.text(x,y, str(nrn2[\"_id\"]))\n",
    "        for key in nrn2[\"DbConnectivity\"]['angles']:\n",
    "            y += 0.5\n",
    "            angle = nrn2[\"DbConnectivity\"]['angles'][key]\n",
    "            angle = np.abs(angle)\n",
    "            if angle > (np.pi)/2:\n",
    "                angle = np.pi - angle\n",
    "            if angle ==0:\n",
    "                color = \"green\"\n",
    "            elif angle < 0.1:\n",
    "                color = \"yellow\"\n",
    "            elif angle < 0.4:\n",
    "                color = \"orange\"\n",
    "            elif angle < 0.8:\n",
    "                color = \"red\"\n",
    "            else :\n",
    "                color = \"purple\"\n",
    "            plt.text(x,y, str(key),color=color)\n",
    "            \n",
    "print(nb)"
   ]
  },
  {
   "cell_type": "code",
   "execution_count": 16,
   "id": "a7c53dd5",
   "metadata": {},
   "outputs": [
    {
     "data": {
      "text/plain": [
       "3.141592653589793"
      ]
     },
     "execution_count": 16,
     "metadata": {},
     "output_type": "execute_result"
    }
   ],
   "source": [
    "np.pi"
   ]
  },
  {
   "cell_type": "code",
   "execution_count": 17,
   "id": "2b2150da",
   "metadata": {},
   "outputs": [
    {
     "data": {
      "text/plain": [
       "(array([26., 30., 26., 26.,  8.,  4.,  4.,  8.,  6.,  4.]),\n",
       " array([0.        , 0.14781224, 0.29562447, 0.44343671, 0.59124894,\n",
       "        0.73906118, 0.88687341, 1.03468565, 1.18249788, 1.33031012,\n",
       "        1.47812235]),\n",
       " <BarContainer object of 10 artists>)"
      ]
     },
     "execution_count": 17,
     "metadata": {},
     "output_type": "execute_result"
    },
    {
     "data": {
      "image/png": "[encoded data removed]",
      "text/plain": [
       "<Figure size 432x288 with 1 Axes>"
      ]
     },
     "metadata": {
      "needs_background": "light"
     },
     "output_type": "display_data"
    }
   ],
   "source": [
    "angles = []\n",
    "for nrn in sbrain.nnet[0].nrn_tls.lst_nrns:\n",
    "    if nrn.neuron[\"layer_id\"] == 2:\n",
    "        nrn2 = nrn.neuron\n",
    "        for angle in nrn2[\"DbConnectivity\"]['angles'].values():\n",
    "            angle = np.abs(angle)\n",
    "            if angle > (np.pi)/2:\n",
    "                angle = np.pi - angle\n",
    "            angles.append(angle)\n",
    "            \n",
    "plt.hist(angles)"
   ]
  },
  {
   "cell_type": "code",
   "execution_count": 18,
   "id": "f2b51695",
   "metadata": {},
   "outputs": [
    {
     "name": "stdout",
     "output_type": "stream",
     "text": [
      "0.0\n",
      "2.8198420991931514\n"
     ]
    }
   ],
   "source": [
    "for angle in nrnx[\"DbConnectivity\"]['angles'].values():\n",
    "    print(angle)"
   ]
  },
  {
   "cell_type": "code",
   "execution_count": null,
   "id": "dc1c0956",
   "metadata": {},
   "outputs": [],
   "source": []
  }
 ],
 "metadata": {
  "kernelspec": {
   "display_name": "Python 3 (ipykernel)",
   "language": "python",
   "name": "python3"
  },
  "language_info": {
   "codemirror_mode": {
    "name": "ipython",
    "version": 3
   },
   "file_extension": ".py",
   "mimetype": "text/x-python",
   "name": "python",
   "nbconvert_exporter": "python",
   "pygments_lexer": "ipython3",
   "version": "3.9.12"
  }
 },
 "nbformat": 4,
 "nbformat_minor": 5
}
