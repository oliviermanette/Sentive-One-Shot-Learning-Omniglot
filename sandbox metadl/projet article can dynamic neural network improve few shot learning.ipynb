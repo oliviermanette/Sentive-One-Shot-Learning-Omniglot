{
 "cells": [
  {
   "cell_type": "code",
   "execution_count": 1,
   "id": "e6875097",
   "metadata": {},
   "outputs": [],
   "source": [
    "import sys\n",
    "\n",
    "import numpy as np\n",
    "import pandas as pd\n",
    "import matplotlib.pyplot as plt\n",
    "\n",
    "sys.path.insert(1, '../metadl/baselines/sentive_ai')\n",
    "from sentive.sentive_vision_network import sentive_vision_network\n",
    "\n",
    "from sentive.sentive_brain import sentive_brain\n",
    "\n",
    "root_ep = 'episode_'\n",
    "suf_eptest = '_1.csv'\n",
    "root_test= 'test_'\n",
    "\n",
    "episode = np.zeros([1,5,28,28,2])\n",
    "test = np.zeros([5, 28,28,2])\n",
    "for i in range(5):\n",
    "    episode[0][i][:,:,0] = np.loadtxt(root_ep+str(i)+suf_eptest)\n",
    "    episode[0][i][:,:,1] = np.loadtxt(root_ep+str(i)+suf_eptest)\n",
    "\n",
    "    test[i][:,:,0] = np.loadtxt(root_test+str(i)+suf_eptest)\n",
    "    test[i][:,:,1] = np.loadtxt(root_test+str(i)+suf_eptest)\n"
   ]
  },
  {
   "cell_type": "code",
   "execution_count": null,
   "id": "195188c4",
   "metadata": {},
   "outputs": [],
   "source": [
    "sbrain = sentive_brain(episode,5)"
   ]
  },
  {
   "cell_type": "code",
   "execution_count": null,
   "id": "30543f46",
   "metadata": {},
   "outputs": [],
   "source": [
    "sbrain.nnet[0].nrn_tls.get_neuron_from_id(49)"
   ]
  },
  {
   "cell_type": "code",
   "execution_count": null,
   "id": "93008e70",
   "metadata": {},
   "outputs": [],
   "source": [
    "sbrain.nnet[0].nrn_tls.get_neuron_from_id(72)"
   ]
  },
  {
   "cell_type": "code",
   "execution_count": null,
   "id": "55675e62",
   "metadata": {},
   "outputs": [],
   "source": [
    "sbrain.nnet[0].nrn_tls.get_neuron_from_id(97)"
   ]
  },
  {
   "cell_type": "code",
   "execution_count": null,
   "id": "17a43465",
   "metadata": {},
   "outputs": [],
   "source": [
    "sbrain.nnet[0].show_receptive_field_id(98)"
   ]
  },
  {
   "cell_type": "code",
   "execution_count": null,
   "id": "50823f4a",
   "metadata": {},
   "outputs": [],
   "source": [
    "sbrain.nnet[0].show_receptive_field_id(97)"
   ]
  },
  {
   "cell_type": "code",
   "execution_count": null,
   "id": "77c99953",
   "metadata": {},
   "outputs": [],
   "source": [
    "sbrain.nnet[0].show_nrn_path_by_id(97)"
   ]
  },
  {
   "cell_type": "code",
   "execution_count": null,
   "id": "138a2083",
   "metadata": {},
   "outputs": [],
   "source": []
  }
 ],
 "metadata": {
  "kernelspec": {
   "display_name": "Python 3 (ipykernel)",
   "language": "python",
   "name": "python3"
  },
  "language_info": {
   "codemirror_mode": {
    "name": "ipython",
    "version": 3
   },
   "file_extension": ".py",
   "mimetype": "text/x-python",
   "name": "python",
   "nbconvert_exporter": "python",
   "pygments_lexer": "ipython3",
   "version": "3.9.12"
  }
 },
 "nbformat": 4,
 "nbformat_minor": 5
}
