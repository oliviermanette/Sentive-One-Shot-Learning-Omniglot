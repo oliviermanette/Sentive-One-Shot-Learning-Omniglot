{
 "cells": [
  {
   "cell_type": "code",
   "execution_count": 1,
   "id": "e6875097",
   "metadata": {},
   "outputs": [],
   "source": [
    "import sys\n",
    "\n",
    "import numpy as np\n",
    "import pandas as pd\n",
    "import matplotlib.pyplot as plt\n",
    "\n",
    "sys.path.insert(1, '../metadl/baselines/sentive_ai')\n",
    "from sentive.sentive_vision_network import sentive_vision_network\n",
    "\n",
    "from sentive.sentive_brain import sentive_brain\n",
    "\n",
    "root_ep = 'episode_'\n",
    "suf_eptest = '_1.csv'\n",
    "root_test= 'test_'\n",
    "\n",
    "episode = np.zeros([1,5,28,28,2])\n",
    "test = np.zeros([5, 28,28,2])\n",
    "for i in range(5):\n",
    "    episode[0][i][:,:,0] = np.loadtxt(root_ep+str(i)+suf_eptest)\n",
    "    episode[0][i][:,:,1] = np.loadtxt(root_ep+str(i)+suf_eptest)\n",
    "\n",
    "    test[i][:,:,0] = np.loadtxt(root_test+str(i)+suf_eptest)\n",
    "    test[i][:,:,1] = np.loadtxt(root_test+str(i)+suf_eptest)\n"
   ]
  },
  {
   "cell_type": "code",
   "execution_count": 2,
   "id": "195188c4",
   "metadata": {},
   "outputs": [
    {
     "name": "stdout",
     "output_type": "stream",
     "text": [
      "nombre de neurones taille 1: 47\n",
      "sub_pxl_map\n",
      "nb neurones couche 2 : 46\n",
      "nombre de neurones couche 1 & 2: 94\n"
     ]
    },
    {
     "name": "stderr",
     "output_type": "stream",
     "text": [
      "/Users/oliviermanette/opt/anaconda3/lib/python3.9/site-packages/sklearn/decomposition/_pca.py:525: RuntimeWarning: invalid value encountered in true_divide\n",
      "  explained_variance_ = (S**2) / (n_samples - 1)\n",
      "/Users/oliviermanette/opt/anaconda3/lib/python3.9/site-packages/sklearn/decomposition/_pca.py:525: RuntimeWarning: invalid value encountered in true_divide\n",
      "  explained_variance_ = (S**2) / (n_samples - 1)\n",
      "/Users/oliviermanette/opt/anaconda3/lib/python3.9/site-packages/sklearn/decomposition/_pca.py:525: RuntimeWarning: invalid value encountered in true_divide\n",
      "  explained_variance_ = (S**2) / (n_samples - 1)\n",
      "/Users/oliviermanette/opt/anaconda3/lib/python3.9/site-packages/sklearn/decomposition/_pca.py:525: RuntimeWarning: invalid value encountered in true_divide\n",
      "  explained_variance_ = (S**2) / (n_samples - 1)\n",
      "/Users/oliviermanette/opt/anaconda3/lib/python3.9/site-packages/sklearn/decomposition/_pca.py:525: RuntimeWarning: invalid value encountered in true_divide\n",
      "  explained_variance_ = (S**2) / (n_samples - 1)\n",
      "/Users/oliviermanette/opt/anaconda3/lib/python3.9/site-packages/sklearn/decomposition/_pca.py:525: RuntimeWarning: invalid value encountered in true_divide\n",
      "  explained_variance_ = (S**2) / (n_samples - 1)\n",
      "/Users/oliviermanette/opt/anaconda3/lib/python3.9/site-packages/sklearn/decomposition/_pca.py:525: RuntimeWarning: invalid value encountered in true_divide\n",
      "  explained_variance_ = (S**2) / (n_samples - 1)\n",
      "/Users/oliviermanette/opt/anaconda3/lib/python3.9/site-packages/sklearn/decomposition/_pca.py:525: RuntimeWarning: invalid value encountered in true_divide\n",
      "  explained_variance_ = (S**2) / (n_samples - 1)\n",
      "/Users/oliviermanette/opt/anaconda3/lib/python3.9/site-packages/sklearn/decomposition/_pca.py:525: RuntimeWarning: invalid value encountered in true_divide\n",
      "  explained_variance_ = (S**2) / (n_samples - 1)\n",
      "/Users/oliviermanette/opt/anaconda3/lib/python3.9/site-packages/sklearn/decomposition/_pca.py:525: RuntimeWarning: invalid value encountered in true_divide\n",
      "  explained_variance_ = (S**2) / (n_samples - 1)\n",
      "/Users/oliviermanette/opt/anaconda3/lib/python3.9/site-packages/sklearn/decomposition/_pca.py:525: RuntimeWarning: invalid value encountered in true_divide\n",
      "  explained_variance_ = (S**2) / (n_samples - 1)\n",
      "/Users/oliviermanette/opt/anaconda3/lib/python3.9/site-packages/sklearn/decomposition/_pca.py:525: RuntimeWarning: invalid value encountered in true_divide\n",
      "  explained_variance_ = (S**2) / (n_samples - 1)\n",
      "/Users/oliviermanette/opt/anaconda3/lib/python3.9/site-packages/sklearn/decomposition/_pca.py:525: RuntimeWarning: invalid value encountered in true_divide\n",
      "  explained_variance_ = (S**2) / (n_samples - 1)\n",
      "/Users/oliviermanette/opt/anaconda3/lib/python3.9/site-packages/sklearn/decomposition/_pca.py:525: RuntimeWarning: invalid value encountered in true_divide\n",
      "  explained_variance_ = (S**2) / (n_samples - 1)\n",
      "/Users/oliviermanette/opt/anaconda3/lib/python3.9/site-packages/sklearn/decomposition/_pca.py:525: RuntimeWarning: invalid value encountered in true_divide\n",
      "  explained_variance_ = (S**2) / (n_samples - 1)\n",
      "/Users/oliviermanette/opt/anaconda3/lib/python3.9/site-packages/sklearn/decomposition/_pca.py:525: RuntimeWarning: invalid value encountered in true_divide\n",
      "  explained_variance_ = (S**2) / (n_samples - 1)\n",
      "/Users/oliviermanette/opt/anaconda3/lib/python3.9/site-packages/sklearn/decomposition/_pca.py:525: RuntimeWarning: invalid value encountered in true_divide\n",
      "  explained_variance_ = (S**2) / (n_samples - 1)\n",
      "/Users/oliviermanette/opt/anaconda3/lib/python3.9/site-packages/sklearn/decomposition/_pca.py:525: RuntimeWarning: invalid value encountered in true_divide\n",
      "  explained_variance_ = (S**2) / (n_samples - 1)\n",
      "/Users/oliviermanette/opt/anaconda3/lib/python3.9/site-packages/sklearn/decomposition/_pca.py:525: RuntimeWarning: invalid value encountered in true_divide\n",
      "  explained_variance_ = (S**2) / (n_samples - 1)\n",
      "/Users/oliviermanette/opt/anaconda3/lib/python3.9/site-packages/sklearn/decomposition/_pca.py:525: RuntimeWarning: invalid value encountered in true_divide\n",
      "  explained_variance_ = (S**2) / (n_samples - 1)\n",
      "/Users/oliviermanette/opt/anaconda3/lib/python3.9/site-packages/sklearn/decomposition/_pca.py:525: RuntimeWarning: invalid value encountered in true_divide\n",
      "  explained_variance_ = (S**2) / (n_samples - 1)\n",
      "/Users/oliviermanette/opt/anaconda3/lib/python3.9/site-packages/sklearn/decomposition/_pca.py:525: RuntimeWarning: invalid value encountered in true_divide\n",
      "  explained_variance_ = (S**2) / (n_samples - 1)\n",
      "/Users/oliviermanette/opt/anaconda3/lib/python3.9/site-packages/sklearn/decomposition/_pca.py:525: RuntimeWarning: invalid value encountered in true_divide\n",
      "  explained_variance_ = (S**2) / (n_samples - 1)\n",
      "/Users/oliviermanette/opt/anaconda3/lib/python3.9/site-packages/sklearn/decomposition/_pca.py:525: RuntimeWarning: invalid value encountered in true_divide\n",
      "  explained_variance_ = (S**2) / (n_samples - 1)\n",
      "/Users/oliviermanette/opt/anaconda3/lib/python3.9/site-packages/sklearn/decomposition/_pca.py:525: RuntimeWarning: invalid value encountered in true_divide\n",
      "  explained_variance_ = (S**2) / (n_samples - 1)\n",
      "/Users/oliviermanette/opt/anaconda3/lib/python3.9/site-packages/sklearn/decomposition/_pca.py:525: RuntimeWarning: invalid value encountered in true_divide\n",
      "  explained_variance_ = (S**2) / (n_samples - 1)\n",
      "/Users/oliviermanette/opt/anaconda3/lib/python3.9/site-packages/sklearn/decomposition/_pca.py:525: RuntimeWarning: invalid value encountered in true_divide\n",
      "  explained_variance_ = (S**2) / (n_samples - 1)\n",
      "/Users/oliviermanette/opt/anaconda3/lib/python3.9/site-packages/sklearn/decomposition/_pca.py:525: RuntimeWarning: invalid value encountered in true_divide\n",
      "  explained_variance_ = (S**2) / (n_samples - 1)\n",
      "/Users/oliviermanette/opt/anaconda3/lib/python3.9/site-packages/sklearn/decomposition/_pca.py:525: RuntimeWarning: invalid value encountered in true_divide\n",
      "  explained_variance_ = (S**2) / (n_samples - 1)\n",
      "/Users/oliviermanette/opt/anaconda3/lib/python3.9/site-packages/sklearn/decomposition/_pca.py:525: RuntimeWarning: invalid value encountered in true_divide\n",
      "  explained_variance_ = (S**2) / (n_samples - 1)\n",
      "/Users/oliviermanette/opt/anaconda3/lib/python3.9/site-packages/sklearn/decomposition/_pca.py:525: RuntimeWarning: invalid value encountered in true_divide\n",
      "  explained_variance_ = (S**2) / (n_samples - 1)\n",
      "/Users/oliviermanette/opt/anaconda3/lib/python3.9/site-packages/sklearn/decomposition/_pca.py:525: RuntimeWarning: invalid value encountered in true_divide\n",
      "  explained_variance_ = (S**2) / (n_samples - 1)\n",
      "/Users/oliviermanette/opt/anaconda3/lib/python3.9/site-packages/sklearn/decomposition/_pca.py:525: RuntimeWarning: invalid value encountered in true_divide\n",
      "  explained_variance_ = (S**2) / (n_samples - 1)\n",
      "/Users/oliviermanette/opt/anaconda3/lib/python3.9/site-packages/sklearn/decomposition/_pca.py:525: RuntimeWarning: invalid value encountered in true_divide\n",
      "  explained_variance_ = (S**2) / (n_samples - 1)\n",
      "/Users/oliviermanette/opt/anaconda3/lib/python3.9/site-packages/sklearn/decomposition/_pca.py:525: RuntimeWarning: invalid value encountered in true_divide\n",
      "  explained_variance_ = (S**2) / (n_samples - 1)\n",
      "/Users/oliviermanette/opt/anaconda3/lib/python3.9/site-packages/sklearn/decomposition/_pca.py:525: RuntimeWarning: invalid value encountered in true_divide\n",
      "  explained_variance_ = (S**2) / (n_samples - 1)\n",
      "/Users/oliviermanette/opt/anaconda3/lib/python3.9/site-packages/sklearn/decomposition/_pca.py:525: RuntimeWarning: invalid value encountered in true_divide\n",
      "  explained_variance_ = (S**2) / (n_samples - 1)\n",
      "/Users/oliviermanette/opt/anaconda3/lib/python3.9/site-packages/sklearn/decomposition/_pca.py:525: RuntimeWarning: invalid value encountered in true_divide\n",
      "  explained_variance_ = (S**2) / (n_samples - 1)\n",
      "/Users/oliviermanette/opt/anaconda3/lib/python3.9/site-packages/sklearn/decomposition/_pca.py:525: RuntimeWarning: invalid value encountered in true_divide\n",
      "  explained_variance_ = (S**2) / (n_samples - 1)\n",
      "/Users/oliviermanette/opt/anaconda3/lib/python3.9/site-packages/sklearn/decomposition/_pca.py:525: RuntimeWarning: invalid value encountered in true_divide\n",
      "  explained_variance_ = (S**2) / (n_samples - 1)\n",
      "/Users/oliviermanette/opt/anaconda3/lib/python3.9/site-packages/sklearn/decomposition/_pca.py:525: RuntimeWarning: invalid value encountered in true_divide\n",
      "  explained_variance_ = (S**2) / (n_samples - 1)\n",
      "/Users/oliviermanette/opt/anaconda3/lib/python3.9/site-packages/sklearn/decomposition/_pca.py:525: RuntimeWarning: invalid value encountered in true_divide\n",
      "  explained_variance_ = (S**2) / (n_samples - 1)\n",
      "/Users/oliviermanette/opt/anaconda3/lib/python3.9/site-packages/sklearn/decomposition/_pca.py:525: RuntimeWarning: invalid value encountered in true_divide\n",
      "  explained_variance_ = (S**2) / (n_samples - 1)\n",
      "/Users/oliviermanette/opt/anaconda3/lib/python3.9/site-packages/sklearn/decomposition/_pca.py:525: RuntimeWarning: invalid value encountered in true_divide\n",
      "  explained_variance_ = (S**2) / (n_samples - 1)\n",
      "/Users/oliviermanette/opt/anaconda3/lib/python3.9/site-packages/sklearn/decomposition/_pca.py:525: RuntimeWarning: invalid value encountered in true_divide\n",
      "  explained_variance_ = (S**2) / (n_samples - 1)\n",
      "/Users/oliviermanette/opt/anaconda3/lib/python3.9/site-packages/sklearn/decomposition/_pca.py:525: RuntimeWarning: invalid value encountered in true_divide\n",
      "  explained_variance_ = (S**2) / (n_samples - 1)\n",
      "/Users/oliviermanette/opt/anaconda3/lib/python3.9/site-packages/sklearn/decomposition/_pca.py:525: RuntimeWarning: invalid value encountered in true_divide\n",
      "  explained_variance_ = (S**2) / (n_samples - 1)\n"
     ]
    },
    {
     "data": {
      "image/png": "[encoded data removed]",
      "text/plain": [
       "<Figure size 288x288 with 1 Axes>"
      ]
     },
     "metadata": {
      "needs_background": "light"
     },
     "output_type": "display_data"
    },
    {
     "data": {
      "image/png": "[encoded data removed]",
      "text/plain": [
       "<Figure size 288x288 with 1 Axes>"
      ]
     },
     "metadata": {
      "needs_background": "light"
     },
     "output_type": "display_data"
    },
    {
     "data": {
      "image/png": "[encoded data removed]",
      "text/plain": [
       "<Figure size 288x288 with 1 Axes>"
      ]
     },
     "metadata": {
      "needs_background": "light"
     },
     "output_type": "display_data"
    },
    {
     "data": {
      "image/png": "[encoded data removed]",
      "text/plain": [
       "<Figure size 288x288 with 1 Axes>"
      ]
     },
     "metadata": {
      "needs_background": "light"
     },
     "output_type": "display_data"
    },
    {
     "data": {
      "image/png": "[encoded data removed]",
      "text/plain": [
       "<Figure size 288x288 with 1 Axes>"
      ]
     },
     "metadata": {
      "needs_background": "light"
     },
     "output_type": "display_data"
    }
   ],
   "source": [
    "sbrain = sentive_brain(episode,5)"
   ]
  },
  {
   "cell_type": "code",
   "execution_count": 3,
   "id": "30543f46",
   "metadata": {},
   "outputs": [
    {
     "data": {
      "text/plain": [
       "{'_id': 8,\n",
       " 'schema_version': 2,\n",
       " 'type': 'sentive_vision_arcs',\n",
       " 'layer_id': 1,\n",
       " 'ratio_conn': 0,\n",
       " 'DbConnectivity': {'pre_synaptique': [],\n",
       "  'post_synaptique': [55, 56, 62],\n",
       "  'lateral_connexion': [],\n",
       "  'weights': {}},\n",
       " 'meta': {'center': {'x': 12, 'y': 11}, 'matrix_width': 1}}"
      ]
     },
     "execution_count": 3,
     "metadata": {},
     "output_type": "execute_result"
    }
   ],
   "source": [
    "sbrain.nnet[0].nrn_tls.get_neuron_from_id(8)"
   ]
  },
  {
   "cell_type": "code",
   "execution_count": 4,
   "id": "93008e70",
   "metadata": {},
   "outputs": [
    {
     "data": {
      "text/plain": [
       "{'_id': 9,\n",
       " 'schema_version': 2,\n",
       " 'type': 'sentive_vision_arcs',\n",
       " 'layer_id': 1,\n",
       " 'ratio_conn': 0,\n",
       " 'DbConnectivity': {'pre_synaptique': [],\n",
       "  'post_synaptique': [56],\n",
       "  'lateral_connexion': [],\n",
       "  'weights': {}},\n",
       " 'meta': {'center': {'x': 13, 'y': 11}, 'matrix_width': 1}}"
      ]
     },
     "execution_count": 4,
     "metadata": {},
     "output_type": "execute_result"
    }
   ],
   "source": [
    "sbrain.nnet[0].nrn_tls.get_neuron_from_id(9)"
   ]
  },
  {
   "cell_type": "code",
   "execution_count": 5,
   "id": "55675e62",
   "metadata": {},
   "outputs": [
    {
     "data": {
      "text/plain": [
       "{'_id': 10,\n",
       " 'schema_version': 2,\n",
       " 'type': 'sentive_vision_arcs',\n",
       " 'layer_id': 1,\n",
       " 'ratio_conn': 0,\n",
       " 'DbConnectivity': {'pre_synaptique': [],\n",
       "  'post_synaptique': [57, 58, 59, 64],\n",
       "  'lateral_connexion': [],\n",
       "  'weights': {}},\n",
       " 'meta': {'center': {'x': 7, 'y': 12}, 'matrix_width': 1}}"
      ]
     },
     "execution_count": 5,
     "metadata": {},
     "output_type": "execute_result"
    }
   ],
   "source": [
    "sbrain.nnet[0].nrn_tls.get_neuron_from_id(10)"
   ]
  },
  {
   "cell_type": "code",
   "execution_count": 6,
   "id": "17a43465",
   "metadata": {},
   "outputs": [
    {
     "data": {
      "text/plain": [
       "0.0"
      ]
     },
     "execution_count": 6,
     "metadata": {},
     "output_type": "execute_result"
    }
   ],
   "source": [
    "sbrain.nnet[0].nrn_pxl_map[12][13]"
   ]
  },
  {
   "cell_type": "code",
   "execution_count": 20,
   "id": "50823f4a",
   "metadata": {},
   "outputs": [
    {
     "data": {
      "image/png": "[encoded data removed]",
      "text/plain": [
       "<Figure size 288x288 with 1 Axes>"
      ]
     },
     "metadata": {
      "needs_background": "light"
     },
     "output_type": "display_data"
    }
   ],
   "source": [
    "sbrain.nnet[0].show_receptive_field_id(61)"
   ]
  },
  {
   "cell_type": "code",
   "execution_count": 8,
   "id": "77c99953",
   "metadata": {},
   "outputs": [
    {
     "data": {
      "text/plain": [
       "{'_id': 52,\n",
       " 'schema_version': 2,\n",
       " 'type': 'sentive_vision_arcs',\n",
       " 'layer_id': 2,\n",
       " 'ratio_conn': 0,\n",
       " 'DbConnectivity': {'pre_synaptique': [3.0, 4.0, 5.0],\n",
       "  'post_synaptique': [],\n",
       "  'lateral_connexion': [51, 52, 53],\n",
       "  'weights': {53: 1, 52: 1, 51: 1}},\n",
       " 'meta': {'center': {'x': 12, 'y': 8},\n",
       "  'matrix_width': 3,\n",
       "  'sub_pxl_map': array([[0., 0., 0.],\n",
       "         [0., 0., 0.],\n",
       "         [3., 4., 5.]]),\n",
       "  'pxl_coord': [[12, 8], [11, 8], [10, 8]],\n",
       "  'glbl_prm': {'cg': {'x': 11.0, 'y': 8.0}, 'u_axis': {'x': -1.0, 'y': -0.0}}}}"
      ]
     },
     "execution_count": 8,
     "metadata": {},
     "output_type": "execute_result"
    }
   ],
   "source": [
    "sbrain.nnet[0].nrn_tls.get_neuron_from_id(52)"
   ]
  },
  {
   "cell_type": "code",
   "execution_count": 9,
   "id": "138a2083",
   "metadata": {},
   "outputs": [
    {
     "data": {
      "text/plain": [
       "10.0"
      ]
     },
     "execution_count": 9,
     "metadata": {},
     "output_type": "execute_result"
    }
   ],
   "source": [
    "sbrain.nnet[0].nrn_pxl_map[12][7]"
   ]
  },
  {
   "cell_type": "code",
   "execution_count": 10,
   "id": "f7079cef",
   "metadata": {},
   "outputs": [
    {
     "data": {
      "text/plain": [
       "array([[ 0.,  0.,  0.,  0.,  0.,  0.,  0.,  0.,  0.,  0.,  0.,  0.,  0.,\n",
       "         0.,  0.,  0.,  0.,  0.,  0.,  0.,  0.,  0.,  0.,  0.,  0.,  0.,\n",
       "         0.,  0.],\n",
       "       [ 0.,  0.,  0.,  0.,  0.,  0.,  0.,  0.,  0.,  0.,  0.,  0.,  0.,\n",
       "         0.,  0.,  0.,  0.,  0.,  0.,  0.,  0.,  0.,  0.,  0.,  0.,  0.,\n",
       "         0.,  0.],\n",
       "       [ 0.,  0.,  0.,  0.,  0.,  0.,  0.,  0.,  0.,  0.,  0.,  0.,  0.,\n",
       "         0.,  0.,  0.,  0.,  0.,  0.,  0.,  0.,  0.,  0.,  0.,  0.,  0.,\n",
       "         0.,  0.],\n",
       "       [ 0.,  0.,  0.,  0.,  0.,  0.,  0.,  0.,  0.,  0.,  0.,  0.,  0.,\n",
       "         0.,  0.,  0.,  0.,  0.,  0.,  0.,  0.,  0.,  0.,  0.,  0.,  0.,\n",
       "         0.,  0.],\n",
       "       [ 0.,  0.,  0.,  0.,  0.,  0.,  0.,  0.,  0.,  0.,  0.,  0.,  0.,\n",
       "         0.,  0.,  0.,  0.,  0.,  0.,  0.,  0.,  0.,  0.,  0.,  0.,  0.,\n",
       "         0.,  0.],\n",
       "       [ 0.,  0.,  0.,  0.,  0.,  0.,  0.,  0.,  0.,  0.,  0.,  0.,  0.,\n",
       "         0.,  0.,  0.,  0.,  0.,  0.,  0.,  0.,  0.,  0.,  0.,  0.,  0.,\n",
       "         0.,  0.],\n",
       "       [ 0.,  0.,  0.,  0.,  0.,  0.,  0.,  0.,  0.,  0.,  0.,  0.,  0.,\n",
       "         0.,  0.,  0.,  0.,  0.,  0.,  0.,  0.,  0.,  0.,  0.,  0.,  0.,\n",
       "         0.,  0.],\n",
       "       [ 0.,  0.,  0.,  0.,  0.,  0.,  0.,  0.,  0.,  1.,  0.,  0.,  0.,\n",
       "         0.,  0.,  0.,  0.,  0.,  0.,  0.,  0.,  0.,  0.,  0.,  0.,  0.,\n",
       "         0.,  0.],\n",
       "       [ 0.,  0.,  0.,  0.,  0.,  0.,  0.,  0.,  0.,  2.,  3.,  4.,  5.,\n",
       "         0.,  0.,  0.,  0.,  0.,  0.,  0.,  0.,  0.,  0.,  0.,  0.,  0.,\n",
       "         0.,  0.],\n",
       "       [ 0.,  0.,  0.,  0.,  0.,  0.,  0.,  0.,  0.,  0.,  0.,  0.,  6.,\n",
       "         0.,  0.,  0.,  0.,  0.,  0.,  0.,  0.,  0.,  0.,  0.,  0.,  0.,\n",
       "         0.,  0.],\n",
       "       [ 0.,  0.,  0.,  0.,  0.,  0.,  0.,  0.,  0.,  0.,  0.,  0.,  0.,\n",
       "         7.,  0.,  0.,  0.,  0.,  0.,  0.,  0.,  0.,  0.,  0.,  0.,  0.,\n",
       "         0.,  0.],\n",
       "       [ 0.,  0.,  0.,  0.,  0.,  0.,  0.,  0.,  0.,  0.,  0.,  0.,  8.,\n",
       "         9.,  0.,  0.,  0.,  0.,  0.,  0.,  0.,  0.,  0.,  0.,  0.,  0.,\n",
       "         0.,  0.],\n",
       "       [ 0.,  0.,  0.,  0.,  0.,  0.,  0., 10., 11., 12., 13., 14., 15.,\n",
       "         0.,  0.,  0.,  0.,  0.,  0.,  0.,  0.,  0.,  0.,  0.,  0.,  0.,\n",
       "         0.,  0.],\n",
       "       [ 0.,  0.,  0.,  0.,  0.,  0., 16., 17.,  0.,  0.,  0.,  0.,  0.,\n",
       "         0.,  0.,  0.,  0.,  0.,  0.,  0.,  0.,  0.,  0.,  0.,  0.,  0.,\n",
       "         0.,  0.],\n",
       "       [ 0.,  0.,  0.,  0.,  0.,  0., 18.,  0.,  0.,  0.,  0.,  0.,  0.,\n",
       "         0.,  0.,  0.,  0.,  0.,  0.,  0.,  0.,  0.,  0.,  0.,  0.,  0.,\n",
       "         0.,  0.],\n",
       "       [ 0.,  0.,  0.,  0.,  0.,  0., 19.,  0.,  0.,  0.,  0.,  0.,  0.,\n",
       "        20., 21.,  0.,  0.,  0.,  0.,  0.,  0.,  0.,  0.,  0.,  0.,  0.,\n",
       "         0.,  0.],\n",
       "       [ 0.,  0.,  0.,  0.,  0.,  0., 22.,  0.,  0.,  0.,  0.,  0., 23.,\n",
       "        24., 25., 26.,  0.,  0.,  0.,  0.,  0.,  0.,  0.,  0.,  0.,  0.,\n",
       "         0.,  0.],\n",
       "       [ 0.,  0.,  0.,  0.,  0.,  0., 27.,  0.,  0.,  0.,  0.,  0., 28.,\n",
       "         0.,  0., 29.,  0.,  0.,  0.,  0.,  0.,  0.,  0.,  0.,  0.,  0.,\n",
       "         0.,  0.],\n",
       "       [ 0.,  0.,  0.,  0.,  0.,  0., 30.,  0.,  0.,  0.,  0., 31., 32.,\n",
       "         0.,  0., 33.,  0.,  0.,  0.,  0.,  0.,  0.,  0.,  0.,  0.,  0.,\n",
       "         0.,  0.],\n",
       "       [ 0.,  0.,  0.,  0.,  0.,  0., 34., 35.,  0.,  0.,  0., 36., 37.,\n",
       "         0.,  0., 38.,  0.,  0.,  0.,  0.,  0.,  0.,  0.,  0.,  0.,  0.,\n",
       "         0.,  0.],\n",
       "       [ 0.,  0.,  0.,  0.,  0.,  0.,  0., 39., 40.,  0.,  0.,  0.,  0.,\n",
       "        41., 42.,  0.,  0.,  0.,  0.,  0.,  0.,  0.,  0.,  0.,  0.,  0.,\n",
       "         0.,  0.],\n",
       "       [ 0.,  0.,  0.,  0.,  0.,  0.,  0.,  0.,  0., 43., 44., 45., 46.,\n",
       "        47.,  0.,  0.,  0.,  0.,  0.,  0.,  0.,  0.,  0.,  0.,  0.,  0.,\n",
       "         0.,  0.],\n",
       "       [ 0.,  0.,  0.,  0.,  0.,  0.,  0.,  0.,  0.,  0.,  0.,  0.,  0.,\n",
       "         0.,  0.,  0.,  0.,  0.,  0.,  0.,  0.,  0.,  0.,  0.,  0.,  0.,\n",
       "         0.,  0.],\n",
       "       [ 0.,  0.,  0.,  0.,  0.,  0.,  0.,  0.,  0.,  0.,  0.,  0.,  0.,\n",
       "         0.,  0.,  0.,  0.,  0.,  0.,  0.,  0.,  0.,  0.,  0.,  0.,  0.,\n",
       "         0.,  0.],\n",
       "       [ 0.,  0.,  0.,  0.,  0.,  0.,  0.,  0.,  0.,  0.,  0.,  0.,  0.,\n",
       "         0.,  0.,  0.,  0.,  0.,  0.,  0.,  0.,  0.,  0.,  0.,  0.,  0.,\n",
       "         0.,  0.],\n",
       "       [ 0.,  0.,  0.,  0.,  0.,  0.,  0.,  0.,  0.,  0.,  0.,  0.,  0.,\n",
       "         0.,  0.,  0.,  0.,  0.,  0.,  0.,  0.,  0.,  0.,  0.,  0.,  0.,\n",
       "         0.,  0.],\n",
       "       [ 0.,  0.,  0.,  0.,  0.,  0.,  0.,  0.,  0.,  0.,  0.,  0.,  0.,\n",
       "         0.,  0.,  0.,  0.,  0.,  0.,  0.,  0.,  0.,  0.,  0.,  0.,  0.,\n",
       "         0.,  0.],\n",
       "       [ 0.,  0.,  0.,  0.,  0.,  0.,  0.,  0.,  0.,  0.,  0.,  0.,  0.,\n",
       "         0.,  0.,  0.,  0.,  0.,  0.,  0.,  0.,  0.,  0.,  0.,  0.,  0.,\n",
       "         0.,  0.]])"
      ]
     },
     "execution_count": 10,
     "metadata": {},
     "output_type": "execute_result"
    }
   ],
   "source": [
    "sbrain.nnet[0].nrn_pxl_map"
   ]
  },
  {
   "cell_type": "code",
   "execution_count": 11,
   "id": "f740d0be",
   "metadata": {},
   "outputs": [
    {
     "data": {
      "image/png": "[encoded data removed]",
      "text/plain": [
       "<Figure size 288x288 with 1 Axes>"
      ]
     },
     "metadata": {
      "needs_background": "light"
     },
     "output_type": "display_data"
    }
   ],
   "source": [
    "sbrain.nnet[0].show_receptive_field_id(54)"
   ]
  },
  {
   "cell_type": "code",
   "execution_count": null,
   "id": "2c5d390e",
   "metadata": {},
   "outputs": [],
   "source": []
  }
 ],
 "metadata": {
  "kernelspec": {
   "display_name": "Python 3 (ipykernel)",
   "language": "python",
   "name": "python3"
  },
  "language_info": {
   "codemirror_mode": {
    "name": "ipython",
    "version": 3
   },
   "file_extension": ".py",
   "mimetype": "text/x-python",
   "name": "python",
   "nbconvert_exporter": "python",
   "pygments_lexer": "ipython3",
   "version": "3.9.12"
  }
 },
 "nbformat": 4,
 "nbformat_minor": 5
}
