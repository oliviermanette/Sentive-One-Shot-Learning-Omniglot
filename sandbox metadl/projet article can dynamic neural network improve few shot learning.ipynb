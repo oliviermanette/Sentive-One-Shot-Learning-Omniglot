{
 "cells": [
  {
   "cell_type": "code",
   "execution_count": 1,
   "id": "e6875097",
   "metadata": {},
   "outputs": [],
   "source": [
    "import sys\n",
    "\n",
    "import numpy as np\n",
    "import pandas as pd\n",
    "import matplotlib.pyplot as plt\n",
    "\n",
    "sys.path.insert(1, '../metadl/baselines/sentive_ai')\n",
    "from sentive.sentive_vision_network import sentive_vision_network\n",
    "\n",
    "from sentive.sentive_brain import sentive_brain\n",
    "\n",
    "root_ep = 'episode_'\n",
    "suf_eptest = '_1.csv'\n",
    "root_test= 'test_'\n",
    "\n",
    "episode = np.zeros([1,5,28,28,2])\n",
    "test = np.zeros([5, 28,28,2])\n",
    "for i in range(5):\n",
    "    episode[0][i][:,:,0] = np.loadtxt(root_ep+str(i)+suf_eptest)\n",
    "    episode[0][i][:,:,1] = np.loadtxt(root_ep+str(i)+suf_eptest)\n",
    "\n",
    "    test[i][:,:,0] = np.loadtxt(root_test+str(i)+suf_eptest)\n",
    "    test[i][:,:,1] = np.loadtxt(root_test+str(i)+suf_eptest)\n"
   ]
  },
  {
   "cell_type": "code",
   "execution_count": 2,
   "id": "195188c4",
   "metadata": {},
   "outputs": [
    {
     "name": "stdout",
     "output_type": "stream",
     "text": [
      "nombre de neurones taille 1: 47\n",
      "sub_pxl_map\n",
      "nb neurones couche 2 : 46\n",
      "nombre de neurones couche 1 & 2: 94\n",
      "taille neurones à séquencer : 47\n",
      "taille neurones à séquencer : 8\n",
      "taille neurones à séquencer : 0\n",
      "found possible connexion on nrn id 76 : {72, 73, 80, 76}\n",
      "Recherche des nœuds suivants [72] [76]\n",
      "Commence la découpe de segmented_path [48, 50, 51, 53, 54, 55, 61, 60, 59, 58, 64, 65, 66, 69, 74, 77, 82, 87, 90, 91, 92, 93, 94, 89, 85, 80, 76, 73]\n",
      "ratio_pxls_total nrn _ID 97 ,  0.8723404255319149\n",
      "Fin de la découpe de segmented_path [72, 73]\n",
      "ratio_pxls_total nrn _ID 98 ,  0.1276595744680851\n",
      "nombre de neurones couches 1, 2 et 3 : 97\n",
      "****************************************\n",
      "SELECTED SEGMENTS [95, 96]\n",
      "nombre de neurones taille 1: 74\n"
     ]
    },
    {
     "name": "stderr",
     "output_type": "stream",
     "text": [
      "/Users/oliviermanette/opt/anaconda3/lib/python3.9/site-packages/sklearn/decomposition/_pca.py:525: RuntimeWarning: invalid value encountered in true_divide\n",
      "  explained_variance_ = (S**2) / (n_samples - 1)\n",
      "/Users/oliviermanette/opt/anaconda3/lib/python3.9/site-packages/sklearn/decomposition/_pca.py:525: RuntimeWarning: invalid value encountered in true_divide\n",
      "  explained_variance_ = (S**2) / (n_samples - 1)\n",
      "/Users/oliviermanette/opt/anaconda3/lib/python3.9/site-packages/sklearn/decomposition/_pca.py:525: RuntimeWarning: invalid value encountered in true_divide\n",
      "  explained_variance_ = (S**2) / (n_samples - 1)\n",
      "/Users/oliviermanette/opt/anaconda3/lib/python3.9/site-packages/sklearn/decomposition/_pca.py:525: RuntimeWarning: invalid value encountered in true_divide\n",
      "  explained_variance_ = (S**2) / (n_samples - 1)\n",
      "/Users/oliviermanette/opt/anaconda3/lib/python3.9/site-packages/sklearn/decomposition/_pca.py:525: RuntimeWarning: invalid value encountered in true_divide\n",
      "  explained_variance_ = (S**2) / (n_samples - 1)\n",
      "/Users/oliviermanette/opt/anaconda3/lib/python3.9/site-packages/sklearn/decomposition/_pca.py:525: RuntimeWarning: invalid value encountered in true_divide\n",
      "  explained_variance_ = (S**2) / (n_samples - 1)\n",
      "/Users/oliviermanette/opt/anaconda3/lib/python3.9/site-packages/sklearn/decomposition/_pca.py:525: RuntimeWarning: invalid value encountered in true_divide\n",
      "  explained_variance_ = (S**2) / (n_samples - 1)\n",
      "/Users/oliviermanette/opt/anaconda3/lib/python3.9/site-packages/sklearn/decomposition/_pca.py:525: RuntimeWarning: invalid value encountered in true_divide\n",
      "  explained_variance_ = (S**2) / (n_samples - 1)\n",
      "/Users/oliviermanette/opt/anaconda3/lib/python3.9/site-packages/sklearn/decomposition/_pca.py:525: RuntimeWarning: invalid value encountered in true_divide\n",
      "  explained_variance_ = (S**2) / (n_samples - 1)\n",
      "/Users/oliviermanette/opt/anaconda3/lib/python3.9/site-packages/sklearn/decomposition/_pca.py:525: RuntimeWarning: invalid value encountered in true_divide\n",
      "  explained_variance_ = (S**2) / (n_samples - 1)\n",
      "/Users/oliviermanette/opt/anaconda3/lib/python3.9/site-packages/sklearn/decomposition/_pca.py:525: RuntimeWarning: invalid value encountered in true_divide\n",
      "  explained_variance_ = (S**2) / (n_samples - 1)\n",
      "/Users/oliviermanette/opt/anaconda3/lib/python3.9/site-packages/sklearn/decomposition/_pca.py:525: RuntimeWarning: invalid value encountered in true_divide\n",
      "  explained_variance_ = (S**2) / (n_samples - 1)\n",
      "/Users/oliviermanette/opt/anaconda3/lib/python3.9/site-packages/sklearn/decomposition/_pca.py:525: RuntimeWarning: invalid value encountered in true_divide\n",
      "  explained_variance_ = (S**2) / (n_samples - 1)\n",
      "/Users/oliviermanette/opt/anaconda3/lib/python3.9/site-packages/sklearn/decomposition/_pca.py:525: RuntimeWarning: invalid value encountered in true_divide\n",
      "  explained_variance_ = (S**2) / (n_samples - 1)\n",
      "/Users/oliviermanette/opt/anaconda3/lib/python3.9/site-packages/sklearn/decomposition/_pca.py:525: RuntimeWarning: invalid value encountered in true_divide\n",
      "  explained_variance_ = (S**2) / (n_samples - 1)\n",
      "/Users/oliviermanette/opt/anaconda3/lib/python3.9/site-packages/sklearn/decomposition/_pca.py:525: RuntimeWarning: invalid value encountered in true_divide\n",
      "  explained_variance_ = (S**2) / (n_samples - 1)\n",
      "/Users/oliviermanette/opt/anaconda3/lib/python3.9/site-packages/sklearn/decomposition/_pca.py:525: RuntimeWarning: invalid value encountered in true_divide\n",
      "  explained_variance_ = (S**2) / (n_samples - 1)\n",
      "/Users/oliviermanette/opt/anaconda3/lib/python3.9/site-packages/sklearn/decomposition/_pca.py:525: RuntimeWarning: invalid value encountered in true_divide\n",
      "  explained_variance_ = (S**2) / (n_samples - 1)\n",
      "/Users/oliviermanette/opt/anaconda3/lib/python3.9/site-packages/sklearn/decomposition/_pca.py:525: RuntimeWarning: invalid value encountered in true_divide\n",
      "  explained_variance_ = (S**2) / (n_samples - 1)\n",
      "/Users/oliviermanette/opt/anaconda3/lib/python3.9/site-packages/sklearn/decomposition/_pca.py:525: RuntimeWarning: invalid value encountered in true_divide\n",
      "  explained_variance_ = (S**2) / (n_samples - 1)\n",
      "/Users/oliviermanette/opt/anaconda3/lib/python3.9/site-packages/sklearn/decomposition/_pca.py:525: RuntimeWarning: invalid value encountered in true_divide\n",
      "  explained_variance_ = (S**2) / (n_samples - 1)\n",
      "/Users/oliviermanette/opt/anaconda3/lib/python3.9/site-packages/sklearn/decomposition/_pca.py:525: RuntimeWarning: invalid value encountered in true_divide\n",
      "  explained_variance_ = (S**2) / (n_samples - 1)\n",
      "/Users/oliviermanette/opt/anaconda3/lib/python3.9/site-packages/sklearn/decomposition/_pca.py:525: RuntimeWarning: invalid value encountered in true_divide\n",
      "  explained_variance_ = (S**2) / (n_samples - 1)\n",
      "/Users/oliviermanette/opt/anaconda3/lib/python3.9/site-packages/sklearn/decomposition/_pca.py:525: RuntimeWarning: invalid value encountered in true_divide\n",
      "  explained_variance_ = (S**2) / (n_samples - 1)\n",
      "/Users/oliviermanette/opt/anaconda3/lib/python3.9/site-packages/sklearn/decomposition/_pca.py:525: RuntimeWarning: invalid value encountered in true_divide\n",
      "  explained_variance_ = (S**2) / (n_samples - 1)\n",
      "/Users/oliviermanette/opt/anaconda3/lib/python3.9/site-packages/sklearn/decomposition/_pca.py:525: RuntimeWarning: invalid value encountered in true_divide\n",
      "  explained_variance_ = (S**2) / (n_samples - 1)\n",
      "/Users/oliviermanette/opt/anaconda3/lib/python3.9/site-packages/sklearn/decomposition/_pca.py:525: RuntimeWarning: invalid value encountered in true_divide\n",
      "  explained_variance_ = (S**2) / (n_samples - 1)\n",
      "/Users/oliviermanette/opt/anaconda3/lib/python3.9/site-packages/sklearn/decomposition/_pca.py:525: RuntimeWarning: invalid value encountered in true_divide\n",
      "  explained_variance_ = (S**2) / (n_samples - 1)\n",
      "/Users/oliviermanette/opt/anaconda3/lib/python3.9/site-packages/sklearn/decomposition/_pca.py:525: RuntimeWarning: invalid value encountered in true_divide\n",
      "  explained_variance_ = (S**2) / (n_samples - 1)\n",
      "/Users/oliviermanette/opt/anaconda3/lib/python3.9/site-packages/sklearn/decomposition/_pca.py:525: RuntimeWarning: invalid value encountered in true_divide\n",
      "  explained_variance_ = (S**2) / (n_samples - 1)\n",
      "/Users/oliviermanette/opt/anaconda3/lib/python3.9/site-packages/sklearn/decomposition/_pca.py:525: RuntimeWarning: invalid value encountered in true_divide\n",
      "  explained_variance_ = (S**2) / (n_samples - 1)\n",
      "/Users/oliviermanette/opt/anaconda3/lib/python3.9/site-packages/sklearn/decomposition/_pca.py:525: RuntimeWarning: invalid value encountered in true_divide\n",
      "  explained_variance_ = (S**2) / (n_samples - 1)\n",
      "/Users/oliviermanette/opt/anaconda3/lib/python3.9/site-packages/sklearn/decomposition/_pca.py:525: RuntimeWarning: invalid value encountered in true_divide\n",
      "  explained_variance_ = (S**2) / (n_samples - 1)\n",
      "/Users/oliviermanette/opt/anaconda3/lib/python3.9/site-packages/sklearn/decomposition/_pca.py:525: RuntimeWarning: invalid value encountered in true_divide\n",
      "  explained_variance_ = (S**2) / (n_samples - 1)\n",
      "/Users/oliviermanette/opt/anaconda3/lib/python3.9/site-packages/sklearn/decomposition/_pca.py:525: RuntimeWarning: invalid value encountered in true_divide\n",
      "  explained_variance_ = (S**2) / (n_samples - 1)\n",
      "/Users/oliviermanette/opt/anaconda3/lib/python3.9/site-packages/sklearn/decomposition/_pca.py:525: RuntimeWarning: invalid value encountered in true_divide\n",
      "  explained_variance_ = (S**2) / (n_samples - 1)\n",
      "/Users/oliviermanette/opt/anaconda3/lib/python3.9/site-packages/sklearn/decomposition/_pca.py:525: RuntimeWarning: invalid value encountered in true_divide\n",
      "  explained_variance_ = (S**2) / (n_samples - 1)\n",
      "/Users/oliviermanette/opt/anaconda3/lib/python3.9/site-packages/sklearn/decomposition/_pca.py:525: RuntimeWarning: invalid value encountered in true_divide\n",
      "  explained_variance_ = (S**2) / (n_samples - 1)\n",
      "/Users/oliviermanette/opt/anaconda3/lib/python3.9/site-packages/sklearn/decomposition/_pca.py:525: RuntimeWarning: invalid value encountered in true_divide\n",
      "  explained_variance_ = (S**2) / (n_samples - 1)\n",
      "/Users/oliviermanette/opt/anaconda3/lib/python3.9/site-packages/sklearn/decomposition/_pca.py:525: RuntimeWarning: invalid value encountered in true_divide\n",
      "  explained_variance_ = (S**2) / (n_samples - 1)\n",
      "/Users/oliviermanette/opt/anaconda3/lib/python3.9/site-packages/sklearn/decomposition/_pca.py:525: RuntimeWarning: invalid value encountered in true_divide\n",
      "  explained_variance_ = (S**2) / (n_samples - 1)\n",
      "/Users/oliviermanette/opt/anaconda3/lib/python3.9/site-packages/sklearn/decomposition/_pca.py:525: RuntimeWarning: invalid value encountered in true_divide\n",
      "  explained_variance_ = (S**2) / (n_samples - 1)\n",
      "/Users/oliviermanette/opt/anaconda3/lib/python3.9/site-packages/sklearn/decomposition/_pca.py:525: RuntimeWarning: invalid value encountered in true_divide\n",
      "  explained_variance_ = (S**2) / (n_samples - 1)\n",
      "/Users/oliviermanette/opt/anaconda3/lib/python3.9/site-packages/sklearn/decomposition/_pca.py:525: RuntimeWarning: invalid value encountered in true_divide\n",
      "  explained_variance_ = (S**2) / (n_samples - 1)\n",
      "/Users/oliviermanette/opt/anaconda3/lib/python3.9/site-packages/sklearn/decomposition/_pca.py:525: RuntimeWarning: invalid value encountered in true_divide\n",
      "  explained_variance_ = (S**2) / (n_samples - 1)\n",
      "/Users/oliviermanette/opt/anaconda3/lib/python3.9/site-packages/sklearn/decomposition/_pca.py:525: RuntimeWarning: invalid value encountered in true_divide\n",
      "  explained_variance_ = (S**2) / (n_samples - 1)\n",
      "/Users/oliviermanette/opt/anaconda3/lib/python3.9/site-packages/sklearn/decomposition/_pca.py:525: RuntimeWarning: invalid value encountered in true_divide\n",
      "  explained_variance_ = (S**2) / (n_samples - 1)\n",
      "/Users/oliviermanette/Documents/Sentive One Shot Learning Omniglot/sandbox metadl/../metadl/baselines/sentive_ai/sentive/sentive_neuron_helper.py:382: RuntimeWarning: invalid value encountered in arccos\n",
      "  angle =  signe * np.arccos(np.sum(np.multiply(np_c_1,np_c_2))/(np.sqrt(np.sum(np.power(np_c_1,2)))*np.sqrt(np.sum(np.power(np_c_2,2)))))\n",
      "/Users/oliviermanette/opt/anaconda3/lib/python3.9/site-packages/sklearn/decomposition/_pca.py:525: RuntimeWarning: invalid value encountered in true_divide\n",
      "  explained_variance_ = (S**2) / (n_samples - 1)\n",
      "/Users/oliviermanette/opt/anaconda3/lib/python3.9/site-packages/sklearn/decomposition/_pca.py:525: RuntimeWarning: invalid value encountered in true_divide\n",
      "  explained_variance_ = (S**2) / (n_samples - 1)\n",
      "/Users/oliviermanette/opt/anaconda3/lib/python3.9/site-packages/sklearn/decomposition/_pca.py:525: RuntimeWarning: invalid value encountered in true_divide\n",
      "  explained_variance_ = (S**2) / (n_samples - 1)\n",
      "/Users/oliviermanette/opt/anaconda3/lib/python3.9/site-packages/sklearn/decomposition/_pca.py:525: RuntimeWarning: invalid value encountered in true_divide\n",
      "  explained_variance_ = (S**2) / (n_samples - 1)\n",
      "/Users/oliviermanette/opt/anaconda3/lib/python3.9/site-packages/sklearn/decomposition/_pca.py:525: RuntimeWarning: invalid value encountered in true_divide\n",
      "  explained_variance_ = (S**2) / (n_samples - 1)\n",
      "/Users/oliviermanette/opt/anaconda3/lib/python3.9/site-packages/sklearn/decomposition/_pca.py:525: RuntimeWarning: invalid value encountered in true_divide\n",
      "  explained_variance_ = (S**2) / (n_samples - 1)\n",
      "/Users/oliviermanette/opt/anaconda3/lib/python3.9/site-packages/sklearn/decomposition/_pca.py:525: RuntimeWarning: invalid value encountered in true_divide\n",
      "  explained_variance_ = (S**2) / (n_samples - 1)\n",
      "/Users/oliviermanette/opt/anaconda3/lib/python3.9/site-packages/sklearn/decomposition/_pca.py:525: RuntimeWarning: invalid value encountered in true_divide\n",
      "  explained_variance_ = (S**2) / (n_samples - 1)\n",
      "/Users/oliviermanette/opt/anaconda3/lib/python3.9/site-packages/sklearn/decomposition/_pca.py:525: RuntimeWarning: invalid value encountered in true_divide\n",
      "  explained_variance_ = (S**2) / (n_samples - 1)\n",
      "/Users/oliviermanette/opt/anaconda3/lib/python3.9/site-packages/sklearn/decomposition/_pca.py:525: RuntimeWarning: invalid value encountered in true_divide\n",
      "  explained_variance_ = (S**2) / (n_samples - 1)\n",
      "/Users/oliviermanette/opt/anaconda3/lib/python3.9/site-packages/sklearn/decomposition/_pca.py:525: RuntimeWarning: invalid value encountered in true_divide\n",
      "  explained_variance_ = (S**2) / (n_samples - 1)\n",
      "/Users/oliviermanette/opt/anaconda3/lib/python3.9/site-packages/sklearn/decomposition/_pca.py:525: RuntimeWarning: invalid value encountered in true_divide\n",
      "  explained_variance_ = (S**2) / (n_samples - 1)\n",
      "/Users/oliviermanette/opt/anaconda3/lib/python3.9/site-packages/sklearn/decomposition/_pca.py:525: RuntimeWarning: invalid value encountered in true_divide\n",
      "  explained_variance_ = (S**2) / (n_samples - 1)\n",
      "/Users/oliviermanette/opt/anaconda3/lib/python3.9/site-packages/sklearn/decomposition/_pca.py:525: RuntimeWarning: invalid value encountered in true_divide\n",
      "  explained_variance_ = (S**2) / (n_samples - 1)\n",
      "/Users/oliviermanette/opt/anaconda3/lib/python3.9/site-packages/sklearn/decomposition/_pca.py:525: RuntimeWarning: invalid value encountered in true_divide\n",
      "  explained_variance_ = (S**2) / (n_samples - 1)\n",
      "/Users/oliviermanette/opt/anaconda3/lib/python3.9/site-packages/sklearn/decomposition/_pca.py:525: RuntimeWarning: invalid value encountered in true_divide\n",
      "  explained_variance_ = (S**2) / (n_samples - 1)\n",
      "/Users/oliviermanette/opt/anaconda3/lib/python3.9/site-packages/sklearn/decomposition/_pca.py:525: RuntimeWarning: invalid value encountered in true_divide\n",
      "  explained_variance_ = (S**2) / (n_samples - 1)\n",
      "/Users/oliviermanette/opt/anaconda3/lib/python3.9/site-packages/sklearn/decomposition/_pca.py:525: RuntimeWarning: invalid value encountered in true_divide\n",
      "  explained_variance_ = (S**2) / (n_samples - 1)\n",
      "/Users/oliviermanette/opt/anaconda3/lib/python3.9/site-packages/sklearn/decomposition/_pca.py:525: RuntimeWarning: invalid value encountered in true_divide\n",
      "  explained_variance_ = (S**2) / (n_samples - 1)\n",
      "/Users/oliviermanette/opt/anaconda3/lib/python3.9/site-packages/sklearn/decomposition/_pca.py:525: RuntimeWarning: invalid value encountered in true_divide\n",
      "  explained_variance_ = (S**2) / (n_samples - 1)\n",
      "/Users/oliviermanette/opt/anaconda3/lib/python3.9/site-packages/sklearn/decomposition/_pca.py:525: RuntimeWarning: invalid value encountered in true_divide\n",
      "  explained_variance_ = (S**2) / (n_samples - 1)\n",
      "/Users/oliviermanette/opt/anaconda3/lib/python3.9/site-packages/sklearn/decomposition/_pca.py:525: RuntimeWarning: invalid value encountered in true_divide\n",
      "  explained_variance_ = (S**2) / (n_samples - 1)\n",
      "/Users/oliviermanette/opt/anaconda3/lib/python3.9/site-packages/sklearn/decomposition/_pca.py:525: RuntimeWarning: invalid value encountered in true_divide\n",
      "  explained_variance_ = (S**2) / (n_samples - 1)\n",
      "/Users/oliviermanette/opt/anaconda3/lib/python3.9/site-packages/sklearn/decomposition/_pca.py:525: RuntimeWarning: invalid value encountered in true_divide\n",
      "  explained_variance_ = (S**2) / (n_samples - 1)\n",
      "/Users/oliviermanette/opt/anaconda3/lib/python3.9/site-packages/sklearn/decomposition/_pca.py:525: RuntimeWarning: invalid value encountered in true_divide\n",
      "  explained_variance_ = (S**2) / (n_samples - 1)\n",
      "/Users/oliviermanette/opt/anaconda3/lib/python3.9/site-packages/sklearn/decomposition/_pca.py:525: RuntimeWarning: invalid value encountered in true_divide\n",
      "  explained_variance_ = (S**2) / (n_samples - 1)\n",
      "/Users/oliviermanette/opt/anaconda3/lib/python3.9/site-packages/sklearn/decomposition/_pca.py:525: RuntimeWarning: invalid value encountered in true_divide\n",
      "  explained_variance_ = (S**2) / (n_samples - 1)\n",
      "/Users/oliviermanette/opt/anaconda3/lib/python3.9/site-packages/sklearn/decomposition/_pca.py:525: RuntimeWarning: invalid value encountered in true_divide\n",
      "  explained_variance_ = (S**2) / (n_samples - 1)\n",
      "/Users/oliviermanette/opt/anaconda3/lib/python3.9/site-packages/sklearn/decomposition/_pca.py:525: RuntimeWarning: invalid value encountered in true_divide\n",
      "  explained_variance_ = (S**2) / (n_samples - 1)\n",
      "/Users/oliviermanette/opt/anaconda3/lib/python3.9/site-packages/sklearn/decomposition/_pca.py:525: RuntimeWarning: invalid value encountered in true_divide\n",
      "  explained_variance_ = (S**2) / (n_samples - 1)\n",
      "/Users/oliviermanette/opt/anaconda3/lib/python3.9/site-packages/sklearn/decomposition/_pca.py:525: RuntimeWarning: invalid value encountered in true_divide\n",
      "  explained_variance_ = (S**2) / (n_samples - 1)\n",
      "/Users/oliviermanette/opt/anaconda3/lib/python3.9/site-packages/sklearn/decomposition/_pca.py:525: RuntimeWarning: invalid value encountered in true_divide\n",
      "  explained_variance_ = (S**2) / (n_samples - 1)\n",
      "/Users/oliviermanette/opt/anaconda3/lib/python3.9/site-packages/sklearn/decomposition/_pca.py:525: RuntimeWarning: invalid value encountered in true_divide\n",
      "  explained_variance_ = (S**2) / (n_samples - 1)\n",
      "/Users/oliviermanette/opt/anaconda3/lib/python3.9/site-packages/sklearn/decomposition/_pca.py:525: RuntimeWarning: invalid value encountered in true_divide\n",
      "  explained_variance_ = (S**2) / (n_samples - 1)\n",
      "/Users/oliviermanette/opt/anaconda3/lib/python3.9/site-packages/sklearn/decomposition/_pca.py:525: RuntimeWarning: invalid value encountered in true_divide\n",
      "  explained_variance_ = (S**2) / (n_samples - 1)\n",
      "/Users/oliviermanette/opt/anaconda3/lib/python3.9/site-packages/sklearn/decomposition/_pca.py:525: RuntimeWarning: invalid value encountered in true_divide\n",
      "  explained_variance_ = (S**2) / (n_samples - 1)\n"
     ]
    },
    {
     "name": "stderr",
     "output_type": "stream",
     "text": [
      "/Users/oliviermanette/opt/anaconda3/lib/python3.9/site-packages/sklearn/decomposition/_pca.py:525: RuntimeWarning: invalid value encountered in true_divide\n",
      "  explained_variance_ = (S**2) / (n_samples - 1)\n",
      "/Users/oliviermanette/opt/anaconda3/lib/python3.9/site-packages/sklearn/decomposition/_pca.py:525: RuntimeWarning: invalid value encountered in true_divide\n",
      "  explained_variance_ = (S**2) / (n_samples - 1)\n",
      "/Users/oliviermanette/opt/anaconda3/lib/python3.9/site-packages/sklearn/decomposition/_pca.py:525: RuntimeWarning: invalid value encountered in true_divide\n",
      "  explained_variance_ = (S**2) / (n_samples - 1)\n",
      "/Users/oliviermanette/opt/anaconda3/lib/python3.9/site-packages/sklearn/decomposition/_pca.py:525: RuntimeWarning: invalid value encountered in true_divide\n",
      "  explained_variance_ = (S**2) / (n_samples - 1)\n",
      "/Users/oliviermanette/opt/anaconda3/lib/python3.9/site-packages/sklearn/decomposition/_pca.py:525: RuntimeWarning: invalid value encountered in true_divide\n",
      "  explained_variance_ = (S**2) / (n_samples - 1)\n",
      "/Users/oliviermanette/opt/anaconda3/lib/python3.9/site-packages/sklearn/decomposition/_pca.py:525: RuntimeWarning: invalid value encountered in true_divide\n",
      "  explained_variance_ = (S**2) / (n_samples - 1)\n",
      "/Users/oliviermanette/opt/anaconda3/lib/python3.9/site-packages/sklearn/decomposition/_pca.py:525: RuntimeWarning: invalid value encountered in true_divide\n",
      "  explained_variance_ = (S**2) / (n_samples - 1)\n",
      "/Users/oliviermanette/opt/anaconda3/lib/python3.9/site-packages/sklearn/decomposition/_pca.py:525: RuntimeWarning: invalid value encountered in true_divide\n",
      "  explained_variance_ = (S**2) / (n_samples - 1)\n",
      "/Users/oliviermanette/opt/anaconda3/lib/python3.9/site-packages/sklearn/decomposition/_pca.py:525: RuntimeWarning: invalid value encountered in true_divide\n",
      "  explained_variance_ = (S**2) / (n_samples - 1)\n",
      "/Users/oliviermanette/opt/anaconda3/lib/python3.9/site-packages/sklearn/decomposition/_pca.py:525: RuntimeWarning: invalid value encountered in true_divide\n",
      "  explained_variance_ = (S**2) / (n_samples - 1)\n",
      "/Users/oliviermanette/opt/anaconda3/lib/python3.9/site-packages/sklearn/decomposition/_pca.py:525: RuntimeWarning: invalid value encountered in true_divide\n",
      "  explained_variance_ = (S**2) / (n_samples - 1)\n",
      "/Users/oliviermanette/opt/anaconda3/lib/python3.9/site-packages/sklearn/decomposition/_pca.py:525: RuntimeWarning: invalid value encountered in true_divide\n",
      "  explained_variance_ = (S**2) / (n_samples - 1)\n",
      "/Users/oliviermanette/opt/anaconda3/lib/python3.9/site-packages/sklearn/decomposition/_pca.py:525: RuntimeWarning: invalid value encountered in true_divide\n",
      "  explained_variance_ = (S**2) / (n_samples - 1)\n",
      "/Users/oliviermanette/opt/anaconda3/lib/python3.9/site-packages/sklearn/decomposition/_pca.py:525: RuntimeWarning: invalid value encountered in true_divide\n",
      "  explained_variance_ = (S**2) / (n_samples - 1)\n",
      "/Users/oliviermanette/opt/anaconda3/lib/python3.9/site-packages/sklearn/decomposition/_pca.py:525: RuntimeWarning: invalid value encountered in true_divide\n",
      "  explained_variance_ = (S**2) / (n_samples - 1)\n",
      "/Users/oliviermanette/opt/anaconda3/lib/python3.9/site-packages/sklearn/decomposition/_pca.py:525: RuntimeWarning: invalid value encountered in true_divide\n",
      "  explained_variance_ = (S**2) / (n_samples - 1)\n",
      "/Users/oliviermanette/opt/anaconda3/lib/python3.9/site-packages/sklearn/decomposition/_pca.py:525: RuntimeWarning: invalid value encountered in true_divide\n",
      "  explained_variance_ = (S**2) / (n_samples - 1)\n",
      "/Users/oliviermanette/opt/anaconda3/lib/python3.9/site-packages/sklearn/decomposition/_pca.py:525: RuntimeWarning: invalid value encountered in true_divide\n",
      "  explained_variance_ = (S**2) / (n_samples - 1)\n",
      "/Users/oliviermanette/opt/anaconda3/lib/python3.9/site-packages/sklearn/decomposition/_pca.py:525: RuntimeWarning: invalid value encountered in true_divide\n",
      "  explained_variance_ = (S**2) / (n_samples - 1)\n",
      "/Users/oliviermanette/opt/anaconda3/lib/python3.9/site-packages/sklearn/decomposition/_pca.py:525: RuntimeWarning: invalid value encountered in true_divide\n",
      "  explained_variance_ = (S**2) / (n_samples - 1)\n",
      "/Users/oliviermanette/opt/anaconda3/lib/python3.9/site-packages/sklearn/decomposition/_pca.py:525: RuntimeWarning: invalid value encountered in true_divide\n",
      "  explained_variance_ = (S**2) / (n_samples - 1)\n",
      "/Users/oliviermanette/opt/anaconda3/lib/python3.9/site-packages/sklearn/decomposition/_pca.py:525: RuntimeWarning: invalid value encountered in true_divide\n",
      "  explained_variance_ = (S**2) / (n_samples - 1)\n",
      "/Users/oliviermanette/opt/anaconda3/lib/python3.9/site-packages/sklearn/decomposition/_pca.py:525: RuntimeWarning: invalid value encountered in true_divide\n",
      "  explained_variance_ = (S**2) / (n_samples - 1)\n",
      "/Users/oliviermanette/opt/anaconda3/lib/python3.9/site-packages/sklearn/decomposition/_pca.py:525: RuntimeWarning: invalid value encountered in true_divide\n",
      "  explained_variance_ = (S**2) / (n_samples - 1)\n",
      "/Users/oliviermanette/opt/anaconda3/lib/python3.9/site-packages/sklearn/decomposition/_pca.py:525: RuntimeWarning: invalid value encountered in true_divide\n",
      "  explained_variance_ = (S**2) / (n_samples - 1)\n",
      "/Users/oliviermanette/opt/anaconda3/lib/python3.9/site-packages/sklearn/decomposition/_pca.py:525: RuntimeWarning: invalid value encountered in true_divide\n",
      "  explained_variance_ = (S**2) / (n_samples - 1)\n",
      "/Users/oliviermanette/opt/anaconda3/lib/python3.9/site-packages/sklearn/decomposition/_pca.py:525: RuntimeWarning: invalid value encountered in true_divide\n",
      "  explained_variance_ = (S**2) / (n_samples - 1)\n",
      "/Users/oliviermanette/opt/anaconda3/lib/python3.9/site-packages/sklearn/decomposition/_pca.py:525: RuntimeWarning: invalid value encountered in true_divide\n",
      "  explained_variance_ = (S**2) / (n_samples - 1)\n",
      "/Users/oliviermanette/opt/anaconda3/lib/python3.9/site-packages/sklearn/decomposition/_pca.py:525: RuntimeWarning: invalid value encountered in true_divide\n",
      "  explained_variance_ = (S**2) / (n_samples - 1)\n",
      "/Users/oliviermanette/opt/anaconda3/lib/python3.9/site-packages/sklearn/decomposition/_pca.py:525: RuntimeWarning: invalid value encountered in true_divide\n",
      "  explained_variance_ = (S**2) / (n_samples - 1)\n",
      "/Users/oliviermanette/opt/anaconda3/lib/python3.9/site-packages/sklearn/decomposition/_pca.py:525: RuntimeWarning: invalid value encountered in true_divide\n",
      "  explained_variance_ = (S**2) / (n_samples - 1)\n",
      "/Users/oliviermanette/opt/anaconda3/lib/python3.9/site-packages/sklearn/decomposition/_pca.py:525: RuntimeWarning: invalid value encountered in true_divide\n",
      "  explained_variance_ = (S**2) / (n_samples - 1)\n",
      "/Users/oliviermanette/opt/anaconda3/lib/python3.9/site-packages/sklearn/decomposition/_pca.py:525: RuntimeWarning: invalid value encountered in true_divide\n",
      "  explained_variance_ = (S**2) / (n_samples - 1)\n",
      "/Users/oliviermanette/opt/anaconda3/lib/python3.9/site-packages/sklearn/decomposition/_pca.py:525: RuntimeWarning: invalid value encountered in true_divide\n",
      "  explained_variance_ = (S**2) / (n_samples - 1)\n",
      "/Users/oliviermanette/opt/anaconda3/lib/python3.9/site-packages/sklearn/decomposition/_pca.py:525: RuntimeWarning: invalid value encountered in true_divide\n",
      "  explained_variance_ = (S**2) / (n_samples - 1)\n",
      "/Users/oliviermanette/opt/anaconda3/lib/python3.9/site-packages/sklearn/decomposition/_pca.py:525: RuntimeWarning: invalid value encountered in true_divide\n",
      "  explained_variance_ = (S**2) / (n_samples - 1)\n",
      "/Users/oliviermanette/opt/anaconda3/lib/python3.9/site-packages/sklearn/decomposition/_pca.py:525: RuntimeWarning: invalid value encountered in true_divide\n",
      "  explained_variance_ = (S**2) / (n_samples - 1)\n",
      "/Users/oliviermanette/opt/anaconda3/lib/python3.9/site-packages/sklearn/decomposition/_pca.py:525: RuntimeWarning: invalid value encountered in true_divide\n",
      "  explained_variance_ = (S**2) / (n_samples - 1)\n",
      "/Users/oliviermanette/Documents/Sentive One Shot Learning Omniglot/sandbox metadl/../metadl/baselines/sentive_ai/sentive/sentive_neuron_helper.py:382: RuntimeWarning: invalid value encountered in arccos\n",
      "  angle =  signe * np.arccos(np.sum(np.multiply(np_c_1,np_c_2))/(np.sqrt(np.sum(np.power(np_c_1,2)))*np.sqrt(np.sum(np.power(np_c_2,2)))))\n",
      "/Users/oliviermanette/opt/anaconda3/lib/python3.9/site-packages/sklearn/decomposition/_pca.py:525: RuntimeWarning: invalid value encountered in true_divide\n",
      "  explained_variance_ = (S**2) / (n_samples - 1)\n",
      "/Users/oliviermanette/opt/anaconda3/lib/python3.9/site-packages/sklearn/decomposition/_pca.py:525: RuntimeWarning: invalid value encountered in true_divide\n",
      "  explained_variance_ = (S**2) / (n_samples - 1)\n",
      "/Users/oliviermanette/opt/anaconda3/lib/python3.9/site-packages/sklearn/decomposition/_pca.py:525: RuntimeWarning: invalid value encountered in true_divide\n",
      "  explained_variance_ = (S**2) / (n_samples - 1)\n",
      "/Users/oliviermanette/opt/anaconda3/lib/python3.9/site-packages/sklearn/decomposition/_pca.py:525: RuntimeWarning: invalid value encountered in true_divide\n",
      "  explained_variance_ = (S**2) / (n_samples - 1)\n",
      "/Users/oliviermanette/opt/anaconda3/lib/python3.9/site-packages/sklearn/decomposition/_pca.py:525: RuntimeWarning: invalid value encountered in true_divide\n",
      "  explained_variance_ = (S**2) / (n_samples - 1)\n",
      "/Users/oliviermanette/opt/anaconda3/lib/python3.9/site-packages/sklearn/decomposition/_pca.py:525: RuntimeWarning: invalid value encountered in true_divide\n",
      "  explained_variance_ = (S**2) / (n_samples - 1)\n",
      "/Users/oliviermanette/opt/anaconda3/lib/python3.9/site-packages/sklearn/decomposition/_pca.py:525: RuntimeWarning: invalid value encountered in true_divide\n",
      "  explained_variance_ = (S**2) / (n_samples - 1)\n",
      "/Users/oliviermanette/opt/anaconda3/lib/python3.9/site-packages/sklearn/decomposition/_pca.py:525: RuntimeWarning: invalid value encountered in true_divide\n",
      "  explained_variance_ = (S**2) / (n_samples - 1)\n",
      "/Users/oliviermanette/opt/anaconda3/lib/python3.9/site-packages/sklearn/decomposition/_pca.py:525: RuntimeWarning: invalid value encountered in true_divide\n",
      "  explained_variance_ = (S**2) / (n_samples - 1)\n",
      "/Users/oliviermanette/opt/anaconda3/lib/python3.9/site-packages/sklearn/decomposition/_pca.py:525: RuntimeWarning: invalid value encountered in true_divide\n",
      "  explained_variance_ = (S**2) / (n_samples - 1)\n",
      "/Users/oliviermanette/opt/anaconda3/lib/python3.9/site-packages/sklearn/decomposition/_pca.py:525: RuntimeWarning: invalid value encountered in true_divide\n",
      "  explained_variance_ = (S**2) / (n_samples - 1)\n",
      "/Users/oliviermanette/opt/anaconda3/lib/python3.9/site-packages/sklearn/decomposition/_pca.py:525: RuntimeWarning: invalid value encountered in true_divide\n",
      "  explained_variance_ = (S**2) / (n_samples - 1)\n",
      "/Users/oliviermanette/opt/anaconda3/lib/python3.9/site-packages/sklearn/decomposition/_pca.py:525: RuntimeWarning: invalid value encountered in true_divide\n",
      "  explained_variance_ = (S**2) / (n_samples - 1)\n",
      "/Users/oliviermanette/opt/anaconda3/lib/python3.9/site-packages/sklearn/decomposition/_pca.py:525: RuntimeWarning: invalid value encountered in true_divide\n",
      "  explained_variance_ = (S**2) / (n_samples - 1)\n",
      "/Users/oliviermanette/opt/anaconda3/lib/python3.9/site-packages/sklearn/decomposition/_pca.py:525: RuntimeWarning: invalid value encountered in true_divide\n",
      "  explained_variance_ = (S**2) / (n_samples - 1)\n",
      "/Users/oliviermanette/opt/anaconda3/lib/python3.9/site-packages/sklearn/decomposition/_pca.py:525: RuntimeWarning: invalid value encountered in true_divide\n",
      "  explained_variance_ = (S**2) / (n_samples - 1)\n",
      "/Users/oliviermanette/opt/anaconda3/lib/python3.9/site-packages/sklearn/decomposition/_pca.py:525: RuntimeWarning: invalid value encountered in true_divide\n",
      "  explained_variance_ = (S**2) / (n_samples - 1)\n",
      "/Users/oliviermanette/opt/anaconda3/lib/python3.9/site-packages/sklearn/decomposition/_pca.py:525: RuntimeWarning: invalid value encountered in true_divide\n",
      "  explained_variance_ = (S**2) / (n_samples - 1)\n",
      "/Users/oliviermanette/opt/anaconda3/lib/python3.9/site-packages/sklearn/decomposition/_pca.py:525: RuntimeWarning: invalid value encountered in true_divide\n",
      "  explained_variance_ = (S**2) / (n_samples - 1)\n",
      "/Users/oliviermanette/opt/anaconda3/lib/python3.9/site-packages/sklearn/decomposition/_pca.py:525: RuntimeWarning: invalid value encountered in true_divide\n",
      "  explained_variance_ = (S**2) / (n_samples - 1)\n",
      "/Users/oliviermanette/opt/anaconda3/lib/python3.9/site-packages/sklearn/decomposition/_pca.py:525: RuntimeWarning: invalid value encountered in true_divide\n",
      "  explained_variance_ = (S**2) / (n_samples - 1)\n",
      "/Users/oliviermanette/opt/anaconda3/lib/python3.9/site-packages/sklearn/decomposition/_pca.py:525: RuntimeWarning: invalid value encountered in true_divide\n",
      "  explained_variance_ = (S**2) / (n_samples - 1)\n",
      "/Users/oliviermanette/opt/anaconda3/lib/python3.9/site-packages/sklearn/decomposition/_pca.py:525: RuntimeWarning: invalid value encountered in true_divide\n",
      "  explained_variance_ = (S**2) / (n_samples - 1)\n",
      "/Users/oliviermanette/opt/anaconda3/lib/python3.9/site-packages/sklearn/decomposition/_pca.py:525: RuntimeWarning: invalid value encountered in true_divide\n",
      "  explained_variance_ = (S**2) / (n_samples - 1)\n",
      "/Users/oliviermanette/opt/anaconda3/lib/python3.9/site-packages/sklearn/decomposition/_pca.py:525: RuntimeWarning: invalid value encountered in true_divide\n",
      "  explained_variance_ = (S**2) / (n_samples - 1)\n",
      "/Users/oliviermanette/opt/anaconda3/lib/python3.9/site-packages/sklearn/decomposition/_pca.py:525: RuntimeWarning: invalid value encountered in true_divide\n",
      "  explained_variance_ = (S**2) / (n_samples - 1)\n"
     ]
    },
    {
     "name": "stdout",
     "output_type": "stream",
     "text": [
      "nb neurones couche 2 : 73\n",
      "nombre de neurones couche 1 & 2: 148\n",
      "taille neurones à séquencer : 74\n",
      "taille neurones à séquencer : 14\n",
      "taille neurones à séquencer : 5\n",
      "taille neurones à séquencer : 0\n",
      "found possible connexion on nrn id 121 : {139, 118, 120, 121, 122}\n",
      "found possible connexion on nrn id 112 : {97, 98, 99, 111, 112, 113, 115}\n",
      "Recherche des nœuds suivants [139, 99] [121, 112]\n",
      "Commence la découpe de segmented_path [79, 80, 81, 82, 83, 84, 85, 86, 87, 88, 89, 90, 91, 92, 93, 94, 95, 110, 111, 112, 115, 116, 118, 121, 120, 119, 137, 136, 135, 134, 133, 132, 131, 130, 129, 128, 127, 126, 125, 124, 123]\n",
      "ratio_pxls_total nrn _ID 152 ,  0.5135135135135135\n",
      "ratio_pxls_total nrn _ID 153 ,  0.25675675675675674\n",
      "Fin de la découpe de segmented_path [139, 120, 119, 137, 136, 135, 134, 133, 132, 131, 130, 129, 128, 127, 126, 125, 124, 123]\n",
      "ratio_pxls_total nrn _ID 154 ,  0.3108108108108108\n",
      "nombre de neurones couches 1, 2 et 3 : 153\n",
      "****************************************\n",
      "SELECTED SEGMENTS [149, 150, 151]\n",
      "nombre de neurones taille 1: 61\n",
      "nb neurones couche 2 : 60\n",
      "nombre de neurones couche 1 & 2: 122\n",
      "taille neurones à séquencer : 61\n",
      "taille neurones à séquencer : 8\n",
      "taille neurones à séquencer : 2\n",
      "taille neurones à séquencer : 0\n",
      "found possible connexion on nrn id 88 : {98, 99, 81, 82, 87, 88, 89, 93, 94}\n",
      "found possible connexion on nrn id 80 : {69, 70, 71, 79, 80, 85, 86}\n",
      "Recherche des nœuds suivants [98, 70] [88, 80]\n",
      "Commence la découpe de segmented_path [121, 119, 116, 113, 110, 107, 104, 101, 97, 92, 86, 80, 71, 65, 66, 72, 81, 88, 82, 74, 75, 76, 77, 84, 90, 95, 100, 103, 106, 109, 112, 115, 118, 120, 122]\n",
      "ratio_pxls_total nrn _ID 126 ,  0.3442622950819672\n",
      "ratio_pxls_total nrn _ID 127 ,  0.4098360655737705\n",
      "Fin de la découpe de segmented_path [98, 82, 74, 75, 76, 77, 84, 90, 95, 100, 103, 106, 109, 112, 115, 118, 120, 122]\n",
      "ratio_pxls_total nrn _ID 128 ,  0.4262295081967213\n",
      "nombre de neurones couches 1, 2 et 3 : 127\n",
      "****************************************\n",
      "SELECTED SEGMENTS"
     ]
    },
    {
     "name": "stderr",
     "output_type": "stream",
     "text": [
      "/Users/oliviermanette/opt/anaconda3/lib/python3.9/site-packages/sklearn/decomposition/_pca.py:525: RuntimeWarning: invalid value encountered in true_divide\n",
      "  explained_variance_ = (S**2) / (n_samples - 1)\n",
      "/Users/oliviermanette/opt/anaconda3/lib/python3.9/site-packages/sklearn/decomposition/_pca.py:525: RuntimeWarning: invalid value encountered in true_divide\n",
      "  explained_variance_ = (S**2) / (n_samples - 1)\n",
      "/Users/oliviermanette/opt/anaconda3/lib/python3.9/site-packages/sklearn/decomposition/_pca.py:525: RuntimeWarning: invalid value encountered in true_divide\n",
      "  explained_variance_ = (S**2) / (n_samples - 1)\n",
      "/Users/oliviermanette/opt/anaconda3/lib/python3.9/site-packages/sklearn/decomposition/_pca.py:525: RuntimeWarning: invalid value encountered in true_divide\n",
      "  explained_variance_ = (S**2) / (n_samples - 1)\n",
      "/Users/oliviermanette/opt/anaconda3/lib/python3.9/site-packages/sklearn/decomposition/_pca.py:525: RuntimeWarning: invalid value encountered in true_divide\n",
      "  explained_variance_ = (S**2) / (n_samples - 1)\n",
      "/Users/oliviermanette/opt/anaconda3/lib/python3.9/site-packages/sklearn/decomposition/_pca.py:525: RuntimeWarning: invalid value encountered in true_divide\n",
      "  explained_variance_ = (S**2) / (n_samples - 1)\n",
      "/Users/oliviermanette/opt/anaconda3/lib/python3.9/site-packages/sklearn/decomposition/_pca.py:525: RuntimeWarning: invalid value encountered in true_divide\n",
      "  explained_variance_ = (S**2) / (n_samples - 1)\n",
      "/Users/oliviermanette/opt/anaconda3/lib/python3.9/site-packages/sklearn/decomposition/_pca.py:525: RuntimeWarning: invalid value encountered in true_divide\n",
      "  explained_variance_ = (S**2) / (n_samples - 1)\n",
      "/Users/oliviermanette/opt/anaconda3/lib/python3.9/site-packages/sklearn/decomposition/_pca.py:525: RuntimeWarning: invalid value encountered in true_divide\n",
      "  explained_variance_ = (S**2) / (n_samples - 1)\n",
      "/Users/oliviermanette/opt/anaconda3/lib/python3.9/site-packages/sklearn/decomposition/_pca.py:525: RuntimeWarning: invalid value encountered in true_divide\n",
      "  explained_variance_ = (S**2) / (n_samples - 1)\n",
      "/Users/oliviermanette/opt/anaconda3/lib/python3.9/site-packages/sklearn/decomposition/_pca.py:525: RuntimeWarning: invalid value encountered in true_divide\n",
      "  explained_variance_ = (S**2) / (n_samples - 1)\n",
      "/Users/oliviermanette/opt/anaconda3/lib/python3.9/site-packages/sklearn/decomposition/_pca.py:525: RuntimeWarning: invalid value encountered in true_divide\n",
      "  explained_variance_ = (S**2) / (n_samples - 1)\n",
      "/Users/oliviermanette/opt/anaconda3/lib/python3.9/site-packages/sklearn/decomposition/_pca.py:525: RuntimeWarning: invalid value encountered in true_divide\n",
      "  explained_variance_ = (S**2) / (n_samples - 1)\n",
      "/Users/oliviermanette/opt/anaconda3/lib/python3.9/site-packages/sklearn/decomposition/_pca.py:525: RuntimeWarning: invalid value encountered in true_divide\n",
      "  explained_variance_ = (S**2) / (n_samples - 1)\n",
      "/Users/oliviermanette/opt/anaconda3/lib/python3.9/site-packages/sklearn/decomposition/_pca.py:525: RuntimeWarning: invalid value encountered in true_divide\n",
      "  explained_variance_ = (S**2) / (n_samples - 1)\n",
      "/Users/oliviermanette/opt/anaconda3/lib/python3.9/site-packages/sklearn/decomposition/_pca.py:525: RuntimeWarning: invalid value encountered in true_divide\n",
      "  explained_variance_ = (S**2) / (n_samples - 1)\n",
      "/Users/oliviermanette/opt/anaconda3/lib/python3.9/site-packages/sklearn/decomposition/_pca.py:525: RuntimeWarning: invalid value encountered in true_divide\n",
      "  explained_variance_ = (S**2) / (n_samples - 1)\n",
      "/Users/oliviermanette/opt/anaconda3/lib/python3.9/site-packages/sklearn/decomposition/_pca.py:525: RuntimeWarning: invalid value encountered in true_divide\n",
      "  explained_variance_ = (S**2) / (n_samples - 1)\n",
      "/Users/oliviermanette/opt/anaconda3/lib/python3.9/site-packages/sklearn/decomposition/_pca.py:525: RuntimeWarning: invalid value encountered in true_divide\n",
      "  explained_variance_ = (S**2) / (n_samples - 1)\n",
      "/Users/oliviermanette/opt/anaconda3/lib/python3.9/site-packages/sklearn/decomposition/_pca.py:525: RuntimeWarning: invalid value encountered in true_divide\n",
      "  explained_variance_ = (S**2) / (n_samples - 1)\n",
      "/Users/oliviermanette/opt/anaconda3/lib/python3.9/site-packages/sklearn/decomposition/_pca.py:525: RuntimeWarning: invalid value encountered in true_divide\n",
      "  explained_variance_ = (S**2) / (n_samples - 1)\n",
      "/Users/oliviermanette/opt/anaconda3/lib/python3.9/site-packages/sklearn/decomposition/_pca.py:525: RuntimeWarning: invalid value encountered in true_divide\n",
      "  explained_variance_ = (S**2) / (n_samples - 1)\n",
      "/Users/oliviermanette/opt/anaconda3/lib/python3.9/site-packages/sklearn/decomposition/_pca.py:525: RuntimeWarning: invalid value encountered in true_divide\n",
      "  explained_variance_ = (S**2) / (n_samples - 1)\n",
      "/Users/oliviermanette/opt/anaconda3/lib/python3.9/site-packages/sklearn/decomposition/_pca.py:525: RuntimeWarning: invalid value encountered in true_divide\n",
      "  explained_variance_ = (S**2) / (n_samples - 1)\n",
      "/Users/oliviermanette/opt/anaconda3/lib/python3.9/site-packages/sklearn/decomposition/_pca.py:525: RuntimeWarning: invalid value encountered in true_divide\n",
      "  explained_variance_ = (S**2) / (n_samples - 1)\n",
      "/Users/oliviermanette/opt/anaconda3/lib/python3.9/site-packages/sklearn/decomposition/_pca.py:525: RuntimeWarning: invalid value encountered in true_divide\n",
      "  explained_variance_ = (S**2) / (n_samples - 1)\n",
      "/Users/oliviermanette/opt/anaconda3/lib/python3.9/site-packages/sklearn/decomposition/_pca.py:525: RuntimeWarning: invalid value encountered in true_divide\n",
      "  explained_variance_ = (S**2) / (n_samples - 1)\n",
      "/Users/oliviermanette/opt/anaconda3/lib/python3.9/site-packages/sklearn/decomposition/_pca.py:525: RuntimeWarning: invalid value encountered in true_divide\n",
      "  explained_variance_ = (S**2) / (n_samples - 1)\n",
      "/Users/oliviermanette/opt/anaconda3/lib/python3.9/site-packages/sklearn/decomposition/_pca.py:525: RuntimeWarning: invalid value encountered in true_divide\n",
      "  explained_variance_ = (S**2) / (n_samples - 1)\n",
      "/Users/oliviermanette/opt/anaconda3/lib/python3.9/site-packages/sklearn/decomposition/_pca.py:525: RuntimeWarning: invalid value encountered in true_divide\n",
      "  explained_variance_ = (S**2) / (n_samples - 1)\n",
      "/Users/oliviermanette/opt/anaconda3/lib/python3.9/site-packages/sklearn/decomposition/_pca.py:525: RuntimeWarning: invalid value encountered in true_divide\n",
      "  explained_variance_ = (S**2) / (n_samples - 1)\n",
      "/Users/oliviermanette/opt/anaconda3/lib/python3.9/site-packages/sklearn/decomposition/_pca.py:525: RuntimeWarning: invalid value encountered in true_divide\n",
      "  explained_variance_ = (S**2) / (n_samples - 1)\n",
      "/Users/oliviermanette/opt/anaconda3/lib/python3.9/site-packages/sklearn/decomposition/_pca.py:525: RuntimeWarning: invalid value encountered in true_divide\n",
      "  explained_variance_ = (S**2) / (n_samples - 1)\n",
      "/Users/oliviermanette/opt/anaconda3/lib/python3.9/site-packages/sklearn/decomposition/_pca.py:525: RuntimeWarning: invalid value encountered in true_divide\n",
      "  explained_variance_ = (S**2) / (n_samples - 1)\n",
      "/Users/oliviermanette/opt/anaconda3/lib/python3.9/site-packages/sklearn/decomposition/_pca.py:525: RuntimeWarning: invalid value encountered in true_divide\n",
      "  explained_variance_ = (S**2) / (n_samples - 1)\n",
      "/Users/oliviermanette/Documents/Sentive One Shot Learning Omniglot/sandbox metadl/../metadl/baselines/sentive_ai/sentive/sentive_neuron_helper.py:382: RuntimeWarning: invalid value encountered in arccos\n",
      "  angle =  signe * np.arccos(np.sum(np.multiply(np_c_1,np_c_2))/(np.sqrt(np.sum(np.power(np_c_1,2)))*np.sqrt(np.sum(np.power(np_c_2,2)))))\n",
      "/Users/oliviermanette/opt/anaconda3/lib/python3.9/site-packages/sklearn/decomposition/_pca.py:525: RuntimeWarning: invalid value encountered in true_divide\n",
      "  explained_variance_ = (S**2) / (n_samples - 1)\n",
      "/Users/oliviermanette/opt/anaconda3/lib/python3.9/site-packages/sklearn/decomposition/_pca.py:525: RuntimeWarning: invalid value encountered in true_divide\n",
      "  explained_variance_ = (S**2) / (n_samples - 1)\n",
      "/Users/oliviermanette/opt/anaconda3/lib/python3.9/site-packages/sklearn/decomposition/_pca.py:525: RuntimeWarning: invalid value encountered in true_divide\n",
      "  explained_variance_ = (S**2) / (n_samples - 1)\n",
      "/Users/oliviermanette/opt/anaconda3/lib/python3.9/site-packages/sklearn/decomposition/_pca.py:525: RuntimeWarning: invalid value encountered in true_divide\n",
      "  explained_variance_ = (S**2) / (n_samples - 1)\n",
      "/Users/oliviermanette/opt/anaconda3/lib/python3.9/site-packages/sklearn/decomposition/_pca.py:525: RuntimeWarning: invalid value encountered in true_divide\n",
      "  explained_variance_ = (S**2) / (n_samples - 1)\n",
      "/Users/oliviermanette/opt/anaconda3/lib/python3.9/site-packages/sklearn/decomposition/_pca.py:525: RuntimeWarning: invalid value encountered in true_divide\n",
      "  explained_variance_ = (S**2) / (n_samples - 1)\n",
      "/Users/oliviermanette/opt/anaconda3/lib/python3.9/site-packages/sklearn/decomposition/_pca.py:525: RuntimeWarning: invalid value encountered in true_divide\n",
      "  explained_variance_ = (S**2) / (n_samples - 1)\n",
      "/Users/oliviermanette/opt/anaconda3/lib/python3.9/site-packages/sklearn/decomposition/_pca.py:525: RuntimeWarning: invalid value encountered in true_divide\n",
      "  explained_variance_ = (S**2) / (n_samples - 1)\n",
      "/Users/oliviermanette/opt/anaconda3/lib/python3.9/site-packages/sklearn/decomposition/_pca.py:525: RuntimeWarning: invalid value encountered in true_divide\n",
      "  explained_variance_ = (S**2) / (n_samples - 1)\n",
      "/Users/oliviermanette/opt/anaconda3/lib/python3.9/site-packages/sklearn/decomposition/_pca.py:525: RuntimeWarning: invalid value encountered in true_divide\n",
      "  explained_variance_ = (S**2) / (n_samples - 1)\n",
      "/Users/oliviermanette/opt/anaconda3/lib/python3.9/site-packages/sklearn/decomposition/_pca.py:525: RuntimeWarning: invalid value encountered in true_divide\n",
      "  explained_variance_ = (S**2) / (n_samples - 1)\n",
      "/Users/oliviermanette/opt/anaconda3/lib/python3.9/site-packages/sklearn/decomposition/_pca.py:525: RuntimeWarning: invalid value encountered in true_divide\n",
      "  explained_variance_ = (S**2) / (n_samples - 1)\n",
      "/Users/oliviermanette/opt/anaconda3/lib/python3.9/site-packages/sklearn/decomposition/_pca.py:525: RuntimeWarning: invalid value encountered in true_divide\n",
      "  explained_variance_ = (S**2) / (n_samples - 1)\n",
      "/Users/oliviermanette/opt/anaconda3/lib/python3.9/site-packages/sklearn/decomposition/_pca.py:525: RuntimeWarning: invalid value encountered in true_divide\n",
      "  explained_variance_ = (S**2) / (n_samples - 1)\n",
      "/Users/oliviermanette/opt/anaconda3/lib/python3.9/site-packages/sklearn/decomposition/_pca.py:525: RuntimeWarning: invalid value encountered in true_divide\n",
      "  explained_variance_ = (S**2) / (n_samples - 1)\n",
      "/Users/oliviermanette/opt/anaconda3/lib/python3.9/site-packages/sklearn/decomposition/_pca.py:525: RuntimeWarning: invalid value encountered in true_divide\n",
      "  explained_variance_ = (S**2) / (n_samples - 1)\n",
      "/Users/oliviermanette/opt/anaconda3/lib/python3.9/site-packages/sklearn/decomposition/_pca.py:525: RuntimeWarning: invalid value encountered in true_divide\n",
      "  explained_variance_ = (S**2) / (n_samples - 1)\n",
      "/Users/oliviermanette/opt/anaconda3/lib/python3.9/site-packages/sklearn/decomposition/_pca.py:525: RuntimeWarning: invalid value encountered in true_divide\n",
      "  explained_variance_ = (S**2) / (n_samples - 1)\n",
      "/Users/oliviermanette/opt/anaconda3/lib/python3.9/site-packages/sklearn/decomposition/_pca.py:525: RuntimeWarning: invalid value encountered in true_divide\n",
      "  explained_variance_ = (S**2) / (n_samples - 1)\n",
      "/Users/oliviermanette/opt/anaconda3/lib/python3.9/site-packages/sklearn/decomposition/_pca.py:525: RuntimeWarning: invalid value encountered in true_divide\n",
      "  explained_variance_ = (S**2) / (n_samples - 1)\n",
      "/Users/oliviermanette/opt/anaconda3/lib/python3.9/site-packages/sklearn/decomposition/_pca.py:525: RuntimeWarning: invalid value encountered in true_divide\n",
      "  explained_variance_ = (S**2) / (n_samples - 1)\n",
      "/Users/oliviermanette/opt/anaconda3/lib/python3.9/site-packages/sklearn/decomposition/_pca.py:525: RuntimeWarning: invalid value encountered in true_divide\n",
      "  explained_variance_ = (S**2) / (n_samples - 1)\n",
      "/Users/oliviermanette/opt/anaconda3/lib/python3.9/site-packages/sklearn/decomposition/_pca.py:525: RuntimeWarning: invalid value encountered in true_divide\n",
      "  explained_variance_ = (S**2) / (n_samples - 1)\n",
      "/Users/oliviermanette/opt/anaconda3/lib/python3.9/site-packages/sklearn/decomposition/_pca.py:525: RuntimeWarning: invalid value encountered in true_divide\n",
      "  explained_variance_ = (S**2) / (n_samples - 1)\n",
      "/Users/oliviermanette/opt/anaconda3/lib/python3.9/site-packages/sklearn/decomposition/_pca.py:525: RuntimeWarning: invalid value encountered in true_divide\n",
      "  explained_variance_ = (S**2) / (n_samples - 1)\n",
      "/Users/oliviermanette/opt/anaconda3/lib/python3.9/site-packages/sklearn/decomposition/_pca.py:525: RuntimeWarning: invalid value encountered in true_divide\n",
      "  explained_variance_ = (S**2) / (n_samples - 1)\n",
      "/Users/oliviermanette/opt/anaconda3/lib/python3.9/site-packages/sklearn/decomposition/_pca.py:525: RuntimeWarning: invalid value encountered in true_divide\n",
      "  explained_variance_ = (S**2) / (n_samples - 1)\n",
      "/Users/oliviermanette/opt/anaconda3/lib/python3.9/site-packages/sklearn/decomposition/_pca.py:525: RuntimeWarning: invalid value encountered in true_divide\n",
      "  explained_variance_ = (S**2) / (n_samples - 1)\n",
      "/Users/oliviermanette/opt/anaconda3/lib/python3.9/site-packages/sklearn/decomposition/_pca.py:525: RuntimeWarning: invalid value encountered in true_divide\n",
      "  explained_variance_ = (S**2) / (n_samples - 1)\n",
      "/Users/oliviermanette/opt/anaconda3/lib/python3.9/site-packages/sklearn/decomposition/_pca.py:525: RuntimeWarning: invalid value encountered in true_divide\n",
      "  explained_variance_ = (S**2) / (n_samples - 1)\n",
      "/Users/oliviermanette/opt/anaconda3/lib/python3.9/site-packages/sklearn/decomposition/_pca.py:525: RuntimeWarning: invalid value encountered in true_divide\n",
      "  explained_variance_ = (S**2) / (n_samples - 1)\n",
      "/Users/oliviermanette/opt/anaconda3/lib/python3.9/site-packages/sklearn/decomposition/_pca.py:525: RuntimeWarning: invalid value encountered in true_divide\n",
      "  explained_variance_ = (S**2) / (n_samples - 1)\n",
      "/Users/oliviermanette/opt/anaconda3/lib/python3.9/site-packages/sklearn/decomposition/_pca.py:525: RuntimeWarning: invalid value encountered in true_divide\n",
      "  explained_variance_ = (S**2) / (n_samples - 1)\n",
      "/Users/oliviermanette/opt/anaconda3/lib/python3.9/site-packages/sklearn/decomposition/_pca.py:525: RuntimeWarning: invalid value encountered in true_divide\n",
      "  explained_variance_ = (S**2) / (n_samples - 1)\n",
      "/Users/oliviermanette/opt/anaconda3/lib/python3.9/site-packages/sklearn/decomposition/_pca.py:525: RuntimeWarning: invalid value encountered in true_divide\n",
      "  explained_variance_ = (S**2) / (n_samples - 1)\n",
      "/Users/oliviermanette/opt/anaconda3/lib/python3.9/site-packages/sklearn/decomposition/_pca.py:525: RuntimeWarning: invalid value encountered in true_divide\n",
      "  explained_variance_ = (S**2) / (n_samples - 1)\n",
      "/Users/oliviermanette/opt/anaconda3/lib/python3.9/site-packages/sklearn/decomposition/_pca.py:525: RuntimeWarning: invalid value encountered in true_divide\n",
      "  explained_variance_ = (S**2) / (n_samples - 1)\n",
      "/Users/oliviermanette/opt/anaconda3/lib/python3.9/site-packages/sklearn/decomposition/_pca.py:525: RuntimeWarning: invalid value encountered in true_divide\n",
      "  explained_variance_ = (S**2) / (n_samples - 1)\n",
      "/Users/oliviermanette/opt/anaconda3/lib/python3.9/site-packages/sklearn/decomposition/_pca.py:525: RuntimeWarning: invalid value encountered in true_divide\n",
      "  explained_variance_ = (S**2) / (n_samples - 1)\n",
      "/Users/oliviermanette/opt/anaconda3/lib/python3.9/site-packages/sklearn/decomposition/_pca.py:525: RuntimeWarning: invalid value encountered in true_divide\n",
      "  explained_variance_ = (S**2) / (n_samples - 1)\n",
      "/Users/oliviermanette/opt/anaconda3/lib/python3.9/site-packages/sklearn/decomposition/_pca.py:525: RuntimeWarning: invalid value encountered in true_divide\n",
      "  explained_variance_ = (S**2) / (n_samples - 1)\n",
      "/Users/oliviermanette/opt/anaconda3/lib/python3.9/site-packages/sklearn/decomposition/_pca.py:525: RuntimeWarning: invalid value encountered in true_divide\n",
      "  explained_variance_ = (S**2) / (n_samples - 1)\n",
      "/Users/oliviermanette/opt/anaconda3/lib/python3.9/site-packages/sklearn/decomposition/_pca.py:525: RuntimeWarning: invalid value encountered in true_divide\n",
      "  explained_variance_ = (S**2) / (n_samples - 1)\n",
      "/Users/oliviermanette/opt/anaconda3/lib/python3.9/site-packages/sklearn/decomposition/_pca.py:525: RuntimeWarning: invalid value encountered in true_divide\n",
      "  explained_variance_ = (S**2) / (n_samples - 1)\n",
      "/Users/oliviermanette/opt/anaconda3/lib/python3.9/site-packages/sklearn/decomposition/_pca.py:525: RuntimeWarning: invalid value encountered in true_divide\n",
      "  explained_variance_ = (S**2) / (n_samples - 1)\n",
      "/Users/oliviermanette/opt/anaconda3/lib/python3.9/site-packages/sklearn/decomposition/_pca.py:525: RuntimeWarning: invalid value encountered in true_divide\n",
      "  explained_variance_ = (S**2) / (n_samples - 1)\n",
      "/Users/oliviermanette/opt/anaconda3/lib/python3.9/site-packages/sklearn/decomposition/_pca.py:525: RuntimeWarning: invalid value encountered in true_divide\n",
      "  explained_variance_ = (S**2) / (n_samples - 1)\n",
      "/Users/oliviermanette/opt/anaconda3/lib/python3.9/site-packages/sklearn/decomposition/_pca.py:525: RuntimeWarning: invalid value encountered in true_divide\n",
      "  explained_variance_ = (S**2) / (n_samples - 1)\n",
      "/Users/oliviermanette/opt/anaconda3/lib/python3.9/site-packages/sklearn/decomposition/_pca.py:525: RuntimeWarning: invalid value encountered in true_divide\n",
      "  explained_variance_ = (S**2) / (n_samples - 1)\n",
      "/Users/oliviermanette/opt/anaconda3/lib/python3.9/site-packages/sklearn/decomposition/_pca.py:525: RuntimeWarning: invalid value encountered in true_divide\n",
      "  explained_variance_ = (S**2) / (n_samples - 1)\n",
      "/Users/oliviermanette/opt/anaconda3/lib/python3.9/site-packages/sklearn/decomposition/_pca.py:525: RuntimeWarning: invalid value encountered in true_divide\n",
      "  explained_variance_ = (S**2) / (n_samples - 1)\n",
      "/Users/oliviermanette/opt/anaconda3/lib/python3.9/site-packages/sklearn/decomposition/_pca.py:525: RuntimeWarning: invalid value encountered in true_divide\n",
      "  explained_variance_ = (S**2) / (n_samples - 1)\n",
      "/Users/oliviermanette/opt/anaconda3/lib/python3.9/site-packages/sklearn/decomposition/_pca.py:525: RuntimeWarning: invalid value encountered in true_divide\n",
      "  explained_variance_ = (S**2) / (n_samples - 1)\n",
      "/Users/oliviermanette/opt/anaconda3/lib/python3.9/site-packages/sklearn/decomposition/_pca.py:525: RuntimeWarning: invalid value encountered in true_divide\n",
      "  explained_variance_ = (S**2) / (n_samples - 1)\n",
      "/Users/oliviermanette/opt/anaconda3/lib/python3.9/site-packages/sklearn/decomposition/_pca.py:525: RuntimeWarning: invalid value encountered in true_divide\n",
      "  explained_variance_ = (S**2) / (n_samples - 1)\n",
      "/Users/oliviermanette/opt/anaconda3/lib/python3.9/site-packages/sklearn/decomposition/_pca.py:525: RuntimeWarning: invalid value encountered in true_divide\n",
      "  explained_variance_ = (S**2) / (n_samples - 1)\n",
      "/Users/oliviermanette/opt/anaconda3/lib/python3.9/site-packages/sklearn/decomposition/_pca.py:525: RuntimeWarning: invalid value encountered in true_divide\n",
      "  explained_variance_ = (S**2) / (n_samples - 1)\n",
      "/Users/oliviermanette/opt/anaconda3/lib/python3.9/site-packages/sklearn/decomposition/_pca.py:525: RuntimeWarning: invalid value encountered in true_divide\n",
      "  explained_variance_ = (S**2) / (n_samples - 1)\n",
      "/Users/oliviermanette/opt/anaconda3/lib/python3.9/site-packages/sklearn/decomposition/_pca.py:525: RuntimeWarning: invalid value encountered in true_divide\n",
      "  explained_variance_ = (S**2) / (n_samples - 1)\n",
      "/Users/oliviermanette/opt/anaconda3/lib/python3.9/site-packages/sklearn/decomposition/_pca.py:525: RuntimeWarning: invalid value encountered in true_divide\n",
      "  explained_variance_ = (S**2) / (n_samples - 1)\n",
      "/Users/oliviermanette/opt/anaconda3/lib/python3.9/site-packages/sklearn/decomposition/_pca.py:525: RuntimeWarning: invalid value encountered in true_divide\n",
      "  explained_variance_ = (S**2) / (n_samples - 1)\n",
      "/Users/oliviermanette/opt/anaconda3/lib/python3.9/site-packages/sklearn/decomposition/_pca.py:525: RuntimeWarning: invalid value encountered in true_divide\n",
      "  explained_variance_ = (S**2) / (n_samples - 1)\n"
     ]
    },
    {
     "name": "stdout",
     "output_type": "stream",
     "text": [
      " [123, 124, 125]\n",
      "nombre de neurones taille 1: 65\n",
      "nb neurones couche 2 : 64\n",
      "nombre de neurones couche 1 & 2: 130\n",
      "taille neurones à séquencer : 65\n",
      "taille neurones à séquencer : 8\n",
      "taille neurones à séquencer : 1\n",
      "found possible connexion on nrn id 89 : {84, 85, 86, 88, 89, 90, 92, 93}\n",
      "Recherche des nœuds suivants [85] [89]\n",
      "Commence la découpe de segmented_path [119, 116, 114, 112, 110, 108, 106, 104, 102, 99, 96, 92, 89, 86, 81, 74, 71, 75, 82, 87, 91, 94, 98, 100, 103, 105, 107, 109, 111, 113, 115, 117, 124, 123, 122, 121, 120, 128, 127, 126]\n",
      "ratio_pxls_total nrn _ID 133 ,  0.36923076923076925\n",
      "Fin de la découpe de segmented_path [85, 86, 81, 74, 71, 75, 82, 87, 91, 94, 98, 100, 103, 105, 107, 109, 111, 113, 115, 117, 124, 123, 122, 121, 120, 128, 127, 126]\n",
      "ratio_pxls_total nrn _ID 134 ,  0.676923076923077\n",
      "nombre de neurones couches 1, 2 et 3 : 133\n",
      "****************************************\n",
      "SELECTED SEGMENTS [131, 132]\n"
     ]
    },
    {
     "name": "stderr",
     "output_type": "stream",
     "text": [
      "/Users/oliviermanette/opt/anaconda3/lib/python3.9/site-packages/sklearn/decomposition/_pca.py:525: RuntimeWarning: invalid value encountered in true_divide\n",
      "  explained_variance_ = (S**2) / (n_samples - 1)\n",
      "/Users/oliviermanette/opt/anaconda3/lib/python3.9/site-packages/sklearn/decomposition/_pca.py:525: RuntimeWarning: invalid value encountered in true_divide\n",
      "  explained_variance_ = (S**2) / (n_samples - 1)\n",
      "/Users/oliviermanette/opt/anaconda3/lib/python3.9/site-packages/sklearn/decomposition/_pca.py:525: RuntimeWarning: invalid value encountered in true_divide\n",
      "  explained_variance_ = (S**2) / (n_samples - 1)\n",
      "/Users/oliviermanette/Documents/Sentive One Shot Learning Omniglot/sandbox metadl/../metadl/baselines/sentive_ai/sentive/sentive_neuron_helper.py:382: RuntimeWarning: invalid value encountered in arccos\n",
      "  angle =  signe * np.arccos(np.sum(np.multiply(np_c_1,np_c_2))/(np.sqrt(np.sum(np.power(np_c_1,2)))*np.sqrt(np.sum(np.power(np_c_2,2)))))\n",
      "/Users/oliviermanette/opt/anaconda3/lib/python3.9/site-packages/sklearn/decomposition/_pca.py:525: RuntimeWarning: invalid value encountered in true_divide\n",
      "  explained_variance_ = (S**2) / (n_samples - 1)\n",
      "/Users/oliviermanette/opt/anaconda3/lib/python3.9/site-packages/sklearn/decomposition/_pca.py:525: RuntimeWarning: invalid value encountered in true_divide\n",
      "  explained_variance_ = (S**2) / (n_samples - 1)\n",
      "/Users/oliviermanette/opt/anaconda3/lib/python3.9/site-packages/sklearn/decomposition/_pca.py:525: RuntimeWarning: invalid value encountered in true_divide\n",
      "  explained_variance_ = (S**2) / (n_samples - 1)\n",
      "/Users/oliviermanette/opt/anaconda3/lib/python3.9/site-packages/sklearn/decomposition/_pca.py:525: RuntimeWarning: invalid value encountered in true_divide\n",
      "  explained_variance_ = (S**2) / (n_samples - 1)\n",
      "/Users/oliviermanette/opt/anaconda3/lib/python3.9/site-packages/sklearn/decomposition/_pca.py:525: RuntimeWarning: invalid value encountered in true_divide\n",
      "  explained_variance_ = (S**2) / (n_samples - 1)\n",
      "/Users/oliviermanette/opt/anaconda3/lib/python3.9/site-packages/sklearn/decomposition/_pca.py:525: RuntimeWarning: invalid value encountered in true_divide\n",
      "  explained_variance_ = (S**2) / (n_samples - 1)\n",
      "/Users/oliviermanette/opt/anaconda3/lib/python3.9/site-packages/sklearn/decomposition/_pca.py:525: RuntimeWarning: invalid value encountered in true_divide\n",
      "  explained_variance_ = (S**2) / (n_samples - 1)\n",
      "/Users/oliviermanette/opt/anaconda3/lib/python3.9/site-packages/sklearn/decomposition/_pca.py:525: RuntimeWarning: invalid value encountered in true_divide\n",
      "  explained_variance_ = (S**2) / (n_samples - 1)\n",
      "/Users/oliviermanette/opt/anaconda3/lib/python3.9/site-packages/sklearn/decomposition/_pca.py:525: RuntimeWarning: invalid value encountered in true_divide\n",
      "  explained_variance_ = (S**2) / (n_samples - 1)\n",
      "/Users/oliviermanette/opt/anaconda3/lib/python3.9/site-packages/sklearn/decomposition/_pca.py:525: RuntimeWarning: invalid value encountered in true_divide\n",
      "  explained_variance_ = (S**2) / (n_samples - 1)\n",
      "/Users/oliviermanette/opt/anaconda3/lib/python3.9/site-packages/sklearn/decomposition/_pca.py:525: RuntimeWarning: invalid value encountered in true_divide\n",
      "  explained_variance_ = (S**2) / (n_samples - 1)\n",
      "/Users/oliviermanette/opt/anaconda3/lib/python3.9/site-packages/sklearn/decomposition/_pca.py:525: RuntimeWarning: invalid value encountered in true_divide\n",
      "  explained_variance_ = (S**2) / (n_samples - 1)\n",
      "/Users/oliviermanette/opt/anaconda3/lib/python3.9/site-packages/sklearn/decomposition/_pca.py:525: RuntimeWarning: invalid value encountered in true_divide\n",
      "  explained_variance_ = (S**2) / (n_samples - 1)\n",
      "/Users/oliviermanette/opt/anaconda3/lib/python3.9/site-packages/sklearn/decomposition/_pca.py:525: RuntimeWarning: invalid value encountered in true_divide\n",
      "  explained_variance_ = (S**2) / (n_samples - 1)\n",
      "/Users/oliviermanette/opt/anaconda3/lib/python3.9/site-packages/sklearn/decomposition/_pca.py:525: RuntimeWarning: invalid value encountered in true_divide\n",
      "  explained_variance_ = (S**2) / (n_samples - 1)\n",
      "/Users/oliviermanette/opt/anaconda3/lib/python3.9/site-packages/sklearn/decomposition/_pca.py:525: RuntimeWarning: invalid value encountered in true_divide\n",
      "  explained_variance_ = (S**2) / (n_samples - 1)\n",
      "/Users/oliviermanette/opt/anaconda3/lib/python3.9/site-packages/sklearn/decomposition/_pca.py:525: RuntimeWarning: invalid value encountered in true_divide\n",
      "  explained_variance_ = (S**2) / (n_samples - 1)\n",
      "/Users/oliviermanette/opt/anaconda3/lib/python3.9/site-packages/sklearn/decomposition/_pca.py:525: RuntimeWarning: invalid value encountered in true_divide\n",
      "  explained_variance_ = (S**2) / (n_samples - 1)\n",
      "/Users/oliviermanette/opt/anaconda3/lib/python3.9/site-packages/sklearn/decomposition/_pca.py:525: RuntimeWarning: invalid value encountered in true_divide\n",
      "  explained_variance_ = (S**2) / (n_samples - 1)\n",
      "/Users/oliviermanette/opt/anaconda3/lib/python3.9/site-packages/sklearn/decomposition/_pca.py:525: RuntimeWarning: invalid value encountered in true_divide\n",
      "  explained_variance_ = (S**2) / (n_samples - 1)\n",
      "/Users/oliviermanette/opt/anaconda3/lib/python3.9/site-packages/sklearn/decomposition/_pca.py:525: RuntimeWarning: invalid value encountered in true_divide\n",
      "  explained_variance_ = (S**2) / (n_samples - 1)\n",
      "/Users/oliviermanette/opt/anaconda3/lib/python3.9/site-packages/sklearn/decomposition/_pca.py:525: RuntimeWarning: invalid value encountered in true_divide\n",
      "  explained_variance_ = (S**2) / (n_samples - 1)\n",
      "/Users/oliviermanette/opt/anaconda3/lib/python3.9/site-packages/sklearn/decomposition/_pca.py:525: RuntimeWarning: invalid value encountered in true_divide\n",
      "  explained_variance_ = (S**2) / (n_samples - 1)\n",
      "/Users/oliviermanette/opt/anaconda3/lib/python3.9/site-packages/sklearn/decomposition/_pca.py:525: RuntimeWarning: invalid value encountered in true_divide\n",
      "  explained_variance_ = (S**2) / (n_samples - 1)\n",
      "/Users/oliviermanette/opt/anaconda3/lib/python3.9/site-packages/sklearn/decomposition/_pca.py:525: RuntimeWarning: invalid value encountered in true_divide\n",
      "  explained_variance_ = (S**2) / (n_samples - 1)\n",
      "/Users/oliviermanette/opt/anaconda3/lib/python3.9/site-packages/sklearn/decomposition/_pca.py:525: RuntimeWarning: invalid value encountered in true_divide\n",
      "  explained_variance_ = (S**2) / (n_samples - 1)\n",
      "/Users/oliviermanette/opt/anaconda3/lib/python3.9/site-packages/sklearn/decomposition/_pca.py:525: RuntimeWarning: invalid value encountered in true_divide\n",
      "  explained_variance_ = (S**2) / (n_samples - 1)\n",
      "/Users/oliviermanette/opt/anaconda3/lib/python3.9/site-packages/sklearn/decomposition/_pca.py:525: RuntimeWarning: invalid value encountered in true_divide\n",
      "  explained_variance_ = (S**2) / (n_samples - 1)\n",
      "/Users/oliviermanette/opt/anaconda3/lib/python3.9/site-packages/sklearn/decomposition/_pca.py:525: RuntimeWarning: invalid value encountered in true_divide\n",
      "  explained_variance_ = (S**2) / (n_samples - 1)\n",
      "/Users/oliviermanette/opt/anaconda3/lib/python3.9/site-packages/sklearn/decomposition/_pca.py:525: RuntimeWarning: invalid value encountered in true_divide\n",
      "  explained_variance_ = (S**2) / (n_samples - 1)\n",
      "/Users/oliviermanette/Documents/Sentive One Shot Learning Omniglot/sandbox metadl/../metadl/baselines/sentive_ai/sentive/sentive_neuron_helper.py:382: RuntimeWarning: invalid value encountered in arccos\n",
      "  angle =  signe * np.arccos(np.sum(np.multiply(np_c_1,np_c_2))/(np.sqrt(np.sum(np.power(np_c_1,2)))*np.sqrt(np.sum(np.power(np_c_2,2)))))\n"
     ]
    },
    {
     "name": "stdout",
     "output_type": "stream",
     "text": [
      "nombre de neurones taille 1: 30\n",
      "nb neurones couche 2 : 29\n",
      "nombre de neurones couche 1 & 2: 60\n",
      "taille neurones à séquencer : 30\n",
      "taille neurones à séquencer : 0\n",
      "Recherche des nœuds suivants [] []\n",
      "Commence la découpe de segmented_path [49, 50, 51, 52, 53, 54, 55, 56, 57, 58, 47, 45, 43, 41, 40, 38, 37, 36, 34, 33, 32, 31]\n",
      "nombre de neurones couches 1, 2 et 3 : 61\n",
      "****************************************\n",
      "SELECTED SEGMENTS [61]\n"
     ]
    },
    {
     "data": {
      "image/png": "[encoded data removed]",
      "text/plain": [
       "<Figure size 288x288 with 1 Axes>"
      ]
     },
     "metadata": {
      "needs_background": "light"
     },
     "output_type": "display_data"
    },
    {
     "data": {
      "image/png": "[encoded data removed]",
      "text/plain": [
       "<Figure size 432x288 with 1 Axes>"
      ]
     },
     "metadata": {
      "needs_background": "light"
     },
     "output_type": "display_data"
    },
    {
     "data": {
      "image/png": "[encoded data removed]",
      "text/plain": [
       "<Figure size 288x288 with 1 Axes>"
      ]
     },
     "metadata": {
      "needs_background": "light"
     },
     "output_type": "display_data"
    },
    {
     "data": {
      "image/png": "[encoded data removed]",
      "text/plain": [
       "<Figure size 432x288 with 1 Axes>"
      ]
     },
     "metadata": {
      "needs_background": "light"
     },
     "output_type": "display_data"
    },
    {
     "data": {
      "image/png": "[encoded data removed]",
      "text/plain": [
       "<Figure size 288x288 with 1 Axes>"
      ]
     },
     "metadata": {
      "needs_background": "light"
     },
     "output_type": "display_data"
    },
    {
     "data": {
      "image/png": "[encoded data removed]",
      "text/plain": [
       "<Figure size 432x288 with 1 Axes>"
      ]
     },
     "metadata": {
      "needs_background": "light"
     },
     "output_type": "display_data"
    },
    {
     "data": {
      "image/png": "[encoded data removed]",
      "text/plain": [
       "<Figure size 288x288 with 1 Axes>"
      ]
     },
     "metadata": {
      "needs_background": "light"
     },
     "output_type": "display_data"
    },
    {
     "data": {
      "image/png": "[encoded data removed]",
      "text/plain": [
       "<Figure size 432x288 with 1 Axes>"
      ]
     },
     "metadata": {
      "needs_background": "light"
     },
     "output_type": "display_data"
    },
    {
     "data": {
      "image/png": "[encoded data removed]",
      "text/plain": [
       "<Figure size 288x288 with 1 Axes>"
      ]
     },
     "metadata": {
      "needs_background": "light"
     },
     "output_type": "display_data"
    },
    {
     "data": {
      "image/png": "[encoded data removed]",
      "text/plain": [
       "<Figure size 432x288 with 1 Axes>"
      ]
     },
     "metadata": {
      "needs_background": "light"
     },
     "output_type": "display_data"
    }
   ],
   "source": [
    "sbrain = sentive_brain(episode,5)"
   ]
  },
  {
   "cell_type": "code",
   "execution_count": 3,
   "id": "30543f46",
   "metadata": {},
   "outputs": [
    {
     "data": {
      "text/plain": [
       "{'_id': 48,\n",
       " 'schema_version': 2,\n",
       " 'type': 'sentive_vision_arcs',\n",
       " 'layer_id': 2,\n",
       " 'ratio_conn': 0.8999999999999999,\n",
       " 'DbConnectivity': {'pre_synaptique': [1.0, 2.0, 3.0],\n",
       "  'post_synaptique': [105],\n",
       "  'lateral_connexion': [49, 48, 50],\n",
       "  'weights': {50: 1, 48: 1, 49: 1, 105: 1},\n",
       "  'angles': {50: 2.677945044588987, 49: 0.0}},\n",
       " 'meta': {'center': {'x': 9, 'y': 7},\n",
       "  'matrix_width': 3,\n",
       "  'sub_pxl_map': array([[0., 0., 0.],\n",
       "         [0., 1., 0.],\n",
       "         [0., 2., 3.]]),\n",
       "  'pxl_coord': [[10, 8], [9, 8], [9, 7]],\n",
       "  'glbl_prm': {'cg': {'x': 9.333333333333334, 'y': 7.666666666666667},\n",
       "   'u_axis': {'x': -0.7071067811865474, 'y': -0.7071067811865477}}}}"
      ]
     },
     "execution_count": 3,
     "metadata": {},
     "output_type": "execute_result"
    }
   ],
   "source": [
    "sbrain.nnet[0].nrn_tls.get_neuron_from_id(48)"
   ]
  },
  {
   "cell_type": "code",
   "execution_count": 4,
   "id": "55675e62",
   "metadata": {},
   "outputs": [
    {
     "data": {
      "text/plain": [
       "{'_id': 69,\n",
       " 'schema_version': 2,\n",
       " 'type': 'sentive_vision_arcs',\n",
       " 'layer_id': 2,\n",
       " 'ratio_conn': 1.0,\n",
       " 'DbConnectivity': {'pre_synaptique': [19.0, 27.0, 22.0],\n",
       "  'post_synaptique': [116, 117, 118],\n",
       "  'lateral_connexion': [66, 74, 69],\n",
       "  'weights': {69: 1, 74: 1, 66: 1, 116: 1, 117: 1, 118: 1},\n",
       "  'angles': {74: 0.0, 66: 0.0}},\n",
       " 'meta': {'center': {'x': 6, 'y': 16},\n",
       "  'matrix_width': 3,\n",
       "  'sub_pxl_map': array([[ 0., 19.,  0.],\n",
       "         [ 0., 22.,  0.],\n",
       "         [ 0., 27.,  0.]]),\n",
       "  'pxl_coord': [[6, 16], [6, 15], [6, 17]],\n",
       "  'glbl_prm': {'cg': {'x': 6.0, 'y': 16.0}, 'u_axis': {'x': 0.0, 'y': 1.0}}}}"
      ]
     },
     "execution_count": 4,
     "metadata": {},
     "output_type": "execute_result"
    }
   ],
   "source": [
    "sbrain.nnet[0].nrn_tls.get_neuron_from_id(69)"
   ]
  },
  {
   "cell_type": "code",
   "execution_count": 5,
   "id": "17a43465",
   "metadata": {},
   "outputs": [],
   "source": [
    "nrnx = sbrain.nnet[0].nrn_tls.get_neuron_from_id(74)"
   ]
  },
  {
   "cell_type": "code",
   "execution_count": 6,
   "id": "50823f4a",
   "metadata": {},
   "outputs": [
    {
     "data": {
      "image/png": "[encoded data removed]",
      "text/plain": [
       "<Figure size 288x288 with 1 Axes>"
      ]
     },
     "metadata": {
      "needs_background": "light"
     },
     "output_type": "display_data"
    }
   ],
   "source": [
    "sbrain.nnet[0].show_receptive_field_id(67)"
   ]
  },
  {
   "cell_type": "code",
   "execution_count": 7,
   "id": "77c99953",
   "metadata": {},
   "outputs": [
    {
     "data": {
      "text/plain": [
       "0.0"
      ]
     },
     "execution_count": 7,
     "metadata": {},
     "output_type": "execute_result"
    }
   ],
   "source": [
    "nrn_1 = sbrain.nnet[0].nrn_tls.get_neuron_from_id(66)\n",
    "vector_1 = nrn_1[\"meta\"][\"glbl_prm\"][\"u_axis\"]\n",
    "nrn_2 = sbrain.nnet[0].nrn_tls.get_neuron_from_id(69)\n",
    "vector_2 = nrn_2[\"meta\"][\"glbl_prm\"][\"u_axis\"]\n",
    "sbrain.nnet[0].nrn_tls.calc_angle(vector_1, vector_2)"
   ]
  },
  {
   "cell_type": "code",
   "execution_count": 8,
   "id": "138a2083",
   "metadata": {},
   "outputs": [
    {
     "data": {
      "text/plain": [
       "0.0"
      ]
     },
     "execution_count": 8,
     "metadata": {},
     "output_type": "execute_result"
    }
   ],
   "source": [
    "nrn_1 = sbrain.nnet[0].nrn_tls.get_neuron_from_id(60)\n",
    "vector_1 = nrn_1[\"meta\"][\"glbl_prm\"][\"u_axis\"]\n",
    "nrn_2 = sbrain.nnet[0].nrn_tls.get_neuron_from_id(59)\n",
    "vector_2 = nrn_2[\"meta\"][\"glbl_prm\"][\"u_axis\"]\n",
    "sbrain.nnet[0].nrn_tls.calc_angle(vector_1, vector_2)"
   ]
  },
  {
   "cell_type": "code",
   "execution_count": 9,
   "id": "2c5d390e",
   "metadata": {},
   "outputs": [
    {
     "data": {
      "image/png": "[encoded data removed]",
      "text/plain": [
       "<Figure size 288x288 with 1 Axes>"
      ]
     },
     "metadata": {
      "needs_background": "light"
     },
     "output_type": "display_data"
    }
   ],
   "source": [
    "sbrain.nnet[0].show_receptive_field_id(71)"
   ]
  },
  {
   "cell_type": "code",
   "execution_count": 10,
   "id": "dfcb85d2",
   "metadata": {},
   "outputs": [
    {
     "data": {
      "image/png": "[encoded data removed]",
      "text/plain": [
       "<Figure size 288x288 with 1 Axes>"
      ]
     },
     "metadata": {
      "needs_background": "light"
     },
     "output_type": "display_data"
    }
   ],
   "source": [
    "sbrain.nnet[0].show_receptive_field_id(75)"
   ]
  },
  {
   "cell_type": "code",
   "execution_count": 11,
   "id": "7008e5b3",
   "metadata": {},
   "outputs": [
    {
     "data": {
      "image/png": "[encoded data removed]",
      "text/plain": [
       "<Figure size 288x288 with 1 Axes>"
      ]
     },
     "metadata": {
      "needs_background": "light"
     },
     "output_type": "display_data"
    }
   ],
   "source": [
    "sbrain.nnet[0].show_receptive_field_id(70)"
   ]
  },
  {
   "cell_type": "code",
   "execution_count": 12,
   "id": "1d4f329f",
   "metadata": {},
   "outputs": [
    {
     "data": {
      "text/plain": [
       "3.141592653589793"
      ]
     },
     "execution_count": 12,
     "metadata": {},
     "output_type": "execute_result"
    }
   ],
   "source": [
    "nrn_1 = sbrain.nnet[0].nrn_tls.get_neuron_from_id(75)\n",
    "vector_1 = nrn_1[\"meta\"][\"glbl_prm\"][\"u_axis\"]\n",
    "nrn_2 = sbrain.nnet[0].nrn_tls.get_neuron_from_id(70)\n",
    "vector_2 = nrn_2[\"meta\"][\"glbl_prm\"][\"u_axis\"]\n",
    "sbrain.nnet[0].nrn_tls.calc_angle(vector_1, vector_2)"
   ]
  },
  {
   "cell_type": "code",
   "execution_count": 13,
   "id": "c65c67cc",
   "metadata": {},
   "outputs": [],
   "source": [
    "np_c_1 = np.array([-0.52573111, 0.85065081])\n",
    "np_c_2 = np.array([-0.52573111, 0.85065081])"
   ]
  },
  {
   "cell_type": "code",
   "execution_count": 14,
   "id": "57102743",
   "metadata": {},
   "outputs": [
    {
     "data": {
      "text/plain": [
       "0.0"
      ]
     },
     "execution_count": 14,
     "metadata": {},
     "output_type": "execute_result"
    }
   ],
   "source": [
    "np.arccos(np.sum(np.multiply(np_c_1,np_c_2))/(np.sqrt(np.sum(np.power(np_c_1,2)))*np.sqrt(np.sum(np.power(np_c_2,2)))))"
   ]
  },
  {
   "cell_type": "code",
   "execution_count": 15,
   "id": "82059fd6",
   "metadata": {},
   "outputs": [
    {
     "name": "stdout",
     "output_type": "stream",
     "text": [
      "47\n"
     ]
    },
    {
     "data": {
      "image/png": "[encoded data removed]",
      "text/plain": [
       "<Figure size 432x288 with 1 Axes>"
      ]
     },
     "metadata": {
      "needs_background": "light"
     },
     "output_type": "display_data"
    }
   ],
   "source": [
    "X = []\n",
    "Y = []\n",
    "u_x = []\n",
    "u_y = []\n",
    "nb = 0\n",
    "for nrn in sbrain.nnet[0].nrn_tls.lst_nrns:\n",
    "    if nrn.neuron[\"layer_id\"] == 2:\n",
    "        nrn2 = nrn.neuron\n",
    "        nb += 1\n",
    "        X.append(nrn2[\"meta\"][\"glbl_prm\"][\"cg\"][\"x\"])\n",
    "        Y.append(nrn2[\"meta\"][\"glbl_prm\"][\"cg\"][\"y\"])\n",
    "        u_x.append(nrn2[\"meta\"][\"glbl_prm\"][\"u_axis\"][\"x\"])\n",
    "        u_y.append(nrn2[\"meta\"][\"glbl_prm\"][\"u_axis\"][\"y\"])\n",
    "q = plt.quiver(X,Y,u_x,u_y)\n",
    "for nrn in sbrain.nnet[0].nrn_tls.lst_nrns:\n",
    "    if nrn.neuron[\"layer_id\"] == 2:\n",
    "        nrn2 = nrn.neuron\n",
    "        x = nrn2[\"meta\"][\"glbl_prm\"][\"cg\"][\"x\"]\n",
    "        y = nrn2[\"meta\"][\"glbl_prm\"][\"cg\"][\"y\"]\n",
    "        plt.text(x,y, str(nrn2[\"_id\"]))\n",
    "        for key in nrn2[\"DbConnectivity\"]['angles']:\n",
    "            y += 0.5\n",
    "            angle = nrn2[\"DbConnectivity\"]['angles'][key]\n",
    "            angle = np.abs(angle)\n",
    "            if angle > (np.pi)/2:\n",
    "                angle = np.pi - angle\n",
    "            if angle ==0:\n",
    "                color = \"green\"\n",
    "            elif angle < 0.1:\n",
    "                color = \"yellow\"\n",
    "            elif angle < 0.4:\n",
    "                color = \"orange\"\n",
    "            elif angle < 0.8:\n",
    "                color = \"red\"\n",
    "            else :\n",
    "                color = \"purple\"\n",
    "            plt.text(x,y, str(key),color=color)\n",
    "            \n",
    "print(nb)"
   ]
  },
  {
   "cell_type": "code",
   "execution_count": 16,
   "id": "c7fe7b26",
   "metadata": {},
   "outputs": [
    {
     "data": {
      "text/plain": [
       "3.141592653589793"
      ]
     },
     "execution_count": 16,
     "metadata": {},
     "output_type": "execute_result"
    }
   ],
   "source": [
    "np.pi"
   ]
  },
  {
   "cell_type": "code",
   "execution_count": 17,
   "id": "21856fd1",
   "metadata": {},
   "outputs": [
    {
     "data": {
      "text/plain": [
       "(array([26., 30., 26., 26.,  8.,  4.,  4.,  8.,  6.,  4.]),\n",
       " array([0.        , 0.14781224, 0.29562447, 0.44343671, 0.59124894,\n",
       "        0.73906118, 0.88687341, 1.03468565, 1.18249788, 1.33031012,\n",
       "        1.47812235]),\n",
       " <BarContainer object of 10 artists>)"
      ]
     },
     "execution_count": 17,
     "metadata": {},
     "output_type": "execute_result"
    },
    {
     "data": {
      "image/png": "[encoded data removed]",
      "text/plain": [
       "<Figure size 432x288 with 1 Axes>"
      ]
     },
     "metadata": {
      "needs_background": "light"
     },
     "output_type": "display_data"
    }
   ],
   "source": [
    "angles = []\n",
    "for nrn in sbrain.nnet[0].nrn_tls.lst_nrns:\n",
    "    if nrn.neuron[\"layer_id\"] == 2:\n",
    "        nrn2 = nrn.neuron\n",
    "        for angle in nrn2[\"DbConnectivity\"]['angles'].values():\n",
    "            angle = np.abs(angle)\n",
    "            if angle > (np.pi)/2:\n",
    "                angle = np.pi - angle\n",
    "            angles.append(angle)\n",
    "            \n",
    "plt.hist(angles)"
   ]
  },
  {
   "cell_type": "code",
   "execution_count": 18,
   "id": "c8debe5d",
   "metadata": {},
   "outputs": [
    {
     "name": "stdout",
     "output_type": "stream",
     "text": [
      "0.0\n",
      "2.8198420991931514\n"
     ]
    }
   ],
   "source": [
    "for angle in nrnx[\"DbConnectivity\"]['angles'].values():\n",
    "    print(angle)"
   ]
  },
  {
   "cell_type": "code",
   "execution_count": null,
   "id": "04ba247e",
   "metadata": {},
   "outputs": [],
   "source": []
  }
 ],
 "metadata": {
  "kernelspec": {
   "display_name": "Python 3 (ipykernel)",
   "language": "python",
   "name": "python3"
  },
  "language_info": {
   "codemirror_mode": {
    "name": "ipython",
    "version": 3
   },
   "file_extension": ".py",
   "mimetype": "text/x-python",
   "name": "python",
   "nbconvert_exporter": "python",
   "pygments_lexer": "ipython3",
   "version": "3.9.12"
  }
 },
 "nbformat": 4,
 "nbformat_minor": 5
}
